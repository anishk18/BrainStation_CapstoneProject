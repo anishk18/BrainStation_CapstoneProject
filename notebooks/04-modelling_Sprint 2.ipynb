{
 "cells": [
  {
   "cell_type": "markdown",
   "metadata": {},
   "source": [
    "# Libraries"
   ]
  },
  {
   "cell_type": "code",
   "execution_count": 1,
   "metadata": {},
   "outputs": [],
   "source": [
    "# Standard imports\n",
    "import numpy as np\n",
    "import pandas as pd\n",
    "import itertools\n",
    "import warnings\n",
    "from datetime import datetime\n",
    "from ipywidgets import interactive\n",
    "import ipywidgets as widgets\n",
    "\n",
    "# Loading sklearn functionality from prior lessons\n",
    "from sklearn.linear_model import LinearRegression\n",
    "from sklearn.preprocessing import OneHotEncoder\n",
    "\n",
    "# Important functionality for this lesson\n",
    "from sklearn.model_selection import train_test_split\n",
    "from statsmodels.tsa.statespace.sarimax import SARIMAX\n",
    "from sklearn.model_selection import TimeSeriesSplit\n",
    "from sklearn.metrics import mean_absolute_percentage_error, mean_absolute_error\n",
    "\n",
    "from sklearn.linear_model import Lasso, Ridge, LinearRegression\n",
    "from sklearn.model_selection import train_test_split\n",
    "from sklearn.preprocessing import StandardScaler, MinMaxScaler\n",
    "from sklearn.feature_selection import SelectKBest, VarianceThreshold, f_classif, f_regression\n",
    "from sklearn.preprocessing import LabelEncoder, OneHotEncoder, OrdinalEncoder\n",
    "\n",
    "#Statistical tools for model building etc\n",
    "import statsmodels.api as sm\n",
    "from statsmodels.stats.outliers_influence import variance_inflation_factor\n",
    "\n",
    "#plotting\n",
    "import plotly.express as px\n",
    "from plotly.subplots import make_subplots\n",
    "import plotly.graph_objs as go\n",
    "import matplotlib.pyplot as plt\n",
    "import seaborn as sns\n",
    "from warnings import filterwarnings\n",
    "warnings.filterwarnings('ignore')\n",
    "#import plotly.io as pio\n",
    "#pio.renderers.default = \"notebook_connected\"  # for Jupyter\n",
    "#pio.renderers.default = \"png\"  # forces static image output\n",
    "#import kaleido"
   ]
  },
  {
   "cell_type": "code",
   "execution_count": 2,
   "metadata": {},
   "outputs": [],
   "source": [
    "# Global plotting parameters\n",
    "plt.rcParams['figure.figsize'] = (12, 4)\n",
    "plt.rcParams[\"axes.grid\"] = True\n",
    "\n",
    "# Brand colors dictionary\n",
    "brand_colors = {\n",
    "    \"Denim\": \"#1358DB\",\n",
    "    \"Supernova\": \"#FFCF00\",\n",
    "    # \"Black\": \"#000000\",\n",
    "    # \"Dark Blue\": \"#101D42\",\n",
    "    # \"White\": \"#FFFFFF\",\n",
    "    \"Dark Gray\": \"#6F6F6F\",\n",
    "    # \"Light Gray 1\": \"#F6F6F4\",\n",
    "    \"Light Gray 2\": \"#ADBDCC\"\n",
    "}\n",
    "\n",
    "# Create a matplotlib colormap\n",
    "brand_cmap = plt.cm.colors.ListedColormap(list(brand_colors.values()))\n",
    "plt.rcParams[\"axes.prop_cycle\"] = plt.cycler(color=brand_colors.values())\n",
    "\n",
    "\"\"\"\n",
    "Note: Suppressing warnings is generally not recommended. \n",
    "Warnings are being ignored in this notebook to prevent unnecessary clutter\n",
    "and improve readability while working through the lesson\n",
    "\"\"\"\n",
    "filterwarnings(action='ignore')"
   ]
  },
  {
   "cell_type": "code",
   "execution_count": 3,
   "metadata": {},
   "outputs": [],
   "source": [
    "# Functions\n",
    "\n",
    "def lag_scatterplot(df, column, lag):\n",
    "    \"\"\"\n",
    "    Plots a scatterplot to visualize the relationship between a series and its lagged values\n",
    "    over a specified time lag.\n",
    "\n",
    "    Inputs\n",
    "    --------------\n",
    "    df: a pandas DataFrame containing the time series data.\n",
    "    column: a string with the name of the column to be plotted.\n",
    "    lag: an integer representing the lag in time steps by which the time series values are shifted.\n",
    "\n",
    "    Outputs\n",
    "    --------------\n",
    "    Displays a scatterplot showing the relationship between time series values and their\n",
    "    lagged values, with the calculated correlation coefficient shown in the plot title.\n",
    "    \"\"\"\n",
    "\n",
    "    # calculating lag\n",
    "    lagged_values = df[column].shift(lag)\n",
    "\n",
    "    # calculating correlation\n",
    "    correlation = df[column].corr(lagged_values).round(3)\n",
    "\n",
    "    # plotting\n",
    "    plt.figure()\n",
    "    plt.scatter(df[column], lagged_values, alpha=0.1, s=40, color='darkblue', edgecolors='darkblue', linewidths=1.5)\n",
    "    plt.title(f'Correlation: {correlation}')\n",
    "    plt.ylabel(f'Monthly CO2 Levels (t+{lag})')\n",
    "    plt.xlabel('Monthly CO2 Levels (t)')\n",
    "    plt.show()"
   ]
  },
  {
   "cell_type": "markdown",
   "metadata": {},
   "source": [
    "# Train/Test Split"
   ]
  },
  {
   "cell_type": "markdown",
   "metadata": {},
   "source": [
    "In order to properly evaluate our models, we need to isolate our Train and Test set. In traditional machine learning  modeling, we generally take random samples of data points and have them randomly assigned to the corresponding sets. **This is not possible in Time Series because there is an order to time that we need to preserve**. In order to keep the sequential order of our data, we generally take a proportion of the most recent data points, and assign them to the Test set. We use the remainder points as our Train set."
   ]
  },
  {
   "cell_type": "markdown",
   "metadata": {},
   "source": [
    "First lets start by loading our data, we will use the daily average sampled data that we created in the previous notebook for preprocessing"
   ]
  },
  {
   "cell_type": "code",
   "execution_count": 4,
   "metadata": {},
   "outputs": [
    {
     "data": {
      "text/html": [
       "<div>\n",
       "<style scoped>\n",
       "    .dataframe tbody tr th:only-of-type {\n",
       "        vertical-align: middle;\n",
       "    }\n",
       "\n",
       "    .dataframe tbody tr th {\n",
       "        vertical-align: top;\n",
       "    }\n",
       "\n",
       "    .dataframe thead th {\n",
       "        text-align: right;\n",
       "    }\n",
       "</style>\n",
       "<table border=\"1\" class=\"dataframe\">\n",
       "  <thead>\n",
       "    <tr style=\"text-align: right;\">\n",
       "      <th></th>\n",
       "      <th>Energy Consumed by Household (Watt-hour)</th>\n",
       "      <th>Energy Consumed by Household excluding sub-meterings 1, 2 and 3 (Watt-hour)</th>\n",
       "      <th>Reactive Energy Consumed by Household (Watt-hour)</th>\n",
       "      <th>Voltage (volts)</th>\n",
       "      <th>Global_intensity (amperes)</th>\n",
       "      <th>Sub_metering_1 (watt-hours of active energy)</th>\n",
       "      <th>Sub_metering_2 (watt-hours of active energy)</th>\n",
       "      <th>Sub_metering_3 (watt-hours of active energy)</th>\n",
       "      <th>temperature_2m (°C)</th>\n",
       "      <th>relative_humidity_2m (%)</th>\n",
       "      <th>dew_point_2m (°C)</th>\n",
       "      <th>apparent_temperature (°C)</th>\n",
       "      <th>surface_pressure (hPa)</th>\n",
       "      <th>cloudcover (%)</th>\n",
       "      <th>windspeed_10m (km/h)</th>\n",
       "      <th>windgusts_10m (km/h)</th>\n",
       "      <th>winddirection_10m (degrees)</th>\n",
       "      <th>shortwave_radiation (W/m²)</th>\n",
       "      <th>direct_radiation (W/m²)</th>\n",
       "      <th>diffuse_radiation (W/m²)</th>\n",
       "    </tr>\n",
       "    <tr>\n",
       "      <th>DateTime</th>\n",
       "      <th></th>\n",
       "      <th></th>\n",
       "      <th></th>\n",
       "      <th></th>\n",
       "      <th></th>\n",
       "      <th></th>\n",
       "      <th></th>\n",
       "      <th></th>\n",
       "      <th></th>\n",
       "      <th></th>\n",
       "      <th></th>\n",
       "      <th></th>\n",
       "      <th></th>\n",
       "      <th></th>\n",
       "      <th></th>\n",
       "      <th></th>\n",
       "      <th></th>\n",
       "      <th></th>\n",
       "      <th></th>\n",
       "      <th></th>\n",
       "    </tr>\n",
       "  </thead>\n",
       "  <tbody>\n",
       "    <tr>\n",
       "      <th>2006-12-01</th>\n",
       "      <td>31.688252</td>\n",
       "      <td>20.815071</td>\n",
       "      <td>2.189763</td>\n",
       "      <td>241.441125</td>\n",
       "      <td>8.029956</td>\n",
       "      <td>1.248636</td>\n",
       "      <td>2.214987</td>\n",
       "      <td>7.409558</td>\n",
       "      <td>2.665667</td>\n",
       "      <td>89.373203</td>\n",
       "      <td>1.035962</td>\n",
       "      <td>-1.077252</td>\n",
       "      <td>1020.453060</td>\n",
       "      <td>69.210094</td>\n",
       "      <td>12.331461</td>\n",
       "      <td>23.786715</td>\n",
       "      <td>122.629084</td>\n",
       "      <td>34.024386</td>\n",
       "      <td>14.111747</td>\n",
       "      <td>19.912639</td>\n",
       "    </tr>\n",
       "    <tr>\n",
       "      <th>2007-01-01</th>\n",
       "      <td>25.767232</td>\n",
       "      <td>15.343714</td>\n",
       "      <td>2.211268</td>\n",
       "      <td>240.905101</td>\n",
       "      <td>6.546915</td>\n",
       "      <td>1.264237</td>\n",
       "      <td>1.775931</td>\n",
       "      <td>7.383351</td>\n",
       "      <td>7.207161</td>\n",
       "      <td>84.024638</td>\n",
       "      <td>4.577192</td>\n",
       "      <td>3.423857</td>\n",
       "      <td>1010.176016</td>\n",
       "      <td>82.074769</td>\n",
       "      <td>17.715948</td>\n",
       "      <td>35.031811</td>\n",
       "      <td>211.768246</td>\n",
       "      <td>38.132655</td>\n",
       "      <td>15.181784</td>\n",
       "      <td>22.950871</td>\n",
       "    </tr>\n",
       "    <tr>\n",
       "      <th>2007-02-01</th>\n",
       "      <td>23.351392</td>\n",
       "      <td>13.865257</td>\n",
       "      <td>1.893946</td>\n",
       "      <td>240.519390</td>\n",
       "      <td>5.914569</td>\n",
       "      <td>1.180217</td>\n",
       "      <td>1.602361</td>\n",
       "      <td>6.703557</td>\n",
       "      <td>7.549305</td>\n",
       "      <td>82.832249</td>\n",
       "      <td>4.651629</td>\n",
       "      <td>3.992242</td>\n",
       "      <td>999.810829</td>\n",
       "      <td>79.073664</td>\n",
       "      <td>15.637397</td>\n",
       "      <td>31.425021</td>\n",
       "      <td>194.193422</td>\n",
       "      <td>73.579543</td>\n",
       "      <td>38.948361</td>\n",
       "      <td>34.631182</td>\n",
       "    </tr>\n",
       "    <tr>\n",
       "      <th>2007-03-01</th>\n",
       "      <td>21.977117</td>\n",
       "      <td>11.764254</td>\n",
       "      <td>1.912447</td>\n",
       "      <td>240.513469</td>\n",
       "      <td>5.572979</td>\n",
       "      <td>1.361343</td>\n",
       "      <td>2.346872</td>\n",
       "      <td>6.504648</td>\n",
       "      <td>7.257748</td>\n",
       "      <td>79.442310</td>\n",
       "      <td>3.707103</td>\n",
       "      <td>3.849526</td>\n",
       "      <td>1005.630479</td>\n",
       "      <td>59.874198</td>\n",
       "      <td>13.452050</td>\n",
       "      <td>27.374541</td>\n",
       "      <td>215.718411</td>\n",
       "      <td>124.956769</td>\n",
       "      <td>71.833233</td>\n",
       "      <td>53.123536</td>\n",
       "    </tr>\n",
       "    <tr>\n",
       "      <th>2007-04-01</th>\n",
       "      <td>14.853149</td>\n",
       "      <td>8.013774</td>\n",
       "      <td>1.979631</td>\n",
       "      <td>239.400026</td>\n",
       "      <td>3.825676</td>\n",
       "      <td>1.065886</td>\n",
       "      <td>0.973149</td>\n",
       "      <td>4.800339</td>\n",
       "      <td>13.788870</td>\n",
       "      <td>68.136852</td>\n",
       "      <td>7.520775</td>\n",
       "      <td>11.847011</td>\n",
       "      <td>1008.825148</td>\n",
       "      <td>30.560534</td>\n",
       "      <td>10.867634</td>\n",
       "      <td>22.397924</td>\n",
       "      <td>100.470444</td>\n",
       "      <td>248.593624</td>\n",
       "      <td>193.129412</td>\n",
       "      <td>55.464212</td>\n",
       "    </tr>\n",
       "  </tbody>\n",
       "</table>\n",
       "</div>"
      ],
      "text/plain": [
       "            Energy Consumed by Household (Watt-hour)  \\\n",
       "DateTime                                               \n",
       "2006-12-01                                 31.688252   \n",
       "2007-01-01                                 25.767232   \n",
       "2007-02-01                                 23.351392   \n",
       "2007-03-01                                 21.977117   \n",
       "2007-04-01                                 14.853149   \n",
       "\n",
       "            Energy Consumed by Household excluding sub-meterings 1, 2 and 3 (Watt-hour)  \\\n",
       "DateTime                                                                                  \n",
       "2006-12-01                                          20.815071                             \n",
       "2007-01-01                                          15.343714                             \n",
       "2007-02-01                                          13.865257                             \n",
       "2007-03-01                                          11.764254                             \n",
       "2007-04-01                                           8.013774                             \n",
       "\n",
       "            Reactive Energy Consumed by Household (Watt-hour)  \\\n",
       "DateTime                                                        \n",
       "2006-12-01                                           2.189763   \n",
       "2007-01-01                                           2.211268   \n",
       "2007-02-01                                           1.893946   \n",
       "2007-03-01                                           1.912447   \n",
       "2007-04-01                                           1.979631   \n",
       "\n",
       "            Voltage (volts)  Global_intensity (amperes)  \\\n",
       "DateTime                                                  \n",
       "2006-12-01       241.441125                    8.029956   \n",
       "2007-01-01       240.905101                    6.546915   \n",
       "2007-02-01       240.519390                    5.914569   \n",
       "2007-03-01       240.513469                    5.572979   \n",
       "2007-04-01       239.400026                    3.825676   \n",
       "\n",
       "            Sub_metering_1 (watt-hours of active energy)  \\\n",
       "DateTime                                                   \n",
       "2006-12-01                                      1.248636   \n",
       "2007-01-01                                      1.264237   \n",
       "2007-02-01                                      1.180217   \n",
       "2007-03-01                                      1.361343   \n",
       "2007-04-01                                      1.065886   \n",
       "\n",
       "            Sub_metering_2 (watt-hours of active energy)  \\\n",
       "DateTime                                                   \n",
       "2006-12-01                                      2.214987   \n",
       "2007-01-01                                      1.775931   \n",
       "2007-02-01                                      1.602361   \n",
       "2007-03-01                                      2.346872   \n",
       "2007-04-01                                      0.973149   \n",
       "\n",
       "            Sub_metering_3 (watt-hours of active energy)  temperature_2m (°C)  \\\n",
       "DateTime                                                                        \n",
       "2006-12-01                                      7.409558             2.665667   \n",
       "2007-01-01                                      7.383351             7.207161   \n",
       "2007-02-01                                      6.703557             7.549305   \n",
       "2007-03-01                                      6.504648             7.257748   \n",
       "2007-04-01                                      4.800339            13.788870   \n",
       "\n",
       "            relative_humidity_2m (%)  dew_point_2m (°C)  \\\n",
       "DateTime                                                  \n",
       "2006-12-01                 89.373203           1.035962   \n",
       "2007-01-01                 84.024638           4.577192   \n",
       "2007-02-01                 82.832249           4.651629   \n",
       "2007-03-01                 79.442310           3.707103   \n",
       "2007-04-01                 68.136852           7.520775   \n",
       "\n",
       "            apparent_temperature (°C)  surface_pressure (hPa)  cloudcover (%)  \\\n",
       "DateTime                                                                        \n",
       "2006-12-01                  -1.077252             1020.453060       69.210094   \n",
       "2007-01-01                   3.423857             1010.176016       82.074769   \n",
       "2007-02-01                   3.992242              999.810829       79.073664   \n",
       "2007-03-01                   3.849526             1005.630479       59.874198   \n",
       "2007-04-01                  11.847011             1008.825148       30.560534   \n",
       "\n",
       "            windspeed_10m (km/h)  windgusts_10m (km/h)  \\\n",
       "DateTime                                                 \n",
       "2006-12-01             12.331461             23.786715   \n",
       "2007-01-01             17.715948             35.031811   \n",
       "2007-02-01             15.637397             31.425021   \n",
       "2007-03-01             13.452050             27.374541   \n",
       "2007-04-01             10.867634             22.397924   \n",
       "\n",
       "            winddirection_10m (degrees)  shortwave_radiation (W/m²)  \\\n",
       "DateTime                                                              \n",
       "2006-12-01                   122.629084                   34.024386   \n",
       "2007-01-01                   211.768246                   38.132655   \n",
       "2007-02-01                   194.193422                   73.579543   \n",
       "2007-03-01                   215.718411                  124.956769   \n",
       "2007-04-01                   100.470444                  248.593624   \n",
       "\n",
       "            direct_radiation (W/m²)  diffuse_radiation (W/m²)  \n",
       "DateTime                                                       \n",
       "2006-12-01                14.111747                 19.912639  \n",
       "2007-01-01                15.181784                 22.950871  \n",
       "2007-02-01                38.948361                 34.631182  \n",
       "2007-03-01                71.833233                 53.123536  \n",
       "2007-04-01               193.129412                 55.464212  "
      ]
     },
     "execution_count": 4,
     "metadata": {},
     "output_type": "execute_result"
    }
   ],
   "source": [
    "\n",
    "power_df_monthly = pd.read_csv(r\"C:\\Users\\karni\\OneDrive\\Desktop\\GitHub\\BrainStation_CapstoneProject\\data\\power_weather_monthly.csv\",index_col='DateTime')\n",
    "\n",
    "power_df_monthly.head()"
   ]
  },
  {
   "cell_type": "code",
   "execution_count": 5,
   "metadata": {},
   "outputs": [
    {
     "name": "stdout",
     "output_type": "stream",
     "text": [
      "<class 'pandas.core.frame.DataFrame'>\n",
      "Index: 48 entries, 2006-12-01 to 2010-11-01\n",
      "Data columns (total 20 columns):\n",
      " #   Column                                                                       Non-Null Count  Dtype  \n",
      "---  ------                                                                       --------------  -----  \n",
      " 0   Energy Consumed by Household (Watt-hour)                                     48 non-null     float64\n",
      " 1   Energy Consumed by Household excluding sub-meterings 1, 2 and 3 (Watt-hour)  48 non-null     float64\n",
      " 2   Reactive Energy Consumed by Household (Watt-hour)                            48 non-null     float64\n",
      " 3   Voltage (volts)                                                              48 non-null     float64\n",
      " 4   Global_intensity (amperes)                                                   48 non-null     float64\n",
      " 5   Sub_metering_1 (watt-hours of active energy)                                 48 non-null     float64\n",
      " 6   Sub_metering_2 (watt-hours of active energy)                                 48 non-null     float64\n",
      " 7   Sub_metering_3 (watt-hours of active energy)                                 48 non-null     float64\n",
      " 8   temperature_2m (°C)                                                          48 non-null     float64\n",
      " 9   relative_humidity_2m (%)                                                     48 non-null     float64\n",
      " 10  dew_point_2m (°C)                                                            48 non-null     float64\n",
      " 11  apparent_temperature (°C)                                                    48 non-null     float64\n",
      " 12  surface_pressure (hPa)                                                       48 non-null     float64\n",
      " 13  cloudcover (%)                                                               48 non-null     float64\n",
      " 14  windspeed_10m (km/h)                                                         48 non-null     float64\n",
      " 15  windgusts_10m (km/h)                                                         48 non-null     float64\n",
      " 16  winddirection_10m (degrees)                                                  48 non-null     float64\n",
      " 17  shortwave_radiation (W/m²)                                                   48 non-null     float64\n",
      " 18  direct_radiation (W/m²)                                                      48 non-null     float64\n",
      " 19  diffuse_radiation (W/m²)                                                     48 non-null     float64\n",
      "dtypes: float64(20)\n",
      "memory usage: 7.9+ KB\n"
     ]
    }
   ],
   "source": [
    "power_df_monthly.info()"
   ]
  },
  {
   "cell_type": "code",
   "execution_count": 6,
   "metadata": {},
   "outputs": [
    {
     "name": "stdout",
     "output_type": "stream",
     "text": [
      "Cutoff at: 2009-12-01\n",
      "Training Set: 37 days\n",
      "Test Set: 11 days\n"
     ]
    }
   ],
   "source": [
    "# Time Series Split (test set = most recent 25% of data)\n",
    "\n",
    "# finding the row number equivalent to 75% of the data\n",
    "cutoff = int(len(power_df_monthly) * 0.75)\n",
    "cutoff_date = power_df_monthly.index.sort_values()[cutoff]\n",
    "print(f\"Cutoff at: {cutoff_date}\")\n",
    "\n",
    "# extract train and test indices\n",
    "dates_train = power_df_monthly.index[power_df_monthly.index <= cutoff_date]\n",
    "date_train = pd.to_datetime(dates_train) # changing to time stamp\n",
    "dates_test = power_df_monthly.index[power_df_monthly.index > cutoff_date]\n",
    "date_test = pd.to_datetime(dates_test) # changing to time stamp\n",
    "\n",
    "# extract dimensions\n",
    "print(f\"Training Set: {len(dates_train)} days\")\n",
    "print(f\"Test Set: {len(dates_test)} days\")"
   ]
  },
  {
   "cell_type": "code",
   "execution_count": 7,
   "metadata": {},
   "outputs": [],
   "source": [
    "# Extracting the target variable Energy Consumed by Household (Watt-hour)\n",
    "y_train = power_df_monthly['Energy Consumed by Household (Watt-hour)'].loc[dates_train]\n",
    "y_test = power_df_monthly['Energy Consumed by Household (Watt-hour)'].loc[dates_test]"
   ]
  },
  {
   "cell_type": "markdown",
   "metadata": {},
   "source": [
    "# <a id='toc5_'></a>Forecasting with Regression: Baseline Models [&#8593;](#toc0_)"
   ]
  },
  {
   "cell_type": "markdown",
   "metadata": {},
   "source": [
    "\n",
    "\n",
    "In this section we will build 2 different models, starting from a naive simple average model, to a multiple linear regression model.\n",
    "\n",
    "At every iteration we will fit the model, visualize it against the original data and evaluate the predictions. We will not apply any regularization for now, we will use Lasso, Ridge, in Sprint 3 for of regression model.\n",
    "\n",
    "\n",
    "Here is an overview of the models that I  will build:\n",
    "\n",
    "1. **Average Model:** $y = mean(y)$\n",
    "  \n",
    "2. **Linear Model with One Feature:** $y = \\beta_0 + \\beta_1\\text{DaysFromStart}$\n",
    "\n",
    "3. **Linear Model with Dummy Variables:** $y = \\beta_0 + \\beta_1\\text{DaysFromStart} + \\beta_2\\text{January} + \\beta_3\\text{February} + .... + \\beta_{13}\\text{December}$\n",
    "\n",
    "\n",
    "\n",
    "As we go through the model building process we will use the following table to keep track of our model performance metrics:"
   ]
  },
  {
   "cell_type": "markdown",
   "metadata": {},
   "source": [
    "## Initialize a dataframe for storing results\n"
   ]
  },
  {
   "cell_type": "code",
   "execution_count": 8,
   "metadata": {},
   "outputs": [],
   "source": [
    "summary_df = pd.DataFrame(columns=[\"Train_MAE\", \"Test_MAE\", \"Train_MAPE\", \"Test_MAPE\"])"
   ]
  },
  {
   "cell_type": "markdown",
   "metadata": {},
   "source": [
    "## Mean Model\n",
    "\n",
    "We will start with a  model of simply guessing the mean of the data. We do not expect this to perform well, however it serves as a good starting point to extract some baseline evaluation metrics that we will try to improve further down."
   ]
  },
  {
   "cell_type": "code",
   "execution_count": 9,
   "metadata": {},
   "outputs": [],
   "source": [
    "# Predict\n",
    "\n",
    "train_mean = y_train.mean()\n",
    "\n",
    "training_size = len(dates_train)\n",
    "test_size = len(dates_test)\n",
    "\n",
    "mean_pred_train = np.full((training_size, 1), train_mean)\n",
    "mean_pred_test = np.full((test_size, 1), train_mean) "
   ]
  },
  {
   "cell_type": "code",
   "execution_count": 10,
   "metadata": {},
   "outputs": [
    {
     "data": {
      "text/html": [
       "<div>\n",
       "<style scoped>\n",
       "    .dataframe tbody tr th:only-of-type {\n",
       "        vertical-align: middle;\n",
       "    }\n",
       "\n",
       "    .dataframe tbody tr th {\n",
       "        vertical-align: top;\n",
       "    }\n",
       "\n",
       "    .dataframe thead th {\n",
       "        text-align: right;\n",
       "    }\n",
       "</style>\n",
       "<table border=\"1\" class=\"dataframe\">\n",
       "  <thead>\n",
       "    <tr style=\"text-align: right;\">\n",
       "      <th></th>\n",
       "      <th>Train_MAE</th>\n",
       "      <th>Test_MAE</th>\n",
       "      <th>Train_MAPE</th>\n",
       "      <th>Test_MAPE</th>\n",
       "    </tr>\n",
       "  </thead>\n",
       "  <tbody>\n",
       "    <tr>\n",
       "      <th>Mean</th>\n",
       "      <td>4.034347</td>\n",
       "      <td>3.101882</td>\n",
       "      <td>0.292217</td>\n",
       "      <td>0.215832</td>\n",
       "    </tr>\n",
       "  </tbody>\n",
       "</table>\n",
       "</div>"
      ],
      "text/plain": [
       "      Train_MAE  Test_MAE  Train_MAPE  Test_MAPE\n",
       "Mean   4.034347  3.101882    0.292217   0.215832"
      ]
     },
     "execution_count": 10,
     "metadata": {},
     "output_type": "execute_result"
    }
   ],
   "source": [
    "# Drop NaNs from target and predictions for fair comparison\n",
    "train_mask = ~y_train.isna()\n",
    "test_mask = ~y_test.isna()\n",
    "\n",
    "summary_df.loc['Mean'] = [\n",
    "    mean_absolute_error(\n",
    "        y_train[train_mask],\n",
    "        mean_pred_train.flatten()[train_mask.values]\n",
    "    ),\n",
    "    mean_absolute_error(\n",
    "        y_test[test_mask],\n",
    "        mean_pred_test.flatten()[test_mask.values]\n",
    "    ),\n",
    "    mean_absolute_percentage_error(\n",
    "        y_train[train_mask],\n",
    "        mean_pred_train.flatten()[train_mask.values]\n",
    "    ),\n",
    "    mean_absolute_percentage_error(\n",
    "        y_test[test_mask],\n",
    "        mean_pred_test.flatten()[test_mask.values]\n",
    "    )\n",
    "]\n",
    "\n",
    "summary_df"
   ]
  },
  {
   "cell_type": "code",
   "execution_count": 11,
   "metadata": {},
   "outputs": [
    {
     "data": {
      "application/vnd.plotly.v1+json": {
       "config": {
        "plotlyServerURL": "https://plot.ly"
       },
       "data": [
        {
         "line": {
          "color": "grey"
         },
         "mode": "lines",
         "name": "data",
         "type": "scatter",
         "x": [
          "2006-12-01",
          "2007-01-01",
          "2007-02-01",
          "2007-03-01",
          "2007-04-01",
          "2007-05-01",
          "2007-06-01",
          "2007-07-01",
          "2007-08-01",
          "2007-09-01",
          "2007-10-01",
          "2007-11-01",
          "2007-12-01",
          "2008-01-01",
          "2008-02-01",
          "2008-03-01",
          "2008-04-01",
          "2008-05-01",
          "2008-06-01",
          "2008-07-01",
          "2008-08-01",
          "2008-09-01",
          "2008-10-01",
          "2008-11-01",
          "2008-12-01",
          "2009-01-01",
          "2009-02-01",
          "2009-03-01",
          "2009-04-01",
          "2009-05-01",
          "2009-06-01",
          "2009-07-01",
          "2009-08-01",
          "2009-09-01",
          "2009-10-01",
          "2009-11-01",
          "2009-12-01",
          "2010-01-01",
          "2010-02-01",
          "2010-03-01",
          "2010-04-01",
          "2010-05-01",
          "2010-06-01",
          "2010-07-01",
          "2010-08-01",
          "2010-09-01",
          "2010-10-01",
          "2010-11-01"
         ],
         "y": [
          31.68825178852916,
          25.767231954836685,
          23.35139226482795,
          21.97711716959012,
          14.853149091031913,
          16.43103046594982,
          13.780239590332972,
          11.122780411452364,
          12.736436714629374,
          16.15530271463185,
          18.39851322490554,
          21.574549747673505,
          27.1078989224669,
          24.33200489855657,
          19.689741440556872,
          20.7556150451399,
          18.599533950617285,
          17.07135176307182,
          16.56827395695888,
          13.246343922218738,
          4.6081365652583,
          16.46133950617284,
          18.94613987487948,
          23.117763731641624,
          21.25315503301996,
          23.503367010909745,
          20.79279693296237,
          20.44557925235599,
          19.01149898915073,
          16.880929444095944,
          14.012608096252665,
          10.302014816142426,
          11.076978521413825,
          16.447347423818012,
          19.07477019347805,
          21.245724052254296,
          22.74034305599116,
          23.842081636914084,
          22.930910098053808,
          18.83458803651468,
          17.121586147827497,
          18.25473987619197,
          16.16024815963702,
          12.017799084507567,
          9.846302631813405,
          15.940707179797872,
          19.389978120776306,
          19.947574448290972
         ]
        },
        {
         "line": {
          "color": "green"
         },
         "mode": "lines",
         "name": "train",
         "type": "scatter",
         "x": [
          "2006-12-01",
          "2007-01-01",
          "2007-02-01",
          "2007-03-01",
          "2007-04-01",
          "2007-05-01",
          "2007-06-01",
          "2007-07-01",
          "2007-08-01",
          "2007-09-01",
          "2007-10-01",
          "2007-11-01",
          "2007-12-01",
          "2008-01-01",
          "2008-02-01",
          "2008-03-01",
          "2008-04-01",
          "2008-05-01",
          "2008-06-01",
          "2008-07-01",
          "2008-08-01",
          "2008-09-01",
          "2008-10-01",
          "2008-11-01",
          "2008-12-01",
          "2009-01-01",
          "2009-02-01",
          "2009-03-01",
          "2009-04-01",
          "2009-05-01",
          "2009-06-01",
          "2009-07-01",
          "2009-08-01",
          "2009-09-01",
          "2009-10-01",
          "2009-11-01",
          "2009-12-01"
         ],
         "y": [
          18.516952744264206,
          18.516952744264206,
          18.516952744264206,
          18.516952744264206,
          18.516952744264206,
          18.516952744264206,
          18.516952744264206,
          18.516952744264206,
          18.516952744264206,
          18.516952744264206,
          18.516952744264206,
          18.516952744264206,
          18.516952744264206,
          18.516952744264206,
          18.516952744264206,
          18.516952744264206,
          18.516952744264206,
          18.516952744264206,
          18.516952744264206,
          18.516952744264206,
          18.516952744264206,
          18.516952744264206,
          18.516952744264206,
          18.516952744264206,
          18.516952744264206,
          18.516952744264206,
          18.516952744264206,
          18.516952744264206,
          18.516952744264206,
          18.516952744264206,
          18.516952744264206,
          18.516952744264206,
          18.516952744264206,
          18.516952744264206,
          18.516952744264206,
          18.516952744264206,
          18.516952744264206
         ]
        },
        {
         "line": {
          "color": "green",
          "dash": "dash"
         },
         "mode": "lines",
         "name": "test",
         "type": "scatter",
         "x": [
          "2010-01-01",
          "2010-02-01",
          "2010-03-01",
          "2010-04-01",
          "2010-05-01",
          "2010-06-01",
          "2010-07-01",
          "2010-08-01",
          "2010-09-01",
          "2010-10-01",
          "2010-11-01"
         ],
         "y": [
          18.516952744264206,
          18.516952744264206,
          18.516952744264206,
          18.516952744264206,
          18.516952744264206,
          18.516952744264206,
          18.516952744264206,
          18.516952744264206,
          18.516952744264206,
          18.516952744264206,
          18.516952744264206
         ]
        }
       ],
       "layout": {
        "height": 400,
        "legend": {
         "title": {
          "text": "Legend"
         }
        },
        "template": {
         "data": {
          "bar": [
           {
            "error_x": {
             "color": "#2a3f5f"
            },
            "error_y": {
             "color": "#2a3f5f"
            },
            "marker": {
             "line": {
              "color": "#E5ECF6",
              "width": 0.5
             },
             "pattern": {
              "fillmode": "overlay",
              "size": 10,
              "solidity": 0.2
             }
            },
            "type": "bar"
           }
          ],
          "barpolar": [
           {
            "marker": {
             "line": {
              "color": "#E5ECF6",
              "width": 0.5
             },
             "pattern": {
              "fillmode": "overlay",
              "size": 10,
              "solidity": 0.2
             }
            },
            "type": "barpolar"
           }
          ],
          "carpet": [
           {
            "aaxis": {
             "endlinecolor": "#2a3f5f",
             "gridcolor": "white",
             "linecolor": "white",
             "minorgridcolor": "white",
             "startlinecolor": "#2a3f5f"
            },
            "baxis": {
             "endlinecolor": "#2a3f5f",
             "gridcolor": "white",
             "linecolor": "white",
             "minorgridcolor": "white",
             "startlinecolor": "#2a3f5f"
            },
            "type": "carpet"
           }
          ],
          "choropleth": [
           {
            "colorbar": {
             "outlinewidth": 0,
             "ticks": ""
            },
            "type": "choropleth"
           }
          ],
          "contour": [
           {
            "colorbar": {
             "outlinewidth": 0,
             "ticks": ""
            },
            "colorscale": [
             [
              0,
              "#0d0887"
             ],
             [
              0.1111111111111111,
              "#46039f"
             ],
             [
              0.2222222222222222,
              "#7201a8"
             ],
             [
              0.3333333333333333,
              "#9c179e"
             ],
             [
              0.4444444444444444,
              "#bd3786"
             ],
             [
              0.5555555555555556,
              "#d8576b"
             ],
             [
              0.6666666666666666,
              "#ed7953"
             ],
             [
              0.7777777777777778,
              "#fb9f3a"
             ],
             [
              0.8888888888888888,
              "#fdca26"
             ],
             [
              1,
              "#f0f921"
             ]
            ],
            "type": "contour"
           }
          ],
          "contourcarpet": [
           {
            "colorbar": {
             "outlinewidth": 0,
             "ticks": ""
            },
            "type": "contourcarpet"
           }
          ],
          "heatmap": [
           {
            "colorbar": {
             "outlinewidth": 0,
             "ticks": ""
            },
            "colorscale": [
             [
              0,
              "#0d0887"
             ],
             [
              0.1111111111111111,
              "#46039f"
             ],
             [
              0.2222222222222222,
              "#7201a8"
             ],
             [
              0.3333333333333333,
              "#9c179e"
             ],
             [
              0.4444444444444444,
              "#bd3786"
             ],
             [
              0.5555555555555556,
              "#d8576b"
             ],
             [
              0.6666666666666666,
              "#ed7953"
             ],
             [
              0.7777777777777778,
              "#fb9f3a"
             ],
             [
              0.8888888888888888,
              "#fdca26"
             ],
             [
              1,
              "#f0f921"
             ]
            ],
            "type": "heatmap"
           }
          ],
          "heatmapgl": [
           {
            "colorbar": {
             "outlinewidth": 0,
             "ticks": ""
            },
            "colorscale": [
             [
              0,
              "#0d0887"
             ],
             [
              0.1111111111111111,
              "#46039f"
             ],
             [
              0.2222222222222222,
              "#7201a8"
             ],
             [
              0.3333333333333333,
              "#9c179e"
             ],
             [
              0.4444444444444444,
              "#bd3786"
             ],
             [
              0.5555555555555556,
              "#d8576b"
             ],
             [
              0.6666666666666666,
              "#ed7953"
             ],
             [
              0.7777777777777778,
              "#fb9f3a"
             ],
             [
              0.8888888888888888,
              "#fdca26"
             ],
             [
              1,
              "#f0f921"
             ]
            ],
            "type": "heatmapgl"
           }
          ],
          "histogram": [
           {
            "marker": {
             "pattern": {
              "fillmode": "overlay",
              "size": 10,
              "solidity": 0.2
             }
            },
            "type": "histogram"
           }
          ],
          "histogram2d": [
           {
            "colorbar": {
             "outlinewidth": 0,
             "ticks": ""
            },
            "colorscale": [
             [
              0,
              "#0d0887"
             ],
             [
              0.1111111111111111,
              "#46039f"
             ],
             [
              0.2222222222222222,
              "#7201a8"
             ],
             [
              0.3333333333333333,
              "#9c179e"
             ],
             [
              0.4444444444444444,
              "#bd3786"
             ],
             [
              0.5555555555555556,
              "#d8576b"
             ],
             [
              0.6666666666666666,
              "#ed7953"
             ],
             [
              0.7777777777777778,
              "#fb9f3a"
             ],
             [
              0.8888888888888888,
              "#fdca26"
             ],
             [
              1,
              "#f0f921"
             ]
            ],
            "type": "histogram2d"
           }
          ],
          "histogram2dcontour": [
           {
            "colorbar": {
             "outlinewidth": 0,
             "ticks": ""
            },
            "colorscale": [
             [
              0,
              "#0d0887"
             ],
             [
              0.1111111111111111,
              "#46039f"
             ],
             [
              0.2222222222222222,
              "#7201a8"
             ],
             [
              0.3333333333333333,
              "#9c179e"
             ],
             [
              0.4444444444444444,
              "#bd3786"
             ],
             [
              0.5555555555555556,
              "#d8576b"
             ],
             [
              0.6666666666666666,
              "#ed7953"
             ],
             [
              0.7777777777777778,
              "#fb9f3a"
             ],
             [
              0.8888888888888888,
              "#fdca26"
             ],
             [
              1,
              "#f0f921"
             ]
            ],
            "type": "histogram2dcontour"
           }
          ],
          "mesh3d": [
           {
            "colorbar": {
             "outlinewidth": 0,
             "ticks": ""
            },
            "type": "mesh3d"
           }
          ],
          "parcoords": [
           {
            "line": {
             "colorbar": {
              "outlinewidth": 0,
              "ticks": ""
             }
            },
            "type": "parcoords"
           }
          ],
          "pie": [
           {
            "automargin": true,
            "type": "pie"
           }
          ],
          "scatter": [
           {
            "fillpattern": {
             "fillmode": "overlay",
             "size": 10,
             "solidity": 0.2
            },
            "type": "scatter"
           }
          ],
          "scatter3d": [
           {
            "line": {
             "colorbar": {
              "outlinewidth": 0,
              "ticks": ""
             }
            },
            "marker": {
             "colorbar": {
              "outlinewidth": 0,
              "ticks": ""
             }
            },
            "type": "scatter3d"
           }
          ],
          "scattercarpet": [
           {
            "marker": {
             "colorbar": {
              "outlinewidth": 0,
              "ticks": ""
             }
            },
            "type": "scattercarpet"
           }
          ],
          "scattergeo": [
           {
            "marker": {
             "colorbar": {
              "outlinewidth": 0,
              "ticks": ""
             }
            },
            "type": "scattergeo"
           }
          ],
          "scattergl": [
           {
            "marker": {
             "colorbar": {
              "outlinewidth": 0,
              "ticks": ""
             }
            },
            "type": "scattergl"
           }
          ],
          "scattermapbox": [
           {
            "marker": {
             "colorbar": {
              "outlinewidth": 0,
              "ticks": ""
             }
            },
            "type": "scattermapbox"
           }
          ],
          "scatterpolar": [
           {
            "marker": {
             "colorbar": {
              "outlinewidth": 0,
              "ticks": ""
             }
            },
            "type": "scatterpolar"
           }
          ],
          "scatterpolargl": [
           {
            "marker": {
             "colorbar": {
              "outlinewidth": 0,
              "ticks": ""
             }
            },
            "type": "scatterpolargl"
           }
          ],
          "scatterternary": [
           {
            "marker": {
             "colorbar": {
              "outlinewidth": 0,
              "ticks": ""
             }
            },
            "type": "scatterternary"
           }
          ],
          "surface": [
           {
            "colorbar": {
             "outlinewidth": 0,
             "ticks": ""
            },
            "colorscale": [
             [
              0,
              "#0d0887"
             ],
             [
              0.1111111111111111,
              "#46039f"
             ],
             [
              0.2222222222222222,
              "#7201a8"
             ],
             [
              0.3333333333333333,
              "#9c179e"
             ],
             [
              0.4444444444444444,
              "#bd3786"
             ],
             [
              0.5555555555555556,
              "#d8576b"
             ],
             [
              0.6666666666666666,
              "#ed7953"
             ],
             [
              0.7777777777777778,
              "#fb9f3a"
             ],
             [
              0.8888888888888888,
              "#fdca26"
             ],
             [
              1,
              "#f0f921"
             ]
            ],
            "type": "surface"
           }
          ],
          "table": [
           {
            "cells": {
             "fill": {
              "color": "#EBF0F8"
             },
             "line": {
              "color": "white"
             }
            },
            "header": {
             "fill": {
              "color": "#C8D4E3"
             },
             "line": {
              "color": "white"
             }
            },
            "type": "table"
           }
          ]
         },
         "layout": {
          "annotationdefaults": {
           "arrowcolor": "#2a3f5f",
           "arrowhead": 0,
           "arrowwidth": 1
          },
          "autotypenumbers": "strict",
          "coloraxis": {
           "colorbar": {
            "outlinewidth": 0,
            "ticks": ""
           }
          },
          "colorscale": {
           "diverging": [
            [
             0,
             "#8e0152"
            ],
            [
             0.1,
             "#c51b7d"
            ],
            [
             0.2,
             "#de77ae"
            ],
            [
             0.3,
             "#f1b6da"
            ],
            [
             0.4,
             "#fde0ef"
            ],
            [
             0.5,
             "#f7f7f7"
            ],
            [
             0.6,
             "#e6f5d0"
            ],
            [
             0.7,
             "#b8e186"
            ],
            [
             0.8,
             "#7fbc41"
            ],
            [
             0.9,
             "#4d9221"
            ],
            [
             1,
             "#276419"
            ]
           ],
           "sequential": [
            [
             0,
             "#0d0887"
            ],
            [
             0.1111111111111111,
             "#46039f"
            ],
            [
             0.2222222222222222,
             "#7201a8"
            ],
            [
             0.3333333333333333,
             "#9c179e"
            ],
            [
             0.4444444444444444,
             "#bd3786"
            ],
            [
             0.5555555555555556,
             "#d8576b"
            ],
            [
             0.6666666666666666,
             "#ed7953"
            ],
            [
             0.7777777777777778,
             "#fb9f3a"
            ],
            [
             0.8888888888888888,
             "#fdca26"
            ],
            [
             1,
             "#f0f921"
            ]
           ],
           "sequentialminus": [
            [
             0,
             "#0d0887"
            ],
            [
             0.1111111111111111,
             "#46039f"
            ],
            [
             0.2222222222222222,
             "#7201a8"
            ],
            [
             0.3333333333333333,
             "#9c179e"
            ],
            [
             0.4444444444444444,
             "#bd3786"
            ],
            [
             0.5555555555555556,
             "#d8576b"
            ],
            [
             0.6666666666666666,
             "#ed7953"
            ],
            [
             0.7777777777777778,
             "#fb9f3a"
            ],
            [
             0.8888888888888888,
             "#fdca26"
            ],
            [
             1,
             "#f0f921"
            ]
           ]
          },
          "colorway": [
           "#636efa",
           "#EF553B",
           "#00cc96",
           "#ab63fa",
           "#FFA15A",
           "#19d3f3",
           "#FF6692",
           "#B6E880",
           "#FF97FF",
           "#FECB52"
          ],
          "font": {
           "color": "#2a3f5f"
          },
          "geo": {
           "bgcolor": "white",
           "lakecolor": "white",
           "landcolor": "#E5ECF6",
           "showlakes": true,
           "showland": true,
           "subunitcolor": "white"
          },
          "hoverlabel": {
           "align": "left"
          },
          "hovermode": "closest",
          "mapbox": {
           "style": "light"
          },
          "paper_bgcolor": "white",
          "plot_bgcolor": "#E5ECF6",
          "polar": {
           "angularaxis": {
            "gridcolor": "white",
            "linecolor": "white",
            "ticks": ""
           },
           "bgcolor": "#E5ECF6",
           "radialaxis": {
            "gridcolor": "white",
            "linecolor": "white",
            "ticks": ""
           }
          },
          "scene": {
           "xaxis": {
            "backgroundcolor": "#E5ECF6",
            "gridcolor": "white",
            "gridwidth": 2,
            "linecolor": "white",
            "showbackground": true,
            "ticks": "",
            "zerolinecolor": "white"
           },
           "yaxis": {
            "backgroundcolor": "#E5ECF6",
            "gridcolor": "white",
            "gridwidth": 2,
            "linecolor": "white",
            "showbackground": true,
            "ticks": "",
            "zerolinecolor": "white"
           },
           "zaxis": {
            "backgroundcolor": "#E5ECF6",
            "gridcolor": "white",
            "gridwidth": 2,
            "linecolor": "white",
            "showbackground": true,
            "ticks": "",
            "zerolinecolor": "white"
           }
          },
          "shapedefaults": {
           "line": {
            "color": "#2a3f5f"
           }
          },
          "ternary": {
           "aaxis": {
            "gridcolor": "white",
            "linecolor": "white",
            "ticks": ""
           },
           "baxis": {
            "gridcolor": "white",
            "linecolor": "white",
            "ticks": ""
           },
           "bgcolor": "#E5ECF6",
           "caxis": {
            "gridcolor": "white",
            "linecolor": "white",
            "ticks": ""
           }
          },
          "title": {
           "x": 0.05
          },
          "xaxis": {
           "automargin": true,
           "gridcolor": "white",
           "linecolor": "white",
           "ticks": "",
           "title": {
            "standoff": 15
           },
           "zerolinecolor": "white",
           "zerolinewidth": 2
          },
          "yaxis": {
           "automargin": true,
           "gridcolor": "white",
           "linecolor": "white",
           "ticks": "",
           "title": {
            "standoff": 15
           },
           "zerolinecolor": "white",
           "zerolinewidth": 2
          }
         }
        },
        "title": {
         "text": "Average Model Performance"
        },
        "width": 900,
        "xaxis": {
         "tickangle": 45,
         "tickmode": "array",
         "ticktext": [
          "Dec-2006",
          "Apr-2007",
          "Aug-2007",
          "Dec-2007",
          "Apr-2008",
          "Aug-2008",
          "Dec-2008",
          "Apr-2009",
          "Aug-2009",
          "Dec-2009",
          "Apr-2010",
          "Aug-2010"
         ],
         "tickvals": [
          "2006-12-01",
          "2007-04-01",
          "2007-08-01",
          "2007-12-01",
          "2008-04-01",
          "2008-08-01",
          "2008-12-01",
          "2009-04-01",
          "2009-08-01",
          "2009-12-01",
          "2010-04-01",
          "2010-08-01"
         ],
         "title": {
          "text": "Date"
         }
        },
        "yaxis": {
         "title": {
          "text": "Watt-hour"
         }
        }
       }
      }
     },
     "metadata": {},
     "output_type": "display_data"
    }
   ],
   "source": [
    "import plotly.graph_objs as go\n",
    "\n",
    "fig = go.Figure()\n",
    "\n",
    "# Original time series\n",
    "fig.add_trace(go.Scatter(\n",
    "    x=power_df_monthly.index,\n",
    "    y=power_df_monthly['Energy Consumed by Household (Watt-hour)'],\n",
    "    mode='lines',\n",
    "    name='data',\n",
    "    line=dict(color='grey')\n",
    "))\n",
    "\n",
    "# Train predictions\n",
    "fig.add_trace(go.Scatter(\n",
    "    x=dates_train,\n",
    "    y=mean_pred_train.flatten(),\n",
    "    mode='lines',\n",
    "    name='train',\n",
    "    line=dict(color='green')\n",
    "))\n",
    "\n",
    "# Test predictions\n",
    "fig.add_trace(go.Scatter(\n",
    "    x=dates_test,\n",
    "    y=mean_pred_test.flatten(),\n",
    "    mode='lines',\n",
    "    name='test',\n",
    "    line=dict(color='green', dash='dash')\n",
    "))\n",
    "\n",
    "# Set x-axis ticks for better readability\n",
    "labels = pd.to_datetime(power_df_monthly.index).strftime('%b-%Y')\n",
    "step = max(1, len(labels) // 10)\n",
    "fig.update_layout(\n",
    "    title='Average Model Performance',\n",
    "    yaxis_title='Watt-hour',\n",
    "    xaxis_title='Date',\n",
    "    legend_title='Legend',\n",
    "    xaxis=dict(\n",
    "        tickmode='array',\n",
    "        tickvals=power_df_monthly.index[::step],\n",
    "        ticktext=labels[::step],\n",
    "        tickangle=45\n",
    "    ),\n",
    "    width=900,\n",
    "    height=400\n",
    ")\n",
    "\n",
    "#fig.show()"
   ]
  },
  {
   "cell_type": "code",
   "execution_count": 12,
   "metadata": {},
   "outputs": [
    {
     "data": {
      "image/png": "[encoded data removed]",
      "text/plain": [
       "<Figure size 1200x400 with 1 Axes>"
      ]
     },
     "metadata": {},
     "output_type": "display_data"
    }
   ],
   "source": [
    "plt.figure()\n",
    "\n",
    "# Original time series\n",
    "plt.plot(power_df_monthly.index, power_df_monthly['Energy Consumed by Household (Watt-hour)'], color='grey', label='data')\n",
    "\n",
    "# Train predictions\n",
    "plt.plot(dates_train, mean_pred_train.flatten(), color='green', label='train')\n",
    "\n",
    "# Test predictions\n",
    "plt.plot(dates_test, mean_pred_test.flatten(), color='green', linestyle='--', label='test')\n",
    "\n",
    "plt.title('Average Model Performance')\n",
    "plt.ylabel('Watt-hour')\n",
    "plt.xlabel('Date')\n",
    "plt.legend(title='Legend')\n",
    "\n",
    "# Format x-axis as month-year and reduce number of ticks\n",
    "locs = plt.gca().get_xticks()\n",
    "labels = pd.to_datetime(power_df_monthly.index).strftime('%b-%Y')\n",
    "step = max(1, len(labels) // 10)\n",
    "plt.xticks(ticks=range(0, len(labels), step), labels=labels[::step], rotation=45)\n",
    "\n",
    "plt.tight_layout()\n",
    "plt.show()\n"
   ]
  },
  {
   "cell_type": "markdown",
   "metadata": {},
   "source": [
    "## Linear Regression Model with one Feature"
   ]
  },
  {
   "cell_type": "code",
   "execution_count": 13,
   "metadata": {},
   "outputs": [
    {
     "name": "stdout",
     "output_type": "stream",
     "text": [
      "2006-12-01 00:00:00\n"
     ]
    }
   ],
   "source": [
    "first_day = power_df_monthly.index.min() # We get a string here\n",
    "first_day = pd.to_datetime(first_day) # cahnging to time stamp\n",
    "print(first_day)"
   ]
  },
  {
   "cell_type": "code",
   "execution_count": 14,
   "metadata": {},
   "outputs": [
    {
     "ename": "NameError",
     "evalue": "name 'dates_train_dt' is not defined",
     "output_type": "error",
     "traceback": [
      "\u001b[1;31m---------------------------------------------------------------------------\u001b[0m",
      "\u001b[1;31mNameError\u001b[0m                                 Traceback (most recent call last)",
      "Cell \u001b[1;32mIn[14], line 11\u001b[0m\n\u001b[0;32m      4\u001b[0m first_day \u001b[38;5;241m=\u001b[39m pd\u001b[38;5;241m.\u001b[39mto_datetime(power_df_monthly\u001b[38;5;241m.\u001b[39mindex\u001b[38;5;241m.\u001b[39mmin())\n\u001b[0;32m      6\u001b[0m \u001b[38;5;66;03m# Ensure dates_train and dates_test are DatetimeIndex\u001b[39;00m\n\u001b[0;32m      7\u001b[0m \u001b[38;5;66;03m#dates_train_dt = pd.to_datetime(dates_train)\u001b[39;00m\n\u001b[0;32m      8\u001b[0m \u001b[38;5;66;03m#dates_test_dt = pd.to_datetime(dates_test)\u001b[39;00m\n\u001b[0;32m      9\u001b[0m \n\u001b[0;32m     10\u001b[0m \u001b[38;5;66;03m# Create a numerical X feature that encodes the days from the start of the data\u001b[39;00m\n\u001b[1;32m---> 11\u001b[0m X_train \u001b[38;5;241m=\u001b[39m pd\u001b[38;5;241m.\u001b[39mDataFrame({\u001b[38;5;124m\"\u001b[39m\u001b[38;5;124mdays_from_start\u001b[39m\u001b[38;5;124m\"\u001b[39m: (dates_train_dt \u001b[38;5;241m-\u001b[39m first_day)\u001b[38;5;241m.\u001b[39mdays}, index\u001b[38;5;241m=\u001b[39mdates_train)\n\u001b[0;32m     12\u001b[0m X_test \u001b[38;5;241m=\u001b[39m pd\u001b[38;5;241m.\u001b[39mDataFrame({\u001b[38;5;124m\"\u001b[39m\u001b[38;5;124mdays_from_start\u001b[39m\u001b[38;5;124m\"\u001b[39m: (dates_test_dt \u001b[38;5;241m-\u001b[39m first_day)\u001b[38;5;241m.\u001b[39mdays}, index\u001b[38;5;241m=\u001b[39mdates_test)\n\u001b[0;32m     14\u001b[0m X_train\u001b[38;5;241m.\u001b[39mhead()\n",
      "\u001b[1;31mNameError\u001b[0m: name 'dates_train_dt' is not defined"
     ]
    }
   ],
   "source": [
    "# Feature Engineering\n",
    "\n",
    "# Ensure first_day is a Timestamp\n",
    "first_day = pd.to_datetime(power_df_monthly.index.min())\n",
    "\n",
    "# Ensure dates_train and dates_test are DatetimeIndex\n",
    "#dates_train_dt = pd.to_datetime(dates_train)\n",
    "#dates_test_dt = pd.to_datetime(dates_test)\n",
    "\n",
    "# Create a numerical X feature that encodes the days from the start of the data\n",
    "X_train = pd.DataFrame({\"days_from_start\": (dates_train_dt - first_day).days}, index=dates_train)\n",
    "X_test = pd.DataFrame({\"days_from_start\": (dates_test_dt - first_day).days}, index=dates_test)\n",
    "\n",
    "X_train.head()"
   ]
  },
  {
   "cell_type": "code",
   "execution_count": null,
   "metadata": {},
   "outputs": [],
   "source": [
    "first_day"
   ]
  },
  {
   "cell_type": "code",
   "execution_count": null,
   "metadata": {},
   "outputs": [],
   "source": [
    "y_train"
   ]
  },
  {
   "cell_type": "code",
   "execution_count": null,
   "metadata": {},
   "outputs": [],
   "source": [
    "# Fit\n",
    "linreg = LinearRegression()\n",
    "linreg.fit(X_train, y_train)\n",
    "\n",
    "# Predict\n",
    "linreg_pred_train = linreg.predict(X_train)\n",
    "linreg_pred_test = linreg.predict(X_test)"
   ]
  },
  {
   "cell_type": "code",
   "execution_count": null,
   "metadata": {},
   "outputs": [],
   "source": [
    "# Evaluate\n",
    "\n",
    "summary_df.loc['linreg'] = [\n",
    "    mean_absolute_error(y_train, linreg_pred_train),\n",
    "    mean_absolute_error(y_test, linreg_pred_test),\n",
    "    mean_absolute_percentage_error(y_train, linreg_pred_train),\n",
    "    mean_absolute_percentage_error(y_test, linreg_pred_test)\n",
    "]\n",
    "\n",
    "summary_df"
   ]
  },
  {
   "cell_type": "code",
   "execution_count": null,
   "metadata": {},
   "outputs": [],
   "source": [
    "plt.figure(figsize=(12, 4))\n",
    "\n",
    "# Original time series\n",
    "plt.plot(power_df_monthly.index, power_df_monthly['Energy Consumed by Household (Watt-hour)'], color='grey', label='data')\n",
    "\n",
    "# Train predictions\n",
    "plt.plot(dates_train, linreg_pred_train, color='green', label='train')\n",
    "\n",
    "# Test predictions\n",
    "plt.plot(dates_test, linreg_pred_test, color='green', linestyle='--', label='test')\n",
    "\n",
    "plt.title('Linear Regression Model Performance')\n",
    "plt.ylabel('Watt-hour')\n",
    "plt.xlabel('Date')\n",
    "plt.legend(title='Legend')\n",
    "\n",
    "# Format x-axis as month-year and reduce number of ticks\n",
    "labels = pd.to_datetime(power_df_monthly.index).strftime('%b-%Y')\n",
    "step = max(1, len(labels) // 10)\n",
    "plt.xticks(ticks=range(0, len(labels), step), labels=labels[::step], rotation=45)\n",
    "\n",
    "plt.tight_layout()\n",
    "plt.show()\n"
   ]
  },
  {
   "cell_type": "markdown",
   "metadata": {},
   "source": [
    "This looks slightly better  in  our visual intuition.  As you might expect, our model captures the overal trend of the data as a straight line with an downward slope.  Our evaluation metrics indicate that our model has an overall error of 4.07\tWatt-hour on average (MAE) for training data, but a lower error rate of 3.33 Watt-hour for test data.  \n",
    "\n",
    "__Note__: Notice how the errors are significantly lower for the test data than for train.  Normally, we think of this phenomenon as a consequence of underfittting, but here we see that our train data are systematically higher than our predictions.  Thus, there is some sort of trend in the data that we are not capturing. This is where we can perform additional feature engineering to further improve how we model the trend in our data.\n"
   ]
  },
  {
   "cell_type": "markdown",
   "metadata": {},
   "source": [
    "## <a id='toc5_2_'></a>Linear Regression with One-Hot Encoding Feature [&#8593;](#toc0_)"
   ]
  },
  {
   "cell_type": "code",
   "execution_count": null,
   "metadata": {},
   "outputs": [
    {
     "ename": "AttributeError",
     "evalue": "'Index' object has no attribute 'month_name'",
     "output_type": "error",
     "traceback": [
      "\u001b[1;31m---------------------------------------------------------------------------\u001b[0m",
      "\u001b[1;31mAttributeError\u001b[0m                            Traceback (most recent call last)",
      "Cell \u001b[1;32mIn[14], line 7\u001b[0m\n\u001b[0;32m      4\u001b[0m ohe \u001b[38;5;241m=\u001b[39m OneHotEncoder(sparse_output\u001b[38;5;241m=\u001b[39m\u001b[38;5;28;01mFalse\u001b[39;00m, dtype\u001b[38;5;241m=\u001b[39m\u001b[38;5;28mint\u001b[39m)\n\u001b[0;32m      6\u001b[0m \u001b[38;5;66;03m# extract month names from index\u001b[39;00m\n\u001b[1;32m----> 7\u001b[0m months_train \u001b[38;5;241m=\u001b[39m dates_train\u001b[38;5;241m.\u001b[39mmonth_name()\u001b[38;5;241m.\u001b[39mvalues\u001b[38;5;241m.\u001b[39mreshape(\u001b[38;5;241m-\u001b[39m\u001b[38;5;241m1\u001b[39m, \u001b[38;5;241m1\u001b[39m)\n\u001b[0;32m      8\u001b[0m months_test \u001b[38;5;241m=\u001b[39m dates_test\u001b[38;5;241m.\u001b[39mmonth_name()\u001b[38;5;241m.\u001b[39mvalues\u001b[38;5;241m.\u001b[39mreshape(\u001b[38;5;241m-\u001b[39m\u001b[38;5;241m1\u001b[39m, \u001b[38;5;241m1\u001b[39m)\n\u001b[0;32m     10\u001b[0m \u001b[38;5;66;03m# fit on train set, transform train and test\u001b[39;00m\n",
      "\u001b[1;31mAttributeError\u001b[0m: 'Index' object has no attribute 'month_name'"
     ]
    }
   ],
   "source": [
    "# Feature Engineering\n",
    "\n",
    "# instantiate encoder\n",
    "ohe = OneHotEncoder(sparse_output=False, dtype=int)\n",
    "\n",
    "# extract month names from index\n",
    "months_train = dates_train.month_name().values.reshape(-1, 1)\n",
    "months_test = dates_test.month_name().values.reshape(-1, 1)\n",
    "\n",
    "# fit on train set, transform train and test\n",
    "ohe_months_train = ohe.fit_transform(months_train)\n",
    "ohe_months_test = ohe.transform(months_test)\n",
    "\n",
    "# convert data back into a dataframe\n",
    "ohe_train_df = pd.DataFrame(ohe_months_train, columns=ohe.get_feature_names_out(), index=dates_train)\n",
    "ohe_test_df = pd.DataFrame(ohe_months_test, columns=ohe.get_feature_names_out(), index=dates_test)\n",
    "\n",
    "# Use days_from_start as before\n",
    "first_day = pd.to_datetime(power_df_monthly.index.min())\n",
    "X_train_days = pd.DataFrame({\"days_from_start\": (pd.to_datetime(dates_train) - first_day).days}, index=dates_train)\n",
    "X_test_days = pd.DataFrame({\"days_from_start\": (pd.to_datetime(dates_test) - first_day).days}, index=dates_test)\n",
    "\n",
    "# concatenate days_from_start and month dummies\n",
    "X_train_ohe = pd.concat([X_train_days, ohe_train_df], axis=1)\n",
    "X_test_ohe = pd.concat([X_test_days, ohe_test_df], axis=1)"
   ]
  },
  {
   "cell_type": "code",
   "execution_count": null,
   "metadata": {},
   "outputs": [],
   "source": [
    "X_train_ohe.head()"
   ]
  },
  {
   "cell_type": "code",
   "execution_count": null,
   "metadata": {},
   "outputs": [],
   "source": [
    "X_train_ohe.shape"
   ]
  },
  {
   "cell_type": "code",
   "execution_count": null,
   "metadata": {},
   "outputs": [],
   "source": [
    "# Fit\n",
    "linreg_ohe = LinearRegression()\n",
    "linreg_ohe.fit(X_train_ohe, y_train)\n",
    "\n",
    "# Predict\n",
    "ohe_pred_train = linreg_ohe.predict(X_train_ohe)\n",
    "ohe_pred_test = linreg_ohe.predict(X_test_ohe)"
   ]
  },
  {
   "cell_type": "code",
   "execution_count": null,
   "metadata": {},
   "outputs": [],
   "source": [
    "# Evaluate\n",
    "\n",
    "summary_df.loc['linreg_ohe'] = [\n",
    "    mean_absolute_error(y_train, ohe_pred_train),\n",
    "    mean_absolute_error(y_test, ohe_pred_test),\n",
    "    mean_absolute_percentage_error(y_train, ohe_pred_train),\n",
    "    mean_absolute_percentage_error(y_test, ohe_pred_test)\n",
    "]\n",
    "\n",
    "summary_df"
   ]
  },
  {
   "cell_type": "code",
   "execution_count": null,
   "metadata": {},
   "outputs": [],
   "source": [
    "dates_train_dt\n"
   ]
  },
  {
   "cell_type": "code",
   "execution_count": null,
   "metadata": {},
   "outputs": [],
   "source": [
    "# Original time series\n",
    "import plotly.graph_objs as go\n",
    "fig = go.Figure()\n",
    "\n",
    "fig.add_trace(go.Scatter(\n",
    "    x=power_df_monthly.index,\n",
    "    y=power_df_monthly['Energy Consumed by Household (Watt-hour)'],\n",
    "    mode='lines',\n",
    "    name='data',\n",
    "    line=dict(color='grey')\n",
    "))\n",
    "\n",
    "# Train predictions\n",
    "fig.add_trace(go.Scatter(\n",
    "    x=dates_train,\n",
    "    y=ohe_pred_train,\n",
    "    mode='lines',\n",
    "    name='train',\n",
    "    line=dict(color='green')\n",
    "))\n",
    "\n",
    "# Test predictions\n",
    "fig.add_trace(go.Scatter(\n",
    "    x=dates_test,\n",
    "    y=ohe_pred_test,\n",
    "    mode='lines',\n",
    "    name='test',\n",
    "    line=dict(color='green', dash='dash')\n",
    "))\n",
    "\n",
    "fig.update_layout(\n",
    "    title='Linear Regression Model Performance',\n",
    "    yaxis_title='Watt-hour',\n",
    "    xaxis_title='Date',\n",
    "    legend_title='Legend'\n",
    ")\n",
    "\n",
    "fig.show()"
   ]
  },
  {
   "cell_type": "markdown",
   "metadata": {},
   "source": [
    "We can see that our model is now  able to capture the cyclic nature of  the energy consumption data, which was not possible with the simple linear regression model that only used the days from the start of the data as a feature. The one-hot encoding of the month allows the model to learn seasonal patterns in energy consumption, leading to improved predictions."
   ]
  },
  {
   "cell_type": "code",
   "execution_count": null,
   "metadata": {},
   "outputs": [],
   "source": [
    "summary_df"
   ]
  },
  {
   "cell_type": "markdown",
   "metadata": {},
   "source": [
    "### <a id='toc5_4_'></a>Regression Model Summary [&#8593;](#toc0_)\n",
    "\n",
    "Overall we can see that the third model (linear regression with one hot encoded month variables) has performed the best out of the 3. This is clear both by visual inspection, and by looking at the evaluation metrics below.\n",
    "\n",
    "Focusing on the test set for the fourth model:"
   ]
  },
  {
   "cell_type": "code",
   "execution_count": null,
   "metadata": {},
   "outputs": [],
   "source": [
    "plt.figure()\n",
    "\n",
    "# Original time series (test set)\n",
    "plt.plot(y_test, color='grey', label=\"data\")\n",
    "\n",
    "# Model performance\n",
    "plt.plot(dates_test, baseline_pred_test, color='red', ls=\"--\", label=\"baseline\")\n",
    "plt.plot(dates_test, linreg_pred_test, color='orange', ls=\"--\", label=\"linear regression\")\n",
    "plt.plot(dates_test, ohe_pred_test, color='blue', ls=\"--\", label=\"linear regression with ohe\")\n",
    "\n",
    "plt.ylabel(\"CO2 (ppm)\")\n",
    "plt.title(f\"Linear Regression with One Hot Encoding Model Performance\")\n",
    "plt.legend()\n",
    "plt.show()"
   ]
  },
  {
   "cell_type": "markdown",
   "metadata": {},
   "source": [
    "Lets  now create a model that takes into account the original features of the dataset, such as temperature, humidity, and wind speed, to predict the energy consumption of the household. This will allow us to see if we can improve our model's performance by incorporating these additional features."
   ]
  },
  {
   "cell_type": "markdown",
   "metadata": {},
   "source": [
    "\n",
    "**Linear Model with Features:** $y = \\beta_0 + \\beta_1\\text{X1} + \\beta_2\\text{X2} + \\beta_3\\text{X3} + .... + \\beta_{19}\\text{X19}$\n",
    "  \n",
    "  where, X represents the features we have in the dataset for power df"
   ]
  },
  {
   "cell_type": "markdown",
   "metadata": {},
   "source": [
    "## Linear regression model with Dataset Features"
   ]
  },
  {
   "cell_type": "markdown",
   "metadata": {},
   "source": [
    "We will be using a linear regression  with data set model  to forecast the Energy Consumption "
   ]
  },
  {
   "cell_type": "code",
   "execution_count": null,
   "metadata": {},
   "outputs": [],
   "source": [
    "#For this model lets  use the daily averaged data from the previous notebook\n",
    "power_df_daily = pd.read_csv(r\"C:\\Users\\karni\\OneDrive\\Desktop\\GitHub\\BrainStation_CapstoneProject\\data\\power_weather_daily.csv\", index_col='DateTime')"
   ]
  },
  {
   "cell_type": "code",
   "execution_count": null,
   "metadata": {},
   "outputs": [],
   "source": [
    "power_df_daily.head()"
   ]
  },
  {
   "cell_type": "code",
   "execution_count": null,
   "metadata": {},
   "outputs": [],
   "source": [
    "power_df_daily.info()"
   ]
  },
  {
   "cell_type": "code",
   "execution_count": null,
   "metadata": {},
   "outputs": [],
   "source": [
    "# Pull out the X and y\n",
    "X = power_df_daily.drop('Energy Consumed by Household (Watt-hour)', axis=1)\n",
    "y = power_df_daily[\"Energy Consumed by Household (Watt-hour)\"].copy()"
   ]
  },
  {
   "cell_type": "code",
   "execution_count": null,
   "metadata": {},
   "outputs": [],
   "source": [
    "X.head()"
   ]
  },
  {
   "cell_type": "code",
   "execution_count": null,
   "metadata": {},
   "outputs": [],
   "source": [
    "y.head()"
   ]
  },
  {
   "cell_type": "code",
   "execution_count": null,
   "metadata": {},
   "outputs": [],
   "source": [
    "X.shape, y.shape"
   ]
  },
  {
   "cell_type": "markdown",
   "metadata": {},
   "source": [
    "we have 19 features to predict 1 target variable"
   ]
  },
  {
   "cell_type": "code",
   "execution_count": null,
   "metadata": {},
   "outputs": [],
   "source": [
    "# Calculate all the correlations between each independent variable\n",
    "corr_df = X.corr()\n",
    "\n",
    "# Mask for upper-triangular\n",
    "mask = np.triu(corr_df)\n",
    "\n",
    "# Visualize with seaborn\n",
    "plt.figure(figsize=(30, 20))\n",
    "sns.heatmap(\n",
    "    corr_df.round(2), \n",
    "    annot=True, \n",
    "    vmax=1, \n",
    "    vmin=-1, \n",
    "    center=0, \n",
    "    cmap=\"coolwarm\", \n",
    "    mask=mask\n",
    ")\n",
    "\n",
    "plt.title(\"Correlations Between Independent Variables\")\n",
    "plt.show()"
   ]
  },
  {
   "cell_type": "code",
   "execution_count": null,
   "metadata": {},
   "outputs": [],
   "source": [
    "X.corr().round(2)"
   ]
  },
  {
   "cell_type": "markdown",
   "metadata": {},
   "source": [
    "If two independent variables are highly correlated (|r| ≥ 0.9 or so), I will only  keep just one of them.\n",
    "\n",
    "Strong correlations I notice from the map:\n",
    "\n",
    "\n",
    "`Temperature-related variables`\n",
    "\n",
    "**temperature_2m ↔ apparent_temperature (almost perfect correlation, r ≈ 1)**\n",
    "\n",
    "**temperature_2m ↔ dew_point_2m (almost perfect correlation, r ≈ 1)**\n",
    "\n",
    "\n",
    "I will be keeping temperature_2m and drop apparent_temperatur and dew_point_2m.\n",
    "\n",
    "`Wind speed variables`\n",
    "\n",
    "**windspeed_10m ↔ windgusts_10m (perfect correlation, r = 1)**\n",
    "\n",
    "I will be keeping windspeed_10m,  but will drop windgusts_10m.\n",
    "\n",
    "`Radiation variables`\n",
    "\n",
    "**Shortwave_radiation ↔ direct_radiation (very high correlation)**\n",
    "\n",
    "**Shortwave_radiation ↔ diffuse_radiation (high correlation)**\n",
    "\n",
    "I will drop 2  radiation variables: direct and shortwave and keep diffuse\n",
    "\n",
    "`Global_intensity (Current)`\n",
    "\n",
    "**Energy Consumed by Household excluding sub-meterings 1, 2 and 3 (Watt-hour) ↔ `Global_intensity** \n",
    "\n",
    "This essentially is highly corelated to Energy/Power as Power can be expressed as Voltage *Current (Intensity).\n",
    "\n",
    "`Sub_metering variables`\n",
    "\n",
    "Some correlations exist (e.g., Sub_metering_1 and Sub_metering_3 moderately correlated), but not as extreme — I will keep all of them as they are conceptually different."
   ]
  },
  {
   "cell_type": "markdown",
   "metadata": {},
   "source": [
    "Dropping variables for linear regression:\n",
    "\n",
    "`apparent_temperature`\n",
    "\n",
    "`dew_point_2m`\n",
    "\n",
    "`windgusts_10m`\n",
    "\n",
    "`direct_radiation` \n",
    "\n",
    "` shortwave_radiation`\n",
    "\n",
    "`Global_intensity (amperes)`\n",
    "\n"
   ]
  },
  {
   "cell_type": "code",
   "execution_count": null,
   "metadata": {},
   "outputs": [],
   "source": [
    "X.columns"
   ]
  },
  {
   "cell_type": "code",
   "execution_count": null,
   "metadata": {},
   "outputs": [],
   "source": [
    "# Drop the identified columns\n",
    "cols_to_drop = [\"apparent_temperature (°C)\", \"dew_point_2m (°C)\",\"windgusts_10m (km/h)\", \"direct_radiation (W/m²)\", \"shortwave_radiation (W/m²)\",'Global_intensity (amperes)']\n",
    "X.drop(cols_to_drop, axis=1, inplace=True)\n"
   ]
  },
  {
   "cell_type": "code",
   "execution_count": null,
   "metadata": {},
   "outputs": [],
   "source": [
    "#checking the correlations again after dropping the columns\n",
    "# Calculate all the correlations between each independent variable\n",
    "corr_df = X.corr()\n",
    "\n",
    "# Mask for upper-triangular\n",
    "mask = np.triu(corr_df)\n",
    "\n",
    "# Visualize with seaborn\n",
    "plt.figure(figsize=(20, 20))\n",
    "sns.heatmap(\n",
    "    corr_df.round(2), \n",
    "    annot=True, \n",
    "    vmax=1, \n",
    "    vmin=-1, \n",
    "    center=0, \n",
    "    cmap=\"coolwarm\", \n",
    "    mask=mask\n",
    ")\n",
    "\n",
    "plt.title(\"Correlations Between Independent Variables: Version 3\")\n",
    "plt.show()"
   ]
  },
  {
   "cell_type": "code",
   "execution_count": null,
   "metadata": {},
   "outputs": [],
   "source": [
    "X.corr().round(2)"
   ]
  },
  {
   "cell_type": "markdown",
   "metadata": {},
   "source": [
    "I dont why my correlator matrix is not showing all the values. I tried everything, so i use a table to see the actual values"
   ]
  },
  {
   "cell_type": "markdown",
   "metadata": {},
   "source": [
    "### <a id='toc5_3_'></a>Detecting Multicollinearity With Variance Inflation Factors [&#8593;](#toc0_)\n",
    "\n",
    "Looking only at correlations won't detect multicollinearity, hence we need a new tool: the **Variance Inflation Factor** (VIF). \n",
    "\n",
    "In order to calculate it, we build a regression model of each independent variable against the other independent variables and look at the $R^2$ score. The VIF for each predictor is defined as \n",
    "$$\n",
    "\\text{VIF}_i = \\frac{1}{1-R_i^2}\n",
    "$$\n",
    "\n",
    "In a perfect scenario of no multicollinearity, the VIF for each predictor should be 1 (since the $R^2$ from each model would be 0, showing that the given independent variable can't be modeled by the other variables, hence no linear relationship). \n",
    "\n",
    "By common convention, any VIF value higher than 5 indicates high multicollinearity. Let's examine the VIF for the variables in our dataset:"
   ]
  },
  {
   "cell_type": "code",
   "execution_count": null,
   "metadata": {},
   "outputs": [],
   "source": [
    "# Adding the constant to the features \n",
    "X_with_const = sm.add_constant(X)\n",
    "X_with_const.head()"
   ]
  },
  {
   "cell_type": "code",
   "execution_count": null,
   "metadata": {},
   "outputs": [],
   "source": [
    "VIF_values = pd.Series(\n",
    "    data=[variance_inflation_factor(X_with_const, i) for i in range(X_with_const.shape[1])],\n",
    "    index=X_with_const.columns\n",
    ")\n",
    "\n",
    "VIF_values[1:] # Slicing to leave out the constant"
   ]
  },
  {
   "cell_type": "markdown",
   "metadata": {},
   "source": [
    "A high VIF means that the independent variable in question has a higher level of multi-collinearity with the other independent variables.\n",
    "\n",
    "An obvious step would be to just drop the columns with the highest VIF numbers. One thing to note however is that dropping one variable will change the VIFs for *all the independent variables*.\n",
    "\n",
    "For our case, as we see above many of our remaining variables has a VIF greater then 5. This means we have to drop these."
   ]
  },
  {
   "cell_type": "markdown",
   "metadata": {},
   "source": [
    "Question for Mathias\n",
    "\n",
    "Can I use VIF to evaluate time series independent varaibles, since VIF relies on R2 to evaluste the variables, is it wise, since in TIme series our meteric to evaluate mosel is  Mean Absolute Error or Mean Absolute Percentage Error (MAPE)"
   ]
  },
  {
   "cell_type": "markdown",
   "metadata": {},
   "source": [
    "We definig the train and test sets based on the earlier defined dates_train and dates_test for daily data\n"
   ]
  },
  {
   "cell_type": "code",
   "execution_count": null,
   "metadata": {},
   "outputs": [],
   "source": [
    "# Time Series Split (test set = most recent 25% of data)\n",
    "\n",
    "# finding the row number equivalent to 75% of the data\n",
    "cutoff = int(len(power_df_daily) * 0.75)\n",
    "cutoff_date = power_df_daily.index.sort_values()[cutoff]\n",
    "print(f\"Cutoff at: {cutoff_date}\")\n",
    "\n",
    "# extract train and test indices\n",
    "dates_train = power_df_daily.index[power_df_daily.index <= cutoff_date]\n",
    "date_train = pd.to_datetime(dates_train) # changing to time stamp\n",
    "dates_test = power_df_daily.index[power_df_daily.index > cutoff_date]\n",
    "date_test = pd.to_datetime(dates_test) # changing to time stamp\n",
    "\n",
    "# extract dimensions\n",
    "print(f\"Training Set: {len(dates_train)} days\")\n",
    "print(f\"Test Set: {len(dates_test)} days\")"
   ]
  },
  {
   "cell_type": "code",
   "execution_count": null,
   "metadata": {},
   "outputs": [],
   "source": [
    "X_train = X.loc[dates_train].dropna()\n",
    "X_test = X.loc[dates_test].dropna()"
   ]
  },
  {
   "cell_type": "code",
   "execution_count": null,
   "metadata": {},
   "outputs": [],
   "source": [
    "X_train.head()"
   ]
  },
  {
   "cell_type": "code",
   "execution_count": null,
   "metadata": {},
   "outputs": [],
   "source": [
    "X_test.head()"
   ]
  },
  {
   "cell_type": "code",
   "execution_count": null,
   "metadata": {},
   "outputs": [],
   "source": [
    "y_train = y.loc[dates_train].dropna()\n",
    "y_test = y.loc[dates_test].dropna()"
   ]
  },
  {
   "cell_type": "code",
   "execution_count": null,
   "metadata": {},
   "outputs": [],
   "source": [
    "# Fit\n",
    "linreg_features = LinearRegression()\n",
    "linreg_features.fit(X_train, y_train)\n",
    "\n",
    "# Predict\n",
    "linreg_features_pred_train = linreg_features.predict(X_train)\n",
    "linreg_features_pred_test = linreg_features.predict(X_test)"
   ]
  },
  {
   "cell_type": "code",
   "execution_count": null,
   "metadata": {},
   "outputs": [],
   "source": [
    "# Evaluate\n",
    "\n",
    "summary_df.loc['linreg_features'] = [\n",
    "    mean_absolute_error(y_train, linreg_features_pred_train),\n",
    "    mean_absolute_error(y_test, linreg_features_pred_test),\n",
    "    mean_absolute_percentage_error(y_train, linreg_features_pred_train),\n",
    "    mean_absolute_percentage_error(y_test, linreg_features_pred_test)\n",
    "]\n",
    "\n",
    "summary_df"
   ]
  },
  {
   "cell_type": "code",
   "execution_count": null,
   "metadata": {},
   "outputs": [],
   "source": [
    "# Original time series\n",
    "import plotly.graph_objs as go\n",
    "fig = go.Figure()\n",
    "\n",
    "fig.add_trace(go.Scatter(\n",
    "    x=power_df_daily.index,\n",
    "    y=power_df_daily['Energy Consumed by Household (Watt-hour)'],\n",
    "    mode='lines',\n",
    "    name='data',\n",
    "    line=dict(color='grey')\n",
    "))\n",
    "\n",
    "# Train predictions\n",
    "fig.add_trace(go.Scatter(\n",
    "    x=dates_train,\n",
    "    y=linreg_features_pred_train,\n",
    "    mode='lines',\n",
    "    name='train',\n",
    "    line=dict(color='green')\n",
    "))\n",
    "\n",
    "# Test predictions\n",
    "fig.add_trace(go.Scatter(\n",
    "    x=dates_test,\n",
    "    y=linreg_features_pred_test,\n",
    "    mode='lines',\n",
    "    name='test',\n",
    "    line=dict(color='black', dash='dash')\n",
    "))\n",
    "\n",
    "fig.update_layout(\n",
    "    title='Linear Regression with DataSet Features Model Performance',\n",
    "    yaxis_title='Watt-hour',\n",
    "    xaxis_title='Date',\n",
    "    legend_title='Legend'\n",
    ")\n",
    "\n",
    "fig.show()"
   ]
  },
  {
   "cell_type": "code",
   "execution_count": null,
   "metadata": {},
   "outputs": [],
   "source": []
  },
  {
   "cell_type": "markdown",
   "metadata": {},
   "source": []
  },
  {
   "cell_type": "code",
   "execution_count": null,
   "metadata": {},
   "outputs": [],
   "source": []
  },
  {
   "cell_type": "markdown",
   "metadata": {},
   "source": [
    "While forecasting based on past values and accounting for previous errors seems like a solid approach, it relies on a very important assumption: that the statistical properties of the time series, such as mean, variance and autocorrelation, remain constant over time. In other words, the time series doesn't exhibit any systematic trends, seasonality, or other patterns that change over time.\n",
    "\n",
    "In real life (and in our CO2 emissions dataset) this is not the case. That is, the time series data is often **non-stationary**."
   ]
  },
  {
   "cell_type": "markdown",
   "metadata": {},
   "source": [
    "<div style=\"padding: 10px; border: 2px #000000 solid; background: #F6F6F4\">\n",
    "\n",
    "<span style=\"color:#1358DB; font-weight:bold;\">ΑRΜΑ</span>\n",
    "\n",
    "ARMA stands for Autoregressive Moving Average model and it is a family of statistical models that were built specifically for time series\n",
    "analysis and forecasting. ARMA models are made up of two core components:\n",
    "\n",
    "- `AR`: This is the autoregressive component. It performes regression using past values, just like we showed above. The number of past values that will be used is specified using the hyperpatameter p.\n",
    "  \n",
    "- `MA`: This is the moving average component. It calculates the weighted sum of the past forecasting errors. The number of previous forecast errors that will be considered is specified using the hyperpatameter q.\n",
    "\n",
    "</div>"
   ]
  },
  {
   "cell_type": "markdown",
   "metadata": {},
   "source": [
    "<div style=\"padding: 10px; border: 2px #000000 solid; background: #F6F6F4\">\n",
    "\n",
    "<span style=\"color:#1358DB; font-weight:bold;\">Stationarity</span>\n",
    "\n",
    "<br>\n",
    "\n",
    "> **Characteristics of a Stationary Time Series**\n",
    "\n",
    "- Constant Mean: The average value of the series remains relatively stable over time.\n",
    "- Constant Variance: The spread or volatility of the series doesn't change significantly over time.\n",
    "- Constant Autocorrelation: The correlation between an observation and its lagged values remains consistent across different time periods.\n",
    "\n",
    "<br>\n",
    "\n",
    "> **How to check for Stationarity**\n",
    "\n",
    "- Visual Inspection: Plotting the time series can reveal obvious trends or seasonality, suggesting non-stationarity.\n",
    "- Statistical Tests:\n",
    "  - Augmented Dickey-Fuller (ADF) test: A common statistical test to check for the presence of a unit root, which indicates non-stationarity.\n",
    "  - KPSS test: Another test that checks for stationarity under the null hypothesis.\n",
    "\n",
    "</div>"
   ]
  },
  {
   "cell_type": "markdown",
   "metadata": {},
   "source": [
    "Next we will be looking at the ARMA model for forecasting the energy consumption.\n"
   ]
  },
  {
   "cell_type": "markdown",
   "metadata": {},
   "source": [
    "There are several methods of picking the optimal values for p (lagged predictors), q (previous forecasting errors) and d (number of times we should difference our series). These range from more automated methods like `auto_arima` to more manual and complex like examining the ACF and PACF plots of our series (see supplementary section). In this lesson, we will adopt a more machine-learning focused approach and use cross validation.\n",
    "\n",
    "Another important point to note is that, as we mentioned in the section above that train/test splitting shouldn't be performed randomly for time series data. Instead, we should use only the most recent points as the test set. However, **how do we model data points that go beyond the dates available in the dataset?**\n",
    "\n",
    "As you can imagine, the train/test split approach can eventually be problematic in Autoregressive Models. This is because once we are at the limit of our observed data, we must use predicted values of the model as substitute for our past (lagged) features.  Thus, the errors of the model get propagated the further we are removed from observed data (the further into the future we predict).  However, the power of autoregressive models in terms of minimizing prediction errors often justifies their use even if their forecasting abilities are limited."
   ]
  },
  {
   "cell_type": "markdown",
   "metadata": {},
   "source": [
    "Unoptimized ARIMA\n",
    "As discussed in the section above, we will now also introduce an MA term to factor in previous forecasting errors. To pick the optimal values of p, d and q we will use grid search:"
   ]
  },
  {
   "cell_type": "markdown",
   "metadata": {},
   "source": [
    "Let's starting by building a simple ARIMA model that only includes an AR, I and  MA term of 1 (ie. to predict each value we will use the last 1 months)"
   ]
  },
  {
   "cell_type": "code",
   "execution_count": null,
   "metadata": {},
   "outputs": [],
   "source": [
    "# Fit\n",
    "arima_111 = SARIMAX(y_train, order=(1, 1, 1)).fit(disp=0)\n",
    "\n",
    "# Predict\n",
    "arima_111_pred_train = arima_111.predict(dates_train.min(), dates_train.max())\n",
    "arima_111_pred_test = arima_111.predict(dates_test.min(), dates_test.max())"
   ]
  },
  {
   "cell_type": "code",
   "execution_count": null,
   "metadata": {},
   "outputs": [],
   "source": [
    "# Evaluate\n",
    "\n",
    "summary_df.loc['arima_111'] = [\n",
    "    mean_absolute_error(y_train, arima_111_pred_train),\n",
    "    mean_absolute_error(y_test, arima_111_pred_test),\n",
    "    mean_absolute_percentage_error(y_train, arima_111_pred_train),\n",
    "    mean_absolute_percentage_error(y_test, arima_111_pred_test)\n",
    "]\n",
    "\n",
    "summary_df"
   ]
  },
  {
   "cell_type": "code",
   "execution_count": null,
   "metadata": {},
   "outputs": [],
   "source": [
    "plt.figure()\n",
    "\n",
    "# Original time series\n",
    "plt.plot(y, color='grey', label=\"data\")\n",
    "\n",
    "# Train and test predictions\n",
    "plt.plot(dates_train[1:], arima_111_pred_train[1:], color='green', label=\"train\")\n",
    "plt.plot(dates_test, arima_111_pred_test, color='green', ls=\"--\", label=\"test\")\n",
    "\n",
    "plt.ylabel(\"Watt-hour\")\n",
    "plt.title(f\"ARIMA(1,1,1) Model Performance\")\n",
    "plt.legend()\n",
    "plt.show()"
   ]
  },
  {
   "cell_type": "markdown",
   "metadata": {},
   "source": [
    "#  Optimised ARIMA\n",
    "As discussed in the section above, we will now also introduce an MA term to factor in previous forecastinge errors. To pick the optimal values of p, d and q we will use grid search:"
   ]
  },
  {
   "cell_type": "code",
   "execution_count": null,
   "metadata": {},
   "outputs": [],
   "source": [
    "# setting up everything we need\n",
    "\n",
    "# hyperparameter grids\n",
    "p_range = range(1, 5)\n",
    "d_range = range(1, 3)\n",
    "q_range = range(1, 5)\n",
    "\n",
    "# getting all combinations of p, d and q\n",
    "pdq = list(itertools.product(p_range, d_range, q_range))\n",
    "\n",
    "# cross validation\n",
    "n_splits = 5\n",
    "tscv = TimeSeriesSplit(n_splits=n_splits)\n",
    "\n",
    "# empty df to keep track of model performance for each p\n",
    "grid_search_scores = pd.DataFrame(columns=['CV MAE'])"
   ]
  },
  {
   "cell_type": "code",
   "execution_count": null,
   "metadata": {},
   "outputs": [],
   "source": [
    "p_range = range(1, 5)\n",
    "d_range = range(1, 3)\n",
    "q_range = range(1, 5)\n",
    "\n",
    "len(p_range)"
   ]
  },
  {
   "cell_type": "code",
   "execution_count": null,
   "metadata": {},
   "outputs": [],
   "source": [
    "# look through hyperparameters\n",
    "for order in pdq:\n",
    "\n",
    "    # create empty list to store results\n",
    "    mae_scores = []\n",
    "\n",
    "    # cross-validation\n",
    "    for train_index, val_index in tscv.split(y_train):\n",
    "\n",
    "        # split into train and validation setss\n",
    "        train_cv, val_cv = y_train.iloc[train_index], y_train.iloc[val_index]\n",
    "\n",
    "        # fit & predict\n",
    "        model = SARIMAX(train_cv, order=order).fit(disp=0)\n",
    "        predictions = model.forecast(steps=len(val_cv))\n",
    "\n",
    "        # evaluate\n",
    "        mae = mean_absolute_error(val_cv, predictions)\n",
    "        mae_scores.append(mae)\n",
    "\n",
    "    # Avverage Mean Absolute Error across all splits\n",
    "    grid_search_scores.loc[f\"ARIMA{order}\"] = np.mean(mae_scores)"
   ]
  },
  {
   "cell_type": "code",
   "execution_count": null,
   "metadata": {},
   "outputs": [],
   "source": [
    "# Let's see which hyperparameter combinations achieved the lowest Mean Absolute Error\n",
    "\n",
    "grid_search_scores.sort_values('CV MAE').head(10)\n",
    "grid_search_scores.sort_values('CV MAE')"
   ]
  },
  {
   "cell_type": "code",
   "execution_count": null,
   "metadata": {},
   "outputs": [],
   "source": [
    "grid_search_scores.shape"
   ]
  },
  {
   "cell_type": "code",
   "execution_count": null,
   "metadata": {},
   "outputs": [],
   "source": [
    "arima_322 = SARIMAX(train_cv, order=(3, 2, 2)).fit(disp=0)\n",
    "\n",
    "# Predict\n",
    "arima_322_pred_train = arima_322.predict(dates_train.min(), dates_train.max())\n",
    "arima_322_pred_test = arima_322.predict(dates_test.min(), dates_test.max())"
   ]
  },
  {
   "cell_type": "code",
   "execution_count": null,
   "metadata": {},
   "outputs": [],
   "source": [
    "# Evaluate\n",
    "\n",
    "summary_df.loc['arima_322'] = [\n",
    "    mean_absolute_error(y_train, arima_322_pred_train),\n",
    "    mean_absolute_error(y_test, arima_322_pred_test),\n",
    "    mean_absolute_percentage_error(y_train, arima_322_pred_train),\n",
    "    mean_absolute_percentage_error(y_test, arima_322_pred_test)\n",
    "]\n",
    "\n",
    "summary_df"
   ]
  },
  {
   "cell_type": "code",
   "execution_count": null,
   "metadata": {},
   "outputs": [],
   "source": [
    "# Plot\n",
    "\n",
    "plt.figure()\n",
    "\n",
    "# Original time series\n",
    "plt.plot(co2_monthly, color='grey', label=\"data\")\n",
    "\n",
    "# Train and test predictions\n",
    "plt.plot(dates_train[1:], arima_322_pred_train[1:], color='green', label=\"train\")\n",
    "plt.plot(dates_test, arima_322_pred_test, color='green', ls=\"--\", label=\"test\")\n",
    "\n",
    "plt.ylabel(\"CO2 (ppm)\")\n",
    "plt.title(f\"ARIMA(3,2,2) Model Performance\")\n",
    "plt.legend()\n",
    "plt.show()"
   ]
  }
 ],
 "metadata": {
  "kernelspec": {
   "display_name": "ml_env",
   "language": "python",
   "name": "ml_env"
  },
  "language_info": {
   "codemirror_mode": {
    "name": "ipython",
    "version": 3
   },
   "file_extension": ".py",
   "mimetype": "text/x-python",
   "name": "python",
   "nbconvert_exporter": "python",
   "pygments_lexer": "ipython3",
   "version": "3.11.5"
  },
  "orig_nbformat": 4
 },
 "nbformat": 4,
 "nbformat_minor": 2
}
