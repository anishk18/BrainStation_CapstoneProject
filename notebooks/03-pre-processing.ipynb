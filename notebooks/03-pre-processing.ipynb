{
 "cells": [
  {
   "cell_type": "code",
   "execution_count": 2,
   "metadata": {},
   "outputs": [],
   "source": [
    "import matplotlib.pyplot as plt\n",
    "import numpy as np\n",
    "import pandas as pd\n",
    "import seaborn as sns\n",
    "\n",
    "from warnings import filterwarnings\n",
    "from datetime import datetime\n",
    "import warnings\n",
    "warnings.filterwarnings('ignore')\n",
    "\n",
    "# Loading sklearn functionality \n",
    "from sklearn.linear_model import Lasso, Ridge, LinearRegression\n",
    "from sklearn.model_selection import train_test_split\n",
    "from sklearn.preprocessing import StandardScaler, MinMaxScaler\n",
    "from sklearn.feature_selection import SelectKBest, VarianceThreshold, f_classif, f_regression\n",
    "from sklearn.preprocessing import LabelEncoder, OneHotEncoder, OrdinalEncoder\n",
    "\n",
    "# Important functionality for this lesson ---> Statistical tools for model building etc\n",
    "import statsmodels.api as sm\n",
    "from statsmodels.stats.outliers_influence import variance_inflation_factor\n",
    "\n",
    "#plotting\n",
    "import plotly.express as px\n",
    "from plotly.subplots import make_subplots\n",
    "import plotly.graph_objs as go\n",
    "import matplotlib.pyplot as plt\n",
    "import seaborn as sns\n",
    "\n",
    "# stats\n",
    "from statsmodels.api import tsa # time series analysis\n",
    "import statsmodels.api as sm"
   ]
  },
  {
   "cell_type": "code",
   "execution_count": 8,
   "metadata": {},
   "outputs": [
    {
     "data": {
      "text/html": [
       "<div>\n",
       "<style scoped>\n",
       "    .dataframe tbody tr th:only-of-type {\n",
       "        vertical-align: middle;\n",
       "    }\n",
       "\n",
       "    .dataframe tbody tr th {\n",
       "        vertical-align: top;\n",
       "    }\n",
       "\n",
       "    .dataframe thead th {\n",
       "        text-align: right;\n",
       "    }\n",
       "</style>\n",
       "<table border=\"1\" class=\"dataframe\">\n",
       "  <thead>\n",
       "    <tr style=\"text-align: right;\">\n",
       "      <th></th>\n",
       "      <th>Global_active_power</th>\n",
       "      <th>Global_reactive_power</th>\n",
       "      <th>Voltage</th>\n",
       "      <th>Global_intensity</th>\n",
       "      <th>Sub_metering_1</th>\n",
       "      <th>Sub_metering_2</th>\n",
       "      <th>Sub_metering_3</th>\n",
       "      <th>temperature_2m</th>\n",
       "      <th>relative_humidity_2m</th>\n",
       "      <th>dew_point_2m</th>\n",
       "      <th>apparent_temperature</th>\n",
       "      <th>surface_pressure</th>\n",
       "      <th>cloudcover</th>\n",
       "      <th>windspeed_10m</th>\n",
       "      <th>windgusts_10m</th>\n",
       "      <th>winddirection_10m</th>\n",
       "      <th>shortwave_radiation</th>\n",
       "      <th>direct_radiation</th>\n",
       "      <th>diffuse_radiation</th>\n",
       "    </tr>\n",
       "    <tr>\n",
       "      <th>DateTime</th>\n",
       "      <th></th>\n",
       "      <th></th>\n",
       "      <th></th>\n",
       "      <th></th>\n",
       "      <th></th>\n",
       "      <th></th>\n",
       "      <th></th>\n",
       "      <th></th>\n",
       "      <th></th>\n",
       "      <th></th>\n",
       "      <th></th>\n",
       "      <th></th>\n",
       "      <th></th>\n",
       "      <th></th>\n",
       "      <th></th>\n",
       "      <th></th>\n",
       "      <th></th>\n",
       "      <th></th>\n",
       "      <th></th>\n",
       "    </tr>\n",
       "  </thead>\n",
       "  <tbody>\n",
       "    <tr>\n",
       "      <th>2006-12-16 17:24:00</th>\n",
       "      <td>4.216</td>\n",
       "      <td>0.418</td>\n",
       "      <td>234.84</td>\n",
       "      <td>18.4</td>\n",
       "      <td>0.0</td>\n",
       "      <td>1.0</td>\n",
       "      <td>17.0</td>\n",
       "      <td>7.120</td>\n",
       "      <td>94.200</td>\n",
       "      <td>6.240</td>\n",
       "      <td>4.100</td>\n",
       "      <td>1012.400</td>\n",
       "      <td>100.0</td>\n",
       "      <td>14.280</td>\n",
       "      <td>31.100</td>\n",
       "      <td>329.400</td>\n",
       "      <td>8.000</td>\n",
       "      <td>0.0</td>\n",
       "      <td>8.000</td>\n",
       "    </tr>\n",
       "    <tr>\n",
       "      <th>2006-12-16 17:25:00</th>\n",
       "      <td>5.360</td>\n",
       "      <td>0.436</td>\n",
       "      <td>233.63</td>\n",
       "      <td>23.0</td>\n",
       "      <td>0.0</td>\n",
       "      <td>1.0</td>\n",
       "      <td>16.0</td>\n",
       "      <td>7.108</td>\n",
       "      <td>94.167</td>\n",
       "      <td>6.225</td>\n",
       "      <td>4.092</td>\n",
       "      <td>1012.417</td>\n",
       "      <td>100.0</td>\n",
       "      <td>14.242</td>\n",
       "      <td>31.075</td>\n",
       "      <td>329.417</td>\n",
       "      <td>7.833</td>\n",
       "      <td>0.0</td>\n",
       "      <td>7.833</td>\n",
       "    </tr>\n",
       "    <tr>\n",
       "      <th>2006-12-16 17:26:00</th>\n",
       "      <td>5.374</td>\n",
       "      <td>0.498</td>\n",
       "      <td>233.29</td>\n",
       "      <td>23.0</td>\n",
       "      <td>0.0</td>\n",
       "      <td>2.0</td>\n",
       "      <td>17.0</td>\n",
       "      <td>7.097</td>\n",
       "      <td>94.133</td>\n",
       "      <td>6.210</td>\n",
       "      <td>4.083</td>\n",
       "      <td>1012.433</td>\n",
       "      <td>100.0</td>\n",
       "      <td>14.203</td>\n",
       "      <td>31.050</td>\n",
       "      <td>329.433</td>\n",
       "      <td>7.667</td>\n",
       "      <td>0.0</td>\n",
       "      <td>7.667</td>\n",
       "    </tr>\n",
       "    <tr>\n",
       "      <th>2006-12-16 17:27:00</th>\n",
       "      <td>5.388</td>\n",
       "      <td>0.502</td>\n",
       "      <td>233.74</td>\n",
       "      <td>23.0</td>\n",
       "      <td>0.0</td>\n",
       "      <td>1.0</td>\n",
       "      <td>17.0</td>\n",
       "      <td>7.085</td>\n",
       "      <td>94.100</td>\n",
       "      <td>6.195</td>\n",
       "      <td>4.075</td>\n",
       "      <td>1012.450</td>\n",
       "      <td>100.0</td>\n",
       "      <td>14.165</td>\n",
       "      <td>31.025</td>\n",
       "      <td>329.450</td>\n",
       "      <td>7.500</td>\n",
       "      <td>0.0</td>\n",
       "      <td>7.500</td>\n",
       "    </tr>\n",
       "    <tr>\n",
       "      <th>2006-12-16 17:28:00</th>\n",
       "      <td>3.666</td>\n",
       "      <td>0.528</td>\n",
       "      <td>235.68</td>\n",
       "      <td>15.8</td>\n",
       "      <td>0.0</td>\n",
       "      <td>1.0</td>\n",
       "      <td>17.0</td>\n",
       "      <td>7.073</td>\n",
       "      <td>94.067</td>\n",
       "      <td>6.180</td>\n",
       "      <td>4.067</td>\n",
       "      <td>1012.467</td>\n",
       "      <td>100.0</td>\n",
       "      <td>14.127</td>\n",
       "      <td>31.000</td>\n",
       "      <td>329.467</td>\n",
       "      <td>7.333</td>\n",
       "      <td>0.0</td>\n",
       "      <td>7.333</td>\n",
       "    </tr>\n",
       "  </tbody>\n",
       "</table>\n",
       "</div>"
      ],
      "text/plain": [
       "                     Global_active_power  Global_reactive_power  Voltage  \\\n",
       "DateTime                                                                   \n",
       "2006-12-16 17:24:00                4.216                  0.418   234.84   \n",
       "2006-12-16 17:25:00                5.360                  0.436   233.63   \n",
       "2006-12-16 17:26:00                5.374                  0.498   233.29   \n",
       "2006-12-16 17:27:00                5.388                  0.502   233.74   \n",
       "2006-12-16 17:28:00                3.666                  0.528   235.68   \n",
       "\n",
       "                     Global_intensity  Sub_metering_1  Sub_metering_2  \\\n",
       "DateTime                                                                \n",
       "2006-12-16 17:24:00              18.4             0.0             1.0   \n",
       "2006-12-16 17:25:00              23.0             0.0             1.0   \n",
       "2006-12-16 17:26:00              23.0             0.0             2.0   \n",
       "2006-12-16 17:27:00              23.0             0.0             1.0   \n",
       "2006-12-16 17:28:00              15.8             0.0             1.0   \n",
       "\n",
       "                     Sub_metering_3  temperature_2m  relative_humidity_2m  \\\n",
       "DateTime                                                                    \n",
       "2006-12-16 17:24:00            17.0           7.120                94.200   \n",
       "2006-12-16 17:25:00            16.0           7.108                94.167   \n",
       "2006-12-16 17:26:00            17.0           7.097                94.133   \n",
       "2006-12-16 17:27:00            17.0           7.085                94.100   \n",
       "2006-12-16 17:28:00            17.0           7.073                94.067   \n",
       "\n",
       "                     dew_point_2m  apparent_temperature  surface_pressure  \\\n",
       "DateTime                                                                    \n",
       "2006-12-16 17:24:00         6.240                 4.100          1012.400   \n",
       "2006-12-16 17:25:00         6.225                 4.092          1012.417   \n",
       "2006-12-16 17:26:00         6.210                 4.083          1012.433   \n",
       "2006-12-16 17:27:00         6.195                 4.075          1012.450   \n",
       "2006-12-16 17:28:00         6.180                 4.067          1012.467   \n",
       "\n",
       "                     cloudcover  windspeed_10m  windgusts_10m  \\\n",
       "DateTime                                                        \n",
       "2006-12-16 17:24:00       100.0         14.280         31.100   \n",
       "2006-12-16 17:25:00       100.0         14.242         31.075   \n",
       "2006-12-16 17:26:00       100.0         14.203         31.050   \n",
       "2006-12-16 17:27:00       100.0         14.165         31.025   \n",
       "2006-12-16 17:28:00       100.0         14.127         31.000   \n",
       "\n",
       "                     winddirection_10m  shortwave_radiation  direct_radiation  \\\n",
       "DateTime                                                                        \n",
       "2006-12-16 17:24:00            329.400                8.000               0.0   \n",
       "2006-12-16 17:25:00            329.417                7.833               0.0   \n",
       "2006-12-16 17:26:00            329.433                7.667               0.0   \n",
       "2006-12-16 17:27:00            329.450                7.500               0.0   \n",
       "2006-12-16 17:28:00            329.467                7.333               0.0   \n",
       "\n",
       "                     diffuse_radiation  \n",
       "DateTime                                \n",
       "2006-12-16 17:24:00              8.000  \n",
       "2006-12-16 17:25:00              7.833  \n",
       "2006-12-16 17:26:00              7.667  \n",
       "2006-12-16 17:27:00              7.500  \n",
       "2006-12-16 17:28:00              7.333  "
      ]
     },
     "execution_count": 8,
     "metadata": {},
     "output_type": "execute_result"
    }
   ],
   "source": [
    "file_path = r'C:\\Users\\karni\\OneDrive\\Documents\\GitHub\\BrainStation_CapstoneProject\\data\\power_weather.csv'\n",
    "power_df_clean = pd.read_csv(file_path, parse_dates=['DateTime'], index_col='DateTime')\n",
    "power_df_clean.head()"
   ]
  },
  {
   "cell_type": "code",
   "execution_count": 3,
   "metadata": {},
   "outputs": [
    {
     "name": "stdout",
     "output_type": "stream",
     "text": [
      "<class 'pandas.core.frame.DataFrame'>\n",
      "DatetimeIndex: 2049280 entries, 2006-12-16 17:24:00 to 2010-11-26 21:02:00\n",
      "Data columns (total 19 columns):\n",
      " #   Column                 Dtype  \n",
      "---  ------                 -----  \n",
      " 0   Global_active_power    float64\n",
      " 1   Global_reactive_power  float64\n",
      " 2   Voltage                float64\n",
      " 3   Global_intensity       float64\n",
      " 4   Sub_metering_1         float64\n",
      " 5   Sub_metering_2         float64\n",
      " 6   Sub_metering_3         float64\n",
      " 7   temperature_2m         float64\n",
      " 8   relative_humidity_2m   float64\n",
      " 9   dew_point_2m           float64\n",
      " 10  apparent_temperature   float64\n",
      " 11  surface_pressure       float64\n",
      " 12  cloudcover             float64\n",
      " 13  windspeed_10m          float64\n",
      " 14  windgusts_10m          float64\n",
      " 15  winddirection_10m      float64\n",
      " 16  shortwave_radiation    float64\n",
      " 17  direct_radiation       float64\n",
      " 18  diffuse_radiation      float64\n",
      "dtypes: float64(19)\n",
      "memory usage: 312.7 MB\n"
     ]
    }
   ],
   "source": [
    "power_df_clean.info()"
   ]
  },
  {
   "cell_type": "markdown",
   "metadata": {},
   "source": [
    "## <a id='toc4_1_'></a>EDA: Global_active_power   [&#8593;](#toc0_)"
   ]
  },
  {
   "cell_type": "markdown",
   "metadata": {},
   "source": [
    "First we will take a look at the `Global_active_power` column - this is the variable of interest (dependent variable) that we would like to predict.\n",
    "\n",
    "First, let's take a look at the distinct values in this variable."
   ]
  },
  {
   "cell_type": "code",
   "execution_count": 4,
   "metadata": {},
   "outputs": [
    {
     "data": {
      "text/plain": [
       "Text(0, 0.5, 'Global Active Power (kilowatts)')"
      ]
     },
     "execution_count": 4,
     "metadata": {},
     "output_type": "execute_result"
    },
    {
     "data": {
      "image/png": "[encoded data removed]",
      "text/plain": [
       "<Figure size 1500x500 with 1 Axes>"
      ]
     },
     "metadata": {},
     "output_type": "display_data"
    }
   ],
   "source": [
    "# Look at the \"Global_active_power\" column over time\n",
    "power_df_clean[\"Global_active_power\"].plot(figsize=(15,5))\n",
    "plt.title(\"Global Active Power over Time\")\n",
    "plt.ylabel(\"Global Active Power (kilowatts)\")"
   ]
  },
  {
   "cell_type": "code",
   "execution_count": 5,
   "metadata": {},
   "outputs": [
    {
     "data": {
      "text/plain": [
       "count   2049280.00\n",
       "mean          1.09\n",
       "std           1.06\n",
       "min           0.08\n",
       "25%           0.31\n",
       "50%           0.60\n",
       "75%           1.53\n",
       "max          11.12\n",
       "Name: Global_active_power, dtype: float64"
      ]
     },
     "execution_count": 5,
     "metadata": {},
     "output_type": "execute_result"
    }
   ],
   "source": [
    "pd.options.display.float_format = '{:.2f}'.format #Changing format to display numeric values instead of scientific notation\n",
    "\n",
    "# Displaying the descriptive statistics of the \"Global_active_power\" column\n",
    "power_df_clean.describe()[\"Global_active_power\"].round(2) # rounding to 2 decimal places\n"
   ]
  },
  {
   "cell_type": "markdown",
   "metadata": {},
   "source": [
    "\n",
    "We can see that the average power consumption is around 1.2 kilowatts, with a maximum of 11.2 kilowatts and a minimum of 0.08 kilowatts.\n"
   ]
  },
  {
   "cell_type": "code",
   "execution_count": 37,
   "metadata": {},
   "outputs": [
    {
     "data": {
      "text/html": [
       "<div>\n",
       "<style scoped>\n",
       "    .dataframe tbody tr th:only-of-type {\n",
       "        vertical-align: middle;\n",
       "    }\n",
       "\n",
       "    .dataframe tbody tr th {\n",
       "        vertical-align: top;\n",
       "    }\n",
       "\n",
       "    .dataframe thead th {\n",
       "        text-align: right;\n",
       "    }\n",
       "</style>\n",
       "<table border=\"1\" class=\"dataframe\">\n",
       "  <thead>\n",
       "    <tr style=\"text-align: right;\">\n",
       "      <th></th>\n",
       "      <th>Global_active_power</th>\n",
       "      <th>Global_reactive_power</th>\n",
       "      <th>Voltage</th>\n",
       "      <th>Global_intensity</th>\n",
       "      <th>Sub_metering_1</th>\n",
       "      <th>Sub_metering_2</th>\n",
       "      <th>Sub_metering_3</th>\n",
       "      <th>temperature_2m</th>\n",
       "      <th>relative_humidity_2m</th>\n",
       "      <th>dew_point_2m</th>\n",
       "      <th>apparent_temperature</th>\n",
       "      <th>surface_pressure</th>\n",
       "      <th>cloudcover</th>\n",
       "      <th>windspeed_10m</th>\n",
       "      <th>windgusts_10m</th>\n",
       "      <th>winddirection_10m</th>\n",
       "      <th>shortwave_radiation</th>\n",
       "      <th>direct_radiation</th>\n",
       "      <th>diffuse_radiation</th>\n",
       "    </tr>\n",
       "    <tr>\n",
       "      <th>DateTime</th>\n",
       "      <th></th>\n",
       "      <th></th>\n",
       "      <th></th>\n",
       "      <th></th>\n",
       "      <th></th>\n",
       "      <th></th>\n",
       "      <th></th>\n",
       "      <th></th>\n",
       "      <th></th>\n",
       "      <th></th>\n",
       "      <th></th>\n",
       "      <th></th>\n",
       "      <th></th>\n",
       "      <th></th>\n",
       "      <th></th>\n",
       "      <th></th>\n",
       "      <th></th>\n",
       "      <th></th>\n",
       "      <th></th>\n",
       "    </tr>\n",
       "  </thead>\n",
       "  <tbody>\n",
       "    <tr>\n",
       "      <th>2006-12-01</th>\n",
       "      <td>1.90</td>\n",
       "      <td>0.13</td>\n",
       "      <td>241.44</td>\n",
       "      <td>8.03</td>\n",
       "      <td>1.25</td>\n",
       "      <td>2.21</td>\n",
       "      <td>7.41</td>\n",
       "      <td>2.67</td>\n",
       "      <td>89.37</td>\n",
       "      <td>1.04</td>\n",
       "      <td>-1.08</td>\n",
       "      <td>1020.45</td>\n",
       "      <td>69.21</td>\n",
       "      <td>12.33</td>\n",
       "      <td>23.79</td>\n",
       "      <td>122.63</td>\n",
       "      <td>34.02</td>\n",
       "      <td>14.11</td>\n",
       "      <td>19.91</td>\n",
       "    </tr>\n",
       "    <tr>\n",
       "      <th>2007-01-01</th>\n",
       "      <td>1.55</td>\n",
       "      <td>0.13</td>\n",
       "      <td>240.91</td>\n",
       "      <td>6.55</td>\n",
       "      <td>1.26</td>\n",
       "      <td>1.78</td>\n",
       "      <td>7.38</td>\n",
       "      <td>7.21</td>\n",
       "      <td>84.02</td>\n",
       "      <td>4.58</td>\n",
       "      <td>3.42</td>\n",
       "      <td>1010.18</td>\n",
       "      <td>82.07</td>\n",
       "      <td>17.72</td>\n",
       "      <td>35.03</td>\n",
       "      <td>211.77</td>\n",
       "      <td>38.13</td>\n",
       "      <td>15.18</td>\n",
       "      <td>22.95</td>\n",
       "    </tr>\n",
       "    <tr>\n",
       "      <th>2007-02-01</th>\n",
       "      <td>1.40</td>\n",
       "      <td>0.11</td>\n",
       "      <td>240.52</td>\n",
       "      <td>5.91</td>\n",
       "      <td>1.18</td>\n",
       "      <td>1.60</td>\n",
       "      <td>6.70</td>\n",
       "      <td>7.55</td>\n",
       "      <td>82.83</td>\n",
       "      <td>4.65</td>\n",
       "      <td>3.99</td>\n",
       "      <td>999.81</td>\n",
       "      <td>79.07</td>\n",
       "      <td>15.64</td>\n",
       "      <td>31.43</td>\n",
       "      <td>194.19</td>\n",
       "      <td>73.58</td>\n",
       "      <td>38.95</td>\n",
       "      <td>34.63</td>\n",
       "    </tr>\n",
       "    <tr>\n",
       "      <th>2007-03-01</th>\n",
       "      <td>1.32</td>\n",
       "      <td>0.11</td>\n",
       "      <td>240.51</td>\n",
       "      <td>5.57</td>\n",
       "      <td>1.36</td>\n",
       "      <td>2.35</td>\n",
       "      <td>6.50</td>\n",
       "      <td>7.26</td>\n",
       "      <td>79.44</td>\n",
       "      <td>3.71</td>\n",
       "      <td>3.85</td>\n",
       "      <td>1005.63</td>\n",
       "      <td>59.87</td>\n",
       "      <td>13.45</td>\n",
       "      <td>27.37</td>\n",
       "      <td>215.72</td>\n",
       "      <td>124.96</td>\n",
       "      <td>71.83</td>\n",
       "      <td>53.12</td>\n",
       "    </tr>\n",
       "    <tr>\n",
       "      <th>2007-04-01</th>\n",
       "      <td>0.89</td>\n",
       "      <td>0.12</td>\n",
       "      <td>239.40</td>\n",
       "      <td>3.83</td>\n",
       "      <td>1.07</td>\n",
       "      <td>0.97</td>\n",
       "      <td>4.80</td>\n",
       "      <td>13.79</td>\n",
       "      <td>68.14</td>\n",
       "      <td>7.52</td>\n",
       "      <td>11.85</td>\n",
       "      <td>1008.83</td>\n",
       "      <td>30.56</td>\n",
       "      <td>10.87</td>\n",
       "      <td>22.40</td>\n",
       "      <td>100.47</td>\n",
       "      <td>248.59</td>\n",
       "      <td>193.13</td>\n",
       "      <td>55.46</td>\n",
       "    </tr>\n",
       "  </tbody>\n",
       "</table>\n",
       "</div>"
      ],
      "text/plain": [
       "            Global_active_power  Global_reactive_power  Voltage  \\\n",
       "DateTime                                                          \n",
       "2006-12-01                 1.90                   0.13   241.44   \n",
       "2007-01-01                 1.55                   0.13   240.91   \n",
       "2007-02-01                 1.40                   0.11   240.52   \n",
       "2007-03-01                 1.32                   0.11   240.51   \n",
       "2007-04-01                 0.89                   0.12   239.40   \n",
       "\n",
       "            Global_intensity  Sub_metering_1  Sub_metering_2  Sub_metering_3  \\\n",
       "DateTime                                                                       \n",
       "2006-12-01              8.03            1.25            2.21            7.41   \n",
       "2007-01-01              6.55            1.26            1.78            7.38   \n",
       "2007-02-01              5.91            1.18            1.60            6.70   \n",
       "2007-03-01              5.57            1.36            2.35            6.50   \n",
       "2007-04-01              3.83            1.07            0.97            4.80   \n",
       "\n",
       "            temperature_2m  relative_humidity_2m  dew_point_2m  \\\n",
       "DateTime                                                         \n",
       "2006-12-01            2.67                 89.37          1.04   \n",
       "2007-01-01            7.21                 84.02          4.58   \n",
       "2007-02-01            7.55                 82.83          4.65   \n",
       "2007-03-01            7.26                 79.44          3.71   \n",
       "2007-04-01           13.79                 68.14          7.52   \n",
       "\n",
       "            apparent_temperature  surface_pressure  cloudcover  windspeed_10m  \\\n",
       "DateTime                                                                        \n",
       "2006-12-01                 -1.08           1020.45       69.21          12.33   \n",
       "2007-01-01                  3.42           1010.18       82.07          17.72   \n",
       "2007-02-01                  3.99            999.81       79.07          15.64   \n",
       "2007-03-01                  3.85           1005.63       59.87          13.45   \n",
       "2007-04-01                 11.85           1008.83       30.56          10.87   \n",
       "\n",
       "            windgusts_10m  winddirection_10m  shortwave_radiation  \\\n",
       "DateTime                                                            \n",
       "2006-12-01          23.79             122.63                34.02   \n",
       "2007-01-01          35.03             211.77                38.13   \n",
       "2007-02-01          31.43             194.19                73.58   \n",
       "2007-03-01          27.37             215.72               124.96   \n",
       "2007-04-01          22.40             100.47               248.59   \n",
       "\n",
       "            direct_radiation  diffuse_radiation  \n",
       "DateTime                                         \n",
       "2006-12-01             14.11              19.91  \n",
       "2007-01-01             15.18              22.95  \n",
       "2007-02-01             38.95              34.63  \n",
       "2007-03-01             71.83              53.12  \n",
       "2007-04-01            193.13              55.46  "
      ]
     },
     "execution_count": 37,
     "metadata": {},
     "output_type": "execute_result"
    }
   ],
   "source": [
    "#lets look at monthly power usage\n",
    "# the \"M\" option specifies \tmonthly frequency \n",
    "power_df_clean_monthly = power_df_clean.resample(\"MS\").mean()\n",
    "\n",
    "power_df_clean_monthly.head()"
   ]
  },
  {
   "cell_type": "code",
   "execution_count": 39,
   "metadata": {},
   "outputs": [
    {
     "data": {
      "application/vnd.plotly.v1+json": {
       "config": {
        "plotlyServerURL": "https://plot.ly"
       },
       "data": [
        {
         "hovertemplate": "DateTime=%{x}<br>Global_active_power=%{y}<extra></extra>",
         "legendgroup": "",
         "line": {
          "color": "#636efa",
          "dash": "solid"
         },
         "marker": {
          "symbol": "circle"
         },
         "mode": "lines",
         "name": "",
         "orientation": "v",
         "showlegend": false,
         "type": "scatter",
         "x": [
          "2006-12-01T00:00:00",
          "2007-01-01T00:00:00",
          "2007-02-01T00:00:00",
          "2007-03-01T00:00:00",
          "2007-04-01T00:00:00",
          "2007-05-01T00:00:00",
          "2007-06-01T00:00:00",
          "2007-07-01T00:00:00",
          "2007-08-01T00:00:00",
          "2007-09-01T00:00:00",
          "2007-10-01T00:00:00",
          "2007-11-01T00:00:00",
          "2007-12-01T00:00:00",
          "2008-01-01T00:00:00",
          "2008-02-01T00:00:00",
          "2008-03-01T00:00:00",
          "2008-04-01T00:00:00",
          "2008-05-01T00:00:00",
          "2008-06-01T00:00:00",
          "2008-07-01T00:00:00",
          "2008-08-01T00:00:00",
          "2008-09-01T00:00:00",
          "2008-10-01T00:00:00",
          "2008-11-01T00:00:00",
          "2008-12-01T00:00:00",
          "2009-01-01T00:00:00",
          "2009-02-01T00:00:00",
          "2009-03-01T00:00:00",
          "2009-04-01T00:00:00",
          "2009-05-01T00:00:00",
          "2009-06-01T00:00:00",
          "2009-07-01T00:00:00",
          "2009-08-01T00:00:00",
          "2009-09-01T00:00:00",
          "2009-10-01T00:00:00",
          "2009-11-01T00:00:00",
          "2009-12-01T00:00:00",
          "2010-01-01T00:00:00",
          "2010-02-01T00:00:00",
          "2010-03-01T00:00:00",
          "2010-04-01T00:00:00",
          "2010-05-01T00:00:00",
          "2010-06-01T00:00:00",
          "2010-07-01T00:00:00",
          "2010-08-01T00:00:00",
          "2010-09-01T00:00:00",
          "2010-10-01T00:00:00",
          "2010-11-01T00:00:00"
         ],
         "xaxis": "x",
         "y": [
          1.9012951073117497,
          1.5460339172902011,
          1.401083535889677,
          1.3186270301754073,
          0.8911889454619145,
          0.9858618279569893,
          0.8268143754199783,
          0.6673668246871419,
          0.7641862028777623,
          0.9693181628779111,
          1.1039107934943322,
          1.2944729848604102,
          1.626473935348014,
          1.4599202939133942,
          1.1813844864334124,
          1.245336902708394,
          1.115972037037037,
          1.0242811057843093,
          0.9940964374175328,
          0.7947806353331242,
          0.276488193915498,
          0.9876803703703704,
          1.1367683924927685,
          1.3870658238984974,
          1.2751893019811975,
          1.4102020206545847,
          1.2475678159777424,
          1.2267347551413592,
          1.140689939349044,
          1.0128557666457567,
          0.8407564857751598,
          0.6181208889685456,
          0.6646187112848293,
          0.9868408454290807,
          1.144486211608683,
          1.2747434431352578,
          1.3644205833594696,
          1.430524898214845,
          1.3758546058832284,
          1.1300752821908808,
          1.0272951688696499,
          1.095284392571518,
          0.9696148895782212,
          0.7210679450704541,
          0.5907781579088042,
          0.9564424307878724,
          1.163398687246578,
          1.1968544668974586
         ],
         "yaxis": "y"
        }
       ],
       "layout": {
        "legend": {
         "title": {
          "text": ""
         },
         "tracegroupgap": 0
        },
        "margin": {
         "t": 60
        },
        "template": {
         "data": {
          "bar": [
           {
            "error_x": {
             "color": "#2a3f5f"
            },
            "error_y": {
             "color": "#2a3f5f"
            },
            "marker": {
             "line": {
              "color": "#E5ECF6",
              "width": 0.5
             },
             "pattern": {
              "fillmode": "overlay",
              "size": 10,
              "solidity": 0.2
             }
            },
            "type": "bar"
           }
          ],
          "barpolar": [
           {
            "marker": {
             "line": {
              "color": "#E5ECF6",
              "width": 0.5
             },
             "pattern": {
              "fillmode": "overlay",
              "size": 10,
              "solidity": 0.2
             }
            },
            "type": "barpolar"
           }
          ],
          "carpet": [
           {
            "aaxis": {
             "endlinecolor": "#2a3f5f",
             "gridcolor": "white",
             "linecolor": "white",
             "minorgridcolor": "white",
             "startlinecolor": "#2a3f5f"
            },
            "baxis": {
             "endlinecolor": "#2a3f5f",
             "gridcolor": "white",
             "linecolor": "white",
             "minorgridcolor": "white",
             "startlinecolor": "#2a3f5f"
            },
            "type": "carpet"
           }
          ],
          "choropleth": [
           {
            "colorbar": {
             "outlinewidth": 0,
             "ticks": ""
            },
            "type": "choropleth"
           }
          ],
          "contour": [
           {
            "colorbar": {
             "outlinewidth": 0,
             "ticks": ""
            },
            "colorscale": [
             [
              0,
              "#0d0887"
             ],
             [
              0.1111111111111111,
              "#46039f"
             ],
             [
              0.2222222222222222,
              "#7201a8"
             ],
             [
              0.3333333333333333,
              "#9c179e"
             ],
             [
              0.4444444444444444,
              "#bd3786"
             ],
             [
              0.5555555555555556,
              "#d8576b"
             ],
             [
              0.6666666666666666,
              "#ed7953"
             ],
             [
              0.7777777777777778,
              "#fb9f3a"
             ],
             [
              0.8888888888888888,
              "#fdca26"
             ],
             [
              1,
              "#f0f921"
             ]
            ],
            "type": "contour"
           }
          ],
          "contourcarpet": [
           {
            "colorbar": {
             "outlinewidth": 0,
             "ticks": ""
            },
            "type": "contourcarpet"
           }
          ],
          "heatmap": [
           {
            "colorbar": {
             "outlinewidth": 0,
             "ticks": ""
            },
            "colorscale": [
             [
              0,
              "#0d0887"
             ],
             [
              0.1111111111111111,
              "#46039f"
             ],
             [
              0.2222222222222222,
              "#7201a8"
             ],
             [
              0.3333333333333333,
              "#9c179e"
             ],
             [
              0.4444444444444444,
              "#bd3786"
             ],
             [
              0.5555555555555556,
              "#d8576b"
             ],
             [
              0.6666666666666666,
              "#ed7953"
             ],
             [
              0.7777777777777778,
              "#fb9f3a"
             ],
             [
              0.8888888888888888,
              "#fdca26"
             ],
             [
              1,
              "#f0f921"
             ]
            ],
            "type": "heatmap"
           }
          ],
          "heatmapgl": [
           {
            "colorbar": {
             "outlinewidth": 0,
             "ticks": ""
            },
            "colorscale": [
             [
              0,
              "#0d0887"
             ],
             [
              0.1111111111111111,
              "#46039f"
             ],
             [
              0.2222222222222222,
              "#7201a8"
             ],
             [
              0.3333333333333333,
              "#9c179e"
             ],
             [
              0.4444444444444444,
              "#bd3786"
             ],
             [
              0.5555555555555556,
              "#d8576b"
             ],
             [
              0.6666666666666666,
              "#ed7953"
             ],
             [
              0.7777777777777778,
              "#fb9f3a"
             ],
             [
              0.8888888888888888,
              "#fdca26"
             ],
             [
              1,
              "#f0f921"
             ]
            ],
            "type": "heatmapgl"
           }
          ],
          "histogram": [
           {
            "marker": {
             "pattern": {
              "fillmode": "overlay",
              "size": 10,
              "solidity": 0.2
             }
            },
            "type": "histogram"
           }
          ],
          "histogram2d": [
           {
            "colorbar": {
             "outlinewidth": 0,
             "ticks": ""
            },
            "colorscale": [
             [
              0,
              "#0d0887"
             ],
             [
              0.1111111111111111,
              "#46039f"
             ],
             [
              0.2222222222222222,
              "#7201a8"
             ],
             [
              0.3333333333333333,
              "#9c179e"
             ],
             [
              0.4444444444444444,
              "#bd3786"
             ],
             [
              0.5555555555555556,
              "#d8576b"
             ],
             [
              0.6666666666666666,
              "#ed7953"
             ],
             [
              0.7777777777777778,
              "#fb9f3a"
             ],
             [
              0.8888888888888888,
              "#fdca26"
             ],
             [
              1,
              "#f0f921"
             ]
            ],
            "type": "histogram2d"
           }
          ],
          "histogram2dcontour": [
           {
            "colorbar": {
             "outlinewidth": 0,
             "ticks": ""
            },
            "colorscale": [
             [
              0,
              "#0d0887"
             ],
             [
              0.1111111111111111,
              "#46039f"
             ],
             [
              0.2222222222222222,
              "#7201a8"
             ],
             [
              0.3333333333333333,
              "#9c179e"
             ],
             [
              0.4444444444444444,
              "#bd3786"
             ],
             [
              0.5555555555555556,
              "#d8576b"
             ],
             [
              0.6666666666666666,
              "#ed7953"
             ],
             [
              0.7777777777777778,
              "#fb9f3a"
             ],
             [
              0.8888888888888888,
              "#fdca26"
             ],
             [
              1,
              "#f0f921"
             ]
            ],
            "type": "histogram2dcontour"
           }
          ],
          "mesh3d": [
           {
            "colorbar": {
             "outlinewidth": 0,
             "ticks": ""
            },
            "type": "mesh3d"
           }
          ],
          "parcoords": [
           {
            "line": {
             "colorbar": {
              "outlinewidth": 0,
              "ticks": ""
             }
            },
            "type": "parcoords"
           }
          ],
          "pie": [
           {
            "automargin": true,
            "type": "pie"
           }
          ],
          "scatter": [
           {
            "fillpattern": {
             "fillmode": "overlay",
             "size": 10,
             "solidity": 0.2
            },
            "type": "scatter"
           }
          ],
          "scatter3d": [
           {
            "line": {
             "colorbar": {
              "outlinewidth": 0,
              "ticks": ""
             }
            },
            "marker": {
             "colorbar": {
              "outlinewidth": 0,
              "ticks": ""
             }
            },
            "type": "scatter3d"
           }
          ],
          "scattercarpet": [
           {
            "marker": {
             "colorbar": {
              "outlinewidth": 0,
              "ticks": ""
             }
            },
            "type": "scattercarpet"
           }
          ],
          "scattergeo": [
           {
            "marker": {
             "colorbar": {
              "outlinewidth": 0,
              "ticks": ""
             }
            },
            "type": "scattergeo"
           }
          ],
          "scattergl": [
           {
            "marker": {
             "colorbar": {
              "outlinewidth": 0,
              "ticks": ""
             }
            },
            "type": "scattergl"
           }
          ],
          "scattermapbox": [
           {
            "marker": {
             "colorbar": {
              "outlinewidth": 0,
              "ticks": ""
             }
            },
            "type": "scattermapbox"
           }
          ],
          "scatterpolar": [
           {
            "marker": {
             "colorbar": {
              "outlinewidth": 0,
              "ticks": ""
             }
            },
            "type": "scatterpolar"
           }
          ],
          "scatterpolargl": [
           {
            "marker": {
             "colorbar": {
              "outlinewidth": 0,
              "ticks": ""
             }
            },
            "type": "scatterpolargl"
           }
          ],
          "scatterternary": [
           {
            "marker": {
             "colorbar": {
              "outlinewidth": 0,
              "ticks": ""
             }
            },
            "type": "scatterternary"
           }
          ],
          "surface": [
           {
            "colorbar": {
             "outlinewidth": 0,
             "ticks": ""
            },
            "colorscale": [
             [
              0,
              "#0d0887"
             ],
             [
              0.1111111111111111,
              "#46039f"
             ],
             [
              0.2222222222222222,
              "#7201a8"
             ],
             [
              0.3333333333333333,
              "#9c179e"
             ],
             [
              0.4444444444444444,
              "#bd3786"
             ],
             [
              0.5555555555555556,
              "#d8576b"
             ],
             [
              0.6666666666666666,
              "#ed7953"
             ],
             [
              0.7777777777777778,
              "#fb9f3a"
             ],
             [
              0.8888888888888888,
              "#fdca26"
             ],
             [
              1,
              "#f0f921"
             ]
            ],
            "type": "surface"
           }
          ],
          "table": [
           {
            "cells": {
             "fill": {
              "color": "#EBF0F8"
             },
             "line": {
              "color": "white"
             }
            },
            "header": {
             "fill": {
              "color": "#C8D4E3"
             },
             "line": {
              "color": "white"
             }
            },
            "type": "table"
           }
          ]
         },
         "layout": {
          "annotationdefaults": {
           "arrowcolor": "#2a3f5f",
           "arrowhead": 0,
           "arrowwidth": 1
          },
          "autotypenumbers": "strict",
          "coloraxis": {
           "colorbar": {
            "outlinewidth": 0,
            "ticks": ""
           }
          },
          "colorscale": {
           "diverging": [
            [
             0,
             "#8e0152"
            ],
            [
             0.1,
             "#c51b7d"
            ],
            [
             0.2,
             "#de77ae"
            ],
            [
             0.3,
             "#f1b6da"
            ],
            [
             0.4,
             "#fde0ef"
            ],
            [
             0.5,
             "#f7f7f7"
            ],
            [
             0.6,
             "#e6f5d0"
            ],
            [
             0.7,
             "#b8e186"
            ],
            [
             0.8,
             "#7fbc41"
            ],
            [
             0.9,
             "#4d9221"
            ],
            [
             1,
             "#276419"
            ]
           ],
           "sequential": [
            [
             0,
             "#0d0887"
            ],
            [
             0.1111111111111111,
             "#46039f"
            ],
            [
             0.2222222222222222,
             "#7201a8"
            ],
            [
             0.3333333333333333,
             "#9c179e"
            ],
            [
             0.4444444444444444,
             "#bd3786"
            ],
            [
             0.5555555555555556,
             "#d8576b"
            ],
            [
             0.6666666666666666,
             "#ed7953"
            ],
            [
             0.7777777777777778,
             "#fb9f3a"
            ],
            [
             0.8888888888888888,
             "#fdca26"
            ],
            [
             1,
             "#f0f921"
            ]
           ],
           "sequentialminus": [
            [
             0,
             "#0d0887"
            ],
            [
             0.1111111111111111,
             "#46039f"
            ],
            [
             0.2222222222222222,
             "#7201a8"
            ],
            [
             0.3333333333333333,
             "#9c179e"
            ],
            [
             0.4444444444444444,
             "#bd3786"
            ],
            [
             0.5555555555555556,
             "#d8576b"
            ],
            [
             0.6666666666666666,
             "#ed7953"
            ],
            [
             0.7777777777777778,
             "#fb9f3a"
            ],
            [
             0.8888888888888888,
             "#fdca26"
            ],
            [
             1,
             "#f0f921"
            ]
           ]
          },
          "colorway": [
           "#636efa",
           "#EF553B",
           "#00cc96",
           "#ab63fa",
           "#FFA15A",
           "#19d3f3",
           "#FF6692",
           "#B6E880",
           "#FF97FF",
           "#FECB52"
          ],
          "font": {
           "color": "#2a3f5f"
          },
          "geo": {
           "bgcolor": "white",
           "lakecolor": "white",
           "landcolor": "#E5ECF6",
           "showlakes": true,
           "showland": true,
           "subunitcolor": "white"
          },
          "hoverlabel": {
           "align": "left"
          },
          "hovermode": "closest",
          "mapbox": {
           "style": "light"
          },
          "paper_bgcolor": "white",
          "plot_bgcolor": "#E5ECF6",
          "polar": {
           "angularaxis": {
            "gridcolor": "white",
            "linecolor": "white",
            "ticks": ""
           },
           "bgcolor": "#E5ECF6",
           "radialaxis": {
            "gridcolor": "white",
            "linecolor": "white",
            "ticks": ""
           }
          },
          "scene": {
           "xaxis": {
            "backgroundcolor": "#E5ECF6",
            "gridcolor": "white",
            "gridwidth": 2,
            "linecolor": "white",
            "showbackground": true,
            "ticks": "",
            "zerolinecolor": "white"
           },
           "yaxis": {
            "backgroundcolor": "#E5ECF6",
            "gridcolor": "white",
            "gridwidth": 2,
            "linecolor": "white",
            "showbackground": true,
            "ticks": "",
            "zerolinecolor": "white"
           },
           "zaxis": {
            "backgroundcolor": "#E5ECF6",
            "gridcolor": "white",
            "gridwidth": 2,
            "linecolor": "white",
            "showbackground": true,
            "ticks": "",
            "zerolinecolor": "white"
           }
          },
          "shapedefaults": {
           "line": {
            "color": "#2a3f5f"
           }
          },
          "ternary": {
           "aaxis": {
            "gridcolor": "white",
            "linecolor": "white",
            "ticks": ""
           },
           "baxis": {
            "gridcolor": "white",
            "linecolor": "white",
            "ticks": ""
           },
           "bgcolor": "#E5ECF6",
           "caxis": {
            "gridcolor": "white",
            "linecolor": "white",
            "ticks": ""
           }
          },
          "title": {
           "x": 0.05
          },
          "xaxis": {
           "automargin": true,
           "gridcolor": "white",
           "linecolor": "white",
           "ticks": "",
           "title": {
            "standoff": 15
           },
           "zerolinecolor": "white",
           "zerolinewidth": 2
          },
          "yaxis": {
           "automargin": true,
           "gridcolor": "white",
           "linecolor": "white",
           "ticks": "",
           "title": {
            "standoff": 15
           },
           "zerolinecolor": "white",
           "zerolinewidth": 2
          }
         }
        },
        "title": {
         "text": "Monthly power usage from 2007 to 2010"
        },
        "xaxis": {
         "anchor": "y",
         "domain": [
          0,
          1
         ],
         "title": {
          "text": "Year"
         }
        },
        "yaxis": {
         "anchor": "x",
         "domain": [
          0,
          1
         ],
         "title": {
          "text": "Global Active Power (kilowatts)"
         }
        }
       }
      }
     },
     "metadata": {},
     "output_type": "display_data"
    }
   ],
   "source": [
    "fig = px.line(power_df_clean_monthly, x=power_df_clean_monthly.index, y=\"Global_active_power\",)\n",
    "fig.update_layout(\n",
    "    yaxis_title=\"Global Active Power (kilowatts)\", \n",
    "    xaxis_title=\"Year\",\n",
    "    legend_title=\"\", \n",
    "    title=\"Monthly power usage from 2007 to 2010\"\n",
    ")\n",
    "fig.show()"
   ]
  },
  {
   "cell_type": "markdown",
   "metadata": {},
   "source": [
    " It seems power usuage to dip mostly in the summers (july-august) and peak in the winters (december-january). This is likely due to heating and cooling needs."
   ]
  },
  {
   "cell_type": "code",
   "execution_count": 40,
   "metadata": {},
   "outputs": [
    {
     "data": {
      "image/png": "[encoded data removed]",
      "text/plain": [
       "<Figure size 1500x500 with 1 Axes>"
      ]
     },
     "metadata": {},
     "output_type": "display_data"
    }
   ],
   "source": [
    "# Lets explore some seasonal patterns in the data.\n",
    "from statsmodels.graphics.tsaplots import month_plot\n",
    "\n",
    "plt.figure(figsize=(15, 5))\n",
    "\n",
    "# create the seasonal plot\n",
    "month_plot(power_df_clean_monthly[\"Global_active_power\"], ax=plt.gca())\n",
    "plt.xlabel(\"Month\")\n",
    "plt.ylabel(\"Global Active Power (kilowatts)\")\n",
    "plt.title(\"Seasonal Power Usage per Month\")\n",
    "sns.despine()\n",
    "plt.show()"
   ]
  },
  {
   "cell_type": "markdown",
   "metadata": {},
   "source": [
    "The red bars show the average for the given month across all years, while each black line represent an individual month and the progression of values across the years. \n",
    "\n",
    "Through the year, we can see that power consumption is highest in the winter months (December, January, February) and lowest in the summer months (June, July, August).The Global Active Power usage shows a clear seasonal pattern, with peaks in the winter months and troughs in the summer months.A U shaped is observed in the data, with the lowest values in the summer months and the highest values in the winter months."
   ]
  },
  {
   "cell_type": "markdown",
   "metadata": {},
   "source": [
    "Next we can look at the average Global active power for each month and see how much it differs from the overall average."
   ]
  },
  {
   "cell_type": "code",
   "execution_count": 9,
   "metadata": {},
   "outputs": [
    {
     "data": {
      "text/plain": [
       "January      0.25\n",
       "February     0.16\n",
       "March        0.11\n",
       "April       -0.05\n",
       "May         -0.07\n",
       "June        -0.21\n",
       "July        -0.57\n",
       "August      -0.92\n",
       "September   -0.13\n",
       "October      0.03\n",
       "November     0.15\n",
       "December     0.29\n",
       "Name: Global_active_power, dtype: float64"
      ]
     },
     "execution_count": 9,
     "metadata": {},
     "output_type": "execute_result"
    }
   ],
   "source": [
    "# monthly average\n",
    "monthly_mean = power_df_clean_monthly.groupby(power_df_clean_monthly.index.month_name()).mean()\n",
    "\n",
    "# relative deviation from the overall mean\n",
    "monthly_mean_diff = (monthly_mean - monthly_mean.mean())/monthly_mean\n",
    "\n",
    "# month names in right order\n",
    "month_names = pd.date_range(start='2006-01' ,freq='M', periods=12).month_name()\n",
    "\n",
    "# reorder columns to follow the month order\n",
    "monthly_mean_diff = monthly_mean_diff.loc[month_names, ]\n",
    "\n",
    "monthly_mean_diff['Global_active_power'].T"
   ]
  },
  {
   "cell_type": "markdown",
   "metadata": {},
   "source": [
    " Lets visualize this data"
   ]
  },
  {
   "cell_type": "code",
   "execution_count": 14,
   "metadata": {},
   "outputs": [
    {
     "data": {
      "application/vnd.plotly.v1+json": {
       "config": {
        "plotlyServerURL": "https://plot.ly"
       },
       "data": [
        {
         "alignmentgroup": "True",
         "hovertemplate": "variable=Global_active_power<br>index=%{x}<br>value=%{y}<extra></extra>",
         "legendgroup": "Global_active_power",
         "marker": {
          "color": "#636efa",
          "pattern": {
           "shape": ""
          }
         },
         "name": "Global_active_power",
         "offsetgroup": "Global_active_power",
         "orientation": "v",
         "showlegend": true,
         "textposition": "auto",
         "type": "bar",
         "x": [
          "January",
          "February",
          "March",
          "April",
          "May",
          "June",
          "July",
          "August",
          "September",
          "October",
          "November",
          "December"
         ],
         "xaxis": "x",
         "y": [
          0.24793763556324058,
          0.15536662134278292,
          0.10642739101518725,
          -0.05315328835229152,
          -0.06769465224685431,
          -0.21088601956906222,
          -0.5696326228719035,
          -0.9150402254176383,
          -0.1273720847861973,
          0.03330617030475638,
          0.14671993491731247,
          0.2870441582845781
         ],
         "yaxis": "y"
        }
       ],
       "layout": {
        "barmode": "relative",
        "legend": {
         "title": {
          "text": "variable"
         },
         "tracegroupgap": 0
        },
        "margin": {
         "t": 60
        },
        "showlegend": false,
        "template": {
         "data": {
          "bar": [
           {
            "error_x": {
             "color": "#2a3f5f"
            },
            "error_y": {
             "color": "#2a3f5f"
            },
            "marker": {
             "line": {
              "color": "#E5ECF6",
              "width": 0.5
             },
             "pattern": {
              "fillmode": "overlay",
              "size": 10,
              "solidity": 0.2
             }
            },
            "type": "bar"
           }
          ],
          "barpolar": [
           {
            "marker": {
             "line": {
              "color": "#E5ECF6",
              "width": 0.5
             },
             "pattern": {
              "fillmode": "overlay",
              "size": 10,
              "solidity": 0.2
             }
            },
            "type": "barpolar"
           }
          ],
          "carpet": [
           {
            "aaxis": {
             "endlinecolor": "#2a3f5f",
             "gridcolor": "white",
             "linecolor": "white",
             "minorgridcolor": "white",
             "startlinecolor": "#2a3f5f"
            },
            "baxis": {
             "endlinecolor": "#2a3f5f",
             "gridcolor": "white",
             "linecolor": "white",
             "minorgridcolor": "white",
             "startlinecolor": "#2a3f5f"
            },
            "type": "carpet"
           }
          ],
          "choropleth": [
           {
            "colorbar": {
             "outlinewidth": 0,
             "ticks": ""
            },
            "type": "choropleth"
           }
          ],
          "contour": [
           {
            "colorbar": {
             "outlinewidth": 0,
             "ticks": ""
            },
            "colorscale": [
             [
              0,
              "#0d0887"
             ],
             [
              0.1111111111111111,
              "#46039f"
             ],
             [
              0.2222222222222222,
              "#7201a8"
             ],
             [
              0.3333333333333333,
              "#9c179e"
             ],
             [
              0.4444444444444444,
              "#bd3786"
             ],
             [
              0.5555555555555556,
              "#d8576b"
             ],
             [
              0.6666666666666666,
              "#ed7953"
             ],
             [
              0.7777777777777778,
              "#fb9f3a"
             ],
             [
              0.8888888888888888,
              "#fdca26"
             ],
             [
              1,
              "#f0f921"
             ]
            ],
            "type": "contour"
           }
          ],
          "contourcarpet": [
           {
            "colorbar": {
             "outlinewidth": 0,
             "ticks": ""
            },
            "type": "contourcarpet"
           }
          ],
          "heatmap": [
           {
            "colorbar": {
             "outlinewidth": 0,
             "ticks": ""
            },
            "colorscale": [
             [
              0,
              "#0d0887"
             ],
             [
              0.1111111111111111,
              "#46039f"
             ],
             [
              0.2222222222222222,
              "#7201a8"
             ],
             [
              0.3333333333333333,
              "#9c179e"
             ],
             [
              0.4444444444444444,
              "#bd3786"
             ],
             [
              0.5555555555555556,
              "#d8576b"
             ],
             [
              0.6666666666666666,
              "#ed7953"
             ],
             [
              0.7777777777777778,
              "#fb9f3a"
             ],
             [
              0.8888888888888888,
              "#fdca26"
             ],
             [
              1,
              "#f0f921"
             ]
            ],
            "type": "heatmap"
           }
          ],
          "heatmapgl": [
           {
            "colorbar": {
             "outlinewidth": 0,
             "ticks": ""
            },
            "colorscale": [
             [
              0,
              "#0d0887"
             ],
             [
              0.1111111111111111,
              "#46039f"
             ],
             [
              0.2222222222222222,
              "#7201a8"
             ],
             [
              0.3333333333333333,
              "#9c179e"
             ],
             [
              0.4444444444444444,
              "#bd3786"
             ],
             [
              0.5555555555555556,
              "#d8576b"
             ],
             [
              0.6666666666666666,
              "#ed7953"
             ],
             [
              0.7777777777777778,
              "#fb9f3a"
             ],
             [
              0.8888888888888888,
              "#fdca26"
             ],
             [
              1,
              "#f0f921"
             ]
            ],
            "type": "heatmapgl"
           }
          ],
          "histogram": [
           {
            "marker": {
             "pattern": {
              "fillmode": "overlay",
              "size": 10,
              "solidity": 0.2
             }
            },
            "type": "histogram"
           }
          ],
          "histogram2d": [
           {
            "colorbar": {
             "outlinewidth": 0,
             "ticks": ""
            },
            "colorscale": [
             [
              0,
              "#0d0887"
             ],
             [
              0.1111111111111111,
              "#46039f"
             ],
             [
              0.2222222222222222,
              "#7201a8"
             ],
             [
              0.3333333333333333,
              "#9c179e"
             ],
             [
              0.4444444444444444,
              "#bd3786"
             ],
             [
              0.5555555555555556,
              "#d8576b"
             ],
             [
              0.6666666666666666,
              "#ed7953"
             ],
             [
              0.7777777777777778,
              "#fb9f3a"
             ],
             [
              0.8888888888888888,
              "#fdca26"
             ],
             [
              1,
              "#f0f921"
             ]
            ],
            "type": "histogram2d"
           }
          ],
          "histogram2dcontour": [
           {
            "colorbar": {
             "outlinewidth": 0,
             "ticks": ""
            },
            "colorscale": [
             [
              0,
              "#0d0887"
             ],
             [
              0.1111111111111111,
              "#46039f"
             ],
             [
              0.2222222222222222,
              "#7201a8"
             ],
             [
              0.3333333333333333,
              "#9c179e"
             ],
             [
              0.4444444444444444,
              "#bd3786"
             ],
             [
              0.5555555555555556,
              "#d8576b"
             ],
             [
              0.6666666666666666,
              "#ed7953"
             ],
             [
              0.7777777777777778,
              "#fb9f3a"
             ],
             [
              0.8888888888888888,
              "#fdca26"
             ],
             [
              1,
              "#f0f921"
             ]
            ],
            "type": "histogram2dcontour"
           }
          ],
          "mesh3d": [
           {
            "colorbar": {
             "outlinewidth": 0,
             "ticks": ""
            },
            "type": "mesh3d"
           }
          ],
          "parcoords": [
           {
            "line": {
             "colorbar": {
              "outlinewidth": 0,
              "ticks": ""
             }
            },
            "type": "parcoords"
           }
          ],
          "pie": [
           {
            "automargin": true,
            "type": "pie"
           }
          ],
          "scatter": [
           {
            "fillpattern": {
             "fillmode": "overlay",
             "size": 10,
             "solidity": 0.2
            },
            "type": "scatter"
           }
          ],
          "scatter3d": [
           {
            "line": {
             "colorbar": {
              "outlinewidth": 0,
              "ticks": ""
             }
            },
            "marker": {
             "colorbar": {
              "outlinewidth": 0,
              "ticks": ""
             }
            },
            "type": "scatter3d"
           }
          ],
          "scattercarpet": [
           {
            "marker": {
             "colorbar": {
              "outlinewidth": 0,
              "ticks": ""
             }
            },
            "type": "scattercarpet"
           }
          ],
          "scattergeo": [
           {
            "marker": {
             "colorbar": {
              "outlinewidth": 0,
              "ticks": ""
             }
            },
            "type": "scattergeo"
           }
          ],
          "scattergl": [
           {
            "marker": {
             "colorbar": {
              "outlinewidth": 0,
              "ticks": ""
             }
            },
            "type": "scattergl"
           }
          ],
          "scattermapbox": [
           {
            "marker": {
             "colorbar": {
              "outlinewidth": 0,
              "ticks": ""
             }
            },
            "type": "scattermapbox"
           }
          ],
          "scatterpolar": [
           {
            "marker": {
             "colorbar": {
              "outlinewidth": 0,
              "ticks": ""
             }
            },
            "type": "scatterpolar"
           }
          ],
          "scatterpolargl": [
           {
            "marker": {
             "colorbar": {
              "outlinewidth": 0,
              "ticks": ""
             }
            },
            "type": "scatterpolargl"
           }
          ],
          "scatterternary": [
           {
            "marker": {
             "colorbar": {
              "outlinewidth": 0,
              "ticks": ""
             }
            },
            "type": "scatterternary"
           }
          ],
          "surface": [
           {
            "colorbar": {
             "outlinewidth": 0,
             "ticks": ""
            },
            "colorscale": [
             [
              0,
              "#0d0887"
             ],
             [
              0.1111111111111111,
              "#46039f"
             ],
             [
              0.2222222222222222,
              "#7201a8"
             ],
             [
              0.3333333333333333,
              "#9c179e"
             ],
             [
              0.4444444444444444,
              "#bd3786"
             ],
             [
              0.5555555555555556,
              "#d8576b"
             ],
             [
              0.6666666666666666,
              "#ed7953"
             ],
             [
              0.7777777777777778,
              "#fb9f3a"
             ],
             [
              0.8888888888888888,
              "#fdca26"
             ],
             [
              1,
              "#f0f921"
             ]
            ],
            "type": "surface"
           }
          ],
          "table": [
           {
            "cells": {
             "fill": {
              "color": "#EBF0F8"
             },
             "line": {
              "color": "white"
             }
            },
            "header": {
             "fill": {
              "color": "#C8D4E3"
             },
             "line": {
              "color": "white"
             }
            },
            "type": "table"
           }
          ]
         },
         "layout": {
          "annotationdefaults": {
           "arrowcolor": "#2a3f5f",
           "arrowhead": 0,
           "arrowwidth": 1
          },
          "autotypenumbers": "strict",
          "coloraxis": {
           "colorbar": {
            "outlinewidth": 0,
            "ticks": ""
           }
          },
          "colorscale": {
           "diverging": [
            [
             0,
             "#8e0152"
            ],
            [
             0.1,
             "#c51b7d"
            ],
            [
             0.2,
             "#de77ae"
            ],
            [
             0.3,
             "#f1b6da"
            ],
            [
             0.4,
             "#fde0ef"
            ],
            [
             0.5,
             "#f7f7f7"
            ],
            [
             0.6,
             "#e6f5d0"
            ],
            [
             0.7,
             "#b8e186"
            ],
            [
             0.8,
             "#7fbc41"
            ],
            [
             0.9,
             "#4d9221"
            ],
            [
             1,
             "#276419"
            ]
           ],
           "sequential": [
            [
             0,
             "#0d0887"
            ],
            [
             0.1111111111111111,
             "#46039f"
            ],
            [
             0.2222222222222222,
             "#7201a8"
            ],
            [
             0.3333333333333333,
             "#9c179e"
            ],
            [
             0.4444444444444444,
             "#bd3786"
            ],
            [
             0.5555555555555556,
             "#d8576b"
            ],
            [
             0.6666666666666666,
             "#ed7953"
            ],
            [
             0.7777777777777778,
             "#fb9f3a"
            ],
            [
             0.8888888888888888,
             "#fdca26"
            ],
            [
             1,
             "#f0f921"
            ]
           ],
           "sequentialminus": [
            [
             0,
             "#0d0887"
            ],
            [
             0.1111111111111111,
             "#46039f"
            ],
            [
             0.2222222222222222,
             "#7201a8"
            ],
            [
             0.3333333333333333,
             "#9c179e"
            ],
            [
             0.4444444444444444,
             "#bd3786"
            ],
            [
             0.5555555555555556,
             "#d8576b"
            ],
            [
             0.6666666666666666,
             "#ed7953"
            ],
            [
             0.7777777777777778,
             "#fb9f3a"
            ],
            [
             0.8888888888888888,
             "#fdca26"
            ],
            [
             1,
             "#f0f921"
            ]
           ]
          },
          "colorway": [
           "#636efa",
           "#EF553B",
           "#00cc96",
           "#ab63fa",
           "#FFA15A",
           "#19d3f3",
           "#FF6692",
           "#B6E880",
           "#FF97FF",
           "#FECB52"
          ],
          "font": {
           "color": "#2a3f5f"
          },
          "geo": {
           "bgcolor": "white",
           "lakecolor": "white",
           "landcolor": "#E5ECF6",
           "showlakes": true,
           "showland": true,
           "subunitcolor": "white"
          },
          "hoverlabel": {
           "align": "left"
          },
          "hovermode": "closest",
          "mapbox": {
           "style": "light"
          },
          "paper_bgcolor": "white",
          "plot_bgcolor": "#E5ECF6",
          "polar": {
           "angularaxis": {
            "gridcolor": "white",
            "linecolor": "white",
            "ticks": ""
           },
           "bgcolor": "#E5ECF6",
           "radialaxis": {
            "gridcolor": "white",
            "linecolor": "white",
            "ticks": ""
           }
          },
          "scene": {
           "xaxis": {
            "backgroundcolor": "#E5ECF6",
            "gridcolor": "white",
            "gridwidth": 2,
            "linecolor": "white",
            "showbackground": true,
            "ticks": "",
            "zerolinecolor": "white"
           },
           "yaxis": {
            "backgroundcolor": "#E5ECF6",
            "gridcolor": "white",
            "gridwidth": 2,
            "linecolor": "white",
            "showbackground": true,
            "ticks": "",
            "zerolinecolor": "white"
           },
           "zaxis": {
            "backgroundcolor": "#E5ECF6",
            "gridcolor": "white",
            "gridwidth": 2,
            "linecolor": "white",
            "showbackground": true,
            "ticks": "",
            "zerolinecolor": "white"
           }
          },
          "shapedefaults": {
           "line": {
            "color": "#2a3f5f"
           }
          },
          "ternary": {
           "aaxis": {
            "gridcolor": "white",
            "linecolor": "white",
            "ticks": ""
           },
           "baxis": {
            "gridcolor": "white",
            "linecolor": "white",
            "ticks": ""
           },
           "bgcolor": "#E5ECF6",
           "caxis": {
            "gridcolor": "white",
            "linecolor": "white",
            "ticks": ""
           }
          },
          "title": {
           "x": 0.05
          },
          "xaxis": {
           "automargin": true,
           "gridcolor": "white",
           "linecolor": "white",
           "ticks": "",
           "title": {
            "standoff": 15
           },
           "zerolinecolor": "white",
           "zerolinewidth": 2
          },
          "yaxis": {
           "automargin": true,
           "gridcolor": "white",
           "linecolor": "white",
           "ticks": "",
           "title": {
            "standoff": 15
           },
           "zerolinecolor": "white",
           "zerolinewidth": 2
          }
         }
        },
        "title": {
         "text": "Monthly deviation from mean Global Active Power (%)"
        },
        "xaxis": {
         "anchor": "y",
         "domain": [
          0,
          1
         ],
         "title": {
          "text": ""
         }
        },
        "yaxis": {
         "anchor": "x",
         "domain": [
          0,
          1
         ],
         "tickformat": ".1%",
         "title": {
          "text": ""
         }
        }
       }
      }
     },
     "metadata": {},
     "output_type": "display_data"
    }
   ],
   "source": [
    "fig = px.bar(monthly_mean_diff['Global_active_power'].T)\n",
    "\n",
    "fig.update_layout(\n",
    "    yaxis_title=\"\", \n",
    "    yaxis_tickformat = '.1%',\n",
    "    xaxis_title=\"\",\n",
    "    title=\"Monthly deviation from mean Global Active Power (%)\",\n",
    "    showlegend=False,\n",
    ")\n",
    "fig.show()"
   ]
  },
  {
   "cell_type": "markdown",
   "metadata": {},
   "source": [
    "We can see that the positive highest deviation from the mean occurs in December at 28%,  and the highest negative deviation occurs in August at 91%, which is summer. This suggests that households use more energy during the winter months, likely for heating purposes, and less during the summer months."
   ]
  },
  {
   "cell_type": "markdown",
   "metadata": {},
   "source": [
    "### Trend-Seasonal Decomposition for Target Variable: Global Active Power"
   ]
  },
  {
   "cell_type": "markdown",
   "metadata": {},
   "source": [
    "A fundamental step in time series EDA is the trend-seasonal decomposition. Here, we extract three series from our original Global Active Power variable: \n",
    "- a trend component $T_t$ calculated using a moving average,\n",
    "- a seasonal component $S_t$ which is the monthly average of the de-trended series, and\n",
    "- the residual $R_t$ that remains after subtracting the trend and seasonal component from the original series.\n",
    "\n",
    "Adding up these three components will give back the original series:\n",
    "\n",
    "$$y_t = T_t + S_t + R_t$$\n",
    "\n",
    "\n"
   ]
  },
  {
   "cell_type": "code",
   "execution_count": 15,
   "metadata": {},
   "outputs": [
    {
     "data": {
      "text/html": [
       "<div>\n",
       "<style scoped>\n",
       "    .dataframe tbody tr th:only-of-type {\n",
       "        vertical-align: middle;\n",
       "    }\n",
       "\n",
       "    .dataframe tbody tr th {\n",
       "        vertical-align: top;\n",
       "    }\n",
       "\n",
       "    .dataframe thead th {\n",
       "        text-align: right;\n",
       "    }\n",
       "</style>\n",
       "<table border=\"1\" class=\"dataframe\">\n",
       "  <thead>\n",
       "    <tr style=\"text-align: right;\">\n",
       "      <th></th>\n",
       "      <th>Global_active_power</th>\n",
       "    </tr>\n",
       "    <tr>\n",
       "      <th>DateTime</th>\n",
       "      <th></th>\n",
       "    </tr>\n",
       "  </thead>\n",
       "  <tbody>\n",
       "    <tr>\n",
       "      <th>2006-12-01</th>\n",
       "      <td>1.90</td>\n",
       "    </tr>\n",
       "    <tr>\n",
       "      <th>2007-01-01</th>\n",
       "      <td>1.55</td>\n",
       "    </tr>\n",
       "    <tr>\n",
       "      <th>2007-02-01</th>\n",
       "      <td>1.40</td>\n",
       "    </tr>\n",
       "    <tr>\n",
       "      <th>2007-03-01</th>\n",
       "      <td>1.32</td>\n",
       "    </tr>\n",
       "    <tr>\n",
       "      <th>2007-04-01</th>\n",
       "      <td>0.89</td>\n",
       "    </tr>\n",
       "  </tbody>\n",
       "</table>\n",
       "</div>"
      ],
      "text/plain": [
       "            Global_active_power\n",
       "DateTime                       \n",
       "2006-12-01                 1.90\n",
       "2007-01-01                 1.55\n",
       "2007-02-01                 1.40\n",
       "2007-03-01                 1.32\n",
       "2007-04-01                 0.89"
      ]
     },
     "execution_count": 15,
     "metadata": {},
     "output_type": "execute_result"
    }
   ],
   "source": [
    "GAP_df=power_df_clean_monthly[['Global_active_power']]\n",
    "GAP_df.head()"
   ]
  },
  {
   "cell_type": "code",
   "execution_count": 16,
   "metadata": {},
   "outputs": [],
   "source": [
    "# decompose the time series\n",
    "decomposition = tsa.seasonal_decompose(GAP_df, model='additive')"
   ]
  },
  {
   "cell_type": "code",
   "execution_count": 17,
   "metadata": {},
   "outputs": [
    {
     "data": {
      "text/plain": [
       "statsmodels.tsa.seasonal.DecomposeResult"
      ]
     },
     "execution_count": 17,
     "metadata": {},
     "output_type": "execute_result"
    }
   ],
   "source": [
    "type(decomposition)"
   ]
  },
  {
   "cell_type": "code",
   "execution_count": 18,
   "metadata": {},
   "outputs": [
    {
     "data": {
      "text/html": [
       "<div>\n",
       "<style scoped>\n",
       "    .dataframe tbody tr th:only-of-type {\n",
       "        vertical-align: middle;\n",
       "    }\n",
       "\n",
       "    .dataframe tbody tr th {\n",
       "        vertical-align: top;\n",
       "    }\n",
       "\n",
       "    .dataframe thead th {\n",
       "        text-align: right;\n",
       "    }\n",
       "</style>\n",
       "<table border=\"1\" class=\"dataframe\">\n",
       "  <thead>\n",
       "    <tr style=\"text-align: right;\">\n",
       "      <th></th>\n",
       "      <th>Global_active_power</th>\n",
       "      <th>Trend</th>\n",
       "      <th>Seasonal</th>\n",
       "      <th>Residual</th>\n",
       "    </tr>\n",
       "    <tr>\n",
       "      <th>DateTime</th>\n",
       "      <th></th>\n",
       "      <th></th>\n",
       "      <th></th>\n",
       "      <th></th>\n",
       "    </tr>\n",
       "  </thead>\n",
       "  <tbody>\n",
       "    <tr>\n",
       "      <th>2006-12-01</th>\n",
       "      <td>1.90</td>\n",
       "      <td>NaN</td>\n",
       "      <td>0.33</td>\n",
       "      <td>NaN</td>\n",
       "    </tr>\n",
       "    <tr>\n",
       "      <th>2007-01-01</th>\n",
       "      <td>1.55</td>\n",
       "      <td>NaN</td>\n",
       "      <td>0.34</td>\n",
       "      <td>NaN</td>\n",
       "    </tr>\n",
       "    <tr>\n",
       "      <th>2007-02-01</th>\n",
       "      <td>1.40</td>\n",
       "      <td>NaN</td>\n",
       "      <td>0.18</td>\n",
       "      <td>NaN</td>\n",
       "    </tr>\n",
       "    <tr>\n",
       "      <th>2007-03-01</th>\n",
       "      <td>1.32</td>\n",
       "      <td>NaN</td>\n",
       "      <td>0.11</td>\n",
       "      <td>NaN</td>\n",
       "    </tr>\n",
       "    <tr>\n",
       "      <th>2007-04-01</th>\n",
       "      <td>0.89</td>\n",
       "      <td>NaN</td>\n",
       "      <td>0.01</td>\n",
       "      <td>NaN</td>\n",
       "    </tr>\n",
       "    <tr>\n",
       "      <th>2007-05-01</th>\n",
       "      <td>0.99</td>\n",
       "      <td>NaN</td>\n",
       "      <td>-0.04</td>\n",
       "      <td>NaN</td>\n",
       "    </tr>\n",
       "    <tr>\n",
       "      <th>2007-06-01</th>\n",
       "      <td>0.83</td>\n",
       "      <td>1.13</td>\n",
       "      <td>-0.21</td>\n",
       "      <td>-0.09</td>\n",
       "    </tr>\n",
       "    <tr>\n",
       "      <th>2007-07-01</th>\n",
       "      <td>0.67</td>\n",
       "      <td>1.11</td>\n",
       "      <td>-0.39</td>\n",
       "      <td>-0.05</td>\n",
       "    </tr>\n",
       "    <tr>\n",
       "      <th>2007-08-01</th>\n",
       "      <td>0.76</td>\n",
       "      <td>1.10</td>\n",
       "      <td>-0.52</td>\n",
       "      <td>0.18</td>\n",
       "    </tr>\n",
       "    <tr>\n",
       "      <th>2007-09-01</th>\n",
       "      <td>0.97</td>\n",
       "      <td>1.09</td>\n",
       "      <td>-0.10</td>\n",
       "      <td>-0.02</td>\n",
       "    </tr>\n",
       "  </tbody>\n",
       "</table>\n",
       "</div>"
      ],
      "text/plain": [
       "            Global_active_power  Trend  Seasonal  Residual\n",
       "DateTime                                                  \n",
       "2006-12-01                 1.90    NaN      0.33       NaN\n",
       "2007-01-01                 1.55    NaN      0.34       NaN\n",
       "2007-02-01                 1.40    NaN      0.18       NaN\n",
       "2007-03-01                 1.32    NaN      0.11       NaN\n",
       "2007-04-01                 0.89    NaN      0.01       NaN\n",
       "2007-05-01                 0.99    NaN     -0.04       NaN\n",
       "2007-06-01                 0.83   1.13     -0.21     -0.09\n",
       "2007-07-01                 0.67   1.11     -0.39     -0.05\n",
       "2007-08-01                 0.76   1.10     -0.52      0.18\n",
       "2007-09-01                 0.97   1.09     -0.10     -0.02"
      ]
     },
     "execution_count": 18,
     "metadata": {},
     "output_type": "execute_result"
    }
   ],
   "source": [
    "#GAP_monthly = power_df_clean_monthl['Global_active_power'].copy()\n",
    "GAP_df[\"Trend\"] = decomposition.trend\n",
    "GAP_df[\"Seasonal\"] = decomposition.seasonal\n",
    "GAP_df[\"Residual\"] = decomposition.resid\n",
    "\n",
    "GAP_df.head(10)"
   ]
  },
  {
   "cell_type": "code",
   "execution_count": 89,
   "metadata": {},
   "outputs": [
    {
     "data": {
      "text/html": [
       "<div>\n",
       "<style scoped>\n",
       "    .dataframe tbody tr th:only-of-type {\n",
       "        vertical-align: middle;\n",
       "    }\n",
       "\n",
       "    .dataframe tbody tr th {\n",
       "        vertical-align: top;\n",
       "    }\n",
       "\n",
       "    .dataframe thead th {\n",
       "        text-align: right;\n",
       "    }\n",
       "</style>\n",
       "<table border=\"1\" class=\"dataframe\">\n",
       "  <thead>\n",
       "    <tr style=\"text-align: right;\">\n",
       "      <th></th>\n",
       "      <th>Global_active_power</th>\n",
       "      <th>Trend</th>\n",
       "      <th>Seasonal</th>\n",
       "      <th>Residual</th>\n",
       "    </tr>\n",
       "    <tr>\n",
       "      <th>DateTime</th>\n",
       "      <th></th>\n",
       "      <th></th>\n",
       "      <th></th>\n",
       "      <th></th>\n",
       "    </tr>\n",
       "  </thead>\n",
       "  <tbody>\n",
       "    <tr>\n",
       "      <th>2010-02-01</th>\n",
       "      <td>1.38</td>\n",
       "      <td>1.10</td>\n",
       "      <td>0.18</td>\n",
       "      <td>0.10</td>\n",
       "    </tr>\n",
       "    <tr>\n",
       "      <th>2010-03-01</th>\n",
       "      <td>1.13</td>\n",
       "      <td>1.09</td>\n",
       "      <td>0.11</td>\n",
       "      <td>-0.08</td>\n",
       "    </tr>\n",
       "    <tr>\n",
       "      <th>2010-04-01</th>\n",
       "      <td>1.03</td>\n",
       "      <td>1.09</td>\n",
       "      <td>0.01</td>\n",
       "      <td>-0.07</td>\n",
       "    </tr>\n",
       "    <tr>\n",
       "      <th>2010-05-01</th>\n",
       "      <td>1.10</td>\n",
       "      <td>1.09</td>\n",
       "      <td>-0.04</td>\n",
       "      <td>0.05</td>\n",
       "    </tr>\n",
       "    <tr>\n",
       "      <th>2010-06-01</th>\n",
       "      <td>0.97</td>\n",
       "      <td>NaN</td>\n",
       "      <td>-0.21</td>\n",
       "      <td>NaN</td>\n",
       "    </tr>\n",
       "    <tr>\n",
       "      <th>2010-07-01</th>\n",
       "      <td>0.72</td>\n",
       "      <td>NaN</td>\n",
       "      <td>-0.39</td>\n",
       "      <td>NaN</td>\n",
       "    </tr>\n",
       "    <tr>\n",
       "      <th>2010-08-01</th>\n",
       "      <td>0.59</td>\n",
       "      <td>NaN</td>\n",
       "      <td>-0.52</td>\n",
       "      <td>NaN</td>\n",
       "    </tr>\n",
       "    <tr>\n",
       "      <th>2010-09-01</th>\n",
       "      <td>0.96</td>\n",
       "      <td>NaN</td>\n",
       "      <td>-0.10</td>\n",
       "      <td>NaN</td>\n",
       "    </tr>\n",
       "    <tr>\n",
       "      <th>2010-10-01</th>\n",
       "      <td>1.16</td>\n",
       "      <td>NaN</td>\n",
       "      <td>0.05</td>\n",
       "      <td>NaN</td>\n",
       "    </tr>\n",
       "    <tr>\n",
       "      <th>2010-11-01</th>\n",
       "      <td>1.20</td>\n",
       "      <td>NaN</td>\n",
       "      <td>0.23</td>\n",
       "      <td>NaN</td>\n",
       "    </tr>\n",
       "  </tbody>\n",
       "</table>\n",
       "</div>"
      ],
      "text/plain": [
       "            Global_active_power  Trend  Seasonal  Residual\n",
       "DateTime                                                  \n",
       "2010-02-01                 1.38   1.10      0.18      0.10\n",
       "2010-03-01                 1.13   1.09      0.11     -0.08\n",
       "2010-04-01                 1.03   1.09      0.01     -0.07\n",
       "2010-05-01                 1.10   1.09     -0.04      0.05\n",
       "2010-06-01                 0.97    NaN     -0.21       NaN\n",
       "2010-07-01                 0.72    NaN     -0.39       NaN\n",
       "2010-08-01                 0.59    NaN     -0.52       NaN\n",
       "2010-09-01                 0.96    NaN     -0.10       NaN\n",
       "2010-10-01                 1.16    NaN      0.05       NaN\n",
       "2010-11-01                 1.20    NaN      0.23       NaN"
      ]
     },
     "execution_count": 89,
     "metadata": {},
     "output_type": "execute_result"
    }
   ],
   "source": [
    "GAP_df.tail(10)"
   ]
  },
  {
   "cell_type": "markdown",
   "metadata": {},
   "source": [
    "The null values are due the fact that the trend component is calculated with a rolling average that is not defined at the beginning and end of the series."
   ]
  },
  {
   "cell_type": "code",
   "execution_count": 90,
   "metadata": {},
   "outputs": [
    {
     "data": {
      "application/vnd.plotly.v1+json": {
       "config": {
        "plotlyServerURL": "https://plot.ly"
       },
       "data": [
        {
         "type": "scatter",
         "x": [
          "2006-12-01T00:00:00",
          "2007-01-01T00:00:00",
          "2007-02-01T00:00:00",
          "2007-03-01T00:00:00",
          "2007-04-01T00:00:00",
          "2007-05-01T00:00:00",
          "2007-06-01T00:00:00",
          "2007-07-01T00:00:00",
          "2007-08-01T00:00:00",
          "2007-09-01T00:00:00",
          "2007-10-01T00:00:00",
          "2007-11-01T00:00:00",
          "2007-12-01T00:00:00",
          "2008-01-01T00:00:00",
          "2008-02-01T00:00:00",
          "2008-03-01T00:00:00",
          "2008-04-01T00:00:00",
          "2008-05-01T00:00:00",
          "2008-06-01T00:00:00",
          "2008-07-01T00:00:00",
          "2008-08-01T00:00:00",
          "2008-09-01T00:00:00",
          "2008-10-01T00:00:00",
          "2008-11-01T00:00:00",
          "2008-12-01T00:00:00",
          "2009-01-01T00:00:00",
          "2009-02-01T00:00:00",
          "2009-03-01T00:00:00",
          "2009-04-01T00:00:00",
          "2009-05-01T00:00:00",
          "2009-06-01T00:00:00",
          "2009-07-01T00:00:00",
          "2009-08-01T00:00:00",
          "2009-09-01T00:00:00",
          "2009-10-01T00:00:00",
          "2009-11-01T00:00:00",
          "2009-12-01T00:00:00",
          "2010-01-01T00:00:00",
          "2010-02-01T00:00:00",
          "2010-03-01T00:00:00",
          "2010-04-01T00:00:00",
          "2010-05-01T00:00:00",
          "2010-06-01T00:00:00",
          "2010-07-01T00:00:00",
          "2010-08-01T00:00:00",
          "2010-09-01T00:00:00",
          "2010-10-01T00:00:00",
          "2010-11-01T00:00:00"
         ],
         "xaxis": "x",
         "y": [
          null,
          null,
          null,
          null,
          null,
          null,
          1.1277290935268005,
          1.1126901437209444,
          1.0999479490195665,
          1.0877400666477635,
          1.0940522734856013,
          1.1050190388773697,
          1.1135899280367396,
          1.1258689227302203,
          1.1108570811337084,
          1.091301422739133,
          1.0934355813429204,
          1.0986626829277755,
          1.0878838581640784,
          1.0711754037213441,
          1.0718614477332409,
          1.073843996982295,
          1.0740988200966686,
          1.0746526768955624,
          1.0677874564463574,
          1.054037469029401,
          1.0628487511545992,
          1.0789858758391009,
          1.0792724714297102,
          1.0749139480277383,
          1.0739518188866983,
          1.078516575509137,
          1.0847086449868764,
          1.0860264498600016,
          1.07727418971709,
          1.0759839336940222,
          1.084787559932723,
          1.0944461207620968,
          1.0956588917090089,
          1.0913156013749574,
          1.0908370205831528,
          1.08837966639149,
          null,
          null,
          null,
          null,
          null,
          null
         ],
         "yaxis": "y"
        },
        {
         "type": "scatter",
         "x": [
          "2006-12-01T00:00:00",
          "2007-01-01T00:00:00",
          "2007-02-01T00:00:00",
          "2007-03-01T00:00:00",
          "2007-04-01T00:00:00",
          "2007-05-01T00:00:00",
          "2007-06-01T00:00:00",
          "2007-07-01T00:00:00",
          "2007-08-01T00:00:00",
          "2007-09-01T00:00:00",
          "2007-10-01T00:00:00",
          "2007-11-01T00:00:00",
          "2007-12-01T00:00:00",
          "2008-01-01T00:00:00",
          "2008-02-01T00:00:00",
          "2008-03-01T00:00:00",
          "2008-04-01T00:00:00",
          "2008-05-01T00:00:00",
          "2008-06-01T00:00:00",
          "2008-07-01T00:00:00",
          "2008-08-01T00:00:00",
          "2008-09-01T00:00:00",
          "2008-10-01T00:00:00",
          "2008-11-01T00:00:00",
          "2008-12-01T00:00:00",
          "2009-01-01T00:00:00",
          "2009-02-01T00:00:00",
          "2009-03-01T00:00:00",
          "2009-04-01T00:00:00",
          "2009-05-01T00:00:00",
          "2009-06-01T00:00:00",
          "2009-07-01T00:00:00",
          "2009-08-01T00:00:00",
          "2009-09-01T00:00:00",
          "2009-10-01T00:00:00",
          "2009-11-01T00:00:00",
          "2009-12-01T00:00:00",
          "2010-01-01T00:00:00",
          "2010-02-01T00:00:00",
          "2010-03-01T00:00:00",
          "2010-04-01T00:00:00",
          "2010-05-01T00:00:00",
          "2010-06-01T00:00:00",
          "2010-07-01T00:00:00",
          "2010-08-01T00:00:00",
          "2010-09-01T00:00:00",
          "2010-10-01T00:00:00",
          "2010-11-01T00:00:00"
         ],
         "xaxis": "x2",
         "y": [
          0.33418306312443075,
          0.34297500445384566,
          0.1793574991324993,
          0.11439145106262459,
          0.007680795000126185,
          -0.04230157308166283,
          -0.20842238628815837,
          -0.3931611536207276,
          -0.516198206853721,
          -0.10038027390408896,
          0.04745680913228492,
          0.23441897184254737,
          0.33418306312443075,
          0.34297500445384566,
          0.1793574991324993,
          0.11439145106262459,
          0.007680795000126185,
          -0.04230157308166283,
          -0.20842238628815837,
          -0.3931611536207276,
          -0.516198206853721,
          -0.10038027390408896,
          0.04745680913228492,
          0.23441897184254737,
          0.33418306312443075,
          0.34297500445384566,
          0.1793574991324993,
          0.11439145106262459,
          0.007680795000126185,
          -0.04230157308166283,
          -0.20842238628815837,
          -0.3931611536207276,
          -0.516198206853721,
          -0.10038027390408896,
          0.04745680913228492,
          0.23441897184254737,
          0.33418306312443075,
          0.34297500445384566,
          0.1793574991324993,
          0.11439145106262459,
          0.007680795000126185,
          -0.04230157308166283,
          -0.20842238628815837,
          -0.3931611536207276,
          -0.516198206853721,
          -0.10038027390408896,
          0.04745680913228492,
          0.23441897184254737
         ],
         "yaxis": "y2"
        },
        {
         "type": "scatter",
         "x": [
          "2006-12-01T00:00:00",
          "2007-01-01T00:00:00",
          "2007-02-01T00:00:00",
          "2007-03-01T00:00:00",
          "2007-04-01T00:00:00",
          "2007-05-01T00:00:00",
          "2007-06-01T00:00:00",
          "2007-07-01T00:00:00",
          "2007-08-01T00:00:00",
          "2007-09-01T00:00:00",
          "2007-10-01T00:00:00",
          "2007-11-01T00:00:00",
          "2007-12-01T00:00:00",
          "2008-01-01T00:00:00",
          "2008-02-01T00:00:00",
          "2008-03-01T00:00:00",
          "2008-04-01T00:00:00",
          "2008-05-01T00:00:00",
          "2008-06-01T00:00:00",
          "2008-07-01T00:00:00",
          "2008-08-01T00:00:00",
          "2008-09-01T00:00:00",
          "2008-10-01T00:00:00",
          "2008-11-01T00:00:00",
          "2008-12-01T00:00:00",
          "2009-01-01T00:00:00",
          "2009-02-01T00:00:00",
          "2009-03-01T00:00:00",
          "2009-04-01T00:00:00",
          "2009-05-01T00:00:00",
          "2009-06-01T00:00:00",
          "2009-07-01T00:00:00",
          "2009-08-01T00:00:00",
          "2009-09-01T00:00:00",
          "2009-10-01T00:00:00",
          "2009-11-01T00:00:00",
          "2009-12-01T00:00:00",
          "2010-01-01T00:00:00",
          "2010-02-01T00:00:00",
          "2010-03-01T00:00:00",
          "2010-04-01T00:00:00",
          "2010-05-01T00:00:00",
          "2010-06-01T00:00:00",
          "2010-07-01T00:00:00",
          "2010-08-01T00:00:00",
          "2010-09-01T00:00:00",
          "2010-10-01T00:00:00",
          "2010-11-01T00:00:00"
         ],
         "xaxis": "x3",
         "y": [
          null,
          null,
          null,
          null,
          null,
          null,
          -0.09249233181866387,
          -0.05216216541307489,
          0.18043646071191677,
          -0.018041629865763437,
          -0.037598289123554035,
          -0.04496502585950693,
          0.17870094418684362,
          -0.008923633270671805,
          -0.10883009383279527,
          0.03964402890663633,
          0.014855660693990368,
          -0.03208000406180333,
          0.11463496554161282,
          0.11676638523250765,
          -0.27917504696402196,
          0.014216647292164292,
          0.015212763263815016,
          0.07799417516038762,
          -0.12678121758959066,
          0.013189547171338023,
          0.00536156569064386,
          0.03335742823963374,
          0.05373667291920759,
          -0.019756608300318772,
          -0.024772946823380132,
          -0.06723453291986387,
          0.09610827315167392,
          0.001194669473168014,
          0.01975521275930789,
          -0.03565946240131182,
          -0.05455003969768418,
          -0.006896227001097377,
          0.10083821504172022,
          -0.07563177024670119,
          -0.07122264671362909,
          0.04920629926169096,
          null,
          null,
          null,
          null,
          null,
          null
         ],
         "yaxis": "y3"
        }
       ],
       "layout": {
        "annotations": [
         {
          "font": {
           "size": 16
          },
          "showarrow": false,
          "text": "Trend",
          "x": 0.5,
          "xanchor": "center",
          "xref": "paper",
          "y": 1,
          "yanchor": "bottom",
          "yref": "paper"
         },
         {
          "font": {
           "size": 16
          },
          "showarrow": false,
          "text": "Seasonal",
          "x": 0.5,
          "xanchor": "center",
          "xref": "paper",
          "y": 0.6111111111111112,
          "yanchor": "bottom",
          "yref": "paper"
         },
         {
          "font": {
           "size": 16
          },
          "showarrow": false,
          "text": "Residual",
          "x": 0.5,
          "xanchor": "center",
          "xref": "paper",
          "y": 0.22222222222222224,
          "yanchor": "bottom",
          "yref": "paper"
         }
        ],
        "showlegend": false,
        "template": {
         "data": {
          "bar": [
           {
            "error_x": {
             "color": "#2a3f5f"
            },
            "error_y": {
             "color": "#2a3f5f"
            },
            "marker": {
             "line": {
              "color": "#E5ECF6",
              "width": 0.5
             },
             "pattern": {
              "fillmode": "overlay",
              "size": 10,
              "solidity": 0.2
             }
            },
            "type": "bar"
           }
          ],
          "barpolar": [
           {
            "marker": {
             "line": {
              "color": "#E5ECF6",
              "width": 0.5
             },
             "pattern": {
              "fillmode": "overlay",
              "size": 10,
              "solidity": 0.2
             }
            },
            "type": "barpolar"
           }
          ],
          "carpet": [
           {
            "aaxis": {
             "endlinecolor": "#2a3f5f",
             "gridcolor": "white",
             "linecolor": "white",
             "minorgridcolor": "white",
             "startlinecolor": "#2a3f5f"
            },
            "baxis": {
             "endlinecolor": "#2a3f5f",
             "gridcolor": "white",
             "linecolor": "white",
             "minorgridcolor": "white",
             "startlinecolor": "#2a3f5f"
            },
            "type": "carpet"
           }
          ],
          "choropleth": [
           {
            "colorbar": {
             "outlinewidth": 0,
             "ticks": ""
            },
            "type": "choropleth"
           }
          ],
          "contour": [
           {
            "colorbar": {
             "outlinewidth": 0,
             "ticks": ""
            },
            "colorscale": [
             [
              0,
              "#0d0887"
             ],
             [
              0.1111111111111111,
              "#46039f"
             ],
             [
              0.2222222222222222,
              "#7201a8"
             ],
             [
              0.3333333333333333,
              "#9c179e"
             ],
             [
              0.4444444444444444,
              "#bd3786"
             ],
             [
              0.5555555555555556,
              "#d8576b"
             ],
             [
              0.6666666666666666,
              "#ed7953"
             ],
             [
              0.7777777777777778,
              "#fb9f3a"
             ],
             [
              0.8888888888888888,
              "#fdca26"
             ],
             [
              1,
              "#f0f921"
             ]
            ],
            "type": "contour"
           }
          ],
          "contourcarpet": [
           {
            "colorbar": {
             "outlinewidth": 0,
             "ticks": ""
            },
            "type": "contourcarpet"
           }
          ],
          "heatmap": [
           {
            "colorbar": {
             "outlinewidth": 0,
             "ticks": ""
            },
            "colorscale": [
             [
              0,
              "#0d0887"
             ],
             [
              0.1111111111111111,
              "#46039f"
             ],
             [
              0.2222222222222222,
              "#7201a8"
             ],
             [
              0.3333333333333333,
              "#9c179e"
             ],
             [
              0.4444444444444444,
              "#bd3786"
             ],
             [
              0.5555555555555556,
              "#d8576b"
             ],
             [
              0.6666666666666666,
              "#ed7953"
             ],
             [
              0.7777777777777778,
              "#fb9f3a"
             ],
             [
              0.8888888888888888,
              "#fdca26"
             ],
             [
              1,
              "#f0f921"
             ]
            ],
            "type": "heatmap"
           }
          ],
          "heatmapgl": [
           {
            "colorbar": {
             "outlinewidth": 0,
             "ticks": ""
            },
            "colorscale": [
             [
              0,
              "#0d0887"
             ],
             [
              0.1111111111111111,
              "#46039f"
             ],
             [
              0.2222222222222222,
              "#7201a8"
             ],
             [
              0.3333333333333333,
              "#9c179e"
             ],
             [
              0.4444444444444444,
              "#bd3786"
             ],
             [
              0.5555555555555556,
              "#d8576b"
             ],
             [
              0.6666666666666666,
              "#ed7953"
             ],
             [
              0.7777777777777778,
              "#fb9f3a"
             ],
             [
              0.8888888888888888,
              "#fdca26"
             ],
             [
              1,
              "#f0f921"
             ]
            ],
            "type": "heatmapgl"
           }
          ],
          "histogram": [
           {
            "marker": {
             "pattern": {
              "fillmode": "overlay",
              "size": 10,
              "solidity": 0.2
             }
            },
            "type": "histogram"
           }
          ],
          "histogram2d": [
           {
            "colorbar": {
             "outlinewidth": 0,
             "ticks": ""
            },
            "colorscale": [
             [
              0,
              "#0d0887"
             ],
             [
              0.1111111111111111,
              "#46039f"
             ],
             [
              0.2222222222222222,
              "#7201a8"
             ],
             [
              0.3333333333333333,
              "#9c179e"
             ],
             [
              0.4444444444444444,
              "#bd3786"
             ],
             [
              0.5555555555555556,
              "#d8576b"
             ],
             [
              0.6666666666666666,
              "#ed7953"
             ],
             [
              0.7777777777777778,
              "#fb9f3a"
             ],
             [
              0.8888888888888888,
              "#fdca26"
             ],
             [
              1,
              "#f0f921"
             ]
            ],
            "type": "histogram2d"
           }
          ],
          "histogram2dcontour": [
           {
            "colorbar": {
             "outlinewidth": 0,
             "ticks": ""
            },
            "colorscale": [
             [
              0,
              "#0d0887"
             ],
             [
              0.1111111111111111,
              "#46039f"
             ],
             [
              0.2222222222222222,
              "#7201a8"
             ],
             [
              0.3333333333333333,
              "#9c179e"
             ],
             [
              0.4444444444444444,
              "#bd3786"
             ],
             [
              0.5555555555555556,
              "#d8576b"
             ],
             [
              0.6666666666666666,
              "#ed7953"
             ],
             [
              0.7777777777777778,
              "#fb9f3a"
             ],
             [
              0.8888888888888888,
              "#fdca26"
             ],
             [
              1,
              "#f0f921"
             ]
            ],
            "type": "histogram2dcontour"
           }
          ],
          "mesh3d": [
           {
            "colorbar": {
             "outlinewidth": 0,
             "ticks": ""
            },
            "type": "mesh3d"
           }
          ],
          "parcoords": [
           {
            "line": {
             "colorbar": {
              "outlinewidth": 0,
              "ticks": ""
             }
            },
            "type": "parcoords"
           }
          ],
          "pie": [
           {
            "automargin": true,
            "type": "pie"
           }
          ],
          "scatter": [
           {
            "fillpattern": {
             "fillmode": "overlay",
             "size": 10,
             "solidity": 0.2
            },
            "type": "scatter"
           }
          ],
          "scatter3d": [
           {
            "line": {
             "colorbar": {
              "outlinewidth": 0,
              "ticks": ""
             }
            },
            "marker": {
             "colorbar": {
              "outlinewidth": 0,
              "ticks": ""
             }
            },
            "type": "scatter3d"
           }
          ],
          "scattercarpet": [
           {
            "marker": {
             "colorbar": {
              "outlinewidth": 0,
              "ticks": ""
             }
            },
            "type": "scattercarpet"
           }
          ],
          "scattergeo": [
           {
            "marker": {
             "colorbar": {
              "outlinewidth": 0,
              "ticks": ""
             }
            },
            "type": "scattergeo"
           }
          ],
          "scattergl": [
           {
            "marker": {
             "colorbar": {
              "outlinewidth": 0,
              "ticks": ""
             }
            },
            "type": "scattergl"
           }
          ],
          "scattermapbox": [
           {
            "marker": {
             "colorbar": {
              "outlinewidth": 0,
              "ticks": ""
             }
            },
            "type": "scattermapbox"
           }
          ],
          "scatterpolar": [
           {
            "marker": {
             "colorbar": {
              "outlinewidth": 0,
              "ticks": ""
             }
            },
            "type": "scatterpolar"
           }
          ],
          "scatterpolargl": [
           {
            "marker": {
             "colorbar": {
              "outlinewidth": 0,
              "ticks": ""
             }
            },
            "type": "scatterpolargl"
           }
          ],
          "scatterternary": [
           {
            "marker": {
             "colorbar": {
              "outlinewidth": 0,
              "ticks": ""
             }
            },
            "type": "scatterternary"
           }
          ],
          "surface": [
           {
            "colorbar": {
             "outlinewidth": 0,
             "ticks": ""
            },
            "colorscale": [
             [
              0,
              "#0d0887"
             ],
             [
              0.1111111111111111,
              "#46039f"
             ],
             [
              0.2222222222222222,
              "#7201a8"
             ],
             [
              0.3333333333333333,
              "#9c179e"
             ],
             [
              0.4444444444444444,
              "#bd3786"
             ],
             [
              0.5555555555555556,
              "#d8576b"
             ],
             [
              0.6666666666666666,
              "#ed7953"
             ],
             [
              0.7777777777777778,
              "#fb9f3a"
             ],
             [
              0.8888888888888888,
              "#fdca26"
             ],
             [
              1,
              "#f0f921"
             ]
            ],
            "type": "surface"
           }
          ],
          "table": [
           {
            "cells": {
             "fill": {
              "color": "#EBF0F8"
             },
             "line": {
              "color": "white"
             }
            },
            "header": {
             "fill": {
              "color": "#C8D4E3"
             },
             "line": {
              "color": "white"
             }
            },
            "type": "table"
           }
          ]
         },
         "layout": {
          "annotationdefaults": {
           "arrowcolor": "#2a3f5f",
           "arrowhead": 0,
           "arrowwidth": 1
          },
          "autotypenumbers": "strict",
          "coloraxis": {
           "colorbar": {
            "outlinewidth": 0,
            "ticks": ""
           }
          },
          "colorscale": {
           "diverging": [
            [
             0,
             "#8e0152"
            ],
            [
             0.1,
             "#c51b7d"
            ],
            [
             0.2,
             "#de77ae"
            ],
            [
             0.3,
             "#f1b6da"
            ],
            [
             0.4,
             "#fde0ef"
            ],
            [
             0.5,
             "#f7f7f7"
            ],
            [
             0.6,
             "#e6f5d0"
            ],
            [
             0.7,
             "#b8e186"
            ],
            [
             0.8,
             "#7fbc41"
            ],
            [
             0.9,
             "#4d9221"
            ],
            [
             1,
             "#276419"
            ]
           ],
           "sequential": [
            [
             0,
             "#0d0887"
            ],
            [
             0.1111111111111111,
             "#46039f"
            ],
            [
             0.2222222222222222,
             "#7201a8"
            ],
            [
             0.3333333333333333,
             "#9c179e"
            ],
            [
             0.4444444444444444,
             "#bd3786"
            ],
            [
             0.5555555555555556,
             "#d8576b"
            ],
            [
             0.6666666666666666,
             "#ed7953"
            ],
            [
             0.7777777777777778,
             "#fb9f3a"
            ],
            [
             0.8888888888888888,
             "#fdca26"
            ],
            [
             1,
             "#f0f921"
            ]
           ],
           "sequentialminus": [
            [
             0,
             "#0d0887"
            ],
            [
             0.1111111111111111,
             "#46039f"
            ],
            [
             0.2222222222222222,
             "#7201a8"
            ],
            [
             0.3333333333333333,
             "#9c179e"
            ],
            [
             0.4444444444444444,
             "#bd3786"
            ],
            [
             0.5555555555555556,
             "#d8576b"
            ],
            [
             0.6666666666666666,
             "#ed7953"
            ],
            [
             0.7777777777777778,
             "#fb9f3a"
            ],
            [
             0.8888888888888888,
             "#fdca26"
            ],
            [
             1,
             "#f0f921"
            ]
           ]
          },
          "colorway": [
           "#636efa",
           "#EF553B",
           "#00cc96",
           "#ab63fa",
           "#FFA15A",
           "#19d3f3",
           "#FF6692",
           "#B6E880",
           "#FF97FF",
           "#FECB52"
          ],
          "font": {
           "color": "#2a3f5f"
          },
          "geo": {
           "bgcolor": "white",
           "lakecolor": "white",
           "landcolor": "#E5ECF6",
           "showlakes": true,
           "showland": true,
           "subunitcolor": "white"
          },
          "hoverlabel": {
           "align": "left"
          },
          "hovermode": "closest",
          "mapbox": {
           "style": "light"
          },
          "paper_bgcolor": "white",
          "plot_bgcolor": "#E5ECF6",
          "polar": {
           "angularaxis": {
            "gridcolor": "white",
            "linecolor": "white",
            "ticks": ""
           },
           "bgcolor": "#E5ECF6",
           "radialaxis": {
            "gridcolor": "white",
            "linecolor": "white",
            "ticks": ""
           }
          },
          "scene": {
           "xaxis": {
            "backgroundcolor": "#E5ECF6",
            "gridcolor": "white",
            "gridwidth": 2,
            "linecolor": "white",
            "showbackground": true,
            "ticks": "",
            "zerolinecolor": "white"
           },
           "yaxis": {
            "backgroundcolor": "#E5ECF6",
            "gridcolor": "white",
            "gridwidth": 2,
            "linecolor": "white",
            "showbackground": true,
            "ticks": "",
            "zerolinecolor": "white"
           },
           "zaxis": {
            "backgroundcolor": "#E5ECF6",
            "gridcolor": "white",
            "gridwidth": 2,
            "linecolor": "white",
            "showbackground": true,
            "ticks": "",
            "zerolinecolor": "white"
           }
          },
          "shapedefaults": {
           "line": {
            "color": "#2a3f5f"
           }
          },
          "ternary": {
           "aaxis": {
            "gridcolor": "white",
            "linecolor": "white",
            "ticks": ""
           },
           "baxis": {
            "gridcolor": "white",
            "linecolor": "white",
            "ticks": ""
           },
           "bgcolor": "#E5ECF6",
           "caxis": {
            "gridcolor": "white",
            "linecolor": "white",
            "ticks": ""
           }
          },
          "title": {
           "x": 0.05
          },
          "xaxis": {
           "automargin": true,
           "gridcolor": "white",
           "linecolor": "white",
           "ticks": "",
           "title": {
            "standoff": 15
           },
           "zerolinecolor": "white",
           "zerolinewidth": 2
          },
          "yaxis": {
           "automargin": true,
           "gridcolor": "white",
           "linecolor": "white",
           "ticks": "",
           "title": {
            "standoff": 15
           },
           "zerolinecolor": "white",
           "zerolinewidth": 2
          }
         }
        },
        "xaxis": {
         "anchor": "y",
         "domain": [
          0,
          1
         ]
        },
        "xaxis2": {
         "anchor": "y2",
         "domain": [
          0,
          1
         ]
        },
        "xaxis3": {
         "anchor": "y3",
         "domain": [
          0,
          1
         ]
        },
        "yaxis": {
         "anchor": "x",
         "domain": [
          0.7777777777777778,
          1
         ]
        },
        "yaxis2": {
         "anchor": "x2",
         "domain": [
          0.3888888888888889,
          0.6111111111111112
         ]
        },
        "yaxis3": {
         "anchor": "x3",
         "domain": [
          0,
          0.22222222222222224
         ]
        }
       }
      }
     },
     "metadata": {},
     "output_type": "display_data"
    }
   ],
   "source": [
    "cols = [\"Trend\", \"Seasonal\", \"Residual\"]\n",
    "\n",
    "fig = make_subplots(rows=3, cols=1, subplot_titles=cols)\n",
    "\n",
    "for i, col in enumerate(cols):\n",
    "    fig.add_trace(\n",
    "        go.Scatter(x=GAP_df.index, y=GAP_df[col]),\n",
    "        row=i+1,\n",
    "        col=1\n",
    "    )\n",
    "\n",
    "fig.update_layout(showlegend=False)\n",
    "fig.show()"
   ]
  },
  {
   "cell_type": "markdown",
   "metadata": {},
   "source": [
    "From the decomposition, we can see that the trend is generally decreasing over time, indicating a long-term decrease in global active power usage. The seasonal component shows a clear pattern of higher usage in winter months and lower usage in summer months, which is consistent with the expectation that households use more energy for heating in winter. The residuals show some random fluctuations around zero, indicating that there are no significant outliers or patterns left after accounting for trend and seasonality."
   ]
  },
  {
   "cell_type": "markdown",
   "metadata": {},
   "source": [
    "# Forecasting\n",
    " We can use the trend and seasonal components to forecast future values of the time series."
   ]
  },
  {
   "cell_type": "markdown",
   "metadata": {},
   "source": [
    "We will be looking at multistep(long-term) forecasts, first we need to see  check if our series is stationary series, stationary series  is where the statistical properties  of the series (such as mean and variance) dont change over time."
   ]
  },
  {
   "cell_type": "markdown",
   "metadata": {},
   "source": [
    "### Checking for stationarity\n",
    " We will be looking at multistep(long-term) forecasts, first we need to:\n",
    "\n",
    "*Visual inspection:** Plot the series. Is there an obvious trend or seasonality?\n",
    "\n",
    "**Summary statistics:** Compare mean and variance across different time windows.\n",
    "\n",
    "*Formal tests:**\n",
    "\n",
    "* ADF Test (Augmented Dickey-Fuller Test)\n",
    "\n",
    "* KPSS Test\n",
    "\n",
    "* These give a statistical p-value for stationarity.\n",
    "\n"
   ]
  },
  {
   "cell_type": "code",
   "execution_count": 20,
   "metadata": {},
   "outputs": [
    {
     "data": {
      "text/html": [
       "<div>\n",
       "<style scoped>\n",
       "    .dataframe tbody tr th:only-of-type {\n",
       "        vertical-align: middle;\n",
       "    }\n",
       "\n",
       "    .dataframe tbody tr th {\n",
       "        vertical-align: top;\n",
       "    }\n",
       "\n",
       "    .dataframe thead th {\n",
       "        text-align: right;\n",
       "    }\n",
       "</style>\n",
       "<table border=\"1\" class=\"dataframe\">\n",
       "  <thead>\n",
       "    <tr style=\"text-align: right;\">\n",
       "      <th></th>\n",
       "      <th>Global_active_power</th>\n",
       "      <th>seasonal_difference</th>\n",
       "    </tr>\n",
       "    <tr>\n",
       "      <th>DateTime</th>\n",
       "      <th></th>\n",
       "      <th></th>\n",
       "    </tr>\n",
       "  </thead>\n",
       "  <tbody>\n",
       "    <tr>\n",
       "      <th>2006-12-01</th>\n",
       "      <td>1.90</td>\n",
       "      <td>NaN</td>\n",
       "    </tr>\n",
       "    <tr>\n",
       "      <th>2007-01-01</th>\n",
       "      <td>1.55</td>\n",
       "      <td>NaN</td>\n",
       "    </tr>\n",
       "    <tr>\n",
       "      <th>2007-02-01</th>\n",
       "      <td>1.40</td>\n",
       "      <td>NaN</td>\n",
       "    </tr>\n",
       "    <tr>\n",
       "      <th>2007-03-01</th>\n",
       "      <td>1.32</td>\n",
       "      <td>NaN</td>\n",
       "    </tr>\n",
       "    <tr>\n",
       "      <th>2007-04-01</th>\n",
       "      <td>0.89</td>\n",
       "      <td>NaN</td>\n",
       "    </tr>\n",
       "    <tr>\n",
       "      <th>2007-05-01</th>\n",
       "      <td>0.99</td>\n",
       "      <td>NaN</td>\n",
       "    </tr>\n",
       "    <tr>\n",
       "      <th>2007-06-01</th>\n",
       "      <td>0.83</td>\n",
       "      <td>NaN</td>\n",
       "    </tr>\n",
       "    <tr>\n",
       "      <th>2007-07-01</th>\n",
       "      <td>0.67</td>\n",
       "      <td>NaN</td>\n",
       "    </tr>\n",
       "    <tr>\n",
       "      <th>2007-08-01</th>\n",
       "      <td>0.76</td>\n",
       "      <td>NaN</td>\n",
       "    </tr>\n",
       "    <tr>\n",
       "      <th>2007-09-01</th>\n",
       "      <td>0.97</td>\n",
       "      <td>NaN</td>\n",
       "    </tr>\n",
       "    <tr>\n",
       "      <th>2007-10-01</th>\n",
       "      <td>1.10</td>\n",
       "      <td>NaN</td>\n",
       "    </tr>\n",
       "    <tr>\n",
       "      <th>2007-11-01</th>\n",
       "      <td>1.29</td>\n",
       "      <td>NaN</td>\n",
       "    </tr>\n",
       "    <tr>\n",
       "      <th>2007-12-01</th>\n",
       "      <td>1.63</td>\n",
       "      <td>-0.27</td>\n",
       "    </tr>\n",
       "    <tr>\n",
       "      <th>2008-01-01</th>\n",
       "      <td>1.46</td>\n",
       "      <td>-0.09</td>\n",
       "    </tr>\n",
       "    <tr>\n",
       "      <th>2008-02-01</th>\n",
       "      <td>1.18</td>\n",
       "      <td>-0.22</td>\n",
       "    </tr>\n",
       "    <tr>\n",
       "      <th>2008-03-01</th>\n",
       "      <td>1.25</td>\n",
       "      <td>-0.07</td>\n",
       "    </tr>\n",
       "  </tbody>\n",
       "</table>\n",
       "</div>"
      ],
      "text/plain": [
       "            Global_active_power  seasonal_difference\n",
       "DateTime                                            \n",
       "2006-12-01                 1.90                  NaN\n",
       "2007-01-01                 1.55                  NaN\n",
       "2007-02-01                 1.40                  NaN\n",
       "2007-03-01                 1.32                  NaN\n",
       "2007-04-01                 0.89                  NaN\n",
       "2007-05-01                 0.99                  NaN\n",
       "2007-06-01                 0.83                  NaN\n",
       "2007-07-01                 0.67                  NaN\n",
       "2007-08-01                 0.76                  NaN\n",
       "2007-09-01                 0.97                  NaN\n",
       "2007-10-01                 1.10                  NaN\n",
       "2007-11-01                 1.29                  NaN\n",
       "2007-12-01                 1.63                -0.27\n",
       "2008-01-01                 1.46                -0.09\n",
       "2008-02-01                 1.18                -0.22\n",
       "2008-03-01                 1.25                -0.07"
      ]
     },
     "execution_count": 20,
     "metadata": {},
     "output_type": "execute_result"
    }
   ],
   "source": [
    "GAP_df[\"seasonal_difference\"] = GAP_df[\"Global_active_power\"].diff(12)\n",
    "GAP_df[[\"Global_active_power\", \"seasonal_difference\"]].head(16)"
   ]
  },
  {
   "cell_type": "code",
   "execution_count": 41,
   "metadata": {},
   "outputs": [
    {
     "data": {
      "text/html": [
       "<div>\n",
       "<style scoped>\n",
       "    .dataframe tbody tr th:only-of-type {\n",
       "        vertical-align: middle;\n",
       "    }\n",
       "\n",
       "    .dataframe tbody tr th {\n",
       "        vertical-align: top;\n",
       "    }\n",
       "\n",
       "    .dataframe thead th {\n",
       "        text-align: right;\n",
       "    }\n",
       "</style>\n",
       "<table border=\"1\" class=\"dataframe\">\n",
       "  <thead>\n",
       "    <tr style=\"text-align: right;\">\n",
       "      <th></th>\n",
       "      <th>Global_active_power</th>\n",
       "      <th>Trend</th>\n",
       "      <th>Seasonal</th>\n",
       "      <th>Residual</th>\n",
       "      <th>seasonal_difference</th>\n",
       "    </tr>\n",
       "    <tr>\n",
       "      <th>DateTime</th>\n",
       "      <th></th>\n",
       "      <th></th>\n",
       "      <th></th>\n",
       "      <th></th>\n",
       "      <th></th>\n",
       "    </tr>\n",
       "  </thead>\n",
       "  <tbody>\n",
       "    <tr>\n",
       "      <th>2006-12-01</th>\n",
       "      <td>1.90</td>\n",
       "      <td>NaN</td>\n",
       "      <td>0.33</td>\n",
       "      <td>NaN</td>\n",
       "      <td>NaN</td>\n",
       "    </tr>\n",
       "    <tr>\n",
       "      <th>2007-01-01</th>\n",
       "      <td>1.55</td>\n",
       "      <td>NaN</td>\n",
       "      <td>0.34</td>\n",
       "      <td>NaN</td>\n",
       "      <td>NaN</td>\n",
       "    </tr>\n",
       "    <tr>\n",
       "      <th>2007-02-01</th>\n",
       "      <td>1.40</td>\n",
       "      <td>NaN</td>\n",
       "      <td>0.18</td>\n",
       "      <td>NaN</td>\n",
       "      <td>NaN</td>\n",
       "    </tr>\n",
       "    <tr>\n",
       "      <th>2007-03-01</th>\n",
       "      <td>1.32</td>\n",
       "      <td>NaN</td>\n",
       "      <td>0.11</td>\n",
       "      <td>NaN</td>\n",
       "      <td>NaN</td>\n",
       "    </tr>\n",
       "    <tr>\n",
       "      <th>2007-04-01</th>\n",
       "      <td>0.89</td>\n",
       "      <td>NaN</td>\n",
       "      <td>0.01</td>\n",
       "      <td>NaN</td>\n",
       "      <td>NaN</td>\n",
       "    </tr>\n",
       "    <tr>\n",
       "      <th>2007-05-01</th>\n",
       "      <td>0.99</td>\n",
       "      <td>NaN</td>\n",
       "      <td>-0.04</td>\n",
       "      <td>NaN</td>\n",
       "      <td>NaN</td>\n",
       "    </tr>\n",
       "    <tr>\n",
       "      <th>2007-06-01</th>\n",
       "      <td>0.83</td>\n",
       "      <td>1.13</td>\n",
       "      <td>-0.21</td>\n",
       "      <td>-0.09</td>\n",
       "      <td>NaN</td>\n",
       "    </tr>\n",
       "    <tr>\n",
       "      <th>2007-07-01</th>\n",
       "      <td>0.67</td>\n",
       "      <td>1.11</td>\n",
       "      <td>-0.39</td>\n",
       "      <td>-0.05</td>\n",
       "      <td>NaN</td>\n",
       "    </tr>\n",
       "    <tr>\n",
       "      <th>2007-08-01</th>\n",
       "      <td>0.76</td>\n",
       "      <td>1.10</td>\n",
       "      <td>-0.52</td>\n",
       "      <td>0.18</td>\n",
       "      <td>NaN</td>\n",
       "    </tr>\n",
       "    <tr>\n",
       "      <th>2007-09-01</th>\n",
       "      <td>0.97</td>\n",
       "      <td>1.09</td>\n",
       "      <td>-0.10</td>\n",
       "      <td>-0.02</td>\n",
       "      <td>NaN</td>\n",
       "    </tr>\n",
       "    <tr>\n",
       "      <th>2007-10-01</th>\n",
       "      <td>1.10</td>\n",
       "      <td>1.09</td>\n",
       "      <td>0.05</td>\n",
       "      <td>-0.04</td>\n",
       "      <td>NaN</td>\n",
       "    </tr>\n",
       "    <tr>\n",
       "      <th>2007-11-01</th>\n",
       "      <td>1.29</td>\n",
       "      <td>1.11</td>\n",
       "      <td>0.23</td>\n",
       "      <td>-0.04</td>\n",
       "      <td>NaN</td>\n",
       "    </tr>\n",
       "    <tr>\n",
       "      <th>2007-12-01</th>\n",
       "      <td>1.63</td>\n",
       "      <td>1.11</td>\n",
       "      <td>0.33</td>\n",
       "      <td>0.18</td>\n",
       "      <td>-0.27</td>\n",
       "    </tr>\n",
       "    <tr>\n",
       "      <th>2008-01-01</th>\n",
       "      <td>1.46</td>\n",
       "      <td>1.13</td>\n",
       "      <td>0.34</td>\n",
       "      <td>-0.01</td>\n",
       "      <td>-0.09</td>\n",
       "    </tr>\n",
       "    <tr>\n",
       "      <th>2008-02-01</th>\n",
       "      <td>1.18</td>\n",
       "      <td>1.11</td>\n",
       "      <td>0.18</td>\n",
       "      <td>-0.11</td>\n",
       "      <td>-0.22</td>\n",
       "    </tr>\n",
       "    <tr>\n",
       "      <th>2008-03-01</th>\n",
       "      <td>1.25</td>\n",
       "      <td>1.09</td>\n",
       "      <td>0.11</td>\n",
       "      <td>0.04</td>\n",
       "      <td>-0.07</td>\n",
       "    </tr>\n",
       "    <tr>\n",
       "      <th>2008-04-01</th>\n",
       "      <td>1.12</td>\n",
       "      <td>1.09</td>\n",
       "      <td>0.01</td>\n",
       "      <td>0.01</td>\n",
       "      <td>0.22</td>\n",
       "    </tr>\n",
       "    <tr>\n",
       "      <th>2008-05-01</th>\n",
       "      <td>1.02</td>\n",
       "      <td>1.10</td>\n",
       "      <td>-0.04</td>\n",
       "      <td>-0.03</td>\n",
       "      <td>0.04</td>\n",
       "    </tr>\n",
       "    <tr>\n",
       "      <th>2008-06-01</th>\n",
       "      <td>0.99</td>\n",
       "      <td>1.09</td>\n",
       "      <td>-0.21</td>\n",
       "      <td>0.11</td>\n",
       "      <td>0.17</td>\n",
       "    </tr>\n",
       "    <tr>\n",
       "      <th>2008-07-01</th>\n",
       "      <td>0.79</td>\n",
       "      <td>1.07</td>\n",
       "      <td>-0.39</td>\n",
       "      <td>0.12</td>\n",
       "      <td>0.13</td>\n",
       "    </tr>\n",
       "    <tr>\n",
       "      <th>2008-08-01</th>\n",
       "      <td>0.28</td>\n",
       "      <td>1.07</td>\n",
       "      <td>-0.52</td>\n",
       "      <td>-0.28</td>\n",
       "      <td>-0.49</td>\n",
       "    </tr>\n",
       "    <tr>\n",
       "      <th>2008-09-01</th>\n",
       "      <td>0.99</td>\n",
       "      <td>1.07</td>\n",
       "      <td>-0.10</td>\n",
       "      <td>0.01</td>\n",
       "      <td>0.02</td>\n",
       "    </tr>\n",
       "    <tr>\n",
       "      <th>2008-10-01</th>\n",
       "      <td>1.14</td>\n",
       "      <td>1.07</td>\n",
       "      <td>0.05</td>\n",
       "      <td>0.02</td>\n",
       "      <td>0.03</td>\n",
       "    </tr>\n",
       "    <tr>\n",
       "      <th>2008-11-01</th>\n",
       "      <td>1.39</td>\n",
       "      <td>1.07</td>\n",
       "      <td>0.23</td>\n",
       "      <td>0.08</td>\n",
       "      <td>0.09</td>\n",
       "    </tr>\n",
       "    <tr>\n",
       "      <th>2008-12-01</th>\n",
       "      <td>1.28</td>\n",
       "      <td>1.07</td>\n",
       "      <td>0.33</td>\n",
       "      <td>-0.13</td>\n",
       "      <td>-0.35</td>\n",
       "    </tr>\n",
       "    <tr>\n",
       "      <th>2009-01-01</th>\n",
       "      <td>1.41</td>\n",
       "      <td>1.05</td>\n",
       "      <td>0.34</td>\n",
       "      <td>0.01</td>\n",
       "      <td>-0.05</td>\n",
       "    </tr>\n",
       "    <tr>\n",
       "      <th>2009-02-01</th>\n",
       "      <td>1.25</td>\n",
       "      <td>1.06</td>\n",
       "      <td>0.18</td>\n",
       "      <td>0.01</td>\n",
       "      <td>0.07</td>\n",
       "    </tr>\n",
       "    <tr>\n",
       "      <th>2009-03-01</th>\n",
       "      <td>1.23</td>\n",
       "      <td>1.08</td>\n",
       "      <td>0.11</td>\n",
       "      <td>0.03</td>\n",
       "      <td>-0.02</td>\n",
       "    </tr>\n",
       "    <tr>\n",
       "      <th>2009-04-01</th>\n",
       "      <td>1.14</td>\n",
       "      <td>1.08</td>\n",
       "      <td>0.01</td>\n",
       "      <td>0.05</td>\n",
       "      <td>0.02</td>\n",
       "    </tr>\n",
       "    <tr>\n",
       "      <th>2009-05-01</th>\n",
       "      <td>1.01</td>\n",
       "      <td>1.07</td>\n",
       "      <td>-0.04</td>\n",
       "      <td>-0.02</td>\n",
       "      <td>-0.01</td>\n",
       "    </tr>\n",
       "    <tr>\n",
       "      <th>2009-06-01</th>\n",
       "      <td>0.84</td>\n",
       "      <td>1.07</td>\n",
       "      <td>-0.21</td>\n",
       "      <td>-0.02</td>\n",
       "      <td>-0.15</td>\n",
       "    </tr>\n",
       "    <tr>\n",
       "      <th>2009-07-01</th>\n",
       "      <td>0.62</td>\n",
       "      <td>1.08</td>\n",
       "      <td>-0.39</td>\n",
       "      <td>-0.07</td>\n",
       "      <td>-0.18</td>\n",
       "    </tr>\n",
       "    <tr>\n",
       "      <th>2009-08-01</th>\n",
       "      <td>0.66</td>\n",
       "      <td>1.08</td>\n",
       "      <td>-0.52</td>\n",
       "      <td>0.10</td>\n",
       "      <td>0.39</td>\n",
       "    </tr>\n",
       "    <tr>\n",
       "      <th>2009-09-01</th>\n",
       "      <td>0.99</td>\n",
       "      <td>1.09</td>\n",
       "      <td>-0.10</td>\n",
       "      <td>0.00</td>\n",
       "      <td>-0.00</td>\n",
       "    </tr>\n",
       "    <tr>\n",
       "      <th>2009-10-01</th>\n",
       "      <td>1.14</td>\n",
       "      <td>1.08</td>\n",
       "      <td>0.05</td>\n",
       "      <td>0.02</td>\n",
       "      <td>0.01</td>\n",
       "    </tr>\n",
       "    <tr>\n",
       "      <th>2009-11-01</th>\n",
       "      <td>1.27</td>\n",
       "      <td>1.08</td>\n",
       "      <td>0.23</td>\n",
       "      <td>-0.04</td>\n",
       "      <td>-0.11</td>\n",
       "    </tr>\n",
       "    <tr>\n",
       "      <th>2009-12-01</th>\n",
       "      <td>1.36</td>\n",
       "      <td>1.08</td>\n",
       "      <td>0.33</td>\n",
       "      <td>-0.05</td>\n",
       "      <td>0.09</td>\n",
       "    </tr>\n",
       "    <tr>\n",
       "      <th>2010-01-01</th>\n",
       "      <td>1.43</td>\n",
       "      <td>1.09</td>\n",
       "      <td>0.34</td>\n",
       "      <td>-0.01</td>\n",
       "      <td>0.02</td>\n",
       "    </tr>\n",
       "    <tr>\n",
       "      <th>2010-02-01</th>\n",
       "      <td>1.38</td>\n",
       "      <td>1.10</td>\n",
       "      <td>0.18</td>\n",
       "      <td>0.10</td>\n",
       "      <td>0.13</td>\n",
       "    </tr>\n",
       "    <tr>\n",
       "      <th>2010-03-01</th>\n",
       "      <td>1.13</td>\n",
       "      <td>1.09</td>\n",
       "      <td>0.11</td>\n",
       "      <td>-0.08</td>\n",
       "      <td>-0.10</td>\n",
       "    </tr>\n",
       "    <tr>\n",
       "      <th>2010-04-01</th>\n",
       "      <td>1.03</td>\n",
       "      <td>1.09</td>\n",
       "      <td>0.01</td>\n",
       "      <td>-0.07</td>\n",
       "      <td>-0.11</td>\n",
       "    </tr>\n",
       "    <tr>\n",
       "      <th>2010-05-01</th>\n",
       "      <td>1.10</td>\n",
       "      <td>1.09</td>\n",
       "      <td>-0.04</td>\n",
       "      <td>0.05</td>\n",
       "      <td>0.08</td>\n",
       "    </tr>\n",
       "    <tr>\n",
       "      <th>2010-06-01</th>\n",
       "      <td>0.97</td>\n",
       "      <td>NaN</td>\n",
       "      <td>-0.21</td>\n",
       "      <td>NaN</td>\n",
       "      <td>0.13</td>\n",
       "    </tr>\n",
       "    <tr>\n",
       "      <th>2010-07-01</th>\n",
       "      <td>0.72</td>\n",
       "      <td>NaN</td>\n",
       "      <td>-0.39</td>\n",
       "      <td>NaN</td>\n",
       "      <td>0.10</td>\n",
       "    </tr>\n",
       "    <tr>\n",
       "      <th>2010-08-01</th>\n",
       "      <td>0.59</td>\n",
       "      <td>NaN</td>\n",
       "      <td>-0.52</td>\n",
       "      <td>NaN</td>\n",
       "      <td>-0.07</td>\n",
       "    </tr>\n",
       "    <tr>\n",
       "      <th>2010-09-01</th>\n",
       "      <td>0.96</td>\n",
       "      <td>NaN</td>\n",
       "      <td>-0.10</td>\n",
       "      <td>NaN</td>\n",
       "      <td>-0.03</td>\n",
       "    </tr>\n",
       "    <tr>\n",
       "      <th>2010-10-01</th>\n",
       "      <td>1.16</td>\n",
       "      <td>NaN</td>\n",
       "      <td>0.05</td>\n",
       "      <td>NaN</td>\n",
       "      <td>0.02</td>\n",
       "    </tr>\n",
       "    <tr>\n",
       "      <th>2010-11-01</th>\n",
       "      <td>1.20</td>\n",
       "      <td>NaN</td>\n",
       "      <td>0.23</td>\n",
       "      <td>NaN</td>\n",
       "      <td>-0.08</td>\n",
       "    </tr>\n",
       "  </tbody>\n",
       "</table>\n",
       "</div>"
      ],
      "text/plain": [
       "            Global_active_power  Trend  Seasonal  Residual  \\\n",
       "DateTime                                                     \n",
       "2006-12-01                 1.90    NaN      0.33       NaN   \n",
       "2007-01-01                 1.55    NaN      0.34       NaN   \n",
       "2007-02-01                 1.40    NaN      0.18       NaN   \n",
       "2007-03-01                 1.32    NaN      0.11       NaN   \n",
       "2007-04-01                 0.89    NaN      0.01       NaN   \n",
       "2007-05-01                 0.99    NaN     -0.04       NaN   \n",
       "2007-06-01                 0.83   1.13     -0.21     -0.09   \n",
       "2007-07-01                 0.67   1.11     -0.39     -0.05   \n",
       "2007-08-01                 0.76   1.10     -0.52      0.18   \n",
       "2007-09-01                 0.97   1.09     -0.10     -0.02   \n",
       "2007-10-01                 1.10   1.09      0.05     -0.04   \n",
       "2007-11-01                 1.29   1.11      0.23     -0.04   \n",
       "2007-12-01                 1.63   1.11      0.33      0.18   \n",
       "2008-01-01                 1.46   1.13      0.34     -0.01   \n",
       "2008-02-01                 1.18   1.11      0.18     -0.11   \n",
       "2008-03-01                 1.25   1.09      0.11      0.04   \n",
       "2008-04-01                 1.12   1.09      0.01      0.01   \n",
       "2008-05-01                 1.02   1.10     -0.04     -0.03   \n",
       "2008-06-01                 0.99   1.09     -0.21      0.11   \n",
       "2008-07-01                 0.79   1.07     -0.39      0.12   \n",
       "2008-08-01                 0.28   1.07     -0.52     -0.28   \n",
       "2008-09-01                 0.99   1.07     -0.10      0.01   \n",
       "2008-10-01                 1.14   1.07      0.05      0.02   \n",
       "2008-11-01                 1.39   1.07      0.23      0.08   \n",
       "2008-12-01                 1.28   1.07      0.33     -0.13   \n",
       "2009-01-01                 1.41   1.05      0.34      0.01   \n",
       "2009-02-01                 1.25   1.06      0.18      0.01   \n",
       "2009-03-01                 1.23   1.08      0.11      0.03   \n",
       "2009-04-01                 1.14   1.08      0.01      0.05   \n",
       "2009-05-01                 1.01   1.07     -0.04     -0.02   \n",
       "2009-06-01                 0.84   1.07     -0.21     -0.02   \n",
       "2009-07-01                 0.62   1.08     -0.39     -0.07   \n",
       "2009-08-01                 0.66   1.08     -0.52      0.10   \n",
       "2009-09-01                 0.99   1.09     -0.10      0.00   \n",
       "2009-10-01                 1.14   1.08      0.05      0.02   \n",
       "2009-11-01                 1.27   1.08      0.23     -0.04   \n",
       "2009-12-01                 1.36   1.08      0.33     -0.05   \n",
       "2010-01-01                 1.43   1.09      0.34     -0.01   \n",
       "2010-02-01                 1.38   1.10      0.18      0.10   \n",
       "2010-03-01                 1.13   1.09      0.11     -0.08   \n",
       "2010-04-01                 1.03   1.09      0.01     -0.07   \n",
       "2010-05-01                 1.10   1.09     -0.04      0.05   \n",
       "2010-06-01                 0.97    NaN     -0.21       NaN   \n",
       "2010-07-01                 0.72    NaN     -0.39       NaN   \n",
       "2010-08-01                 0.59    NaN     -0.52       NaN   \n",
       "2010-09-01                 0.96    NaN     -0.10       NaN   \n",
       "2010-10-01                 1.16    NaN      0.05       NaN   \n",
       "2010-11-01                 1.20    NaN      0.23       NaN   \n",
       "\n",
       "            seasonal_difference  \n",
       "DateTime                         \n",
       "2006-12-01                  NaN  \n",
       "2007-01-01                  NaN  \n",
       "2007-02-01                  NaN  \n",
       "2007-03-01                  NaN  \n",
       "2007-04-01                  NaN  \n",
       "2007-05-01                  NaN  \n",
       "2007-06-01                  NaN  \n",
       "2007-07-01                  NaN  \n",
       "2007-08-01                  NaN  \n",
       "2007-09-01                  NaN  \n",
       "2007-10-01                  NaN  \n",
       "2007-11-01                  NaN  \n",
       "2007-12-01                -0.27  \n",
       "2008-01-01                -0.09  \n",
       "2008-02-01                -0.22  \n",
       "2008-03-01                -0.07  \n",
       "2008-04-01                 0.22  \n",
       "2008-05-01                 0.04  \n",
       "2008-06-01                 0.17  \n",
       "2008-07-01                 0.13  \n",
       "2008-08-01                -0.49  \n",
       "2008-09-01                 0.02  \n",
       "2008-10-01                 0.03  \n",
       "2008-11-01                 0.09  \n",
       "2008-12-01                -0.35  \n",
       "2009-01-01                -0.05  \n",
       "2009-02-01                 0.07  \n",
       "2009-03-01                -0.02  \n",
       "2009-04-01                 0.02  \n",
       "2009-05-01                -0.01  \n",
       "2009-06-01                -0.15  \n",
       "2009-07-01                -0.18  \n",
       "2009-08-01                 0.39  \n",
       "2009-09-01                -0.00  \n",
       "2009-10-01                 0.01  \n",
       "2009-11-01                -0.11  \n",
       "2009-12-01                 0.09  \n",
       "2010-01-01                 0.02  \n",
       "2010-02-01                 0.13  \n",
       "2010-03-01                -0.10  \n",
       "2010-04-01                -0.11  \n",
       "2010-05-01                 0.08  \n",
       "2010-06-01                 0.13  \n",
       "2010-07-01                 0.10  \n",
       "2010-08-01                -0.07  \n",
       "2010-09-01                -0.03  \n",
       "2010-10-01                 0.02  \n",
       "2010-11-01                -0.08  "
      ]
     },
     "execution_count": 41,
     "metadata": {},
     "output_type": "execute_result"
    }
   ],
   "source": [
    "GAP_df"
   ]
  },
  {
   "cell_type": "code",
   "execution_count": 23,
   "metadata": {},
   "outputs": [
    {
     "data": {
      "application/vnd.plotly.v1+json": {
       "config": {
        "plotlyServerURL": "https://plot.ly"
       },
       "data": [
        {
         "hovertemplate": "DateTime=%{x}<br>seasonal_difference=%{y}<extra></extra>",
         "legendgroup": "",
         "line": {
          "color": "#636efa",
          "dash": "solid"
         },
         "marker": {
          "symbol": "circle"
         },
         "mode": "lines",
         "name": "",
         "orientation": "v",
         "showlegend": false,
         "type": "scatter",
         "x": [
          "2006-12-01T00:00:00",
          "2007-01-01T00:00:00",
          "2007-02-01T00:00:00",
          "2007-03-01T00:00:00",
          "2007-04-01T00:00:00",
          "2007-05-01T00:00:00",
          "2007-06-01T00:00:00",
          "2007-07-01T00:00:00",
          "2007-08-01T00:00:00",
          "2007-09-01T00:00:00",
          "2007-10-01T00:00:00",
          "2007-11-01T00:00:00",
          "2007-12-01T00:00:00",
          "2008-01-01T00:00:00",
          "2008-02-01T00:00:00",
          "2008-03-01T00:00:00",
          "2008-04-01T00:00:00",
          "2008-05-01T00:00:00",
          "2008-06-01T00:00:00",
          "2008-07-01T00:00:00",
          "2008-08-01T00:00:00",
          "2008-09-01T00:00:00",
          "2008-10-01T00:00:00",
          "2008-11-01T00:00:00",
          "2008-12-01T00:00:00",
          "2009-01-01T00:00:00",
          "2009-02-01T00:00:00",
          "2009-03-01T00:00:00",
          "2009-04-01T00:00:00",
          "2009-05-01T00:00:00",
          "2009-06-01T00:00:00",
          "2009-07-01T00:00:00",
          "2009-08-01T00:00:00",
          "2009-09-01T00:00:00",
          "2009-10-01T00:00:00",
          "2009-11-01T00:00:00",
          "2009-12-01T00:00:00",
          "2010-01-01T00:00:00",
          "2010-02-01T00:00:00",
          "2010-03-01T00:00:00",
          "2010-04-01T00:00:00",
          "2010-05-01T00:00:00",
          "2010-06-01T00:00:00",
          "2010-07-01T00:00:00",
          "2010-08-01T00:00:00",
          "2010-09-01T00:00:00",
          "2010-10-01T00:00:00",
          "2010-11-01T00:00:00"
         ],
         "xaxis": "x",
         "y": [
          null,
          null,
          null,
          null,
          null,
          null,
          null,
          null,
          null,
          null,
          null,
          null,
          -0.2748211719637357,
          -0.08611362337680695,
          -0.2196990494562645,
          -0.07329012746701324,
          0.22478309157512244,
          0.03841927782732002,
          0.16728206199755458,
          0.12741381064598223,
          -0.4876980089622643,
          0.018362207492459315,
          0.03285759899843632,
          0.09259283903808724,
          -0.3512846333668165,
          -0.04971827325880951,
          0.06618332954432993,
          -0.01860214756703482,
          0.02471790231200699,
          -0.011425339138552593,
          -0.15333995164237302,
          -0.1766597463645786,
          0.3881305173693313,
          -0.0008395249412896932,
          0.007717819115914404,
          -0.11232238076323964,
          0.08923128137827208,
          0.02032287756026041,
          0.12828678990548603,
          -0.09665947295047839,
          -0.11339477047939406,
          0.08242862592576139,
          0.12885840380306135,
          0.10294705610190857,
          -0.07384055337602513,
          -0.030398414641208293,
          0.01891247563789511,
          -0.07788897623779922
         ],
         "yaxis": "y"
        }
       ],
       "layout": {
        "legend": {
         "tracegroupgap": 0
        },
        "margin": {
         "t": 60
        },
        "template": {
         "data": {
          "bar": [
           {
            "error_x": {
             "color": "#2a3f5f"
            },
            "error_y": {
             "color": "#2a3f5f"
            },
            "marker": {
             "line": {
              "color": "#E5ECF6",
              "width": 0.5
             },
             "pattern": {
              "fillmode": "overlay",
              "size": 10,
              "solidity": 0.2
             }
            },
            "type": "bar"
           }
          ],
          "barpolar": [
           {
            "marker": {
             "line": {
              "color": "#E5ECF6",
              "width": 0.5
             },
             "pattern": {
              "fillmode": "overlay",
              "size": 10,
              "solidity": 0.2
             }
            },
            "type": "barpolar"
           }
          ],
          "carpet": [
           {
            "aaxis": {
             "endlinecolor": "#2a3f5f",
             "gridcolor": "white",
             "linecolor": "white",
             "minorgridcolor": "white",
             "startlinecolor": "#2a3f5f"
            },
            "baxis": {
             "endlinecolor": "#2a3f5f",
             "gridcolor": "white",
             "linecolor": "white",
             "minorgridcolor": "white",
             "startlinecolor": "#2a3f5f"
            },
            "type": "carpet"
           }
          ],
          "choropleth": [
           {
            "colorbar": {
             "outlinewidth": 0,
             "ticks": ""
            },
            "type": "choropleth"
           }
          ],
          "contour": [
           {
            "colorbar": {
             "outlinewidth": 0,
             "ticks": ""
            },
            "colorscale": [
             [
              0,
              "#0d0887"
             ],
             [
              0.1111111111111111,
              "#46039f"
             ],
             [
              0.2222222222222222,
              "#7201a8"
             ],
             [
              0.3333333333333333,
              "#9c179e"
             ],
             [
              0.4444444444444444,
              "#bd3786"
             ],
             [
              0.5555555555555556,
              "#d8576b"
             ],
             [
              0.6666666666666666,
              "#ed7953"
             ],
             [
              0.7777777777777778,
              "#fb9f3a"
             ],
             [
              0.8888888888888888,
              "#fdca26"
             ],
             [
              1,
              "#f0f921"
             ]
            ],
            "type": "contour"
           }
          ],
          "contourcarpet": [
           {
            "colorbar": {
             "outlinewidth": 0,
             "ticks": ""
            },
            "type": "contourcarpet"
           }
          ],
          "heatmap": [
           {
            "colorbar": {
             "outlinewidth": 0,
             "ticks": ""
            },
            "colorscale": [
             [
              0,
              "#0d0887"
             ],
             [
              0.1111111111111111,
              "#46039f"
             ],
             [
              0.2222222222222222,
              "#7201a8"
             ],
             [
              0.3333333333333333,
              "#9c179e"
             ],
             [
              0.4444444444444444,
              "#bd3786"
             ],
             [
              0.5555555555555556,
              "#d8576b"
             ],
             [
              0.6666666666666666,
              "#ed7953"
             ],
             [
              0.7777777777777778,
              "#fb9f3a"
             ],
             [
              0.8888888888888888,
              "#fdca26"
             ],
             [
              1,
              "#f0f921"
             ]
            ],
            "type": "heatmap"
           }
          ],
          "heatmapgl": [
           {
            "colorbar": {
             "outlinewidth": 0,
             "ticks": ""
            },
            "colorscale": [
             [
              0,
              "#0d0887"
             ],
             [
              0.1111111111111111,
              "#46039f"
             ],
             [
              0.2222222222222222,
              "#7201a8"
             ],
             [
              0.3333333333333333,
              "#9c179e"
             ],
             [
              0.4444444444444444,
              "#bd3786"
             ],
             [
              0.5555555555555556,
              "#d8576b"
             ],
             [
              0.6666666666666666,
              "#ed7953"
             ],
             [
              0.7777777777777778,
              "#fb9f3a"
             ],
             [
              0.8888888888888888,
              "#fdca26"
             ],
             [
              1,
              "#f0f921"
             ]
            ],
            "type": "heatmapgl"
           }
          ],
          "histogram": [
           {
            "marker": {
             "pattern": {
              "fillmode": "overlay",
              "size": 10,
              "solidity": 0.2
             }
            },
            "type": "histogram"
           }
          ],
          "histogram2d": [
           {
            "colorbar": {
             "outlinewidth": 0,
             "ticks": ""
            },
            "colorscale": [
             [
              0,
              "#0d0887"
             ],
             [
              0.1111111111111111,
              "#46039f"
             ],
             [
              0.2222222222222222,
              "#7201a8"
             ],
             [
              0.3333333333333333,
              "#9c179e"
             ],
             [
              0.4444444444444444,
              "#bd3786"
             ],
             [
              0.5555555555555556,
              "#d8576b"
             ],
             [
              0.6666666666666666,
              "#ed7953"
             ],
             [
              0.7777777777777778,
              "#fb9f3a"
             ],
             [
              0.8888888888888888,
              "#fdca26"
             ],
             [
              1,
              "#f0f921"
             ]
            ],
            "type": "histogram2d"
           }
          ],
          "histogram2dcontour": [
           {
            "colorbar": {
             "outlinewidth": 0,
             "ticks": ""
            },
            "colorscale": [
             [
              0,
              "#0d0887"
             ],
             [
              0.1111111111111111,
              "#46039f"
             ],
             [
              0.2222222222222222,
              "#7201a8"
             ],
             [
              0.3333333333333333,
              "#9c179e"
             ],
             [
              0.4444444444444444,
              "#bd3786"
             ],
             [
              0.5555555555555556,
              "#d8576b"
             ],
             [
              0.6666666666666666,
              "#ed7953"
             ],
             [
              0.7777777777777778,
              "#fb9f3a"
             ],
             [
              0.8888888888888888,
              "#fdca26"
             ],
             [
              1,
              "#f0f921"
             ]
            ],
            "type": "histogram2dcontour"
           }
          ],
          "mesh3d": [
           {
            "colorbar": {
             "outlinewidth": 0,
             "ticks": ""
            },
            "type": "mesh3d"
           }
          ],
          "parcoords": [
           {
            "line": {
             "colorbar": {
              "outlinewidth": 0,
              "ticks": ""
             }
            },
            "type": "parcoords"
           }
          ],
          "pie": [
           {
            "automargin": true,
            "type": "pie"
           }
          ],
          "scatter": [
           {
            "fillpattern": {
             "fillmode": "overlay",
             "size": 10,
             "solidity": 0.2
            },
            "type": "scatter"
           }
          ],
          "scatter3d": [
           {
            "line": {
             "colorbar": {
              "outlinewidth": 0,
              "ticks": ""
             }
            },
            "marker": {
             "colorbar": {
              "outlinewidth": 0,
              "ticks": ""
             }
            },
            "type": "scatter3d"
           }
          ],
          "scattercarpet": [
           {
            "marker": {
             "colorbar": {
              "outlinewidth": 0,
              "ticks": ""
             }
            },
            "type": "scattercarpet"
           }
          ],
          "scattergeo": [
           {
            "marker": {
             "colorbar": {
              "outlinewidth": 0,
              "ticks": ""
             }
            },
            "type": "scattergeo"
           }
          ],
          "scattergl": [
           {
            "marker": {
             "colorbar": {
              "outlinewidth": 0,
              "ticks": ""
             }
            },
            "type": "scattergl"
           }
          ],
          "scattermapbox": [
           {
            "marker": {
             "colorbar": {
              "outlinewidth": 0,
              "ticks": ""
             }
            },
            "type": "scattermapbox"
           }
          ],
          "scatterpolar": [
           {
            "marker": {
             "colorbar": {
              "outlinewidth": 0,
              "ticks": ""
             }
            },
            "type": "scatterpolar"
           }
          ],
          "scatterpolargl": [
           {
            "marker": {
             "colorbar": {
              "outlinewidth": 0,
              "ticks": ""
             }
            },
            "type": "scatterpolargl"
           }
          ],
          "scatterternary": [
           {
            "marker": {
             "colorbar": {
              "outlinewidth": 0,
              "ticks": ""
             }
            },
            "type": "scatterternary"
           }
          ],
          "surface": [
           {
            "colorbar": {
             "outlinewidth": 0,
             "ticks": ""
            },
            "colorscale": [
             [
              0,
              "#0d0887"
             ],
             [
              0.1111111111111111,
              "#46039f"
             ],
             [
              0.2222222222222222,
              "#7201a8"
             ],
             [
              0.3333333333333333,
              "#9c179e"
             ],
             [
              0.4444444444444444,
              "#bd3786"
             ],
             [
              0.5555555555555556,
              "#d8576b"
             ],
             [
              0.6666666666666666,
              "#ed7953"
             ],
             [
              0.7777777777777778,
              "#fb9f3a"
             ],
             [
              0.8888888888888888,
              "#fdca26"
             ],
             [
              1,
              "#f0f921"
             ]
            ],
            "type": "surface"
           }
          ],
          "table": [
           {
            "cells": {
             "fill": {
              "color": "#EBF0F8"
             },
             "line": {
              "color": "white"
             }
            },
            "header": {
             "fill": {
              "color": "#C8D4E3"
             },
             "line": {
              "color": "white"
             }
            },
            "type": "table"
           }
          ]
         },
         "layout": {
          "annotationdefaults": {
           "arrowcolor": "#2a3f5f",
           "arrowhead": 0,
           "arrowwidth": 1
          },
          "autotypenumbers": "strict",
          "coloraxis": {
           "colorbar": {
            "outlinewidth": 0,
            "ticks": ""
           }
          },
          "colorscale": {
           "diverging": [
            [
             0,
             "#8e0152"
            ],
            [
             0.1,
             "#c51b7d"
            ],
            [
             0.2,
             "#de77ae"
            ],
            [
             0.3,
             "#f1b6da"
            ],
            [
             0.4,
             "#fde0ef"
            ],
            [
             0.5,
             "#f7f7f7"
            ],
            [
             0.6,
             "#e6f5d0"
            ],
            [
             0.7,
             "#b8e186"
            ],
            [
             0.8,
             "#7fbc41"
            ],
            [
             0.9,
             "#4d9221"
            ],
            [
             1,
             "#276419"
            ]
           ],
           "sequential": [
            [
             0,
             "#0d0887"
            ],
            [
             0.1111111111111111,
             "#46039f"
            ],
            [
             0.2222222222222222,
             "#7201a8"
            ],
            [
             0.3333333333333333,
             "#9c179e"
            ],
            [
             0.4444444444444444,
             "#bd3786"
            ],
            [
             0.5555555555555556,
             "#d8576b"
            ],
            [
             0.6666666666666666,
             "#ed7953"
            ],
            [
             0.7777777777777778,
             "#fb9f3a"
            ],
            [
             0.8888888888888888,
             "#fdca26"
            ],
            [
             1,
             "#f0f921"
            ]
           ],
           "sequentialminus": [
            [
             0,
             "#0d0887"
            ],
            [
             0.1111111111111111,
             "#46039f"
            ],
            [
             0.2222222222222222,
             "#7201a8"
            ],
            [
             0.3333333333333333,
             "#9c179e"
            ],
            [
             0.4444444444444444,
             "#bd3786"
            ],
            [
             0.5555555555555556,
             "#d8576b"
            ],
            [
             0.6666666666666666,
             "#ed7953"
            ],
            [
             0.7777777777777778,
             "#fb9f3a"
            ],
            [
             0.8888888888888888,
             "#fdca26"
            ],
            [
             1,
             "#f0f921"
            ]
           ]
          },
          "colorway": [
           "#636efa",
           "#EF553B",
           "#00cc96",
           "#ab63fa",
           "#FFA15A",
           "#19d3f3",
           "#FF6692",
           "#B6E880",
           "#FF97FF",
           "#FECB52"
          ],
          "font": {
           "color": "#2a3f5f"
          },
          "geo": {
           "bgcolor": "white",
           "lakecolor": "white",
           "landcolor": "#E5ECF6",
           "showlakes": true,
           "showland": true,
           "subunitcolor": "white"
          },
          "hoverlabel": {
           "align": "left"
          },
          "hovermode": "closest",
          "mapbox": {
           "style": "light"
          },
          "paper_bgcolor": "white",
          "plot_bgcolor": "#E5ECF6",
          "polar": {
           "angularaxis": {
            "gridcolor": "white",
            "linecolor": "white",
            "ticks": ""
           },
           "bgcolor": "#E5ECF6",
           "radialaxis": {
            "gridcolor": "white",
            "linecolor": "white",
            "ticks": ""
           }
          },
          "scene": {
           "xaxis": {
            "backgroundcolor": "#E5ECF6",
            "gridcolor": "white",
            "gridwidth": 2,
            "linecolor": "white",
            "showbackground": true,
            "ticks": "",
            "zerolinecolor": "white"
           },
           "yaxis": {
            "backgroundcolor": "#E5ECF6",
            "gridcolor": "white",
            "gridwidth": 2,
            "linecolor": "white",
            "showbackground": true,
            "ticks": "",
            "zerolinecolor": "white"
           },
           "zaxis": {
            "backgroundcolor": "#E5ECF6",
            "gridcolor": "white",
            "gridwidth": 2,
            "linecolor": "white",
            "showbackground": true,
            "ticks": "",
            "zerolinecolor": "white"
           }
          },
          "shapedefaults": {
           "line": {
            "color": "#2a3f5f"
           }
          },
          "ternary": {
           "aaxis": {
            "gridcolor": "white",
            "linecolor": "white",
            "ticks": ""
           },
           "baxis": {
            "gridcolor": "white",
            "linecolor": "white",
            "ticks": ""
           },
           "bgcolor": "#E5ECF6",
           "caxis": {
            "gridcolor": "white",
            "linecolor": "white",
            "ticks": ""
           }
          },
          "title": {
           "x": 0.05
          },
          "xaxis": {
           "automargin": true,
           "gridcolor": "white",
           "linecolor": "white",
           "ticks": "",
           "title": {
            "standoff": 15
           },
           "zerolinecolor": "white",
           "zerolinewidth": 2
          },
          "yaxis": {
           "automargin": true,
           "gridcolor": "white",
           "linecolor": "white",
           "ticks": "",
           "title": {
            "standoff": 15
           },
           "zerolinecolor": "white",
           "zerolinewidth": 2
          }
         }
        },
        "title": {
         "text": "Change in Global Active Power over Prior Year"
        },
        "xaxis": {
         "anchor": "y",
         "domain": [
          0,
          1
         ],
         "title": {
          "text": "Date"
         }
        },
        "yaxis": {
         "anchor": "x",
         "domain": [
          0,
          1
         ],
         "tickformat": ".1",
         "title": {
          "text": "Difference (kW)"
         }
        }
       }
      }
     },
     "metadata": {},
     "output_type": "display_data"
    }
   ],
   "source": [
    "fig = px.line(GAP_df, x=GAP_df.index, y=\"seasonal_difference\")\n",
    "\n",
    "fig.update_layout(\n",
    "    yaxis_title=\"Difference (kW)\", \n",
    "    yaxis_tickformat = '.1',\n",
    "    xaxis_title=\"Date\",\n",
    "    title=\"Change in Global Active Power over Prior Year\"\n",
    ")\n",
    "\n",
    "\n",
    "\n",
    "fig.show()"
   ]
  },
  {
   "cell_type": "markdown",
   "metadata": {},
   "source": [
    "Here, apart from some months in the summer, it looks like we got stationary data:\n",
    "- there is no clear trend in the new series, \n",
    "- the variance is relatively constant, and\n",
    "- there is no seasonality but some multiyear cycles can be clearly spotted (a _cyclical pattern_ is characterized by rises and falls of uneven frequency).\n",
    "\n",
    "Our forecasting work will be based on predicting this differenced series instead of the original one.\n",
    "\n"
   ]
  },
  {
   "cell_type": "markdown",
   "metadata": {},
   "source": [
    "### Splitting the  Series for Evaluation"
   ]
  },
  {
   "cell_type": "markdown",
   "metadata": {},
   "source": [
    "Our main goal is to explore models which can reliably forecast future Power Household Power consumption. To get a fair evaluation of such models, we will use some of the available data for fitting the model and some for evaluating our forecast. This ensures that calculated metrics reflect the models performance on unseen, future data.  \n",
    "\n",
    "For our case:\n",
    "- we will use observations from December 1, 2006 to Nov 1, 2007 as the _training set_ to infer the model parameters, and\n",
    "- subsequent records from Dec 1, 2007 to Nov 1, 2010  as _test data_ for evaluation. "
   ]
  },
  {
   "cell_type": "code",
   "execution_count": 49,
   "metadata": {},
   "outputs": [],
   "source": [
    "# we drop the null values introduced at differencing\n",
    "train = GAP_df.loc[GAP_df.index <= \"2007-11-01\", \"seasonal_difference\"].dropna()\n",
    "test = GAP_df.loc[GAP_df.index > \"2007-11-01\", \"seasonal_difference\"]"
   ]
  },
  {
   "cell_type": "code",
   "execution_count": null,
   "metadata": {},
   "outputs": [
    {
     "data": {
      "text/plain": [
       "Series([], Freq: MS, Name: seasonal_difference, dtype: float64)"
      ]
     },
     "execution_count": 59,
     "metadata": {},
     "output_type": "execute_result"
    }
   ],
   "source": []
  },
  {
   "cell_type": "markdown",
   "metadata": {},
   "source": [
    "**Come back to this later**"
   ]
  },
  {
   "cell_type": "code",
   "execution_count": null,
   "metadata": {},
   "outputs": [
    {
     "data": {
      "application/vnd.plotly.v1+json": {
       "config": {
        "plotlyServerURL": "https://plot.ly"
       },
       "data": [
        {
         "mode": "lines",
         "name": "Train",
         "type": "scatter",
         "x": [],
         "y": []
        },
        {
         "mode": "lines",
         "name": "Test",
         "type": "scatter",
         "x": [
          "2007-12-01T00:00:00",
          "2008-01-01T00:00:00",
          "2008-02-01T00:00:00",
          "2008-03-01T00:00:00",
          "2008-04-01T00:00:00",
          "2008-05-01T00:00:00",
          "2008-06-01T00:00:00",
          "2008-07-01T00:00:00",
          "2008-08-01T00:00:00",
          "2008-09-01T00:00:00",
          "2008-10-01T00:00:00",
          "2008-11-01T00:00:00",
          "2008-12-01T00:00:00",
          "2009-01-01T00:00:00",
          "2009-02-01T00:00:00",
          "2009-03-01T00:00:00",
          "2009-04-01T00:00:00",
          "2009-05-01T00:00:00",
          "2009-06-01T00:00:00",
          "2009-07-01T00:00:00",
          "2009-08-01T00:00:00",
          "2009-09-01T00:00:00",
          "2009-10-01T00:00:00",
          "2009-11-01T00:00:00",
          "2009-12-01T00:00:00",
          "2010-01-01T00:00:00",
          "2010-02-01T00:00:00",
          "2010-03-01T00:00:00",
          "2010-04-01T00:00:00",
          "2010-05-01T00:00:00",
          "2010-06-01T00:00:00",
          "2010-07-01T00:00:00",
          "2010-08-01T00:00:00",
          "2010-09-01T00:00:00",
          "2010-10-01T00:00:00",
          "2010-11-01T00:00:00"
         ],
         "y": [
          -0.2748211719637357,
          -0.08611362337680695,
          -0.2196990494562645,
          -0.07329012746701324,
          0.22478309157512244,
          0.03841927782732002,
          0.16728206199755458,
          0.12741381064598223,
          -0.4876980089622643,
          0.018362207492459315,
          0.03285759899843632,
          0.09259283903808724,
          -0.3512846333668165,
          -0.04971827325880951,
          0.06618332954432993,
          -0.01860214756703482,
          0.02471790231200699,
          -0.011425339138552593,
          -0.15333995164237302,
          -0.1766597463645786,
          0.3881305173693313,
          -0.0008395249412896932,
          0.007717819115914404,
          -0.11232238076323964,
          0.08923128137827208,
          0.02032287756026041,
          0.12828678990548603,
          -0.09665947295047839,
          -0.11339477047939406,
          0.08242862592576139,
          0.12885840380306135,
          0.10294705610190857,
          -0.07384055337602513,
          -0.030398414641208293,
          0.01891247563789511,
          -0.07788897623779922
         ]
        }
       ],
       "layout": {
        "template": {
         "data": {
          "bar": [
           {
            "error_x": {
             "color": "#2a3f5f"
            },
            "error_y": {
             "color": "#2a3f5f"
            },
            "marker": {
             "line": {
              "color": "#E5ECF6",
              "width": 0.5
             },
             "pattern": {
              "fillmode": "overlay",
              "size": 10,
              "solidity": 0.2
             }
            },
            "type": "bar"
           }
          ],
          "barpolar": [
           {
            "marker": {
             "line": {
              "color": "#E5ECF6",
              "width": 0.5
             },
             "pattern": {
              "fillmode": "overlay",
              "size": 10,
              "solidity": 0.2
             }
            },
            "type": "barpolar"
           }
          ],
          "carpet": [
           {
            "aaxis": {
             "endlinecolor": "#2a3f5f",
             "gridcolor": "white",
             "linecolor": "white",
             "minorgridcolor": "white",
             "startlinecolor": "#2a3f5f"
            },
            "baxis": {
             "endlinecolor": "#2a3f5f",
             "gridcolor": "white",
             "linecolor": "white",
             "minorgridcolor": "white",
             "startlinecolor": "#2a3f5f"
            },
            "type": "carpet"
           }
          ],
          "choropleth": [
           {
            "colorbar": {
             "outlinewidth": 0,
             "ticks": ""
            },
            "type": "choropleth"
           }
          ],
          "contour": [
           {
            "colorbar": {
             "outlinewidth": 0,
             "ticks": ""
            },
            "colorscale": [
             [
              0,
              "#0d0887"
             ],
             [
              0.1111111111111111,
              "#46039f"
             ],
             [
              0.2222222222222222,
              "#7201a8"
             ],
             [
              0.3333333333333333,
              "#9c179e"
             ],
             [
              0.4444444444444444,
              "#bd3786"
             ],
             [
              0.5555555555555556,
              "#d8576b"
             ],
             [
              0.6666666666666666,
              "#ed7953"
             ],
             [
              0.7777777777777778,
              "#fb9f3a"
             ],
             [
              0.8888888888888888,
              "#fdca26"
             ],
             [
              1,
              "#f0f921"
             ]
            ],
            "type": "contour"
           }
          ],
          "contourcarpet": [
           {
            "colorbar": {
             "outlinewidth": 0,
             "ticks": ""
            },
            "type": "contourcarpet"
           }
          ],
          "heatmap": [
           {
            "colorbar": {
             "outlinewidth": 0,
             "ticks": ""
            },
            "colorscale": [
             [
              0,
              "#0d0887"
             ],
             [
              0.1111111111111111,
              "#46039f"
             ],
             [
              0.2222222222222222,
              "#7201a8"
             ],
             [
              0.3333333333333333,
              "#9c179e"
             ],
             [
              0.4444444444444444,
              "#bd3786"
             ],
             [
              0.5555555555555556,
              "#d8576b"
             ],
             [
              0.6666666666666666,
              "#ed7953"
             ],
             [
              0.7777777777777778,
              "#fb9f3a"
             ],
             [
              0.8888888888888888,
              "#fdca26"
             ],
             [
              1,
              "#f0f921"
             ]
            ],
            "type": "heatmap"
           }
          ],
          "heatmapgl": [
           {
            "colorbar": {
             "outlinewidth": 0,
             "ticks": ""
            },
            "colorscale": [
             [
              0,
              "#0d0887"
             ],
             [
              0.1111111111111111,
              "#46039f"
             ],
             [
              0.2222222222222222,
              "#7201a8"
             ],
             [
              0.3333333333333333,
              "#9c179e"
             ],
             [
              0.4444444444444444,
              "#bd3786"
             ],
             [
              0.5555555555555556,
              "#d8576b"
             ],
             [
              0.6666666666666666,
              "#ed7953"
             ],
             [
              0.7777777777777778,
              "#fb9f3a"
             ],
             [
              0.8888888888888888,
              "#fdca26"
             ],
             [
              1,
              "#f0f921"
             ]
            ],
            "type": "heatmapgl"
           }
          ],
          "histogram": [
           {
            "marker": {
             "pattern": {
              "fillmode": "overlay",
              "size": 10,
              "solidity": 0.2
             }
            },
            "type": "histogram"
           }
          ],
          "histogram2d": [
           {
            "colorbar": {
             "outlinewidth": 0,
             "ticks": ""
            },
            "colorscale": [
             [
              0,
              "#0d0887"
             ],
             [
              0.1111111111111111,
              "#46039f"
             ],
             [
              0.2222222222222222,
              "#7201a8"
             ],
             [
              0.3333333333333333,
              "#9c179e"
             ],
             [
              0.4444444444444444,
              "#bd3786"
             ],
             [
              0.5555555555555556,
              "#d8576b"
             ],
             [
              0.6666666666666666,
              "#ed7953"
             ],
             [
              0.7777777777777778,
              "#fb9f3a"
             ],
             [
              0.8888888888888888,
              "#fdca26"
             ],
             [
              1,
              "#f0f921"
             ]
            ],
            "type": "histogram2d"
           }
          ],
          "histogram2dcontour": [
           {
            "colorbar": {
             "outlinewidth": 0,
             "ticks": ""
            },
            "colorscale": [
             [
              0,
              "#0d0887"
             ],
             [
              0.1111111111111111,
              "#46039f"
             ],
             [
              0.2222222222222222,
              "#7201a8"
             ],
             [
              0.3333333333333333,
              "#9c179e"
             ],
             [
              0.4444444444444444,
              "#bd3786"
             ],
             [
              0.5555555555555556,
              "#d8576b"
             ],
             [
              0.6666666666666666,
              "#ed7953"
             ],
             [
              0.7777777777777778,
              "#fb9f3a"
             ],
             [
              0.8888888888888888,
              "#fdca26"
             ],
             [
              1,
              "#f0f921"
             ]
            ],
            "type": "histogram2dcontour"
           }
          ],
          "mesh3d": [
           {
            "colorbar": {
             "outlinewidth": 0,
             "ticks": ""
            },
            "type": "mesh3d"
           }
          ],
          "parcoords": [
           {
            "line": {
             "colorbar": {
              "outlinewidth": 0,
              "ticks": ""
             }
            },
            "type": "parcoords"
           }
          ],
          "pie": [
           {
            "automargin": true,
            "type": "pie"
           }
          ],
          "scatter": [
           {
            "fillpattern": {
             "fillmode": "overlay",
             "size": 10,
             "solidity": 0.2
            },
            "type": "scatter"
           }
          ],
          "scatter3d": [
           {
            "line": {
             "colorbar": {
              "outlinewidth": 0,
              "ticks": ""
             }
            },
            "marker": {
             "colorbar": {
              "outlinewidth": 0,
              "ticks": ""
             }
            },
            "type": "scatter3d"
           }
          ],
          "scattercarpet": [
           {
            "marker": {
             "colorbar": {
              "outlinewidth": 0,
              "ticks": ""
             }
            },
            "type": "scattercarpet"
           }
          ],
          "scattergeo": [
           {
            "marker": {
             "colorbar": {
              "outlinewidth": 0,
              "ticks": ""
             }
            },
            "type": "scattergeo"
           }
          ],
          "scattergl": [
           {
            "marker": {
             "colorbar": {
              "outlinewidth": 0,
              "ticks": ""
             }
            },
            "type": "scattergl"
           }
          ],
          "scattermapbox": [
           {
            "marker": {
             "colorbar": {
              "outlinewidth": 0,
              "ticks": ""
             }
            },
            "type": "scattermapbox"
           }
          ],
          "scatterpolar": [
           {
            "marker": {
             "colorbar": {
              "outlinewidth": 0,
              "ticks": ""
             }
            },
            "type": "scatterpolar"
           }
          ],
          "scatterpolargl": [
           {
            "marker": {
             "colorbar": {
              "outlinewidth": 0,
              "ticks": ""
             }
            },
            "type": "scatterpolargl"
           }
          ],
          "scatterternary": [
           {
            "marker": {
             "colorbar": {
              "outlinewidth": 0,
              "ticks": ""
             }
            },
            "type": "scatterternary"
           }
          ],
          "surface": [
           {
            "colorbar": {
             "outlinewidth": 0,
             "ticks": ""
            },
            "colorscale": [
             [
              0,
              "#0d0887"
             ],
             [
              0.1111111111111111,
              "#46039f"
             ],
             [
              0.2222222222222222,
              "#7201a8"
             ],
             [
              0.3333333333333333,
              "#9c179e"
             ],
             [
              0.4444444444444444,
              "#bd3786"
             ],
             [
              0.5555555555555556,
              "#d8576b"
             ],
             [
              0.6666666666666666,
              "#ed7953"
             ],
             [
              0.7777777777777778,
              "#fb9f3a"
             ],
             [
              0.8888888888888888,
              "#fdca26"
             ],
             [
              1,
              "#f0f921"
             ]
            ],
            "type": "surface"
           }
          ],
          "table": [
           {
            "cells": {
             "fill": {
              "color": "#EBF0F8"
             },
             "line": {
              "color": "white"
             }
            },
            "header": {
             "fill": {
              "color": "#C8D4E3"
             },
             "line": {
              "color": "white"
             }
            },
            "type": "table"
           }
          ]
         },
         "layout": {
          "annotationdefaults": {
           "arrowcolor": "#2a3f5f",
           "arrowhead": 0,
           "arrowwidth": 1
          },
          "autotypenumbers": "strict",
          "coloraxis": {
           "colorbar": {
            "outlinewidth": 0,
            "ticks": ""
           }
          },
          "colorscale": {
           "diverging": [
            [
             0,
             "#8e0152"
            ],
            [
             0.1,
             "#c51b7d"
            ],
            [
             0.2,
             "#de77ae"
            ],
            [
             0.3,
             "#f1b6da"
            ],
            [
             0.4,
             "#fde0ef"
            ],
            [
             0.5,
             "#f7f7f7"
            ],
            [
             0.6,
             "#e6f5d0"
            ],
            [
             0.7,
             "#b8e186"
            ],
            [
             0.8,
             "#7fbc41"
            ],
            [
             0.9,
             "#4d9221"
            ],
            [
             1,
             "#276419"
            ]
           ],
           "sequential": [
            [
             0,
             "#0d0887"
            ],
            [
             0.1111111111111111,
             "#46039f"
            ],
            [
             0.2222222222222222,
             "#7201a8"
            ],
            [
             0.3333333333333333,
             "#9c179e"
            ],
            [
             0.4444444444444444,
             "#bd3786"
            ],
            [
             0.5555555555555556,
             "#d8576b"
            ],
            [
             0.6666666666666666,
             "#ed7953"
            ],
            [
             0.7777777777777778,
             "#fb9f3a"
            ],
            [
             0.8888888888888888,
             "#fdca26"
            ],
            [
             1,
             "#f0f921"
            ]
           ],
           "sequentialminus": [
            [
             0,
             "#0d0887"
            ],
            [
             0.1111111111111111,
             "#46039f"
            ],
            [
             0.2222222222222222,
             "#7201a8"
            ],
            [
             0.3333333333333333,
             "#9c179e"
            ],
            [
             0.4444444444444444,
             "#bd3786"
            ],
            [
             0.5555555555555556,
             "#d8576b"
            ],
            [
             0.6666666666666666,
             "#ed7953"
            ],
            [
             0.7777777777777778,
             "#fb9f3a"
            ],
            [
             0.8888888888888888,
             "#fdca26"
            ],
            [
             1,
             "#f0f921"
            ]
           ]
          },
          "colorway": [
           "#636efa",
           "#EF553B",
           "#00cc96",
           "#ab63fa",
           "#FFA15A",
           "#19d3f3",
           "#FF6692",
           "#B6E880",
           "#FF97FF",
           "#FECB52"
          ],
          "font": {
           "color": "#2a3f5f"
          },
          "geo": {
           "bgcolor": "white",
           "lakecolor": "white",
           "landcolor": "#E5ECF6",
           "showlakes": true,
           "showland": true,
           "subunitcolor": "white"
          },
          "hoverlabel": {
           "align": "left"
          },
          "hovermode": "closest",
          "mapbox": {
           "style": "light"
          },
          "paper_bgcolor": "white",
          "plot_bgcolor": "#E5ECF6",
          "polar": {
           "angularaxis": {
            "gridcolor": "white",
            "linecolor": "white",
            "ticks": ""
           },
           "bgcolor": "#E5ECF6",
           "radialaxis": {
            "gridcolor": "white",
            "linecolor": "white",
            "ticks": ""
           }
          },
          "scene": {
           "xaxis": {
            "backgroundcolor": "#E5ECF6",
            "gridcolor": "white",
            "gridwidth": 2,
            "linecolor": "white",
            "showbackground": true,
            "ticks": "",
            "zerolinecolor": "white"
           },
           "yaxis": {
            "backgroundcolor": "#E5ECF6",
            "gridcolor": "white",
            "gridwidth": 2,
            "linecolor": "white",
            "showbackground": true,
            "ticks": "",
            "zerolinecolor": "white"
           },
           "zaxis": {
            "backgroundcolor": "#E5ECF6",
            "gridcolor": "white",
            "gridwidth": 2,
            "linecolor": "white",
            "showbackground": true,
            "ticks": "",
            "zerolinecolor": "white"
           }
          },
          "shapedefaults": {
           "line": {
            "color": "#2a3f5f"
           }
          },
          "ternary": {
           "aaxis": {
            "gridcolor": "white",
            "linecolor": "white",
            "ticks": ""
           },
           "baxis": {
            "gridcolor": "white",
            "linecolor": "white",
            "ticks": ""
           },
           "bgcolor": "#E5ECF6",
           "caxis": {
            "gridcolor": "white",
            "linecolor": "white",
            "ticks": ""
           }
          },
          "title": {
           "x": 0.05
          },
          "xaxis": {
           "automargin": true,
           "gridcolor": "white",
           "linecolor": "white",
           "ticks": "",
           "title": {
            "standoff": 15
           },
           "zerolinecolor": "white",
           "zerolinewidth": 2
          },
          "yaxis": {
           "automargin": true,
           "gridcolor": "white",
           "linecolor": "white",
           "ticks": "",
           "title": {
            "standoff": 15
           },
           "zerolinecolor": "white",
           "zerolinewidth": 2
          }
         }
        },
        "title": {
         "text": "Change in Global Active Power over Prior Year"
        },
        "xaxis": {
         "title": {
          "text": "Date"
         }
        },
        "yaxis": {
         "title": {
          "text": "Difference (KW)"
         }
        }
       }
      }
     },
     "metadata": {},
     "output_type": "display_data"
    }
   ],
   "source": [
    "# Plotting the train and test sets\n",
    "fig = go.Figure()\n",
    "fig.add_trace(go.Scatter(x=train.index, y=train, mode='lines', name=\"Train\"))\n",
    "fig.add_trace(go.Scatter(x=test.index, y=test, mode='lines', name=\"Test\"))\n",
    "fig.update_layout(\n",
    "    yaxis_title=\"Difference (KW)\", \n",
    "    xaxis_title=\"Date\",\n",
    "    title=\"Change in Global Active Power over Prior Year\"\n",
    ")\n",
    "fig.show()"
   ]
  },
  {
   "cell_type": "markdown",
   "metadata": {},
   "source": [
    "### Baseline Forecasts and Evaluation"
   ]
  },
  {
   "cell_type": "markdown",
   "metadata": {},
   "source": [
    "There are a number of ways to make simple forecasts which can act as baselines for putting more complex models in context:\n",
    "- for short-term forecasts, we can predict the last available value (or a rolling average of previous values);\n",
    "- for long-term forecasts of stationary series, we can predict the mean over the training set;\n",
    "- for non-stationary data, we can model the trend (e.g., using linear regression) to forecast future trend and add the seasonality to obtain a forecast for the whole series."
   ]
  },
  {
   "cell_type": "code",
   "execution_count": 54,
   "metadata": {},
   "outputs": [],
   "source": [
    "full_index = pd.concat([train, test]).index\n",
    "base_line = np.full(full_index.shape, np.mean(train))\n",
    "\n",
    "predictions = pd.Series(data=base_line, index=full_index)"
   ]
  },
  {
   "cell_type": "code",
   "execution_count": 60,
   "metadata": {},
   "outputs": [
    {
     "data": {
      "text/plain": [
       "DatetimeIndex(['2007-12-01', '2008-01-01', '2008-02-01', '2008-03-01',\n",
       "               '2008-04-01', '2008-05-01', '2008-06-01', '2008-07-01',\n",
       "               '2008-08-01', '2008-09-01', '2008-10-01', '2008-11-01',\n",
       "               '2008-12-01', '2009-01-01', '2009-02-01', '2009-03-01',\n",
       "               '2009-04-01', '2009-05-01', '2009-06-01', '2009-07-01',\n",
       "               '2009-08-01', '2009-09-01', '2009-10-01', '2009-11-01',\n",
       "               '2009-12-01', '2010-01-01', '2010-02-01', '2010-03-01',\n",
       "               '2010-04-01', '2010-05-01', '2010-06-01', '2010-07-01',\n",
       "               '2010-08-01', '2010-09-01', '2010-10-01', '2010-11-01'],\n",
       "              dtype='datetime64[ns]', name='DateTime', freq='MS')"
      ]
     },
     "execution_count": 60,
     "metadata": {},
     "output_type": "execute_result"
    }
   ],
   "source": [
    "full_index"
   ]
  },
  {
   "cell_type": "code",
   "execution_count": 57,
   "metadata": {},
   "outputs": [
    {
     "data": {
      "text/plain": [
       "array([nan, nan, nan, nan, nan, nan, nan, nan, nan, nan, nan, nan, nan,\n",
       "       nan, nan, nan, nan, nan, nan, nan, nan, nan, nan, nan, nan, nan,\n",
       "       nan, nan, nan, nan, nan, nan, nan, nan, nan, nan])"
      ]
     },
     "execution_count": 57,
     "metadata": {},
     "output_type": "execute_result"
    }
   ],
   "source": [
    "base_line"
   ]
  },
  {
   "cell_type": "code",
   "execution_count": 56,
   "metadata": {},
   "outputs": [
    {
     "data": {
      "text/plain": [
       "DateTime\n",
       "2007-12-01   NaN\n",
       "2008-01-01   NaN\n",
       "2008-02-01   NaN\n",
       "2008-03-01   NaN\n",
       "2008-04-01   NaN\n",
       "2008-05-01   NaN\n",
       "2008-06-01   NaN\n",
       "2008-07-01   NaN\n",
       "2008-08-01   NaN\n",
       "2008-09-01   NaN\n",
       "2008-10-01   NaN\n",
       "2008-11-01   NaN\n",
       "2008-12-01   NaN\n",
       "2009-01-01   NaN\n",
       "2009-02-01   NaN\n",
       "2009-03-01   NaN\n",
       "2009-04-01   NaN\n",
       "2009-05-01   NaN\n",
       "2009-06-01   NaN\n",
       "2009-07-01   NaN\n",
       "2009-08-01   NaN\n",
       "2009-09-01   NaN\n",
       "2009-10-01   NaN\n",
       "2009-11-01   NaN\n",
       "2009-12-01   NaN\n",
       "2010-01-01   NaN\n",
       "2010-02-01   NaN\n",
       "2010-03-01   NaN\n",
       "2010-04-01   NaN\n",
       "2010-05-01   NaN\n",
       "2010-06-01   NaN\n",
       "2010-07-01   NaN\n",
       "2010-08-01   NaN\n",
       "2010-09-01   NaN\n",
       "2010-10-01   NaN\n",
       "2010-11-01   NaN\n",
       "Freq: MS, dtype: float64"
      ]
     },
     "execution_count": 56,
     "metadata": {},
     "output_type": "execute_result"
    }
   ],
   "source": [
    "predictions"
   ]
  },
  {
   "cell_type": "code",
   "execution_count": 55,
   "metadata": {},
   "outputs": [
    {
     "data": {
      "application/vnd.plotly.v1+json": {
       "config": {
        "plotlyServerURL": "https://plot.ly"
       },
       "data": [
        {
         "mode": "lines",
         "name": "Train",
         "type": "scatter",
         "x": [],
         "y": []
        },
        {
         "mode": "lines",
         "name": "Test",
         "type": "scatter",
         "x": [
          "2007-12-01T00:00:00",
          "2008-01-01T00:00:00",
          "2008-02-01T00:00:00",
          "2008-03-01T00:00:00",
          "2008-04-01T00:00:00",
          "2008-05-01T00:00:00",
          "2008-06-01T00:00:00",
          "2008-07-01T00:00:00",
          "2008-08-01T00:00:00",
          "2008-09-01T00:00:00",
          "2008-10-01T00:00:00",
          "2008-11-01T00:00:00",
          "2008-12-01T00:00:00",
          "2009-01-01T00:00:00",
          "2009-02-01T00:00:00",
          "2009-03-01T00:00:00",
          "2009-04-01T00:00:00",
          "2009-05-01T00:00:00",
          "2009-06-01T00:00:00",
          "2009-07-01T00:00:00",
          "2009-08-01T00:00:00",
          "2009-09-01T00:00:00",
          "2009-10-01T00:00:00",
          "2009-11-01T00:00:00",
          "2009-12-01T00:00:00",
          "2010-01-01T00:00:00",
          "2010-02-01T00:00:00",
          "2010-03-01T00:00:00",
          "2010-04-01T00:00:00",
          "2010-05-01T00:00:00",
          "2010-06-01T00:00:00",
          "2010-07-01T00:00:00",
          "2010-08-01T00:00:00",
          "2010-09-01T00:00:00",
          "2010-10-01T00:00:00",
          "2010-11-01T00:00:00"
         ],
         "y": [
          -0.2748211719637357,
          -0.08611362337680695,
          -0.2196990494562645,
          -0.07329012746701324,
          0.22478309157512244,
          0.03841927782732002,
          0.16728206199755458,
          0.12741381064598223,
          -0.4876980089622643,
          0.018362207492459315,
          0.03285759899843632,
          0.09259283903808724,
          -0.3512846333668165,
          -0.04971827325880951,
          0.06618332954432993,
          -0.01860214756703482,
          0.02471790231200699,
          -0.011425339138552593,
          -0.15333995164237302,
          -0.1766597463645786,
          0.3881305173693313,
          -0.0008395249412896932,
          0.007717819115914404,
          -0.11232238076323964,
          0.08923128137827208,
          0.02032287756026041,
          0.12828678990548603,
          -0.09665947295047839,
          -0.11339477047939406,
          0.08242862592576139,
          0.12885840380306135,
          0.10294705610190857,
          -0.07384055337602513,
          -0.030398414641208293,
          0.01891247563789511,
          -0.07788897623779922
         ]
        },
        {
         "mode": "lines",
         "name": "Mean Prediction",
         "type": "scatter",
         "x": [
          "2007-12-01T00:00:00",
          "2008-01-01T00:00:00",
          "2008-02-01T00:00:00",
          "2008-03-01T00:00:00",
          "2008-04-01T00:00:00",
          "2008-05-01T00:00:00",
          "2008-06-01T00:00:00",
          "2008-07-01T00:00:00",
          "2008-08-01T00:00:00",
          "2008-09-01T00:00:00",
          "2008-10-01T00:00:00",
          "2008-11-01T00:00:00",
          "2008-12-01T00:00:00",
          "2009-01-01T00:00:00",
          "2009-02-01T00:00:00",
          "2009-03-01T00:00:00",
          "2009-04-01T00:00:00",
          "2009-05-01T00:00:00",
          "2009-06-01T00:00:00",
          "2009-07-01T00:00:00",
          "2009-08-01T00:00:00",
          "2009-09-01T00:00:00",
          "2009-10-01T00:00:00",
          "2009-11-01T00:00:00",
          "2009-12-01T00:00:00",
          "2010-01-01T00:00:00",
          "2010-02-01T00:00:00",
          "2010-03-01T00:00:00",
          "2010-04-01T00:00:00",
          "2010-05-01T00:00:00",
          "2010-06-01T00:00:00",
          "2010-07-01T00:00:00",
          "2010-08-01T00:00:00",
          "2010-09-01T00:00:00",
          "2010-10-01T00:00:00",
          "2010-11-01T00:00:00"
         ],
         "y": [
          null,
          null,
          null,
          null,
          null,
          null,
          null,
          null,
          null,
          null,
          null,
          null,
          null,
          null,
          null,
          null,
          null,
          null,
          null,
          null,
          null,
          null,
          null,
          null,
          null,
          null,
          null,
          null,
          null,
          null,
          null,
          null,
          null,
          null,
          null,
          null
         ]
        }
       ],
       "layout": {
        "template": {
         "data": {
          "bar": [
           {
            "error_x": {
             "color": "#2a3f5f"
            },
            "error_y": {
             "color": "#2a3f5f"
            },
            "marker": {
             "line": {
              "color": "#E5ECF6",
              "width": 0.5
             },
             "pattern": {
              "fillmode": "overlay",
              "size": 10,
              "solidity": 0.2
             }
            },
            "type": "bar"
           }
          ],
          "barpolar": [
           {
            "marker": {
             "line": {
              "color": "#E5ECF6",
              "width": 0.5
             },
             "pattern": {
              "fillmode": "overlay",
              "size": 10,
              "solidity": 0.2
             }
            },
            "type": "barpolar"
           }
          ],
          "carpet": [
           {
            "aaxis": {
             "endlinecolor": "#2a3f5f",
             "gridcolor": "white",
             "linecolor": "white",
             "minorgridcolor": "white",
             "startlinecolor": "#2a3f5f"
            },
            "baxis": {
             "endlinecolor": "#2a3f5f",
             "gridcolor": "white",
             "linecolor": "white",
             "minorgridcolor": "white",
             "startlinecolor": "#2a3f5f"
            },
            "type": "carpet"
           }
          ],
          "choropleth": [
           {
            "colorbar": {
             "outlinewidth": 0,
             "ticks": ""
            },
            "type": "choropleth"
           }
          ],
          "contour": [
           {
            "colorbar": {
             "outlinewidth": 0,
             "ticks": ""
            },
            "colorscale": [
             [
              0,
              "#0d0887"
             ],
             [
              0.1111111111111111,
              "#46039f"
             ],
             [
              0.2222222222222222,
              "#7201a8"
             ],
             [
              0.3333333333333333,
              "#9c179e"
             ],
             [
              0.4444444444444444,
              "#bd3786"
             ],
             [
              0.5555555555555556,
              "#d8576b"
             ],
             [
              0.6666666666666666,
              "#ed7953"
             ],
             [
              0.7777777777777778,
              "#fb9f3a"
             ],
             [
              0.8888888888888888,
              "#fdca26"
             ],
             [
              1,
              "#f0f921"
             ]
            ],
            "type": "contour"
           }
          ],
          "contourcarpet": [
           {
            "colorbar": {
             "outlinewidth": 0,
             "ticks": ""
            },
            "type": "contourcarpet"
           }
          ],
          "heatmap": [
           {
            "colorbar": {
             "outlinewidth": 0,
             "ticks": ""
            },
            "colorscale": [
             [
              0,
              "#0d0887"
             ],
             [
              0.1111111111111111,
              "#46039f"
             ],
             [
              0.2222222222222222,
              "#7201a8"
             ],
             [
              0.3333333333333333,
              "#9c179e"
             ],
             [
              0.4444444444444444,
              "#bd3786"
             ],
             [
              0.5555555555555556,
              "#d8576b"
             ],
             [
              0.6666666666666666,
              "#ed7953"
             ],
             [
              0.7777777777777778,
              "#fb9f3a"
             ],
             [
              0.8888888888888888,
              "#fdca26"
             ],
             [
              1,
              "#f0f921"
             ]
            ],
            "type": "heatmap"
           }
          ],
          "heatmapgl": [
           {
            "colorbar": {
             "outlinewidth": 0,
             "ticks": ""
            },
            "colorscale": [
             [
              0,
              "#0d0887"
             ],
             [
              0.1111111111111111,
              "#46039f"
             ],
             [
              0.2222222222222222,
              "#7201a8"
             ],
             [
              0.3333333333333333,
              "#9c179e"
             ],
             [
              0.4444444444444444,
              "#bd3786"
             ],
             [
              0.5555555555555556,
              "#d8576b"
             ],
             [
              0.6666666666666666,
              "#ed7953"
             ],
             [
              0.7777777777777778,
              "#fb9f3a"
             ],
             [
              0.8888888888888888,
              "#fdca26"
             ],
             [
              1,
              "#f0f921"
             ]
            ],
            "type": "heatmapgl"
           }
          ],
          "histogram": [
           {
            "marker": {
             "pattern": {
              "fillmode": "overlay",
              "size": 10,
              "solidity": 0.2
             }
            },
            "type": "histogram"
           }
          ],
          "histogram2d": [
           {
            "colorbar": {
             "outlinewidth": 0,
             "ticks": ""
            },
            "colorscale": [
             [
              0,
              "#0d0887"
             ],
             [
              0.1111111111111111,
              "#46039f"
             ],
             [
              0.2222222222222222,
              "#7201a8"
             ],
             [
              0.3333333333333333,
              "#9c179e"
             ],
             [
              0.4444444444444444,
              "#bd3786"
             ],
             [
              0.5555555555555556,
              "#d8576b"
             ],
             [
              0.6666666666666666,
              "#ed7953"
             ],
             [
              0.7777777777777778,
              "#fb9f3a"
             ],
             [
              0.8888888888888888,
              "#fdca26"
             ],
             [
              1,
              "#f0f921"
             ]
            ],
            "type": "histogram2d"
           }
          ],
          "histogram2dcontour": [
           {
            "colorbar": {
             "outlinewidth": 0,
             "ticks": ""
            },
            "colorscale": [
             [
              0,
              "#0d0887"
             ],
             [
              0.1111111111111111,
              "#46039f"
             ],
             [
              0.2222222222222222,
              "#7201a8"
             ],
             [
              0.3333333333333333,
              "#9c179e"
             ],
             [
              0.4444444444444444,
              "#bd3786"
             ],
             [
              0.5555555555555556,
              "#d8576b"
             ],
             [
              0.6666666666666666,
              "#ed7953"
             ],
             [
              0.7777777777777778,
              "#fb9f3a"
             ],
             [
              0.8888888888888888,
              "#fdca26"
             ],
             [
              1,
              "#f0f921"
             ]
            ],
            "type": "histogram2dcontour"
           }
          ],
          "mesh3d": [
           {
            "colorbar": {
             "outlinewidth": 0,
             "ticks": ""
            },
            "type": "mesh3d"
           }
          ],
          "parcoords": [
           {
            "line": {
             "colorbar": {
              "outlinewidth": 0,
              "ticks": ""
             }
            },
            "type": "parcoords"
           }
          ],
          "pie": [
           {
            "automargin": true,
            "type": "pie"
           }
          ],
          "scatter": [
           {
            "fillpattern": {
             "fillmode": "overlay",
             "size": 10,
             "solidity": 0.2
            },
            "type": "scatter"
           }
          ],
          "scatter3d": [
           {
            "line": {
             "colorbar": {
              "outlinewidth": 0,
              "ticks": ""
             }
            },
            "marker": {
             "colorbar": {
              "outlinewidth": 0,
              "ticks": ""
             }
            },
            "type": "scatter3d"
           }
          ],
          "scattercarpet": [
           {
            "marker": {
             "colorbar": {
              "outlinewidth": 0,
              "ticks": ""
             }
            },
            "type": "scattercarpet"
           }
          ],
          "scattergeo": [
           {
            "marker": {
             "colorbar": {
              "outlinewidth": 0,
              "ticks": ""
             }
            },
            "type": "scattergeo"
           }
          ],
          "scattergl": [
           {
            "marker": {
             "colorbar": {
              "outlinewidth": 0,
              "ticks": ""
             }
            },
            "type": "scattergl"
           }
          ],
          "scattermapbox": [
           {
            "marker": {
             "colorbar": {
              "outlinewidth": 0,
              "ticks": ""
             }
            },
            "type": "scattermapbox"
           }
          ],
          "scatterpolar": [
           {
            "marker": {
             "colorbar": {
              "outlinewidth": 0,
              "ticks": ""
             }
            },
            "type": "scatterpolar"
           }
          ],
          "scatterpolargl": [
           {
            "marker": {
             "colorbar": {
              "outlinewidth": 0,
              "ticks": ""
             }
            },
            "type": "scatterpolargl"
           }
          ],
          "scatterternary": [
           {
            "marker": {
             "colorbar": {
              "outlinewidth": 0,
              "ticks": ""
             }
            },
            "type": "scatterternary"
           }
          ],
          "surface": [
           {
            "colorbar": {
             "outlinewidth": 0,
             "ticks": ""
            },
            "colorscale": [
             [
              0,
              "#0d0887"
             ],
             [
              0.1111111111111111,
              "#46039f"
             ],
             [
              0.2222222222222222,
              "#7201a8"
             ],
             [
              0.3333333333333333,
              "#9c179e"
             ],
             [
              0.4444444444444444,
              "#bd3786"
             ],
             [
              0.5555555555555556,
              "#d8576b"
             ],
             [
              0.6666666666666666,
              "#ed7953"
             ],
             [
              0.7777777777777778,
              "#fb9f3a"
             ],
             [
              0.8888888888888888,
              "#fdca26"
             ],
             [
              1,
              "#f0f921"
             ]
            ],
            "type": "surface"
           }
          ],
          "table": [
           {
            "cells": {
             "fill": {
              "color": "#EBF0F8"
             },
             "line": {
              "color": "white"
             }
            },
            "header": {
             "fill": {
              "color": "#C8D4E3"
             },
             "line": {
              "color": "white"
             }
            },
            "type": "table"
           }
          ]
         },
         "layout": {
          "annotationdefaults": {
           "arrowcolor": "#2a3f5f",
           "arrowhead": 0,
           "arrowwidth": 1
          },
          "autotypenumbers": "strict",
          "coloraxis": {
           "colorbar": {
            "outlinewidth": 0,
            "ticks": ""
           }
          },
          "colorscale": {
           "diverging": [
            [
             0,
             "#8e0152"
            ],
            [
             0.1,
             "#c51b7d"
            ],
            [
             0.2,
             "#de77ae"
            ],
            [
             0.3,
             "#f1b6da"
            ],
            [
             0.4,
             "#fde0ef"
            ],
            [
             0.5,
             "#f7f7f7"
            ],
            [
             0.6,
             "#e6f5d0"
            ],
            [
             0.7,
             "#b8e186"
            ],
            [
             0.8,
             "#7fbc41"
            ],
            [
             0.9,
             "#4d9221"
            ],
            [
             1,
             "#276419"
            ]
           ],
           "sequential": [
            [
             0,
             "#0d0887"
            ],
            [
             0.1111111111111111,
             "#46039f"
            ],
            [
             0.2222222222222222,
             "#7201a8"
            ],
            [
             0.3333333333333333,
             "#9c179e"
            ],
            [
             0.4444444444444444,
             "#bd3786"
            ],
            [
             0.5555555555555556,
             "#d8576b"
            ],
            [
             0.6666666666666666,
             "#ed7953"
            ],
            [
             0.7777777777777778,
             "#fb9f3a"
            ],
            [
             0.8888888888888888,
             "#fdca26"
            ],
            [
             1,
             "#f0f921"
            ]
           ],
           "sequentialminus": [
            [
             0,
             "#0d0887"
            ],
            [
             0.1111111111111111,
             "#46039f"
            ],
            [
             0.2222222222222222,
             "#7201a8"
            ],
            [
             0.3333333333333333,
             "#9c179e"
            ],
            [
             0.4444444444444444,
             "#bd3786"
            ],
            [
             0.5555555555555556,
             "#d8576b"
            ],
            [
             0.6666666666666666,
             "#ed7953"
            ],
            [
             0.7777777777777778,
             "#fb9f3a"
            ],
            [
             0.8888888888888888,
             "#fdca26"
            ],
            [
             1,
             "#f0f921"
            ]
           ]
          },
          "colorway": [
           "#636efa",
           "#EF553B",
           "#00cc96",
           "#ab63fa",
           "#FFA15A",
           "#19d3f3",
           "#FF6692",
           "#B6E880",
           "#FF97FF",
           "#FECB52"
          ],
          "font": {
           "color": "#2a3f5f"
          },
          "geo": {
           "bgcolor": "white",
           "lakecolor": "white",
           "landcolor": "#E5ECF6",
           "showlakes": true,
           "showland": true,
           "subunitcolor": "white"
          },
          "hoverlabel": {
           "align": "left"
          },
          "hovermode": "closest",
          "mapbox": {
           "style": "light"
          },
          "paper_bgcolor": "white",
          "plot_bgcolor": "#E5ECF6",
          "polar": {
           "angularaxis": {
            "gridcolor": "white",
            "linecolor": "white",
            "ticks": ""
           },
           "bgcolor": "#E5ECF6",
           "radialaxis": {
            "gridcolor": "white",
            "linecolor": "white",
            "ticks": ""
           }
          },
          "scene": {
           "xaxis": {
            "backgroundcolor": "#E5ECF6",
            "gridcolor": "white",
            "gridwidth": 2,
            "linecolor": "white",
            "showbackground": true,
            "ticks": "",
            "zerolinecolor": "white"
           },
           "yaxis": {
            "backgroundcolor": "#E5ECF6",
            "gridcolor": "white",
            "gridwidth": 2,
            "linecolor": "white",
            "showbackground": true,
            "ticks": "",
            "zerolinecolor": "white"
           },
           "zaxis": {
            "backgroundcolor": "#E5ECF6",
            "gridcolor": "white",
            "gridwidth": 2,
            "linecolor": "white",
            "showbackground": true,
            "ticks": "",
            "zerolinecolor": "white"
           }
          },
          "shapedefaults": {
           "line": {
            "color": "#2a3f5f"
           }
          },
          "ternary": {
           "aaxis": {
            "gridcolor": "white",
            "linecolor": "white",
            "ticks": ""
           },
           "baxis": {
            "gridcolor": "white",
            "linecolor": "white",
            "ticks": ""
           },
           "bgcolor": "#E5ECF6",
           "caxis": {
            "gridcolor": "white",
            "linecolor": "white",
            "ticks": ""
           }
          },
          "title": {
           "x": 0.05
          },
          "xaxis": {
           "automargin": true,
           "gridcolor": "white",
           "linecolor": "white",
           "ticks": "",
           "title": {
            "standoff": 15
           },
           "zerolinecolor": "white",
           "zerolinewidth": 2
          },
          "yaxis": {
           "automargin": true,
           "gridcolor": "white",
           "linecolor": "white",
           "ticks": "",
           "title": {
            "standoff": 15
           },
           "zerolinecolor": "white",
           "zerolinewidth": 2
          }
         }
        },
        "title": {
         "text": "Change in Revenue Passenger Miles over Prior Year"
        },
        "xaxis": {
         "title": {
          "text": "Date"
         }
        },
        "yaxis": {
         "title": {
          "text": "Difference (billions)"
         }
        }
       }
      }
     },
     "metadata": {},
     "output_type": "display_data"
    }
   ],
   "source": [
    "fig = go.Figure()\n",
    "fig.add_trace(go.Scatter(x=train.index, y=train, mode='lines', name=\"Train\"))\n",
    "fig.add_trace(go.Scatter(x=test.index, y=test, mode='lines', name=\"Test\"))\n",
    "fig.add_trace(go.Scatter(x=predictions.index, y=predictions, mode='lines', name=\"Mean Prediction\"))\n",
    "\n",
    "fig.update_layout(\n",
    "    yaxis_title=\"Difference (billions)\", \n",
    "    xaxis_title=\"Date\",\n",
    "    title=\"Change in Revenue Passenger Miles over Prior Year\"\n",
    ")\n",
    "fig.show()"
   ]
  },
  {
   "cell_type": "markdown",
   "metadata": {},
   "source": [
    "As with any regression model, we can use the mean absolute error or root mean squared error to evaluate our models (or apply other use-case specific measure of performance).Both previous metrics are heavily influenced by the scale of the data. To put these numbers into perspective, we can look at what percentage (on average) our prediction is off by the original value. This metric is called the _mean absolute percentage error_ (MAPE) and going forward, we will use this metric to compare our models quantitatively."
   ]
  },
  {
   "cell_type": "code",
   "execution_count": 61,
   "metadata": {},
   "outputs": [
    {
     "name": "stdout",
     "output_type": "stream",
     "text": [
      "Train MAPE on the difference: nan%\n",
      "Test MAPE on the difference: nan%\n"
     ]
    }
   ],
   "source": [
    "def mean_absolute_percentage_error(true_values, predicted_values):\n",
    "    \"\"\"\n",
    "    Calculate the mean absolute percentage error. \n",
    "    Find the prediction error and devide by the true value, then average.\n",
    "    \"\"\"\n",
    "    \n",
    "    error = true_values - predicted_values\n",
    "    absolute_percentage_error = np.abs(error/true_values)\n",
    "    mape = absolute_percentage_error.mean() * 100\n",
    "    \n",
    "    return mape\n",
    "\n",
    "train_mape = mean_absolute_percentage_error(train, predictions[train.index])\n",
    "test_mape = mean_absolute_percentage_error(test, predictions[test.index])\n",
    "\n",
    "print(f\"Train MAPE on the difference: {round(train_mape, 2)}%\")\n",
    "print(f\"Test MAPE on the difference: {round(test_mape, 2)}%\")"
   ]
  },
  {
   "cell_type": "markdown",
   "metadata": {},
   "source": [
    "# Linear regression model"
   ]
  },
  {
   "cell_type": "markdown",
   "metadata": {},
   "source": [
    "We will be using a linear regression model to forecast the seasonal difference in Global Active Power."
   ]
  },
  {
   "cell_type": "code",
   "execution_count": 62,
   "metadata": {},
   "outputs": [
    {
     "data": {
      "text/html": [
       "<div>\n",
       "<style scoped>\n",
       "    .dataframe tbody tr th:only-of-type {\n",
       "        vertical-align: middle;\n",
       "    }\n",
       "\n",
       "    .dataframe tbody tr th {\n",
       "        vertical-align: top;\n",
       "    }\n",
       "\n",
       "    .dataframe thead th {\n",
       "        text-align: right;\n",
       "    }\n",
       "</style>\n",
       "<table border=\"1\" class=\"dataframe\">\n",
       "  <thead>\n",
       "    <tr style=\"text-align: right;\">\n",
       "      <th></th>\n",
       "      <th>Global_active_power</th>\n",
       "      <th>Global_reactive_power</th>\n",
       "      <th>Voltage</th>\n",
       "      <th>Global_intensity</th>\n",
       "      <th>Sub_metering_1</th>\n",
       "      <th>Sub_metering_2</th>\n",
       "      <th>Sub_metering_3</th>\n",
       "      <th>temperature_2m</th>\n",
       "      <th>relative_humidity_2m</th>\n",
       "      <th>dew_point_2m</th>\n",
       "      <th>apparent_temperature</th>\n",
       "      <th>surface_pressure</th>\n",
       "      <th>cloudcover</th>\n",
       "      <th>windspeed_10m</th>\n",
       "      <th>windgusts_10m</th>\n",
       "      <th>winddirection_10m</th>\n",
       "      <th>shortwave_radiation</th>\n",
       "      <th>direct_radiation</th>\n",
       "      <th>diffuse_radiation</th>\n",
       "    </tr>\n",
       "    <tr>\n",
       "      <th>DateTime</th>\n",
       "      <th></th>\n",
       "      <th></th>\n",
       "      <th></th>\n",
       "      <th></th>\n",
       "      <th></th>\n",
       "      <th></th>\n",
       "      <th></th>\n",
       "      <th></th>\n",
       "      <th></th>\n",
       "      <th></th>\n",
       "      <th></th>\n",
       "      <th></th>\n",
       "      <th></th>\n",
       "      <th></th>\n",
       "      <th></th>\n",
       "      <th></th>\n",
       "      <th></th>\n",
       "      <th></th>\n",
       "      <th></th>\n",
       "    </tr>\n",
       "  </thead>\n",
       "  <tbody>\n",
       "    <tr>\n",
       "      <th>2006-12-16 17:24:00</th>\n",
       "      <td>4.22</td>\n",
       "      <td>0.42</td>\n",
       "      <td>234.84</td>\n",
       "      <td>18.40</td>\n",
       "      <td>0.00</td>\n",
       "      <td>1.00</td>\n",
       "      <td>17.00</td>\n",
       "      <td>7.12</td>\n",
       "      <td>94.20</td>\n",
       "      <td>6.24</td>\n",
       "      <td>4.10</td>\n",
       "      <td>1012.40</td>\n",
       "      <td>100.00</td>\n",
       "      <td>14.28</td>\n",
       "      <td>31.10</td>\n",
       "      <td>329.40</td>\n",
       "      <td>8.00</td>\n",
       "      <td>0.00</td>\n",
       "      <td>8.00</td>\n",
       "    </tr>\n",
       "    <tr>\n",
       "      <th>2006-12-16 17:25:00</th>\n",
       "      <td>5.36</td>\n",
       "      <td>0.44</td>\n",
       "      <td>233.63</td>\n",
       "      <td>23.00</td>\n",
       "      <td>0.00</td>\n",
       "      <td>1.00</td>\n",
       "      <td>16.00</td>\n",
       "      <td>7.11</td>\n",
       "      <td>94.17</td>\n",
       "      <td>6.22</td>\n",
       "      <td>4.09</td>\n",
       "      <td>1012.42</td>\n",
       "      <td>100.00</td>\n",
       "      <td>14.24</td>\n",
       "      <td>31.07</td>\n",
       "      <td>329.42</td>\n",
       "      <td>7.83</td>\n",
       "      <td>0.00</td>\n",
       "      <td>7.83</td>\n",
       "    </tr>\n",
       "    <tr>\n",
       "      <th>2006-12-16 17:26:00</th>\n",
       "      <td>5.37</td>\n",
       "      <td>0.50</td>\n",
       "      <td>233.29</td>\n",
       "      <td>23.00</td>\n",
       "      <td>0.00</td>\n",
       "      <td>2.00</td>\n",
       "      <td>17.00</td>\n",
       "      <td>7.10</td>\n",
       "      <td>94.13</td>\n",
       "      <td>6.21</td>\n",
       "      <td>4.08</td>\n",
       "      <td>1012.43</td>\n",
       "      <td>100.00</td>\n",
       "      <td>14.20</td>\n",
       "      <td>31.05</td>\n",
       "      <td>329.43</td>\n",
       "      <td>7.67</td>\n",
       "      <td>0.00</td>\n",
       "      <td>7.67</td>\n",
       "    </tr>\n",
       "    <tr>\n",
       "      <th>2006-12-16 17:27:00</th>\n",
       "      <td>5.39</td>\n",
       "      <td>0.50</td>\n",
       "      <td>233.74</td>\n",
       "      <td>23.00</td>\n",
       "      <td>0.00</td>\n",
       "      <td>1.00</td>\n",
       "      <td>17.00</td>\n",
       "      <td>7.08</td>\n",
       "      <td>94.10</td>\n",
       "      <td>6.20</td>\n",
       "      <td>4.08</td>\n",
       "      <td>1012.45</td>\n",
       "      <td>100.00</td>\n",
       "      <td>14.16</td>\n",
       "      <td>31.02</td>\n",
       "      <td>329.45</td>\n",
       "      <td>7.50</td>\n",
       "      <td>0.00</td>\n",
       "      <td>7.50</td>\n",
       "    </tr>\n",
       "    <tr>\n",
       "      <th>2006-12-16 17:28:00</th>\n",
       "      <td>3.67</td>\n",
       "      <td>0.53</td>\n",
       "      <td>235.68</td>\n",
       "      <td>15.80</td>\n",
       "      <td>0.00</td>\n",
       "      <td>1.00</td>\n",
       "      <td>17.00</td>\n",
       "      <td>7.07</td>\n",
       "      <td>94.07</td>\n",
       "      <td>6.18</td>\n",
       "      <td>4.07</td>\n",
       "      <td>1012.47</td>\n",
       "      <td>100.00</td>\n",
       "      <td>14.13</td>\n",
       "      <td>31.00</td>\n",
       "      <td>329.47</td>\n",
       "      <td>7.33</td>\n",
       "      <td>0.00</td>\n",
       "      <td>7.33</td>\n",
       "    </tr>\n",
       "  </tbody>\n",
       "</table>\n",
       "</div>"
      ],
      "text/plain": [
       "                     Global_active_power  Global_reactive_power  Voltage  \\\n",
       "DateTime                                                                   \n",
       "2006-12-16 17:24:00                 4.22                   0.42   234.84   \n",
       "2006-12-16 17:25:00                 5.36                   0.44   233.63   \n",
       "2006-12-16 17:26:00                 5.37                   0.50   233.29   \n",
       "2006-12-16 17:27:00                 5.39                   0.50   233.74   \n",
       "2006-12-16 17:28:00                 3.67                   0.53   235.68   \n",
       "\n",
       "                     Global_intensity  Sub_metering_1  Sub_metering_2  \\\n",
       "DateTime                                                                \n",
       "2006-12-16 17:24:00             18.40            0.00            1.00   \n",
       "2006-12-16 17:25:00             23.00            0.00            1.00   \n",
       "2006-12-16 17:26:00             23.00            0.00            2.00   \n",
       "2006-12-16 17:27:00             23.00            0.00            1.00   \n",
       "2006-12-16 17:28:00             15.80            0.00            1.00   \n",
       "\n",
       "                     Sub_metering_3  temperature_2m  relative_humidity_2m  \\\n",
       "DateTime                                                                    \n",
       "2006-12-16 17:24:00           17.00            7.12                 94.20   \n",
       "2006-12-16 17:25:00           16.00            7.11                 94.17   \n",
       "2006-12-16 17:26:00           17.00            7.10                 94.13   \n",
       "2006-12-16 17:27:00           17.00            7.08                 94.10   \n",
       "2006-12-16 17:28:00           17.00            7.07                 94.07   \n",
       "\n",
       "                     dew_point_2m  apparent_temperature  surface_pressure  \\\n",
       "DateTime                                                                    \n",
       "2006-12-16 17:24:00          6.24                  4.10           1012.40   \n",
       "2006-12-16 17:25:00          6.22                  4.09           1012.42   \n",
       "2006-12-16 17:26:00          6.21                  4.08           1012.43   \n",
       "2006-12-16 17:27:00          6.20                  4.08           1012.45   \n",
       "2006-12-16 17:28:00          6.18                  4.07           1012.47   \n",
       "\n",
       "                     cloudcover  windspeed_10m  windgusts_10m  \\\n",
       "DateTime                                                        \n",
       "2006-12-16 17:24:00      100.00          14.28          31.10   \n",
       "2006-12-16 17:25:00      100.00          14.24          31.07   \n",
       "2006-12-16 17:26:00      100.00          14.20          31.05   \n",
       "2006-12-16 17:27:00      100.00          14.16          31.02   \n",
       "2006-12-16 17:28:00      100.00          14.13          31.00   \n",
       "\n",
       "                     winddirection_10m  shortwave_radiation  direct_radiation  \\\n",
       "DateTime                                                                        \n",
       "2006-12-16 17:24:00             329.40                 8.00              0.00   \n",
       "2006-12-16 17:25:00             329.42                 7.83              0.00   \n",
       "2006-12-16 17:26:00             329.43                 7.67              0.00   \n",
       "2006-12-16 17:27:00             329.45                 7.50              0.00   \n",
       "2006-12-16 17:28:00             329.47                 7.33              0.00   \n",
       "\n",
       "                     diffuse_radiation  \n",
       "DateTime                                \n",
       "2006-12-16 17:24:00               8.00  \n",
       "2006-12-16 17:25:00               7.83  \n",
       "2006-12-16 17:26:00               7.67  \n",
       "2006-12-16 17:27:00               7.50  \n",
       "2006-12-16 17:28:00               7.33  "
      ]
     },
     "execution_count": 62,
     "metadata": {},
     "output_type": "execute_result"
    }
   ],
   "source": [
    "power_df_clean.head()"
   ]
  },
  {
   "cell_type": "code",
   "execution_count": 64,
   "metadata": {},
   "outputs": [
    {
     "data": {
      "text/html": [
       "<div>\n",
       "<style scoped>\n",
       "    .dataframe tbody tr th:only-of-type {\n",
       "        vertical-align: middle;\n",
       "    }\n",
       "\n",
       "    .dataframe tbody tr th {\n",
       "        vertical-align: top;\n",
       "    }\n",
       "\n",
       "    .dataframe thead th {\n",
       "        text-align: right;\n",
       "    }\n",
       "</style>\n",
       "<table border=\"1\" class=\"dataframe\">\n",
       "  <thead>\n",
       "    <tr style=\"text-align: right;\">\n",
       "      <th></th>\n",
       "      <th>Global_active_power</th>\n",
       "      <th>Global_reactive_power</th>\n",
       "      <th>Voltage</th>\n",
       "      <th>Global_intensity</th>\n",
       "      <th>Sub_metering_1</th>\n",
       "      <th>Sub_metering_2</th>\n",
       "      <th>Sub_metering_3</th>\n",
       "      <th>temperature_2m</th>\n",
       "      <th>relative_humidity_2m</th>\n",
       "      <th>dew_point_2m</th>\n",
       "      <th>apparent_temperature</th>\n",
       "      <th>surface_pressure</th>\n",
       "      <th>cloudcover</th>\n",
       "      <th>windspeed_10m</th>\n",
       "      <th>windgusts_10m</th>\n",
       "      <th>winddirection_10m</th>\n",
       "      <th>shortwave_radiation</th>\n",
       "      <th>direct_radiation</th>\n",
       "      <th>diffuse_radiation</th>\n",
       "    </tr>\n",
       "  </thead>\n",
       "  <tbody>\n",
       "    <tr>\n",
       "      <th>count</th>\n",
       "      <td>2049280.00</td>\n",
       "      <td>2049280.00</td>\n",
       "      <td>2049280.00</td>\n",
       "      <td>2049280.00</td>\n",
       "      <td>2049280.00</td>\n",
       "      <td>2049280.00</td>\n",
       "      <td>2049280.00</td>\n",
       "      <td>2049280.00</td>\n",
       "      <td>2049280.00</td>\n",
       "      <td>2049280.00</td>\n",
       "      <td>2049280.00</td>\n",
       "      <td>2049280.00</td>\n",
       "      <td>2049280.00</td>\n",
       "      <td>2049280.00</td>\n",
       "      <td>2049280.00</td>\n",
       "      <td>2049280.00</td>\n",
       "      <td>2049280.00</td>\n",
       "      <td>2049280.00</td>\n",
       "      <td>2049280.00</td>\n",
       "    </tr>\n",
       "    <tr>\n",
       "      <th>mean</th>\n",
       "      <td>1.09</td>\n",
       "      <td>0.12</td>\n",
       "      <td>240.84</td>\n",
       "      <td>4.63</td>\n",
       "      <td>1.12</td>\n",
       "      <td>1.30</td>\n",
       "      <td>6.46</td>\n",
       "      <td>11.20</td>\n",
       "      <td>76.62</td>\n",
       "      <td>6.85</td>\n",
       "      <td>8.75</td>\n",
       "      <td>1005.04</td>\n",
       "      <td>66.10</td>\n",
       "      <td>12.90</td>\n",
       "      <td>26.38</td>\n",
       "      <td>188.18</td>\n",
       "      <td>134.26</td>\n",
       "      <td>76.76</td>\n",
       "      <td>57.50</td>\n",
       "    </tr>\n",
       "    <tr>\n",
       "      <th>std</th>\n",
       "      <td>1.06</td>\n",
       "      <td>0.11</td>\n",
       "      <td>3.24</td>\n",
       "      <td>4.44</td>\n",
       "      <td>6.15</td>\n",
       "      <td>5.82</td>\n",
       "      <td>8.44</td>\n",
       "      <td>6.95</td>\n",
       "      <td>15.18</td>\n",
       "      <td>5.54</td>\n",
       "      <td>8.23</td>\n",
       "      <td>9.48</td>\n",
       "      <td>36.39</td>\n",
       "      <td>6.41</td>\n",
       "      <td>12.99</td>\n",
       "      <td>103.72</td>\n",
       "      <td>202.58</td>\n",
       "      <td>145.71</td>\n",
       "      <td>78.67</td>\n",
       "    </tr>\n",
       "    <tr>\n",
       "      <th>min</th>\n",
       "      <td>0.08</td>\n",
       "      <td>0.00</td>\n",
       "      <td>223.20</td>\n",
       "      <td>0.20</td>\n",
       "      <td>0.00</td>\n",
       "      <td>0.00</td>\n",
       "      <td>0.00</td>\n",
       "      <td>-10.40</td>\n",
       "      <td>23.00</td>\n",
       "      <td>-14.50</td>\n",
       "      <td>-15.10</td>\n",
       "      <td>959.20</td>\n",
       "      <td>0.00</td>\n",
       "      <td>0.00</td>\n",
       "      <td>2.20</td>\n",
       "      <td>1.00</td>\n",
       "      <td>0.00</td>\n",
       "      <td>0.00</td>\n",
       "      <td>0.00</td>\n",
       "    </tr>\n",
       "    <tr>\n",
       "      <th>25%</th>\n",
       "      <td>0.31</td>\n",
       "      <td>0.05</td>\n",
       "      <td>238.99</td>\n",
       "      <td>1.40</td>\n",
       "      <td>0.00</td>\n",
       "      <td>0.00</td>\n",
       "      <td>0.00</td>\n",
       "      <td>6.20</td>\n",
       "      <td>66.17</td>\n",
       "      <td>3.26</td>\n",
       "      <td>2.62</td>\n",
       "      <td>999.73</td>\n",
       "      <td>35.13</td>\n",
       "      <td>8.08</td>\n",
       "      <td>16.40</td>\n",
       "      <td>88.75</td>\n",
       "      <td>0.00</td>\n",
       "      <td>0.00</td>\n",
       "      <td>0.00</td>\n",
       "    </tr>\n",
       "    <tr>\n",
       "      <th>50%</th>\n",
       "      <td>0.60</td>\n",
       "      <td>0.10</td>\n",
       "      <td>241.01</td>\n",
       "      <td>2.60</td>\n",
       "      <td>0.00</td>\n",
       "      <td>0.00</td>\n",
       "      <td>1.00</td>\n",
       "      <td>11.26</td>\n",
       "      <td>79.65</td>\n",
       "      <td>7.32</td>\n",
       "      <td>8.60</td>\n",
       "      <td>1005.64</td>\n",
       "      <td>82.30</td>\n",
       "      <td>11.70</td>\n",
       "      <td>24.05</td>\n",
       "      <td>210.07</td>\n",
       "      <td>11.07</td>\n",
       "      <td>0.67</td>\n",
       "      <td>8.20</td>\n",
       "    </tr>\n",
       "    <tr>\n",
       "      <th>75%</th>\n",
       "      <td>1.53</td>\n",
       "      <td>0.19</td>\n",
       "      <td>242.89</td>\n",
       "      <td>6.40</td>\n",
       "      <td>0.00</td>\n",
       "      <td>1.00</td>\n",
       "      <td>17.00</td>\n",
       "      <td>16.25</td>\n",
       "      <td>89.23</td>\n",
       "      <td>10.96</td>\n",
       "      <td>14.90</td>\n",
       "      <td>1011.07</td>\n",
       "      <td>99.20</td>\n",
       "      <td>16.59</td>\n",
       "      <td>33.82</td>\n",
       "      <td>267.05</td>\n",
       "      <td>213.45</td>\n",
       "      <td>81.53</td>\n",
       "      <td>100.87</td>\n",
       "    </tr>\n",
       "    <tr>\n",
       "      <th>max</th>\n",
       "      <td>11.12</td>\n",
       "      <td>1.39</td>\n",
       "      <td>254.15</td>\n",
       "      <td>48.40</td>\n",
       "      <td>88.00</td>\n",
       "      <td>80.00</td>\n",
       "      <td>31.00</td>\n",
       "      <td>34.80</td>\n",
       "      <td>100.00</td>\n",
       "      <td>21.30</td>\n",
       "      <td>35.00</td>\n",
       "      <td>1031.70</td>\n",
       "      <td>100.00</td>\n",
       "      <td>51.70</td>\n",
       "      <td>99.00</td>\n",
       "      <td>360.00</td>\n",
       "      <td>908.00</td>\n",
       "      <td>779.00</td>\n",
       "      <td>417.00</td>\n",
       "    </tr>\n",
       "  </tbody>\n",
       "</table>\n",
       "</div>"
      ],
      "text/plain": [
       "       Global_active_power  Global_reactive_power    Voltage  \\\n",
       "count           2049280.00             2049280.00 2049280.00   \n",
       "mean                  1.09                   0.12     240.84   \n",
       "std                   1.06                   0.11       3.24   \n",
       "min                   0.08                   0.00     223.20   \n",
       "25%                   0.31                   0.05     238.99   \n",
       "50%                   0.60                   0.10     241.01   \n",
       "75%                   1.53                   0.19     242.89   \n",
       "max                  11.12                   1.39     254.15   \n",
       "\n",
       "       Global_intensity  Sub_metering_1  Sub_metering_2  Sub_metering_3  \\\n",
       "count        2049280.00      2049280.00      2049280.00      2049280.00   \n",
       "mean               4.63            1.12            1.30            6.46   \n",
       "std                4.44            6.15            5.82            8.44   \n",
       "min                0.20            0.00            0.00            0.00   \n",
       "25%                1.40            0.00            0.00            0.00   \n",
       "50%                2.60            0.00            0.00            1.00   \n",
       "75%                6.40            0.00            1.00           17.00   \n",
       "max               48.40           88.00           80.00           31.00   \n",
       "\n",
       "       temperature_2m  relative_humidity_2m  dew_point_2m  \\\n",
       "count      2049280.00            2049280.00    2049280.00   \n",
       "mean            11.20                 76.62          6.85   \n",
       "std              6.95                 15.18          5.54   \n",
       "min            -10.40                 23.00        -14.50   \n",
       "25%              6.20                 66.17          3.26   \n",
       "50%             11.26                 79.65          7.32   \n",
       "75%             16.25                 89.23         10.96   \n",
       "max             34.80                100.00         21.30   \n",
       "\n",
       "       apparent_temperature  surface_pressure  cloudcover  windspeed_10m  \\\n",
       "count            2049280.00        2049280.00  2049280.00     2049280.00   \n",
       "mean                   8.75           1005.04       66.10          12.90   \n",
       "std                    8.23              9.48       36.39           6.41   \n",
       "min                  -15.10            959.20        0.00           0.00   \n",
       "25%                    2.62            999.73       35.13           8.08   \n",
       "50%                    8.60           1005.64       82.30          11.70   \n",
       "75%                   14.90           1011.07       99.20          16.59   \n",
       "max                   35.00           1031.70      100.00          51.70   \n",
       "\n",
       "       windgusts_10m  winddirection_10m  shortwave_radiation  \\\n",
       "count     2049280.00         2049280.00           2049280.00   \n",
       "mean           26.38             188.18               134.26   \n",
       "std            12.99             103.72               202.58   \n",
       "min             2.20               1.00                 0.00   \n",
       "25%            16.40              88.75                 0.00   \n",
       "50%            24.05             210.07                11.07   \n",
       "75%            33.82             267.05               213.45   \n",
       "max            99.00             360.00               908.00   \n",
       "\n",
       "       direct_radiation  diffuse_radiation  \n",
       "count        2049280.00         2049280.00  \n",
       "mean              76.76              57.50  \n",
       "std              145.71              78.67  \n",
       "min                0.00               0.00  \n",
       "25%                0.00               0.00  \n",
       "50%                0.67               8.20  \n",
       "75%               81.53             100.87  \n",
       "max              779.00             417.00  "
      ]
     },
     "execution_count": 64,
     "metadata": {},
     "output_type": "execute_result"
    }
   ],
   "source": [
    "power_df_clean.describe()"
   ]
  },
  {
   "cell_type": "code",
   "execution_count": 65,
   "metadata": {},
   "outputs": [],
   "source": [
    "# Pull out the X and y\n",
    "X = power_df_clean.drop(\"Global_active_power\", axis=1)\n",
    "y = power_df_clean[\"Global_active_power\"].copy()"
   ]
  },
  {
   "cell_type": "code",
   "execution_count": 66,
   "metadata": {},
   "outputs": [
    {
     "data": {
      "text/html": [
       "<div>\n",
       "<style scoped>\n",
       "    .dataframe tbody tr th:only-of-type {\n",
       "        vertical-align: middle;\n",
       "    }\n",
       "\n",
       "    .dataframe tbody tr th {\n",
       "        vertical-align: top;\n",
       "    }\n",
       "\n",
       "    .dataframe thead th {\n",
       "        text-align: right;\n",
       "    }\n",
       "</style>\n",
       "<table border=\"1\" class=\"dataframe\">\n",
       "  <thead>\n",
       "    <tr style=\"text-align: right;\">\n",
       "      <th></th>\n",
       "      <th>Global_reactive_power</th>\n",
       "      <th>Voltage</th>\n",
       "      <th>Global_intensity</th>\n",
       "      <th>Sub_metering_1</th>\n",
       "      <th>Sub_metering_2</th>\n",
       "      <th>Sub_metering_3</th>\n",
       "      <th>temperature_2m</th>\n",
       "      <th>relative_humidity_2m</th>\n",
       "      <th>dew_point_2m</th>\n",
       "      <th>apparent_temperature</th>\n",
       "      <th>surface_pressure</th>\n",
       "      <th>cloudcover</th>\n",
       "      <th>windspeed_10m</th>\n",
       "      <th>windgusts_10m</th>\n",
       "      <th>winddirection_10m</th>\n",
       "      <th>shortwave_radiation</th>\n",
       "      <th>direct_radiation</th>\n",
       "      <th>diffuse_radiation</th>\n",
       "    </tr>\n",
       "    <tr>\n",
       "      <th>DateTime</th>\n",
       "      <th></th>\n",
       "      <th></th>\n",
       "      <th></th>\n",
       "      <th></th>\n",
       "      <th></th>\n",
       "      <th></th>\n",
       "      <th></th>\n",
       "      <th></th>\n",
       "      <th></th>\n",
       "      <th></th>\n",
       "      <th></th>\n",
       "      <th></th>\n",
       "      <th></th>\n",
       "      <th></th>\n",
       "      <th></th>\n",
       "      <th></th>\n",
       "      <th></th>\n",
       "      <th></th>\n",
       "    </tr>\n",
       "  </thead>\n",
       "  <tbody>\n",
       "    <tr>\n",
       "      <th>2006-12-16 17:24:00</th>\n",
       "      <td>0.42</td>\n",
       "      <td>234.84</td>\n",
       "      <td>18.40</td>\n",
       "      <td>0.00</td>\n",
       "      <td>1.00</td>\n",
       "      <td>17.00</td>\n",
       "      <td>7.12</td>\n",
       "      <td>94.20</td>\n",
       "      <td>6.24</td>\n",
       "      <td>4.10</td>\n",
       "      <td>1012.40</td>\n",
       "      <td>100.00</td>\n",
       "      <td>14.28</td>\n",
       "      <td>31.10</td>\n",
       "      <td>329.40</td>\n",
       "      <td>8.00</td>\n",
       "      <td>0.00</td>\n",
       "      <td>8.00</td>\n",
       "    </tr>\n",
       "    <tr>\n",
       "      <th>2006-12-16 17:25:00</th>\n",
       "      <td>0.44</td>\n",
       "      <td>233.63</td>\n",
       "      <td>23.00</td>\n",
       "      <td>0.00</td>\n",
       "      <td>1.00</td>\n",
       "      <td>16.00</td>\n",
       "      <td>7.11</td>\n",
       "      <td>94.17</td>\n",
       "      <td>6.22</td>\n",
       "      <td>4.09</td>\n",
       "      <td>1012.42</td>\n",
       "      <td>100.00</td>\n",
       "      <td>14.24</td>\n",
       "      <td>31.07</td>\n",
       "      <td>329.42</td>\n",
       "      <td>7.83</td>\n",
       "      <td>0.00</td>\n",
       "      <td>7.83</td>\n",
       "    </tr>\n",
       "    <tr>\n",
       "      <th>2006-12-16 17:26:00</th>\n",
       "      <td>0.50</td>\n",
       "      <td>233.29</td>\n",
       "      <td>23.00</td>\n",
       "      <td>0.00</td>\n",
       "      <td>2.00</td>\n",
       "      <td>17.00</td>\n",
       "      <td>7.10</td>\n",
       "      <td>94.13</td>\n",
       "      <td>6.21</td>\n",
       "      <td>4.08</td>\n",
       "      <td>1012.43</td>\n",
       "      <td>100.00</td>\n",
       "      <td>14.20</td>\n",
       "      <td>31.05</td>\n",
       "      <td>329.43</td>\n",
       "      <td>7.67</td>\n",
       "      <td>0.00</td>\n",
       "      <td>7.67</td>\n",
       "    </tr>\n",
       "    <tr>\n",
       "      <th>2006-12-16 17:27:00</th>\n",
       "      <td>0.50</td>\n",
       "      <td>233.74</td>\n",
       "      <td>23.00</td>\n",
       "      <td>0.00</td>\n",
       "      <td>1.00</td>\n",
       "      <td>17.00</td>\n",
       "      <td>7.08</td>\n",
       "      <td>94.10</td>\n",
       "      <td>6.20</td>\n",
       "      <td>4.08</td>\n",
       "      <td>1012.45</td>\n",
       "      <td>100.00</td>\n",
       "      <td>14.16</td>\n",
       "      <td>31.02</td>\n",
       "      <td>329.45</td>\n",
       "      <td>7.50</td>\n",
       "      <td>0.00</td>\n",
       "      <td>7.50</td>\n",
       "    </tr>\n",
       "    <tr>\n",
       "      <th>2006-12-16 17:28:00</th>\n",
       "      <td>0.53</td>\n",
       "      <td>235.68</td>\n",
       "      <td>15.80</td>\n",
       "      <td>0.00</td>\n",
       "      <td>1.00</td>\n",
       "      <td>17.00</td>\n",
       "      <td>7.07</td>\n",
       "      <td>94.07</td>\n",
       "      <td>6.18</td>\n",
       "      <td>4.07</td>\n",
       "      <td>1012.47</td>\n",
       "      <td>100.00</td>\n",
       "      <td>14.13</td>\n",
       "      <td>31.00</td>\n",
       "      <td>329.47</td>\n",
       "      <td>7.33</td>\n",
       "      <td>0.00</td>\n",
       "      <td>7.33</td>\n",
       "    </tr>\n",
       "    <tr>\n",
       "      <th>...</th>\n",
       "      <td>...</td>\n",
       "      <td>...</td>\n",
       "      <td>...</td>\n",
       "      <td>...</td>\n",
       "      <td>...</td>\n",
       "      <td>...</td>\n",
       "      <td>...</td>\n",
       "      <td>...</td>\n",
       "      <td>...</td>\n",
       "      <td>...</td>\n",
       "      <td>...</td>\n",
       "      <td>...</td>\n",
       "      <td>...</td>\n",
       "      <td>...</td>\n",
       "      <td>...</td>\n",
       "      <td>...</td>\n",
       "      <td>...</td>\n",
       "      <td>...</td>\n",
       "    </tr>\n",
       "    <tr>\n",
       "      <th>2010-11-26 20:58:00</th>\n",
       "      <td>0.00</td>\n",
       "      <td>240.43</td>\n",
       "      <td>4.00</td>\n",
       "      <td>0.00</td>\n",
       "      <td>0.00</td>\n",
       "      <td>0.00</td>\n",
       "      <td>-1.16</td>\n",
       "      <td>90.60</td>\n",
       "      <td>-2.52</td>\n",
       "      <td>-4.76</td>\n",
       "      <td>994.71</td>\n",
       "      <td>37.40</td>\n",
       "      <td>7.48</td>\n",
       "      <td>12.95</td>\n",
       "      <td>215.27</td>\n",
       "      <td>0.00</td>\n",
       "      <td>0.00</td>\n",
       "      <td>0.00</td>\n",
       "    </tr>\n",
       "    <tr>\n",
       "      <th>2010-11-26 20:59:00</th>\n",
       "      <td>0.00</td>\n",
       "      <td>240.00</td>\n",
       "      <td>4.00</td>\n",
       "      <td>0.00</td>\n",
       "      <td>0.00</td>\n",
       "      <td>0.00</td>\n",
       "      <td>-1.18</td>\n",
       "      <td>90.80</td>\n",
       "      <td>-2.51</td>\n",
       "      <td>-4.78</td>\n",
       "      <td>994.70</td>\n",
       "      <td>37.70</td>\n",
       "      <td>7.49</td>\n",
       "      <td>12.97</td>\n",
       "      <td>215.13</td>\n",
       "      <td>0.00</td>\n",
       "      <td>0.00</td>\n",
       "      <td>0.00</td>\n",
       "    </tr>\n",
       "    <tr>\n",
       "      <th>2010-11-26 21:00:00</th>\n",
       "      <td>0.00</td>\n",
       "      <td>239.82</td>\n",
       "      <td>3.80</td>\n",
       "      <td>0.00</td>\n",
       "      <td>0.00</td>\n",
       "      <td>0.00</td>\n",
       "      <td>-1.20</td>\n",
       "      <td>91.00</td>\n",
       "      <td>-2.50</td>\n",
       "      <td>-4.80</td>\n",
       "      <td>994.70</td>\n",
       "      <td>38.00</td>\n",
       "      <td>7.50</td>\n",
       "      <td>13.00</td>\n",
       "      <td>215.00</td>\n",
       "      <td>0.00</td>\n",
       "      <td>0.00</td>\n",
       "      <td>0.00</td>\n",
       "    </tr>\n",
       "    <tr>\n",
       "      <th>2010-11-26 21:01:00</th>\n",
       "      <td>0.00</td>\n",
       "      <td>239.70</td>\n",
       "      <td>3.80</td>\n",
       "      <td>0.00</td>\n",
       "      <td>0.00</td>\n",
       "      <td>0.00</td>\n",
       "      <td>-1.20</td>\n",
       "      <td>91.00</td>\n",
       "      <td>-2.50</td>\n",
       "      <td>-4.80</td>\n",
       "      <td>994.70</td>\n",
       "      <td>38.60</td>\n",
       "      <td>7.51</td>\n",
       "      <td>13.00</td>\n",
       "      <td>214.87</td>\n",
       "      <td>0.00</td>\n",
       "      <td>0.00</td>\n",
       "      <td>0.00</td>\n",
       "    </tr>\n",
       "    <tr>\n",
       "      <th>2010-11-26 21:02:00</th>\n",
       "      <td>0.00</td>\n",
       "      <td>239.55</td>\n",
       "      <td>3.80</td>\n",
       "      <td>0.00</td>\n",
       "      <td>0.00</td>\n",
       "      <td>0.00</td>\n",
       "      <td>-1.20</td>\n",
       "      <td>91.00</td>\n",
       "      <td>-2.50</td>\n",
       "      <td>-4.81</td>\n",
       "      <td>994.69</td>\n",
       "      <td>39.20</td>\n",
       "      <td>7.52</td>\n",
       "      <td>13.00</td>\n",
       "      <td>214.73</td>\n",
       "      <td>0.00</td>\n",
       "      <td>0.00</td>\n",
       "      <td>0.00</td>\n",
       "    </tr>\n",
       "  </tbody>\n",
       "</table>\n",
       "<p>2049280 rows × 18 columns</p>\n",
       "</div>"
      ],
      "text/plain": [
       "                     Global_reactive_power  Voltage  Global_intensity  \\\n",
       "DateTime                                                                \n",
       "2006-12-16 17:24:00                   0.42   234.84             18.40   \n",
       "2006-12-16 17:25:00                   0.44   233.63             23.00   \n",
       "2006-12-16 17:26:00                   0.50   233.29             23.00   \n",
       "2006-12-16 17:27:00                   0.50   233.74             23.00   \n",
       "2006-12-16 17:28:00                   0.53   235.68             15.80   \n",
       "...                                    ...      ...               ...   \n",
       "2010-11-26 20:58:00                   0.00   240.43              4.00   \n",
       "2010-11-26 20:59:00                   0.00   240.00              4.00   \n",
       "2010-11-26 21:00:00                   0.00   239.82              3.80   \n",
       "2010-11-26 21:01:00                   0.00   239.70              3.80   \n",
       "2010-11-26 21:02:00                   0.00   239.55              3.80   \n",
       "\n",
       "                     Sub_metering_1  Sub_metering_2  Sub_metering_3  \\\n",
       "DateTime                                                              \n",
       "2006-12-16 17:24:00            0.00            1.00           17.00   \n",
       "2006-12-16 17:25:00            0.00            1.00           16.00   \n",
       "2006-12-16 17:26:00            0.00            2.00           17.00   \n",
       "2006-12-16 17:27:00            0.00            1.00           17.00   \n",
       "2006-12-16 17:28:00            0.00            1.00           17.00   \n",
       "...                             ...             ...             ...   \n",
       "2010-11-26 20:58:00            0.00            0.00            0.00   \n",
       "2010-11-26 20:59:00            0.00            0.00            0.00   \n",
       "2010-11-26 21:00:00            0.00            0.00            0.00   \n",
       "2010-11-26 21:01:00            0.00            0.00            0.00   \n",
       "2010-11-26 21:02:00            0.00            0.00            0.00   \n",
       "\n",
       "                     temperature_2m  relative_humidity_2m  dew_point_2m  \\\n",
       "DateTime                                                                  \n",
       "2006-12-16 17:24:00            7.12                 94.20          6.24   \n",
       "2006-12-16 17:25:00            7.11                 94.17          6.22   \n",
       "2006-12-16 17:26:00            7.10                 94.13          6.21   \n",
       "2006-12-16 17:27:00            7.08                 94.10          6.20   \n",
       "2006-12-16 17:28:00            7.07                 94.07          6.18   \n",
       "...                             ...                   ...           ...   \n",
       "2010-11-26 20:58:00           -1.16                 90.60         -2.52   \n",
       "2010-11-26 20:59:00           -1.18                 90.80         -2.51   \n",
       "2010-11-26 21:00:00           -1.20                 91.00         -2.50   \n",
       "2010-11-26 21:01:00           -1.20                 91.00         -2.50   \n",
       "2010-11-26 21:02:00           -1.20                 91.00         -2.50   \n",
       "\n",
       "                     apparent_temperature  surface_pressure  cloudcover  \\\n",
       "DateTime                                                                  \n",
       "2006-12-16 17:24:00                  4.10           1012.40      100.00   \n",
       "2006-12-16 17:25:00                  4.09           1012.42      100.00   \n",
       "2006-12-16 17:26:00                  4.08           1012.43      100.00   \n",
       "2006-12-16 17:27:00                  4.08           1012.45      100.00   \n",
       "2006-12-16 17:28:00                  4.07           1012.47      100.00   \n",
       "...                                   ...               ...         ...   \n",
       "2010-11-26 20:58:00                 -4.76            994.71       37.40   \n",
       "2010-11-26 20:59:00                 -4.78            994.70       37.70   \n",
       "2010-11-26 21:00:00                 -4.80            994.70       38.00   \n",
       "2010-11-26 21:01:00                 -4.80            994.70       38.60   \n",
       "2010-11-26 21:02:00                 -4.81            994.69       39.20   \n",
       "\n",
       "                     windspeed_10m  windgusts_10m  winddirection_10m  \\\n",
       "DateTime                                                               \n",
       "2006-12-16 17:24:00          14.28          31.10             329.40   \n",
       "2006-12-16 17:25:00          14.24          31.07             329.42   \n",
       "2006-12-16 17:26:00          14.20          31.05             329.43   \n",
       "2006-12-16 17:27:00          14.16          31.02             329.45   \n",
       "2006-12-16 17:28:00          14.13          31.00             329.47   \n",
       "...                            ...            ...                ...   \n",
       "2010-11-26 20:58:00           7.48          12.95             215.27   \n",
       "2010-11-26 20:59:00           7.49          12.97             215.13   \n",
       "2010-11-26 21:00:00           7.50          13.00             215.00   \n",
       "2010-11-26 21:01:00           7.51          13.00             214.87   \n",
       "2010-11-26 21:02:00           7.52          13.00             214.73   \n",
       "\n",
       "                     shortwave_radiation  direct_radiation  diffuse_radiation  \n",
       "DateTime                                                                       \n",
       "2006-12-16 17:24:00                 8.00              0.00               8.00  \n",
       "2006-12-16 17:25:00                 7.83              0.00               7.83  \n",
       "2006-12-16 17:26:00                 7.67              0.00               7.67  \n",
       "2006-12-16 17:27:00                 7.50              0.00               7.50  \n",
       "2006-12-16 17:28:00                 7.33              0.00               7.33  \n",
       "...                                  ...               ...                ...  \n",
       "2010-11-26 20:58:00                 0.00              0.00               0.00  \n",
       "2010-11-26 20:59:00                 0.00              0.00               0.00  \n",
       "2010-11-26 21:00:00                 0.00              0.00               0.00  \n",
       "2010-11-26 21:01:00                 0.00              0.00               0.00  \n",
       "2010-11-26 21:02:00                 0.00              0.00               0.00  \n",
       "\n",
       "[2049280 rows x 18 columns]"
      ]
     },
     "execution_count": 66,
     "metadata": {},
     "output_type": "execute_result"
    }
   ],
   "source": [
    "X"
   ]
  },
  {
   "cell_type": "code",
   "execution_count": 67,
   "metadata": {},
   "outputs": [
    {
     "data": {
      "text/plain": [
       "DateTime\n",
       "2006-12-16 17:24:00   4.22\n",
       "2006-12-16 17:25:00   5.36\n",
       "2006-12-16 17:26:00   5.37\n",
       "2006-12-16 17:27:00   5.39\n",
       "2006-12-16 17:28:00   3.67\n",
       "                      ... \n",
       "2010-11-26 20:58:00   0.95\n",
       "2010-11-26 20:59:00   0.94\n",
       "2010-11-26 21:00:00   0.94\n",
       "2010-11-26 21:01:00   0.93\n",
       "2010-11-26 21:02:00   0.93\n",
       "Name: Global_active_power, Length: 2049280, dtype: float64"
      ]
     },
     "execution_count": 67,
     "metadata": {},
     "output_type": "execute_result"
    }
   ],
   "source": [
    "y"
   ]
  },
  {
   "cell_type": "code",
   "execution_count": 68,
   "metadata": {},
   "outputs": [
    {
     "data": {
      "text/plain": [
       "((2049280, 18), (2049280,))"
      ]
     },
     "execution_count": 68,
     "metadata": {},
     "output_type": "execute_result"
    }
   ],
   "source": [
    "X.shape, y.shape"
   ]
  },
  {
   "cell_type": "markdown",
   "metadata": {},
   "source": [
    "we have 18 features to predict 1 target variable, so we are dealing with a multivariate regression problem"
   ]
  },
  {
   "cell_type": "code",
   "execution_count": 75,
   "metadata": {},
   "outputs": [
    {
     "data": {
      "image/png": "[encoded data removed]",
      "text/plain": [
       "<Figure size 2000x2000 with 2 Axes>"
      ]
     },
     "metadata": {},
     "output_type": "display_data"
    }
   ],
   "source": [
    "# Calculate all the correlations between each independent variable\n",
    "corr_df = X.corr()\n",
    "\n",
    "# Mask for upper-triangular\n",
    "mask = np.triu(corr_df)\n",
    "\n",
    "# Visualize with seaborn\n",
    "plt.figure(figsize=(20, 20))\n",
    "sns.heatmap(\n",
    "    corr_df, \n",
    "    annot=True, \n",
    "    vmax=1, \n",
    "    vmin=-1, \n",
    "    center=0, \n",
    "    cmap=\"coolwarm\", \n",
    "    mask=mask\n",
    ")\n",
    "\n",
    "plt.title(\"Correlations Between Independent Variables\")\n",
    "plt.show()"
   ]
  },
  {
   "cell_type": "markdown",
   "metadata": {},
   "source": [
    "If two independent variables are highly correlated (|r| ≥ 0.8 or so), I will only  keep just one of them.\n",
    "\n",
    "Strong correlations I notice from the map:\n",
    "\n",
    "\n",
    "`Temperature-related variables`\n",
    "\n",
    "**temperature_2m ↔ apparent_temperature (almost perfect correlation, r ≈ 1)**\n",
    "\n",
    "**temperature_2m ↔ dew_point_2m (very high correlation)**\n",
    "\n",
    "I will be keeping temperature_2m and drop apparent_temperature & possibly dew_point_2m.\n",
    "\n",
    "`Wind speed variables`\n",
    "\n",
    "**windspeed_10m ↔ windgusts_10m (perfect correlation, r = 1)**\n",
    "\n",
    "I will be keeping windspeed_10m,  but will drop windgusts_10m.\n",
    "\n",
    "`Radiation variables`\n",
    "\n",
    "**Shortwave_radiation ↔ direct_radiation (very high correlation)**\n",
    "\n",
    "**Shortwave_radiation ↔ diffuse_radiation (high correlation)**\n",
    "\n",
    "I will drop all 3  radiation variables as I  dont see any relation of them to power consumption interpretability.\n",
    "\n",
    "`Sub_metering variables`\n",
    "\n",
    "Some correlations exist (e.g., Sub_metering_1 and Sub_metering_3 moderately correlated), but not as extreme — I will keep all of them as they are conceptually different."
   ]
  },
  {
   "cell_type": "markdown",
   "metadata": {},
   "source": [
    "Dropping variables for linear regression:\n",
    "\n",
    "`apparent_temperature`\n",
    "\n",
    "`dew_point_2m`\n",
    "\n",
    "`windgusts_10m`\n",
    "\n",
    "`direct_radiation,  diffuse_radiation, shortwave_radiation`"
   ]
  },
  {
   "cell_type": "code",
   "execution_count": 81,
   "metadata": {},
   "outputs": [],
   "source": [
    "# Drop the identified columns\n",
    "cols_to_drop = [\"apparent_temperature\", \"dew_point_2m\", \"windgusts_10m\", \"direct_radiation\", \"diffuse_radiation\", \"shortwave_radiation\"]\n",
    "X.drop(cols_to_drop, axis=1, inplace=True)\n"
   ]
  },
  {
   "cell_type": "code",
   "execution_count": 82,
   "metadata": {},
   "outputs": [
    {
     "data": {
      "image/png": "[encoded data removed]",
      "text/plain": [
       "<Figure size 2000x2000 with 2 Axes>"
      ]
     },
     "metadata": {},
     "output_type": "display_data"
    }
   ],
   "source": [
    "#checking the correlations again after dropping the columns\n",
    "# Calculate all the correlations between each independent variable\n",
    "corr_df = X.corr()\n",
    "\n",
    "# Mask for upper-triangular\n",
    "mask = np.triu(corr_df)\n",
    "\n",
    "# Visualize with seaborn\n",
    "plt.figure(figsize=(20, 20))\n",
    "sns.heatmap(\n",
    "    corr_df.round(2), \n",
    "    annot=True, \n",
    "    vmax=1, \n",
    "    vmin=-1, \n",
    "    center=0, \n",
    "    cmap=\"coolwarm\", \n",
    "    mask=mask\n",
    ")\n",
    "\n",
    "plt.title(\"Correlations Between Independent Variables: Version 3\")\n",
    "plt.show()"
   ]
  },
  {
   "cell_type": "code",
   "execution_count": 91,
   "metadata": {},
   "outputs": [
    {
     "data": {
      "text/html": [
       "<div>\n",
       "<style scoped>\n",
       "    .dataframe tbody tr th:only-of-type {\n",
       "        vertical-align: middle;\n",
       "    }\n",
       "\n",
       "    .dataframe tbody tr th {\n",
       "        vertical-align: top;\n",
       "    }\n",
       "\n",
       "    .dataframe thead th {\n",
       "        text-align: right;\n",
       "    }\n",
       "</style>\n",
       "<table border=\"1\" class=\"dataframe\">\n",
       "  <thead>\n",
       "    <tr style=\"text-align: right;\">\n",
       "      <th></th>\n",
       "      <th>Global_reactive_power</th>\n",
       "      <th>Voltage</th>\n",
       "      <th>Global_intensity</th>\n",
       "      <th>Sub_metering_1</th>\n",
       "      <th>Sub_metering_2</th>\n",
       "      <th>Sub_metering_3</th>\n",
       "      <th>temperature_2m</th>\n",
       "      <th>relative_humidity_2m</th>\n",
       "      <th>surface_pressure</th>\n",
       "      <th>cloudcover</th>\n",
       "      <th>windspeed_10m</th>\n",
       "      <th>winddirection_10m</th>\n",
       "    </tr>\n",
       "  </thead>\n",
       "  <tbody>\n",
       "    <tr>\n",
       "      <th>Global_reactive_power</th>\n",
       "      <td>1.00</td>\n",
       "      <td>NaN</td>\n",
       "      <td>NaN</td>\n",
       "      <td>NaN</td>\n",
       "      <td>NaN</td>\n",
       "      <td>NaN</td>\n",
       "      <td>NaN</td>\n",
       "      <td>NaN</td>\n",
       "      <td>NaN</td>\n",
       "      <td>NaN</td>\n",
       "      <td>NaN</td>\n",
       "      <td>NaN</td>\n",
       "    </tr>\n",
       "    <tr>\n",
       "      <th>Voltage</th>\n",
       "      <td>NaN</td>\n",
       "      <td>1.00</td>\n",
       "      <td>NaN</td>\n",
       "      <td>NaN</td>\n",
       "      <td>NaN</td>\n",
       "      <td>NaN</td>\n",
       "      <td>NaN</td>\n",
       "      <td>NaN</td>\n",
       "      <td>NaN</td>\n",
       "      <td>NaN</td>\n",
       "      <td>NaN</td>\n",
       "      <td>NaN</td>\n",
       "    </tr>\n",
       "    <tr>\n",
       "      <th>Global_intensity</th>\n",
       "      <td>NaN</td>\n",
       "      <td>NaN</td>\n",
       "      <td>1.00</td>\n",
       "      <td>NaN</td>\n",
       "      <td>NaN</td>\n",
       "      <td>NaN</td>\n",
       "      <td>NaN</td>\n",
       "      <td>NaN</td>\n",
       "      <td>NaN</td>\n",
       "      <td>NaN</td>\n",
       "      <td>NaN</td>\n",
       "      <td>NaN</td>\n",
       "    </tr>\n",
       "    <tr>\n",
       "      <th>Sub_metering_1</th>\n",
       "      <td>NaN</td>\n",
       "      <td>NaN</td>\n",
       "      <td>NaN</td>\n",
       "      <td>1.00</td>\n",
       "      <td>NaN</td>\n",
       "      <td>NaN</td>\n",
       "      <td>NaN</td>\n",
       "      <td>NaN</td>\n",
       "      <td>NaN</td>\n",
       "      <td>NaN</td>\n",
       "      <td>NaN</td>\n",
       "      <td>NaN</td>\n",
       "    </tr>\n",
       "    <tr>\n",
       "      <th>Sub_metering_2</th>\n",
       "      <td>NaN</td>\n",
       "      <td>NaN</td>\n",
       "      <td>NaN</td>\n",
       "      <td>NaN</td>\n",
       "      <td>1.00</td>\n",
       "      <td>NaN</td>\n",
       "      <td>NaN</td>\n",
       "      <td>NaN</td>\n",
       "      <td>NaN</td>\n",
       "      <td>NaN</td>\n",
       "      <td>NaN</td>\n",
       "      <td>NaN</td>\n",
       "    </tr>\n",
       "    <tr>\n",
       "      <th>Sub_metering_3</th>\n",
       "      <td>NaN</td>\n",
       "      <td>NaN</td>\n",
       "      <td>NaN</td>\n",
       "      <td>NaN</td>\n",
       "      <td>NaN</td>\n",
       "      <td>1.00</td>\n",
       "      <td>NaN</td>\n",
       "      <td>NaN</td>\n",
       "      <td>NaN</td>\n",
       "      <td>NaN</td>\n",
       "      <td>NaN</td>\n",
       "      <td>NaN</td>\n",
       "    </tr>\n",
       "    <tr>\n",
       "      <th>temperature_2m</th>\n",
       "      <td>NaN</td>\n",
       "      <td>NaN</td>\n",
       "      <td>NaN</td>\n",
       "      <td>NaN</td>\n",
       "      <td>NaN</td>\n",
       "      <td>NaN</td>\n",
       "      <td>1.00</td>\n",
       "      <td>NaN</td>\n",
       "      <td>NaN</td>\n",
       "      <td>NaN</td>\n",
       "      <td>NaN</td>\n",
       "      <td>NaN</td>\n",
       "    </tr>\n",
       "    <tr>\n",
       "      <th>relative_humidity_2m</th>\n",
       "      <td>NaN</td>\n",
       "      <td>NaN</td>\n",
       "      <td>NaN</td>\n",
       "      <td>NaN</td>\n",
       "      <td>NaN</td>\n",
       "      <td>NaN</td>\n",
       "      <td>NaN</td>\n",
       "      <td>1.00</td>\n",
       "      <td>NaN</td>\n",
       "      <td>NaN</td>\n",
       "      <td>NaN</td>\n",
       "      <td>NaN</td>\n",
       "    </tr>\n",
       "    <tr>\n",
       "      <th>surface_pressure</th>\n",
       "      <td>NaN</td>\n",
       "      <td>NaN</td>\n",
       "      <td>NaN</td>\n",
       "      <td>NaN</td>\n",
       "      <td>NaN</td>\n",
       "      <td>NaN</td>\n",
       "      <td>NaN</td>\n",
       "      <td>NaN</td>\n",
       "      <td>1.00</td>\n",
       "      <td>NaN</td>\n",
       "      <td>NaN</td>\n",
       "      <td>NaN</td>\n",
       "    </tr>\n",
       "    <tr>\n",
       "      <th>cloudcover</th>\n",
       "      <td>NaN</td>\n",
       "      <td>NaN</td>\n",
       "      <td>NaN</td>\n",
       "      <td>NaN</td>\n",
       "      <td>NaN</td>\n",
       "      <td>NaN</td>\n",
       "      <td>NaN</td>\n",
       "      <td>NaN</td>\n",
       "      <td>NaN</td>\n",
       "      <td>1.00</td>\n",
       "      <td>NaN</td>\n",
       "      <td>NaN</td>\n",
       "    </tr>\n",
       "    <tr>\n",
       "      <th>windspeed_10m</th>\n",
       "      <td>NaN</td>\n",
       "      <td>NaN</td>\n",
       "      <td>NaN</td>\n",
       "      <td>NaN</td>\n",
       "      <td>NaN</td>\n",
       "      <td>NaN</td>\n",
       "      <td>NaN</td>\n",
       "      <td>NaN</td>\n",
       "      <td>NaN</td>\n",
       "      <td>NaN</td>\n",
       "      <td>1.00</td>\n",
       "      <td>NaN</td>\n",
       "    </tr>\n",
       "    <tr>\n",
       "      <th>winddirection_10m</th>\n",
       "      <td>NaN</td>\n",
       "      <td>NaN</td>\n",
       "      <td>NaN</td>\n",
       "      <td>NaN</td>\n",
       "      <td>NaN</td>\n",
       "      <td>NaN</td>\n",
       "      <td>NaN</td>\n",
       "      <td>NaN</td>\n",
       "      <td>NaN</td>\n",
       "      <td>NaN</td>\n",
       "      <td>NaN</td>\n",
       "      <td>1.00</td>\n",
       "    </tr>\n",
       "  </tbody>\n",
       "</table>\n",
       "</div>"
      ],
      "text/plain": [
       "                       Global_reactive_power  Voltage  Global_intensity  \\\n",
       "Global_reactive_power                   1.00      NaN               NaN   \n",
       "Voltage                                  NaN     1.00               NaN   \n",
       "Global_intensity                         NaN      NaN              1.00   \n",
       "Sub_metering_1                           NaN      NaN               NaN   \n",
       "Sub_metering_2                           NaN      NaN               NaN   \n",
       "Sub_metering_3                           NaN      NaN               NaN   \n",
       "temperature_2m                           NaN      NaN               NaN   \n",
       "relative_humidity_2m                     NaN      NaN               NaN   \n",
       "surface_pressure                         NaN      NaN               NaN   \n",
       "cloudcover                               NaN      NaN               NaN   \n",
       "windspeed_10m                            NaN      NaN               NaN   \n",
       "winddirection_10m                        NaN      NaN               NaN   \n",
       "\n",
       "                       Sub_metering_1  Sub_metering_2  Sub_metering_3  \\\n",
       "Global_reactive_power             NaN             NaN             NaN   \n",
       "Voltage                           NaN             NaN             NaN   \n",
       "Global_intensity                  NaN             NaN             NaN   \n",
       "Sub_metering_1                   1.00             NaN             NaN   \n",
       "Sub_metering_2                    NaN            1.00             NaN   \n",
       "Sub_metering_3                    NaN             NaN            1.00   \n",
       "temperature_2m                    NaN             NaN             NaN   \n",
       "relative_humidity_2m              NaN             NaN             NaN   \n",
       "surface_pressure                  NaN             NaN             NaN   \n",
       "cloudcover                        NaN             NaN             NaN   \n",
       "windspeed_10m                     NaN             NaN             NaN   \n",
       "winddirection_10m                 NaN             NaN             NaN   \n",
       "\n",
       "                       temperature_2m  relative_humidity_2m  surface_pressure  \\\n",
       "Global_reactive_power             NaN                   NaN               NaN   \n",
       "Voltage                           NaN                   NaN               NaN   \n",
       "Global_intensity                  NaN                   NaN               NaN   \n",
       "Sub_metering_1                    NaN                   NaN               NaN   \n",
       "Sub_metering_2                    NaN                   NaN               NaN   \n",
       "Sub_metering_3                    NaN                   NaN               NaN   \n",
       "temperature_2m                   1.00                   NaN               NaN   \n",
       "relative_humidity_2m              NaN                  1.00               NaN   \n",
       "surface_pressure                  NaN                   NaN              1.00   \n",
       "cloudcover                        NaN                   NaN               NaN   \n",
       "windspeed_10m                     NaN                   NaN               NaN   \n",
       "winddirection_10m                 NaN                   NaN               NaN   \n",
       "\n",
       "                       cloudcover  windspeed_10m  winddirection_10m  \n",
       "Global_reactive_power         NaN            NaN                NaN  \n",
       "Voltage                       NaN            NaN                NaN  \n",
       "Global_intensity              NaN            NaN                NaN  \n",
       "Sub_metering_1                NaN            NaN                NaN  \n",
       "Sub_metering_2                NaN            NaN                NaN  \n",
       "Sub_metering_3                NaN            NaN                NaN  \n",
       "temperature_2m                NaN            NaN                NaN  \n",
       "relative_humidity_2m          NaN            NaN                NaN  \n",
       "surface_pressure              NaN            NaN                NaN  \n",
       "cloudcover                   1.00            NaN                NaN  \n",
       "windspeed_10m                 NaN           1.00                NaN  \n",
       "winddirection_10m             NaN            NaN               1.00  "
      ]
     },
     "execution_count": 91,
     "metadata": {},
     "output_type": "execute_result"
    }
   ],
   "source": [
    "X.corr().where(np.abs(corr_df) > 0.7)"
   ]
  },
  {
   "cell_type": "code",
   "execution_count": 92,
   "metadata": {},
   "outputs": [
    {
     "data": {
      "text/html": [
       "<div>\n",
       "<style scoped>\n",
       "    .dataframe tbody tr th:only-of-type {\n",
       "        vertical-align: middle;\n",
       "    }\n",
       "\n",
       "    .dataframe tbody tr th {\n",
       "        vertical-align: top;\n",
       "    }\n",
       "\n",
       "    .dataframe thead th {\n",
       "        text-align: right;\n",
       "    }\n",
       "</style>\n",
       "<table border=\"1\" class=\"dataframe\">\n",
       "  <thead>\n",
       "    <tr style=\"text-align: right;\">\n",
       "      <th></th>\n",
       "      <th>Global_reactive_power</th>\n",
       "      <th>Voltage</th>\n",
       "      <th>Global_intensity</th>\n",
       "      <th>Sub_metering_1</th>\n",
       "      <th>Sub_metering_2</th>\n",
       "      <th>Sub_metering_3</th>\n",
       "      <th>temperature_2m</th>\n",
       "      <th>relative_humidity_2m</th>\n",
       "      <th>surface_pressure</th>\n",
       "      <th>cloudcover</th>\n",
       "      <th>windspeed_10m</th>\n",
       "      <th>winddirection_10m</th>\n",
       "    </tr>\n",
       "  </thead>\n",
       "  <tbody>\n",
       "    <tr>\n",
       "      <th>Global_reactive_power</th>\n",
       "      <td>NaN</td>\n",
       "      <td>NaN</td>\n",
       "      <td>NaN</td>\n",
       "      <td>NaN</td>\n",
       "      <td>NaN</td>\n",
       "      <td>NaN</td>\n",
       "      <td>NaN</td>\n",
       "      <td>NaN</td>\n",
       "      <td>NaN</td>\n",
       "      <td>NaN</td>\n",
       "      <td>NaN</td>\n",
       "      <td>NaN</td>\n",
       "    </tr>\n",
       "    <tr>\n",
       "      <th>Voltage</th>\n",
       "      <td>NaN</td>\n",
       "      <td>NaN</td>\n",
       "      <td>NaN</td>\n",
       "      <td>NaN</td>\n",
       "      <td>NaN</td>\n",
       "      <td>NaN</td>\n",
       "      <td>NaN</td>\n",
       "      <td>NaN</td>\n",
       "      <td>NaN</td>\n",
       "      <td>NaN</td>\n",
       "      <td>NaN</td>\n",
       "      <td>NaN</td>\n",
       "    </tr>\n",
       "    <tr>\n",
       "      <th>Global_intensity</th>\n",
       "      <td>NaN</td>\n",
       "      <td>NaN</td>\n",
       "      <td>NaN</td>\n",
       "      <td>NaN</td>\n",
       "      <td>NaN</td>\n",
       "      <td>NaN</td>\n",
       "      <td>NaN</td>\n",
       "      <td>NaN</td>\n",
       "      <td>NaN</td>\n",
       "      <td>NaN</td>\n",
       "      <td>NaN</td>\n",
       "      <td>NaN</td>\n",
       "    </tr>\n",
       "    <tr>\n",
       "      <th>Sub_metering_1</th>\n",
       "      <td>NaN</td>\n",
       "      <td>NaN</td>\n",
       "      <td>NaN</td>\n",
       "      <td>NaN</td>\n",
       "      <td>NaN</td>\n",
       "      <td>NaN</td>\n",
       "      <td>NaN</td>\n",
       "      <td>NaN</td>\n",
       "      <td>NaN</td>\n",
       "      <td>NaN</td>\n",
       "      <td>NaN</td>\n",
       "      <td>NaN</td>\n",
       "    </tr>\n",
       "    <tr>\n",
       "      <th>Sub_metering_2</th>\n",
       "      <td>NaN</td>\n",
       "      <td>NaN</td>\n",
       "      <td>NaN</td>\n",
       "      <td>NaN</td>\n",
       "      <td>NaN</td>\n",
       "      <td>NaN</td>\n",
       "      <td>NaN</td>\n",
       "      <td>NaN</td>\n",
       "      <td>NaN</td>\n",
       "      <td>NaN</td>\n",
       "      <td>NaN</td>\n",
       "      <td>NaN</td>\n",
       "    </tr>\n",
       "    <tr>\n",
       "      <th>Sub_metering_3</th>\n",
       "      <td>NaN</td>\n",
       "      <td>NaN</td>\n",
       "      <td>NaN</td>\n",
       "      <td>NaN</td>\n",
       "      <td>NaN</td>\n",
       "      <td>NaN</td>\n",
       "      <td>NaN</td>\n",
       "      <td>NaN</td>\n",
       "      <td>NaN</td>\n",
       "      <td>NaN</td>\n",
       "      <td>NaN</td>\n",
       "      <td>NaN</td>\n",
       "    </tr>\n",
       "    <tr>\n",
       "      <th>temperature_2m</th>\n",
       "      <td>NaN</td>\n",
       "      <td>NaN</td>\n",
       "      <td>NaN</td>\n",
       "      <td>NaN</td>\n",
       "      <td>NaN</td>\n",
       "      <td>NaN</td>\n",
       "      <td>NaN</td>\n",
       "      <td>NaN</td>\n",
       "      <td>NaN</td>\n",
       "      <td>NaN</td>\n",
       "      <td>NaN</td>\n",
       "      <td>NaN</td>\n",
       "    </tr>\n",
       "    <tr>\n",
       "      <th>relative_humidity_2m</th>\n",
       "      <td>NaN</td>\n",
       "      <td>NaN</td>\n",
       "      <td>NaN</td>\n",
       "      <td>NaN</td>\n",
       "      <td>NaN</td>\n",
       "      <td>NaN</td>\n",
       "      <td>NaN</td>\n",
       "      <td>NaN</td>\n",
       "      <td>NaN</td>\n",
       "      <td>NaN</td>\n",
       "      <td>NaN</td>\n",
       "      <td>NaN</td>\n",
       "    </tr>\n",
       "    <tr>\n",
       "      <th>surface_pressure</th>\n",
       "      <td>NaN</td>\n",
       "      <td>NaN</td>\n",
       "      <td>NaN</td>\n",
       "      <td>NaN</td>\n",
       "      <td>NaN</td>\n",
       "      <td>NaN</td>\n",
       "      <td>NaN</td>\n",
       "      <td>NaN</td>\n",
       "      <td>NaN</td>\n",
       "      <td>NaN</td>\n",
       "      <td>NaN</td>\n",
       "      <td>NaN</td>\n",
       "    </tr>\n",
       "    <tr>\n",
       "      <th>cloudcover</th>\n",
       "      <td>NaN</td>\n",
       "      <td>NaN</td>\n",
       "      <td>NaN</td>\n",
       "      <td>NaN</td>\n",
       "      <td>NaN</td>\n",
       "      <td>NaN</td>\n",
       "      <td>NaN</td>\n",
       "      <td>NaN</td>\n",
       "      <td>NaN</td>\n",
       "      <td>NaN</td>\n",
       "      <td>NaN</td>\n",
       "      <td>NaN</td>\n",
       "    </tr>\n",
       "    <tr>\n",
       "      <th>windspeed_10m</th>\n",
       "      <td>NaN</td>\n",
       "      <td>NaN</td>\n",
       "      <td>NaN</td>\n",
       "      <td>NaN</td>\n",
       "      <td>NaN</td>\n",
       "      <td>NaN</td>\n",
       "      <td>NaN</td>\n",
       "      <td>NaN</td>\n",
       "      <td>NaN</td>\n",
       "      <td>NaN</td>\n",
       "      <td>NaN</td>\n",
       "      <td>NaN</td>\n",
       "    </tr>\n",
       "    <tr>\n",
       "      <th>winddirection_10m</th>\n",
       "      <td>NaN</td>\n",
       "      <td>NaN</td>\n",
       "      <td>NaN</td>\n",
       "      <td>NaN</td>\n",
       "      <td>NaN</td>\n",
       "      <td>NaN</td>\n",
       "      <td>NaN</td>\n",
       "      <td>NaN</td>\n",
       "      <td>NaN</td>\n",
       "      <td>NaN</td>\n",
       "      <td>NaN</td>\n",
       "      <td>NaN</td>\n",
       "    </tr>\n",
       "  </tbody>\n",
       "</table>\n",
       "</div>"
      ],
      "text/plain": [
       "                       Global_reactive_power  Voltage  Global_intensity  \\\n",
       "Global_reactive_power                    NaN      NaN               NaN   \n",
       "Voltage                                  NaN      NaN               NaN   \n",
       "Global_intensity                         NaN      NaN               NaN   \n",
       "Sub_metering_1                           NaN      NaN               NaN   \n",
       "Sub_metering_2                           NaN      NaN               NaN   \n",
       "Sub_metering_3                           NaN      NaN               NaN   \n",
       "temperature_2m                           NaN      NaN               NaN   \n",
       "relative_humidity_2m                     NaN      NaN               NaN   \n",
       "surface_pressure                         NaN      NaN               NaN   \n",
       "cloudcover                               NaN      NaN               NaN   \n",
       "windspeed_10m                            NaN      NaN               NaN   \n",
       "winddirection_10m                        NaN      NaN               NaN   \n",
       "\n",
       "                       Sub_metering_1  Sub_metering_2  Sub_metering_3  \\\n",
       "Global_reactive_power             NaN             NaN             NaN   \n",
       "Voltage                           NaN             NaN             NaN   \n",
       "Global_intensity                  NaN             NaN             NaN   \n",
       "Sub_metering_1                    NaN             NaN             NaN   \n",
       "Sub_metering_2                    NaN             NaN             NaN   \n",
       "Sub_metering_3                    NaN             NaN             NaN   \n",
       "temperature_2m                    NaN             NaN             NaN   \n",
       "relative_humidity_2m              NaN             NaN             NaN   \n",
       "surface_pressure                  NaN             NaN             NaN   \n",
       "cloudcover                        NaN             NaN             NaN   \n",
       "windspeed_10m                     NaN             NaN             NaN   \n",
       "winddirection_10m                 NaN             NaN             NaN   \n",
       "\n",
       "                       temperature_2m  relative_humidity_2m  surface_pressure  \\\n",
       "Global_reactive_power             NaN                   NaN               NaN   \n",
       "Voltage                           NaN                   NaN               NaN   \n",
       "Global_intensity                  NaN                   NaN               NaN   \n",
       "Sub_metering_1                    NaN                   NaN               NaN   \n",
       "Sub_metering_2                    NaN                   NaN               NaN   \n",
       "Sub_metering_3                    NaN                   NaN               NaN   \n",
       "temperature_2m                    NaN                   NaN               NaN   \n",
       "relative_humidity_2m              NaN                   NaN               NaN   \n",
       "surface_pressure                  NaN                   NaN               NaN   \n",
       "cloudcover                        NaN                   NaN               NaN   \n",
       "windspeed_10m                     NaN                   NaN               NaN   \n",
       "winddirection_10m                 NaN                   NaN               NaN   \n",
       "\n",
       "                       cloudcover  windspeed_10m  winddirection_10m  \n",
       "Global_reactive_power         NaN            NaN                NaN  \n",
       "Voltage                       NaN            NaN                NaN  \n",
       "Global_intensity              NaN            NaN                NaN  \n",
       "Sub_metering_1                NaN            NaN                NaN  \n",
       "Sub_metering_2                NaN            NaN                NaN  \n",
       "Sub_metering_3                NaN            NaN                NaN  \n",
       "temperature_2m                NaN            NaN                NaN  \n",
       "relative_humidity_2m          NaN            NaN                NaN  \n",
       "surface_pressure              NaN            NaN                NaN  \n",
       "cloudcover                    NaN            NaN                NaN  \n",
       "windspeed_10m                 NaN            NaN                NaN  \n",
       "winddirection_10m             NaN            NaN                NaN  "
      ]
     },
     "execution_count": 92,
     "metadata": {},
     "output_type": "execute_result"
    }
   ],
   "source": [
    "X.corr().where(np.abs(corr_df) < -0.7)"
   ]
  },
  {
   "cell_type": "markdown",
   "metadata": {},
   "source": [
    "I dont why my correlator matrix is not showing all the values. I tried everything, so i use a table to see the actual values"
   ]
  },
  {
   "cell_type": "markdown",
   "metadata": {},
   "source": [
    "So we can see that submetering_3 has by far the largest variance. Lets now scale the data. We will be using the Standard  scaler here "
   ]
  },
  {
   "cell_type": "code",
   "execution_count": 76,
   "metadata": {},
   "outputs": [
    {
     "data": {
      "text/html": [
       "<div>\n",
       "<style scoped>\n",
       "    .dataframe tbody tr th:only-of-type {\n",
       "        vertical-align: middle;\n",
       "    }\n",
       "\n",
       "    .dataframe tbody tr th {\n",
       "        vertical-align: top;\n",
       "    }\n",
       "\n",
       "    .dataframe thead th {\n",
       "        text-align: right;\n",
       "    }\n",
       "</style>\n",
       "<table border=\"1\" class=\"dataframe\">\n",
       "  <thead>\n",
       "    <tr style=\"text-align: right;\">\n",
       "      <th></th>\n",
       "      <th>Global_reactive_power</th>\n",
       "      <th>Voltage</th>\n",
       "      <th>Global_intensity</th>\n",
       "      <th>Sub_metering_1</th>\n",
       "      <th>Sub_metering_2</th>\n",
       "      <th>Sub_metering_3</th>\n",
       "      <th>temperature_2m</th>\n",
       "      <th>relative_humidity_2m</th>\n",
       "      <th>dew_point_2m</th>\n",
       "      <th>apparent_temperature</th>\n",
       "      <th>surface_pressure</th>\n",
       "      <th>cloudcover</th>\n",
       "      <th>windspeed_10m</th>\n",
       "      <th>windgusts_10m</th>\n",
       "      <th>winddirection_10m</th>\n",
       "      <th>shortwave_radiation</th>\n",
       "      <th>direct_radiation</th>\n",
       "      <th>diffuse_radiation</th>\n",
       "    </tr>\n",
       "  </thead>\n",
       "  <tbody>\n",
       "    <tr>\n",
       "      <th>Global_reactive_power</th>\n",
       "      <td>1.00</td>\n",
       "      <td>-0.11</td>\n",
       "      <td>0.27</td>\n",
       "      <td>0.12</td>\n",
       "      <td>0.14</td>\n",
       "      <td>0.09</td>\n",
       "      <td>0.18</td>\n",
       "      <td>-0.15</td>\n",
       "      <td>0.14</td>\n",
       "      <td>0.18</td>\n",
       "      <td>-0.02</td>\n",
       "      <td>-0.02</td>\n",
       "      <td>-0.01</td>\n",
       "      <td>0.02</td>\n",
       "      <td>0.00</td>\n",
       "      <td>0.10</td>\n",
       "      <td>0.09</td>\n",
       "      <td>0.09</td>\n",
       "    </tr>\n",
       "    <tr>\n",
       "      <th>Voltage</th>\n",
       "      <td>-0.11</td>\n",
       "      <td>1.00</td>\n",
       "      <td>-0.41</td>\n",
       "      <td>-0.20</td>\n",
       "      <td>-0.17</td>\n",
       "      <td>-0.27</td>\n",
       "      <td>-0.30</td>\n",
       "      <td>0.10</td>\n",
       "      <td>-0.32</td>\n",
       "      <td>-0.30</td>\n",
       "      <td>-0.02</td>\n",
       "      <td>-0.02</td>\n",
       "      <td>-0.02</td>\n",
       "      <td>-0.04</td>\n",
       "      <td>-0.05</td>\n",
       "      <td>-0.12</td>\n",
       "      <td>-0.09</td>\n",
       "      <td>-0.13</td>\n",
       "    </tr>\n",
       "    <tr>\n",
       "      <th>Global_intensity</th>\n",
       "      <td>0.27</td>\n",
       "      <td>-0.41</td>\n",
       "      <td>1.00</td>\n",
       "      <td>0.49</td>\n",
       "      <td>0.44</td>\n",
       "      <td>0.63</td>\n",
       "      <td>-0.15</td>\n",
       "      <td>0.04</td>\n",
       "      <td>-0.15</td>\n",
       "      <td>-0.16</td>\n",
       "      <td>0.00</td>\n",
       "      <td>0.05</td>\n",
       "      <td>0.05</td>\n",
       "      <td>0.04</td>\n",
       "      <td>-0.03</td>\n",
       "      <td>-0.05</td>\n",
       "      <td>-0.05</td>\n",
       "      <td>-0.04</td>\n",
       "    </tr>\n",
       "    <tr>\n",
       "      <th>Sub_metering_1</th>\n",
       "      <td>0.12</td>\n",
       "      <td>-0.20</td>\n",
       "      <td>0.49</td>\n",
       "      <td>1.00</td>\n",
       "      <td>0.05</td>\n",
       "      <td>0.10</td>\n",
       "      <td>0.00</td>\n",
       "      <td>-0.03</td>\n",
       "      <td>-0.01</td>\n",
       "      <td>-0.00</td>\n",
       "      <td>-0.01</td>\n",
       "      <td>0.01</td>\n",
       "      <td>0.02</td>\n",
       "      <td>0.02</td>\n",
       "      <td>-0.01</td>\n",
       "      <td>0.01</td>\n",
       "      <td>0.01</td>\n",
       "      <td>0.02</td>\n",
       "    </tr>\n",
       "    <tr>\n",
       "      <th>Sub_metering_2</th>\n",
       "      <td>0.14</td>\n",
       "      <td>-0.17</td>\n",
       "      <td>0.44</td>\n",
       "      <td>0.05</td>\n",
       "      <td>1.00</td>\n",
       "      <td>0.08</td>\n",
       "      <td>0.01</td>\n",
       "      <td>-0.04</td>\n",
       "      <td>-0.01</td>\n",
       "      <td>0.00</td>\n",
       "      <td>0.00</td>\n",
       "      <td>0.03</td>\n",
       "      <td>0.02</td>\n",
       "      <td>0.04</td>\n",
       "      <td>0.00</td>\n",
       "      <td>0.05</td>\n",
       "      <td>0.03</td>\n",
       "      <td>0.07</td>\n",
       "    </tr>\n",
       "    <tr>\n",
       "      <th>Sub_metering_3</th>\n",
       "      <td>0.09</td>\n",
       "      <td>-0.27</td>\n",
       "      <td>0.63</td>\n",
       "      <td>0.10</td>\n",
       "      <td>0.08</td>\n",
       "      <td>1.00</td>\n",
       "      <td>-0.10</td>\n",
       "      <td>0.03</td>\n",
       "      <td>-0.10</td>\n",
       "      <td>-0.10</td>\n",
       "      <td>-0.01</td>\n",
       "      <td>0.03</td>\n",
       "      <td>0.03</td>\n",
       "      <td>0.04</td>\n",
       "      <td>-0.03</td>\n",
       "      <td>0.06</td>\n",
       "      <td>0.04</td>\n",
       "      <td>0.07</td>\n",
       "    </tr>\n",
       "    <tr>\n",
       "      <th>temperature_2m</th>\n",
       "      <td>0.18</td>\n",
       "      <td>-0.30</td>\n",
       "      <td>-0.15</td>\n",
       "      <td>0.00</td>\n",
       "      <td>0.01</td>\n",
       "      <td>-0.10</td>\n",
       "      <td>1.00</td>\n",
       "      <td>-0.57</td>\n",
       "      <td>0.87</td>\n",
       "      <td>0.99</td>\n",
       "      <td>-0.04</td>\n",
       "      <td>-0.01</td>\n",
       "      <td>-0.01</td>\n",
       "      <td>0.11</td>\n",
       "      <td>0.07</td>\n",
       "      <td>0.51</td>\n",
       "      <td>0.46</td>\n",
       "      <td>0.46</td>\n",
       "    </tr>\n",
       "    <tr>\n",
       "      <th>relative_humidity_2m</th>\n",
       "      <td>-0.15</td>\n",
       "      <td>0.10</td>\n",
       "      <td>0.04</td>\n",
       "      <td>-0.03</td>\n",
       "      <td>-0.04</td>\n",
       "      <td>0.03</td>\n",
       "      <td>-0.57</td>\n",
       "      <td>1.00</td>\n",
       "      <td>-0.10</td>\n",
       "      <td>-0.50</td>\n",
       "      <td>-0.06</td>\n",
       "      <td>0.18</td>\n",
       "      <td>-0.10</td>\n",
       "      <td>-0.23</td>\n",
       "      <td>0.09</td>\n",
       "      <td>-0.67</td>\n",
       "      <td>-0.62</td>\n",
       "      <td>-0.57</td>\n",
       "    </tr>\n",
       "    <tr>\n",
       "      <th>dew_point_2m</th>\n",
       "      <td>0.14</td>\n",
       "      <td>-0.32</td>\n",
       "      <td>-0.15</td>\n",
       "      <td>-0.01</td>\n",
       "      <td>-0.01</td>\n",
       "      <td>-0.10</td>\n",
       "      <td>0.87</td>\n",
       "      <td>-0.10</td>\n",
       "      <td>1.00</td>\n",
       "      <td>0.90</td>\n",
       "      <td>-0.09</td>\n",
       "      <td>0.10</td>\n",
       "      <td>-0.06</td>\n",
       "      <td>0.01</td>\n",
       "      <td>0.14</td>\n",
       "      <td>0.21</td>\n",
       "      <td>0.17</td>\n",
       "      <td>0.23</td>\n",
       "    </tr>\n",
       "    <tr>\n",
       "      <th>apparent_temperature</th>\n",
       "      <td>0.18</td>\n",
       "      <td>-0.30</td>\n",
       "      <td>-0.16</td>\n",
       "      <td>-0.00</td>\n",
       "      <td>0.00</td>\n",
       "      <td>-0.10</td>\n",
       "      <td>0.99</td>\n",
       "      <td>-0.50</td>\n",
       "      <td>0.90</td>\n",
       "      <td>1.00</td>\n",
       "      <td>-0.01</td>\n",
       "      <td>-0.02</td>\n",
       "      <td>-0.14</td>\n",
       "      <td>-0.02</td>\n",
       "      <td>0.07</td>\n",
       "      <td>0.48</td>\n",
       "      <td>0.43</td>\n",
       "      <td>0.43</td>\n",
       "    </tr>\n",
       "    <tr>\n",
       "      <th>surface_pressure</th>\n",
       "      <td>-0.02</td>\n",
       "      <td>-0.02</td>\n",
       "      <td>0.00</td>\n",
       "      <td>-0.01</td>\n",
       "      <td>0.00</td>\n",
       "      <td>-0.01</td>\n",
       "      <td>-0.04</td>\n",
       "      <td>-0.06</td>\n",
       "      <td>-0.09</td>\n",
       "      <td>-0.01</td>\n",
       "      <td>1.00</td>\n",
       "      <td>-0.27</td>\n",
       "      <td>-0.35</td>\n",
       "      <td>-0.37</td>\n",
       "      <td>-0.12</td>\n",
       "      <td>0.05</td>\n",
       "      <td>0.07</td>\n",
       "      <td>-0.01</td>\n",
       "    </tr>\n",
       "    <tr>\n",
       "      <th>cloudcover</th>\n",
       "      <td>-0.02</td>\n",
       "      <td>-0.02</td>\n",
       "      <td>0.05</td>\n",
       "      <td>0.01</td>\n",
       "      <td>0.03</td>\n",
       "      <td>0.03</td>\n",
       "      <td>-0.01</td>\n",
       "      <td>0.18</td>\n",
       "      <td>0.10</td>\n",
       "      <td>-0.02</td>\n",
       "      <td>-0.27</td>\n",
       "      <td>1.00</td>\n",
       "      <td>0.18</td>\n",
       "      <td>0.20</td>\n",
       "      <td>0.18</td>\n",
       "      <td>-0.12</td>\n",
       "      <td>-0.24</td>\n",
       "      <td>0.14</td>\n",
       "    </tr>\n",
       "    <tr>\n",
       "      <th>windspeed_10m</th>\n",
       "      <td>-0.01</td>\n",
       "      <td>-0.02</td>\n",
       "      <td>0.05</td>\n",
       "      <td>0.02</td>\n",
       "      <td>0.02</td>\n",
       "      <td>0.03</td>\n",
       "      <td>-0.01</td>\n",
       "      <td>-0.10</td>\n",
       "      <td>-0.06</td>\n",
       "      <td>-0.14</td>\n",
       "      <td>-0.35</td>\n",
       "      <td>0.18</td>\n",
       "      <td>1.00</td>\n",
       "      <td>0.95</td>\n",
       "      <td>0.06</td>\n",
       "      <td>0.04</td>\n",
       "      <td>0.00</td>\n",
       "      <td>0.09</td>\n",
       "    </tr>\n",
       "    <tr>\n",
       "      <th>windgusts_10m</th>\n",
       "      <td>0.02</td>\n",
       "      <td>-0.04</td>\n",
       "      <td>0.04</td>\n",
       "      <td>0.02</td>\n",
       "      <td>0.04</td>\n",
       "      <td>0.04</td>\n",
       "      <td>0.11</td>\n",
       "      <td>-0.23</td>\n",
       "      <td>0.01</td>\n",
       "      <td>-0.02</td>\n",
       "      <td>-0.37</td>\n",
       "      <td>0.20</td>\n",
       "      <td>0.95</td>\n",
       "      <td>1.00</td>\n",
       "      <td>0.09</td>\n",
       "      <td>0.22</td>\n",
       "      <td>0.17</td>\n",
       "      <td>0.27</td>\n",
       "    </tr>\n",
       "    <tr>\n",
       "      <th>winddirection_10m</th>\n",
       "      <td>0.00</td>\n",
       "      <td>-0.05</td>\n",
       "      <td>-0.03</td>\n",
       "      <td>-0.01</td>\n",
       "      <td>0.00</td>\n",
       "      <td>-0.03</td>\n",
       "      <td>0.07</td>\n",
       "      <td>0.09</td>\n",
       "      <td>0.14</td>\n",
       "      <td>0.07</td>\n",
       "      <td>-0.12</td>\n",
       "      <td>0.18</td>\n",
       "      <td>0.06</td>\n",
       "      <td>0.09</td>\n",
       "      <td>1.00</td>\n",
       "      <td>-0.06</td>\n",
       "      <td>-0.10</td>\n",
       "      <td>0.03</td>\n",
       "    </tr>\n",
       "    <tr>\n",
       "      <th>shortwave_radiation</th>\n",
       "      <td>0.10</td>\n",
       "      <td>-0.12</td>\n",
       "      <td>-0.05</td>\n",
       "      <td>0.01</td>\n",
       "      <td>0.05</td>\n",
       "      <td>0.06</td>\n",
       "      <td>0.51</td>\n",
       "      <td>-0.67</td>\n",
       "      <td>0.21</td>\n",
       "      <td>0.48</td>\n",
       "      <td>0.05</td>\n",
       "      <td>-0.12</td>\n",
       "      <td>0.04</td>\n",
       "      <td>0.22</td>\n",
       "      <td>-0.06</td>\n",
       "      <td>1.00</td>\n",
       "      <td>0.95</td>\n",
       "      <td>0.82</td>\n",
       "    </tr>\n",
       "    <tr>\n",
       "      <th>direct_radiation</th>\n",
       "      <td>0.09</td>\n",
       "      <td>-0.09</td>\n",
       "      <td>-0.05</td>\n",
       "      <td>0.01</td>\n",
       "      <td>0.03</td>\n",
       "      <td>0.04</td>\n",
       "      <td>0.46</td>\n",
       "      <td>-0.62</td>\n",
       "      <td>0.17</td>\n",
       "      <td>0.43</td>\n",
       "      <td>0.07</td>\n",
       "      <td>-0.24</td>\n",
       "      <td>0.00</td>\n",
       "      <td>0.17</td>\n",
       "      <td>-0.10</td>\n",
       "      <td>0.95</td>\n",
       "      <td>1.00</td>\n",
       "      <td>0.59</td>\n",
       "    </tr>\n",
       "    <tr>\n",
       "      <th>diffuse_radiation</th>\n",
       "      <td>0.09</td>\n",
       "      <td>-0.13</td>\n",
       "      <td>-0.04</td>\n",
       "      <td>0.02</td>\n",
       "      <td>0.07</td>\n",
       "      <td>0.07</td>\n",
       "      <td>0.46</td>\n",
       "      <td>-0.57</td>\n",
       "      <td>0.23</td>\n",
       "      <td>0.43</td>\n",
       "      <td>-0.01</td>\n",
       "      <td>0.14</td>\n",
       "      <td>0.09</td>\n",
       "      <td>0.27</td>\n",
       "      <td>0.03</td>\n",
       "      <td>0.82</td>\n",
       "      <td>0.59</td>\n",
       "      <td>1.00</td>\n",
       "    </tr>\n",
       "  </tbody>\n",
       "</table>\n",
       "</div>"
      ],
      "text/plain": [
       "                       Global_reactive_power  Voltage  Global_intensity  \\\n",
       "Global_reactive_power                   1.00    -0.11              0.27   \n",
       "Voltage                                -0.11     1.00             -0.41   \n",
       "Global_intensity                        0.27    -0.41              1.00   \n",
       "Sub_metering_1                          0.12    -0.20              0.49   \n",
       "Sub_metering_2                          0.14    -0.17              0.44   \n",
       "Sub_metering_3                          0.09    -0.27              0.63   \n",
       "temperature_2m                          0.18    -0.30             -0.15   \n",
       "relative_humidity_2m                   -0.15     0.10              0.04   \n",
       "dew_point_2m                            0.14    -0.32             -0.15   \n",
       "apparent_temperature                    0.18    -0.30             -0.16   \n",
       "surface_pressure                       -0.02    -0.02              0.00   \n",
       "cloudcover                             -0.02    -0.02              0.05   \n",
       "windspeed_10m                          -0.01    -0.02              0.05   \n",
       "windgusts_10m                           0.02    -0.04              0.04   \n",
       "winddirection_10m                       0.00    -0.05             -0.03   \n",
       "shortwave_radiation                     0.10    -0.12             -0.05   \n",
       "direct_radiation                        0.09    -0.09             -0.05   \n",
       "diffuse_radiation                       0.09    -0.13             -0.04   \n",
       "\n",
       "                       Sub_metering_1  Sub_metering_2  Sub_metering_3  \\\n",
       "Global_reactive_power            0.12            0.14            0.09   \n",
       "Voltage                         -0.20           -0.17           -0.27   \n",
       "Global_intensity                 0.49            0.44            0.63   \n",
       "Sub_metering_1                   1.00            0.05            0.10   \n",
       "Sub_metering_2                   0.05            1.00            0.08   \n",
       "Sub_metering_3                   0.10            0.08            1.00   \n",
       "temperature_2m                   0.00            0.01           -0.10   \n",
       "relative_humidity_2m            -0.03           -0.04            0.03   \n",
       "dew_point_2m                    -0.01           -0.01           -0.10   \n",
       "apparent_temperature            -0.00            0.00           -0.10   \n",
       "surface_pressure                -0.01            0.00           -0.01   \n",
       "cloudcover                       0.01            0.03            0.03   \n",
       "windspeed_10m                    0.02            0.02            0.03   \n",
       "windgusts_10m                    0.02            0.04            0.04   \n",
       "winddirection_10m               -0.01            0.00           -0.03   \n",
       "shortwave_radiation              0.01            0.05            0.06   \n",
       "direct_radiation                 0.01            0.03            0.04   \n",
       "diffuse_radiation                0.02            0.07            0.07   \n",
       "\n",
       "                       temperature_2m  relative_humidity_2m  dew_point_2m  \\\n",
       "Global_reactive_power            0.18                 -0.15          0.14   \n",
       "Voltage                         -0.30                  0.10         -0.32   \n",
       "Global_intensity                -0.15                  0.04         -0.15   \n",
       "Sub_metering_1                   0.00                 -0.03         -0.01   \n",
       "Sub_metering_2                   0.01                 -0.04         -0.01   \n",
       "Sub_metering_3                  -0.10                  0.03         -0.10   \n",
       "temperature_2m                   1.00                 -0.57          0.87   \n",
       "relative_humidity_2m            -0.57                  1.00         -0.10   \n",
       "dew_point_2m                     0.87                 -0.10          1.00   \n",
       "apparent_temperature             0.99                 -0.50          0.90   \n",
       "surface_pressure                -0.04                 -0.06         -0.09   \n",
       "cloudcover                      -0.01                  0.18          0.10   \n",
       "windspeed_10m                   -0.01                 -0.10         -0.06   \n",
       "windgusts_10m                    0.11                 -0.23          0.01   \n",
       "winddirection_10m                0.07                  0.09          0.14   \n",
       "shortwave_radiation              0.51                 -0.67          0.21   \n",
       "direct_radiation                 0.46                 -0.62          0.17   \n",
       "diffuse_radiation                0.46                 -0.57          0.23   \n",
       "\n",
       "                       apparent_temperature  surface_pressure  cloudcover  \\\n",
       "Global_reactive_power                  0.18             -0.02       -0.02   \n",
       "Voltage                               -0.30             -0.02       -0.02   \n",
       "Global_intensity                      -0.16              0.00        0.05   \n",
       "Sub_metering_1                        -0.00             -0.01        0.01   \n",
       "Sub_metering_2                         0.00              0.00        0.03   \n",
       "Sub_metering_3                        -0.10             -0.01        0.03   \n",
       "temperature_2m                         0.99             -0.04       -0.01   \n",
       "relative_humidity_2m                  -0.50             -0.06        0.18   \n",
       "dew_point_2m                           0.90             -0.09        0.10   \n",
       "apparent_temperature                   1.00             -0.01       -0.02   \n",
       "surface_pressure                      -0.01              1.00       -0.27   \n",
       "cloudcover                            -0.02             -0.27        1.00   \n",
       "windspeed_10m                         -0.14             -0.35        0.18   \n",
       "windgusts_10m                         -0.02             -0.37        0.20   \n",
       "winddirection_10m                      0.07             -0.12        0.18   \n",
       "shortwave_radiation                    0.48              0.05       -0.12   \n",
       "direct_radiation                       0.43              0.07       -0.24   \n",
       "diffuse_radiation                      0.43             -0.01        0.14   \n",
       "\n",
       "                       windspeed_10m  windgusts_10m  winddirection_10m  \\\n",
       "Global_reactive_power          -0.01           0.02               0.00   \n",
       "Voltage                        -0.02          -0.04              -0.05   \n",
       "Global_intensity                0.05           0.04              -0.03   \n",
       "Sub_metering_1                  0.02           0.02              -0.01   \n",
       "Sub_metering_2                  0.02           0.04               0.00   \n",
       "Sub_metering_3                  0.03           0.04              -0.03   \n",
       "temperature_2m                 -0.01           0.11               0.07   \n",
       "relative_humidity_2m           -0.10          -0.23               0.09   \n",
       "dew_point_2m                   -0.06           0.01               0.14   \n",
       "apparent_temperature           -0.14          -0.02               0.07   \n",
       "surface_pressure               -0.35          -0.37              -0.12   \n",
       "cloudcover                      0.18           0.20               0.18   \n",
       "windspeed_10m                   1.00           0.95               0.06   \n",
       "windgusts_10m                   0.95           1.00               0.09   \n",
       "winddirection_10m               0.06           0.09               1.00   \n",
       "shortwave_radiation             0.04           0.22              -0.06   \n",
       "direct_radiation                0.00           0.17              -0.10   \n",
       "diffuse_radiation               0.09           0.27               0.03   \n",
       "\n",
       "                       shortwave_radiation  direct_radiation  \\\n",
       "Global_reactive_power                 0.10              0.09   \n",
       "Voltage                              -0.12             -0.09   \n",
       "Global_intensity                     -0.05             -0.05   \n",
       "Sub_metering_1                        0.01              0.01   \n",
       "Sub_metering_2                        0.05              0.03   \n",
       "Sub_metering_3                        0.06              0.04   \n",
       "temperature_2m                        0.51              0.46   \n",
       "relative_humidity_2m                 -0.67             -0.62   \n",
       "dew_point_2m                          0.21              0.17   \n",
       "apparent_temperature                  0.48              0.43   \n",
       "surface_pressure                      0.05              0.07   \n",
       "cloudcover                           -0.12             -0.24   \n",
       "windspeed_10m                         0.04              0.00   \n",
       "windgusts_10m                         0.22              0.17   \n",
       "winddirection_10m                    -0.06             -0.10   \n",
       "shortwave_radiation                   1.00              0.95   \n",
       "direct_radiation                      0.95              1.00   \n",
       "diffuse_radiation                     0.82              0.59   \n",
       "\n",
       "                       diffuse_radiation  \n",
       "Global_reactive_power               0.09  \n",
       "Voltage                            -0.13  \n",
       "Global_intensity                   -0.04  \n",
       "Sub_metering_1                      0.02  \n",
       "Sub_metering_2                      0.07  \n",
       "Sub_metering_3                      0.07  \n",
       "temperature_2m                      0.46  \n",
       "relative_humidity_2m               -0.57  \n",
       "dew_point_2m                        0.23  \n",
       "apparent_temperature                0.43  \n",
       "surface_pressure                   -0.01  \n",
       "cloudcover                          0.14  \n",
       "windspeed_10m                       0.09  \n",
       "windgusts_10m                       0.27  \n",
       "winddirection_10m                   0.03  \n",
       "shortwave_radiation                 0.82  \n",
       "direct_radiation                    0.59  \n",
       "diffuse_radiation                   1.00  "
      ]
     },
     "execution_count": 76,
     "metadata": {},
     "output_type": "execute_result"
    }
   ],
   "source": [
    "corr_df = X.corr()\n",
    "\n",
    "corr_df"
   ]
  },
  {
   "cell_type": "code",
   "execution_count": 79,
   "metadata": {},
   "outputs": [
    {
     "data": {
      "text/html": [
       "<div>\n",
       "<style scoped>\n",
       "    .dataframe tbody tr th:only-of-type {\n",
       "        vertical-align: middle;\n",
       "    }\n",
       "\n",
       "    .dataframe tbody tr th {\n",
       "        vertical-align: top;\n",
       "    }\n",
       "\n",
       "    .dataframe thead th {\n",
       "        text-align: right;\n",
       "    }\n",
       "</style>\n",
       "<table border=\"1\" class=\"dataframe\">\n",
       "  <thead>\n",
       "    <tr style=\"text-align: right;\">\n",
       "      <th></th>\n",
       "      <th>Global_reactive_power</th>\n",
       "      <th>Voltage</th>\n",
       "      <th>Global_intensity</th>\n",
       "      <th>Sub_metering_1</th>\n",
       "      <th>Sub_metering_2</th>\n",
       "      <th>Sub_metering_3</th>\n",
       "      <th>temperature_2m</th>\n",
       "      <th>relative_humidity_2m</th>\n",
       "      <th>dew_point_2m</th>\n",
       "      <th>apparent_temperature</th>\n",
       "      <th>surface_pressure</th>\n",
       "      <th>cloudcover</th>\n",
       "      <th>windspeed_10m</th>\n",
       "      <th>windgusts_10m</th>\n",
       "      <th>winddirection_10m</th>\n",
       "      <th>shortwave_radiation</th>\n",
       "      <th>direct_radiation</th>\n",
       "      <th>diffuse_radiation</th>\n",
       "    </tr>\n",
       "  </thead>\n",
       "  <tbody>\n",
       "    <tr>\n",
       "      <th>Global_reactive_power</th>\n",
       "      <td>1.00</td>\n",
       "      <td>NaN</td>\n",
       "      <td>NaN</td>\n",
       "      <td>NaN</td>\n",
       "      <td>NaN</td>\n",
       "      <td>NaN</td>\n",
       "      <td>NaN</td>\n",
       "      <td>NaN</td>\n",
       "      <td>NaN</td>\n",
       "      <td>NaN</td>\n",
       "      <td>NaN</td>\n",
       "      <td>NaN</td>\n",
       "      <td>NaN</td>\n",
       "      <td>NaN</td>\n",
       "      <td>NaN</td>\n",
       "      <td>NaN</td>\n",
       "      <td>NaN</td>\n",
       "      <td>NaN</td>\n",
       "    </tr>\n",
       "    <tr>\n",
       "      <th>Voltage</th>\n",
       "      <td>NaN</td>\n",
       "      <td>1.00</td>\n",
       "      <td>NaN</td>\n",
       "      <td>NaN</td>\n",
       "      <td>NaN</td>\n",
       "      <td>NaN</td>\n",
       "      <td>NaN</td>\n",
       "      <td>NaN</td>\n",
       "      <td>NaN</td>\n",
       "      <td>NaN</td>\n",
       "      <td>NaN</td>\n",
       "      <td>NaN</td>\n",
       "      <td>NaN</td>\n",
       "      <td>NaN</td>\n",
       "      <td>NaN</td>\n",
       "      <td>NaN</td>\n",
       "      <td>NaN</td>\n",
       "      <td>NaN</td>\n",
       "    </tr>\n",
       "    <tr>\n",
       "      <th>Global_intensity</th>\n",
       "      <td>NaN</td>\n",
       "      <td>NaN</td>\n",
       "      <td>1.00</td>\n",
       "      <td>NaN</td>\n",
       "      <td>NaN</td>\n",
       "      <td>0.63</td>\n",
       "      <td>NaN</td>\n",
       "      <td>NaN</td>\n",
       "      <td>NaN</td>\n",
       "      <td>NaN</td>\n",
       "      <td>NaN</td>\n",
       "      <td>NaN</td>\n",
       "      <td>NaN</td>\n",
       "      <td>NaN</td>\n",
       "      <td>NaN</td>\n",
       "      <td>NaN</td>\n",
       "      <td>NaN</td>\n",
       "      <td>NaN</td>\n",
       "    </tr>\n",
       "    <tr>\n",
       "      <th>Sub_metering_1</th>\n",
       "      <td>NaN</td>\n",
       "      <td>NaN</td>\n",
       "      <td>NaN</td>\n",
       "      <td>1.00</td>\n",
       "      <td>NaN</td>\n",
       "      <td>NaN</td>\n",
       "      <td>NaN</td>\n",
       "      <td>NaN</td>\n",
       "      <td>NaN</td>\n",
       "      <td>NaN</td>\n",
       "      <td>NaN</td>\n",
       "      <td>NaN</td>\n",
       "      <td>NaN</td>\n",
       "      <td>NaN</td>\n",
       "      <td>NaN</td>\n",
       "      <td>NaN</td>\n",
       "      <td>NaN</td>\n",
       "      <td>NaN</td>\n",
       "    </tr>\n",
       "    <tr>\n",
       "      <th>Sub_metering_2</th>\n",
       "      <td>NaN</td>\n",
       "      <td>NaN</td>\n",
       "      <td>NaN</td>\n",
       "      <td>NaN</td>\n",
       "      <td>1.00</td>\n",
       "      <td>NaN</td>\n",
       "      <td>NaN</td>\n",
       "      <td>NaN</td>\n",
       "      <td>NaN</td>\n",
       "      <td>NaN</td>\n",
       "      <td>NaN</td>\n",
       "      <td>NaN</td>\n",
       "      <td>NaN</td>\n",
       "      <td>NaN</td>\n",
       "      <td>NaN</td>\n",
       "      <td>NaN</td>\n",
       "      <td>NaN</td>\n",
       "      <td>NaN</td>\n",
       "    </tr>\n",
       "    <tr>\n",
       "      <th>Sub_metering_3</th>\n",
       "      <td>NaN</td>\n",
       "      <td>NaN</td>\n",
       "      <td>0.63</td>\n",
       "      <td>NaN</td>\n",
       "      <td>NaN</td>\n",
       "      <td>1.00</td>\n",
       "      <td>NaN</td>\n",
       "      <td>NaN</td>\n",
       "      <td>NaN</td>\n",
       "      <td>NaN</td>\n",
       "      <td>NaN</td>\n",
       "      <td>NaN</td>\n",
       "      <td>NaN</td>\n",
       "      <td>NaN</td>\n",
       "      <td>NaN</td>\n",
       "      <td>NaN</td>\n",
       "      <td>NaN</td>\n",
       "      <td>NaN</td>\n",
       "    </tr>\n",
       "    <tr>\n",
       "      <th>temperature_2m</th>\n",
       "      <td>NaN</td>\n",
       "      <td>NaN</td>\n",
       "      <td>NaN</td>\n",
       "      <td>NaN</td>\n",
       "      <td>NaN</td>\n",
       "      <td>NaN</td>\n",
       "      <td>1.00</td>\n",
       "      <td>-0.57</td>\n",
       "      <td>0.87</td>\n",
       "      <td>0.99</td>\n",
       "      <td>NaN</td>\n",
       "      <td>NaN</td>\n",
       "      <td>NaN</td>\n",
       "      <td>NaN</td>\n",
       "      <td>NaN</td>\n",
       "      <td>0.51</td>\n",
       "      <td>NaN</td>\n",
       "      <td>NaN</td>\n",
       "    </tr>\n",
       "    <tr>\n",
       "      <th>relative_humidity_2m</th>\n",
       "      <td>NaN</td>\n",
       "      <td>NaN</td>\n",
       "      <td>NaN</td>\n",
       "      <td>NaN</td>\n",
       "      <td>NaN</td>\n",
       "      <td>NaN</td>\n",
       "      <td>-0.57</td>\n",
       "      <td>1.00</td>\n",
       "      <td>NaN</td>\n",
       "      <td>NaN</td>\n",
       "      <td>NaN</td>\n",
       "      <td>NaN</td>\n",
       "      <td>NaN</td>\n",
       "      <td>NaN</td>\n",
       "      <td>NaN</td>\n",
       "      <td>-0.67</td>\n",
       "      <td>-0.62</td>\n",
       "      <td>-0.57</td>\n",
       "    </tr>\n",
       "    <tr>\n",
       "      <th>dew_point_2m</th>\n",
       "      <td>NaN</td>\n",
       "      <td>NaN</td>\n",
       "      <td>NaN</td>\n",
       "      <td>NaN</td>\n",
       "      <td>NaN</td>\n",
       "      <td>NaN</td>\n",
       "      <td>0.87</td>\n",
       "      <td>NaN</td>\n",
       "      <td>1.00</td>\n",
       "      <td>0.90</td>\n",
       "      <td>NaN</td>\n",
       "      <td>NaN</td>\n",
       "      <td>NaN</td>\n",
       "      <td>NaN</td>\n",
       "      <td>NaN</td>\n",
       "      <td>NaN</td>\n",
       "      <td>NaN</td>\n",
       "      <td>NaN</td>\n",
       "    </tr>\n",
       "    <tr>\n",
       "      <th>apparent_temperature</th>\n",
       "      <td>NaN</td>\n",
       "      <td>NaN</td>\n",
       "      <td>NaN</td>\n",
       "      <td>NaN</td>\n",
       "      <td>NaN</td>\n",
       "      <td>NaN</td>\n",
       "      <td>0.99</td>\n",
       "      <td>NaN</td>\n",
       "      <td>0.90</td>\n",
       "      <td>1.00</td>\n",
       "      <td>NaN</td>\n",
       "      <td>NaN</td>\n",
       "      <td>NaN</td>\n",
       "      <td>NaN</td>\n",
       "      <td>NaN</td>\n",
       "      <td>NaN</td>\n",
       "      <td>NaN</td>\n",
       "      <td>NaN</td>\n",
       "    </tr>\n",
       "    <tr>\n",
       "      <th>surface_pressure</th>\n",
       "      <td>NaN</td>\n",
       "      <td>NaN</td>\n",
       "      <td>NaN</td>\n",
       "      <td>NaN</td>\n",
       "      <td>NaN</td>\n",
       "      <td>NaN</td>\n",
       "      <td>NaN</td>\n",
       "      <td>NaN</td>\n",
       "      <td>NaN</td>\n",
       "      <td>NaN</td>\n",
       "      <td>1.00</td>\n",
       "      <td>NaN</td>\n",
       "      <td>NaN</td>\n",
       "      <td>NaN</td>\n",
       "      <td>NaN</td>\n",
       "      <td>NaN</td>\n",
       "      <td>NaN</td>\n",
       "      <td>NaN</td>\n",
       "    </tr>\n",
       "    <tr>\n",
       "      <th>cloudcover</th>\n",
       "      <td>NaN</td>\n",
       "      <td>NaN</td>\n",
       "      <td>NaN</td>\n",
       "      <td>NaN</td>\n",
       "      <td>NaN</td>\n",
       "      <td>NaN</td>\n",
       "      <td>NaN</td>\n",
       "      <td>NaN</td>\n",
       "      <td>NaN</td>\n",
       "      <td>NaN</td>\n",
       "      <td>NaN</td>\n",
       "      <td>1.00</td>\n",
       "      <td>NaN</td>\n",
       "      <td>NaN</td>\n",
       "      <td>NaN</td>\n",
       "      <td>NaN</td>\n",
       "      <td>NaN</td>\n",
       "      <td>NaN</td>\n",
       "    </tr>\n",
       "    <tr>\n",
       "      <th>windspeed_10m</th>\n",
       "      <td>NaN</td>\n",
       "      <td>NaN</td>\n",
       "      <td>NaN</td>\n",
       "      <td>NaN</td>\n",
       "      <td>NaN</td>\n",
       "      <td>NaN</td>\n",
       "      <td>NaN</td>\n",
       "      <td>NaN</td>\n",
       "      <td>NaN</td>\n",
       "      <td>NaN</td>\n",
       "      <td>NaN</td>\n",
       "      <td>NaN</td>\n",
       "      <td>1.00</td>\n",
       "      <td>0.95</td>\n",
       "      <td>NaN</td>\n",
       "      <td>NaN</td>\n",
       "      <td>NaN</td>\n",
       "      <td>NaN</td>\n",
       "    </tr>\n",
       "    <tr>\n",
       "      <th>windgusts_10m</th>\n",
       "      <td>NaN</td>\n",
       "      <td>NaN</td>\n",
       "      <td>NaN</td>\n",
       "      <td>NaN</td>\n",
       "      <td>NaN</td>\n",
       "      <td>NaN</td>\n",
       "      <td>NaN</td>\n",
       "      <td>NaN</td>\n",
       "      <td>NaN</td>\n",
       "      <td>NaN</td>\n",
       "      <td>NaN</td>\n",
       "      <td>NaN</td>\n",
       "      <td>0.95</td>\n",
       "      <td>1.00</td>\n",
       "      <td>NaN</td>\n",
       "      <td>NaN</td>\n",
       "      <td>NaN</td>\n",
       "      <td>NaN</td>\n",
       "    </tr>\n",
       "    <tr>\n",
       "      <th>winddirection_10m</th>\n",
       "      <td>NaN</td>\n",
       "      <td>NaN</td>\n",
       "      <td>NaN</td>\n",
       "      <td>NaN</td>\n",
       "      <td>NaN</td>\n",
       "      <td>NaN</td>\n",
       "      <td>NaN</td>\n",
       "      <td>NaN</td>\n",
       "      <td>NaN</td>\n",
       "      <td>NaN</td>\n",
       "      <td>NaN</td>\n",
       "      <td>NaN</td>\n",
       "      <td>NaN</td>\n",
       "      <td>NaN</td>\n",
       "      <td>1.00</td>\n",
       "      <td>NaN</td>\n",
       "      <td>NaN</td>\n",
       "      <td>NaN</td>\n",
       "    </tr>\n",
       "    <tr>\n",
       "      <th>shortwave_radiation</th>\n",
       "      <td>NaN</td>\n",
       "      <td>NaN</td>\n",
       "      <td>NaN</td>\n",
       "      <td>NaN</td>\n",
       "      <td>NaN</td>\n",
       "      <td>NaN</td>\n",
       "      <td>0.51</td>\n",
       "      <td>-0.67</td>\n",
       "      <td>NaN</td>\n",
       "      <td>NaN</td>\n",
       "      <td>NaN</td>\n",
       "      <td>NaN</td>\n",
       "      <td>NaN</td>\n",
       "      <td>NaN</td>\n",
       "      <td>NaN</td>\n",
       "      <td>1.00</td>\n",
       "      <td>0.95</td>\n",
       "      <td>0.82</td>\n",
       "    </tr>\n",
       "    <tr>\n",
       "      <th>direct_radiation</th>\n",
       "      <td>NaN</td>\n",
       "      <td>NaN</td>\n",
       "      <td>NaN</td>\n",
       "      <td>NaN</td>\n",
       "      <td>NaN</td>\n",
       "      <td>NaN</td>\n",
       "      <td>NaN</td>\n",
       "      <td>-0.62</td>\n",
       "      <td>NaN</td>\n",
       "      <td>NaN</td>\n",
       "      <td>NaN</td>\n",
       "      <td>NaN</td>\n",
       "      <td>NaN</td>\n",
       "      <td>NaN</td>\n",
       "      <td>NaN</td>\n",
       "      <td>0.95</td>\n",
       "      <td>1.00</td>\n",
       "      <td>0.59</td>\n",
       "    </tr>\n",
       "    <tr>\n",
       "      <th>diffuse_radiation</th>\n",
       "      <td>NaN</td>\n",
       "      <td>NaN</td>\n",
       "      <td>NaN</td>\n",
       "      <td>NaN</td>\n",
       "      <td>NaN</td>\n",
       "      <td>NaN</td>\n",
       "      <td>NaN</td>\n",
       "      <td>-0.57</td>\n",
       "      <td>NaN</td>\n",
       "      <td>NaN</td>\n",
       "      <td>NaN</td>\n",
       "      <td>NaN</td>\n",
       "      <td>NaN</td>\n",
       "      <td>NaN</td>\n",
       "      <td>NaN</td>\n",
       "      <td>0.82</td>\n",
       "      <td>0.59</td>\n",
       "      <td>1.00</td>\n",
       "    </tr>\n",
       "  </tbody>\n",
       "</table>\n",
       "</div>"
      ],
      "text/plain": [
       "                       Global_reactive_power  Voltage  Global_intensity  \\\n",
       "Global_reactive_power                   1.00      NaN               NaN   \n",
       "Voltage                                  NaN     1.00               NaN   \n",
       "Global_intensity                         NaN      NaN              1.00   \n",
       "Sub_metering_1                           NaN      NaN               NaN   \n",
       "Sub_metering_2                           NaN      NaN               NaN   \n",
       "Sub_metering_3                           NaN      NaN              0.63   \n",
       "temperature_2m                           NaN      NaN               NaN   \n",
       "relative_humidity_2m                     NaN      NaN               NaN   \n",
       "dew_point_2m                             NaN      NaN               NaN   \n",
       "apparent_temperature                     NaN      NaN               NaN   \n",
       "surface_pressure                         NaN      NaN               NaN   \n",
       "cloudcover                               NaN      NaN               NaN   \n",
       "windspeed_10m                            NaN      NaN               NaN   \n",
       "windgusts_10m                            NaN      NaN               NaN   \n",
       "winddirection_10m                        NaN      NaN               NaN   \n",
       "shortwave_radiation                      NaN      NaN               NaN   \n",
       "direct_radiation                         NaN      NaN               NaN   \n",
       "diffuse_radiation                        NaN      NaN               NaN   \n",
       "\n",
       "                       Sub_metering_1  Sub_metering_2  Sub_metering_3  \\\n",
       "Global_reactive_power             NaN             NaN             NaN   \n",
       "Voltage                           NaN             NaN             NaN   \n",
       "Global_intensity                  NaN             NaN            0.63   \n",
       "Sub_metering_1                   1.00             NaN             NaN   \n",
       "Sub_metering_2                    NaN            1.00             NaN   \n",
       "Sub_metering_3                    NaN             NaN            1.00   \n",
       "temperature_2m                    NaN             NaN             NaN   \n",
       "relative_humidity_2m              NaN             NaN             NaN   \n",
       "dew_point_2m                      NaN             NaN             NaN   \n",
       "apparent_temperature              NaN             NaN             NaN   \n",
       "surface_pressure                  NaN             NaN             NaN   \n",
       "cloudcover                        NaN             NaN             NaN   \n",
       "windspeed_10m                     NaN             NaN             NaN   \n",
       "windgusts_10m                     NaN             NaN             NaN   \n",
       "winddirection_10m                 NaN             NaN             NaN   \n",
       "shortwave_radiation               NaN             NaN             NaN   \n",
       "direct_radiation                  NaN             NaN             NaN   \n",
       "diffuse_radiation                 NaN             NaN             NaN   \n",
       "\n",
       "                       temperature_2m  relative_humidity_2m  dew_point_2m  \\\n",
       "Global_reactive_power             NaN                   NaN           NaN   \n",
       "Voltage                           NaN                   NaN           NaN   \n",
       "Global_intensity                  NaN                   NaN           NaN   \n",
       "Sub_metering_1                    NaN                   NaN           NaN   \n",
       "Sub_metering_2                    NaN                   NaN           NaN   \n",
       "Sub_metering_3                    NaN                   NaN           NaN   \n",
       "temperature_2m                   1.00                 -0.57          0.87   \n",
       "relative_humidity_2m            -0.57                  1.00           NaN   \n",
       "dew_point_2m                     0.87                   NaN          1.00   \n",
       "apparent_temperature             0.99                   NaN          0.90   \n",
       "surface_pressure                  NaN                   NaN           NaN   \n",
       "cloudcover                        NaN                   NaN           NaN   \n",
       "windspeed_10m                     NaN                   NaN           NaN   \n",
       "windgusts_10m                     NaN                   NaN           NaN   \n",
       "winddirection_10m                 NaN                   NaN           NaN   \n",
       "shortwave_radiation              0.51                 -0.67           NaN   \n",
       "direct_radiation                  NaN                 -0.62           NaN   \n",
       "diffuse_radiation                 NaN                 -0.57           NaN   \n",
       "\n",
       "                       apparent_temperature  surface_pressure  cloudcover  \\\n",
       "Global_reactive_power                   NaN               NaN         NaN   \n",
       "Voltage                                 NaN               NaN         NaN   \n",
       "Global_intensity                        NaN               NaN         NaN   \n",
       "Sub_metering_1                          NaN               NaN         NaN   \n",
       "Sub_metering_2                          NaN               NaN         NaN   \n",
       "Sub_metering_3                          NaN               NaN         NaN   \n",
       "temperature_2m                         0.99               NaN         NaN   \n",
       "relative_humidity_2m                    NaN               NaN         NaN   \n",
       "dew_point_2m                           0.90               NaN         NaN   \n",
       "apparent_temperature                   1.00               NaN         NaN   \n",
       "surface_pressure                        NaN              1.00         NaN   \n",
       "cloudcover                              NaN               NaN        1.00   \n",
       "windspeed_10m                           NaN               NaN         NaN   \n",
       "windgusts_10m                           NaN               NaN         NaN   \n",
       "winddirection_10m                       NaN               NaN         NaN   \n",
       "shortwave_radiation                     NaN               NaN         NaN   \n",
       "direct_radiation                        NaN               NaN         NaN   \n",
       "diffuse_radiation                       NaN               NaN         NaN   \n",
       "\n",
       "                       windspeed_10m  windgusts_10m  winddirection_10m  \\\n",
       "Global_reactive_power            NaN            NaN                NaN   \n",
       "Voltage                          NaN            NaN                NaN   \n",
       "Global_intensity                 NaN            NaN                NaN   \n",
       "Sub_metering_1                   NaN            NaN                NaN   \n",
       "Sub_metering_2                   NaN            NaN                NaN   \n",
       "Sub_metering_3                   NaN            NaN                NaN   \n",
       "temperature_2m                   NaN            NaN                NaN   \n",
       "relative_humidity_2m             NaN            NaN                NaN   \n",
       "dew_point_2m                     NaN            NaN                NaN   \n",
       "apparent_temperature             NaN            NaN                NaN   \n",
       "surface_pressure                 NaN            NaN                NaN   \n",
       "cloudcover                       NaN            NaN                NaN   \n",
       "windspeed_10m                   1.00           0.95                NaN   \n",
       "windgusts_10m                   0.95           1.00                NaN   \n",
       "winddirection_10m                NaN            NaN               1.00   \n",
       "shortwave_radiation              NaN            NaN                NaN   \n",
       "direct_radiation                 NaN            NaN                NaN   \n",
       "diffuse_radiation                NaN            NaN                NaN   \n",
       "\n",
       "                       shortwave_radiation  direct_radiation  \\\n",
       "Global_reactive_power                  NaN               NaN   \n",
       "Voltage                                NaN               NaN   \n",
       "Global_intensity                       NaN               NaN   \n",
       "Sub_metering_1                         NaN               NaN   \n",
       "Sub_metering_2                         NaN               NaN   \n",
       "Sub_metering_3                         NaN               NaN   \n",
       "temperature_2m                        0.51               NaN   \n",
       "relative_humidity_2m                 -0.67             -0.62   \n",
       "dew_point_2m                           NaN               NaN   \n",
       "apparent_temperature                   NaN               NaN   \n",
       "surface_pressure                       NaN               NaN   \n",
       "cloudcover                             NaN               NaN   \n",
       "windspeed_10m                          NaN               NaN   \n",
       "windgusts_10m                          NaN               NaN   \n",
       "winddirection_10m                      NaN               NaN   \n",
       "shortwave_radiation                   1.00              0.95   \n",
       "direct_radiation                      0.95              1.00   \n",
       "diffuse_radiation                     0.82              0.59   \n",
       "\n",
       "                       diffuse_radiation  \n",
       "Global_reactive_power                NaN  \n",
       "Voltage                              NaN  \n",
       "Global_intensity                     NaN  \n",
       "Sub_metering_1                       NaN  \n",
       "Sub_metering_2                       NaN  \n",
       "Sub_metering_3                       NaN  \n",
       "temperature_2m                       NaN  \n",
       "relative_humidity_2m               -0.57  \n",
       "dew_point_2m                         NaN  \n",
       "apparent_temperature                 NaN  \n",
       "surface_pressure                     NaN  \n",
       "cloudcover                           NaN  \n",
       "windspeed_10m                        NaN  \n",
       "windgusts_10m                        NaN  \n",
       "winddirection_10m                    NaN  \n",
       "shortwave_radiation                 0.82  \n",
       "direct_radiation                    0.59  \n",
       "diffuse_radiation                   1.00  "
      ]
     },
     "execution_count": 79,
     "metadata": {},
     "output_type": "execute_result"
    }
   ],
   "source": [
    "corr_df.where(np.abs(corr_df) > 0.5)"
   ]
  },
  {
   "cell_type": "markdown",
   "metadata": {},
   "source": [
    "### <a id='toc5_3_'></a>Detecting Multicollinearity With Variance Inflation Factors [&#8593;](#toc0_)\n",
    "\n",
    "Looking only at correlations won't detect multicollinearity, hence we need a new tool: the **Variance Inflation Factor** (VIF). \n",
    "\n",
    "In order to calculate it, we build a regression model of each independent variable against the other independent variables and look at the $R^2$ score. The VIF for each predictor is defined as \n",
    "$$\n",
    "\\text{VIF}_i = \\frac{1}{1-R_i^2}\n",
    "$$\n",
    "\n",
    "In a perfect scenario of no multicollinearity, the VIF for each predictor should be 1 (since the $R^2$ from each model would be 0, showing that the given independent variable can't be modeled by the other variables, hence no linear relationship). \n",
    "\n",
    "By common convention, any VIF value higher than 5 indicates high multicollinearity. Let's examine the VIF for the variables in our dataset:"
   ]
  },
  {
   "cell_type": "code",
   "execution_count": 93,
   "metadata": {},
   "outputs": [
    {
     "data": {
      "text/html": [
       "<div>\n",
       "<style scoped>\n",
       "    .dataframe tbody tr th:only-of-type {\n",
       "        vertical-align: middle;\n",
       "    }\n",
       "\n",
       "    .dataframe tbody tr th {\n",
       "        vertical-align: top;\n",
       "    }\n",
       "\n",
       "    .dataframe thead th {\n",
       "        text-align: right;\n",
       "    }\n",
       "</style>\n",
       "<table border=\"1\" class=\"dataframe\">\n",
       "  <thead>\n",
       "    <tr style=\"text-align: right;\">\n",
       "      <th></th>\n",
       "      <th>const</th>\n",
       "      <th>Global_reactive_power</th>\n",
       "      <th>Voltage</th>\n",
       "      <th>Global_intensity</th>\n",
       "      <th>Sub_metering_1</th>\n",
       "      <th>Sub_metering_2</th>\n",
       "      <th>Sub_metering_3</th>\n",
       "      <th>temperature_2m</th>\n",
       "      <th>relative_humidity_2m</th>\n",
       "      <th>surface_pressure</th>\n",
       "      <th>cloudcover</th>\n",
       "      <th>windspeed_10m</th>\n",
       "      <th>winddirection_10m</th>\n",
       "    </tr>\n",
       "    <tr>\n",
       "      <th>DateTime</th>\n",
       "      <th></th>\n",
       "      <th></th>\n",
       "      <th></th>\n",
       "      <th></th>\n",
       "      <th></th>\n",
       "      <th></th>\n",
       "      <th></th>\n",
       "      <th></th>\n",
       "      <th></th>\n",
       "      <th></th>\n",
       "      <th></th>\n",
       "      <th></th>\n",
       "      <th></th>\n",
       "    </tr>\n",
       "  </thead>\n",
       "  <tbody>\n",
       "    <tr>\n",
       "      <th>2006-12-16 17:24:00</th>\n",
       "      <td>1.00</td>\n",
       "      <td>0.42</td>\n",
       "      <td>234.84</td>\n",
       "      <td>18.40</td>\n",
       "      <td>0.00</td>\n",
       "      <td>1.00</td>\n",
       "      <td>17.00</td>\n",
       "      <td>7.12</td>\n",
       "      <td>94.20</td>\n",
       "      <td>1012.40</td>\n",
       "      <td>100.00</td>\n",
       "      <td>14.28</td>\n",
       "      <td>329.40</td>\n",
       "    </tr>\n",
       "    <tr>\n",
       "      <th>2006-12-16 17:25:00</th>\n",
       "      <td>1.00</td>\n",
       "      <td>0.44</td>\n",
       "      <td>233.63</td>\n",
       "      <td>23.00</td>\n",
       "      <td>0.00</td>\n",
       "      <td>1.00</td>\n",
       "      <td>16.00</td>\n",
       "      <td>7.11</td>\n",
       "      <td>94.17</td>\n",
       "      <td>1012.42</td>\n",
       "      <td>100.00</td>\n",
       "      <td>14.24</td>\n",
       "      <td>329.42</td>\n",
       "    </tr>\n",
       "    <tr>\n",
       "      <th>2006-12-16 17:26:00</th>\n",
       "      <td>1.00</td>\n",
       "      <td>0.50</td>\n",
       "      <td>233.29</td>\n",
       "      <td>23.00</td>\n",
       "      <td>0.00</td>\n",
       "      <td>2.00</td>\n",
       "      <td>17.00</td>\n",
       "      <td>7.10</td>\n",
       "      <td>94.13</td>\n",
       "      <td>1012.43</td>\n",
       "      <td>100.00</td>\n",
       "      <td>14.20</td>\n",
       "      <td>329.43</td>\n",
       "    </tr>\n",
       "    <tr>\n",
       "      <th>2006-12-16 17:27:00</th>\n",
       "      <td>1.00</td>\n",
       "      <td>0.50</td>\n",
       "      <td>233.74</td>\n",
       "      <td>23.00</td>\n",
       "      <td>0.00</td>\n",
       "      <td>1.00</td>\n",
       "      <td>17.00</td>\n",
       "      <td>7.08</td>\n",
       "      <td>94.10</td>\n",
       "      <td>1012.45</td>\n",
       "      <td>100.00</td>\n",
       "      <td>14.16</td>\n",
       "      <td>329.45</td>\n",
       "    </tr>\n",
       "    <tr>\n",
       "      <th>2006-12-16 17:28:00</th>\n",
       "      <td>1.00</td>\n",
       "      <td>0.53</td>\n",
       "      <td>235.68</td>\n",
       "      <td>15.80</td>\n",
       "      <td>0.00</td>\n",
       "      <td>1.00</td>\n",
       "      <td>17.00</td>\n",
       "      <td>7.07</td>\n",
       "      <td>94.07</td>\n",
       "      <td>1012.47</td>\n",
       "      <td>100.00</td>\n",
       "      <td>14.13</td>\n",
       "      <td>329.47</td>\n",
       "    </tr>\n",
       "    <tr>\n",
       "      <th>...</th>\n",
       "      <td>...</td>\n",
       "      <td>...</td>\n",
       "      <td>...</td>\n",
       "      <td>...</td>\n",
       "      <td>...</td>\n",
       "      <td>...</td>\n",
       "      <td>...</td>\n",
       "      <td>...</td>\n",
       "      <td>...</td>\n",
       "      <td>...</td>\n",
       "      <td>...</td>\n",
       "      <td>...</td>\n",
       "      <td>...</td>\n",
       "    </tr>\n",
       "    <tr>\n",
       "      <th>2010-11-26 20:58:00</th>\n",
       "      <td>1.00</td>\n",
       "      <td>0.00</td>\n",
       "      <td>240.43</td>\n",
       "      <td>4.00</td>\n",
       "      <td>0.00</td>\n",
       "      <td>0.00</td>\n",
       "      <td>0.00</td>\n",
       "      <td>-1.16</td>\n",
       "      <td>90.60</td>\n",
       "      <td>994.71</td>\n",
       "      <td>37.40</td>\n",
       "      <td>7.48</td>\n",
       "      <td>215.27</td>\n",
       "    </tr>\n",
       "    <tr>\n",
       "      <th>2010-11-26 20:59:00</th>\n",
       "      <td>1.00</td>\n",
       "      <td>0.00</td>\n",
       "      <td>240.00</td>\n",
       "      <td>4.00</td>\n",
       "      <td>0.00</td>\n",
       "      <td>0.00</td>\n",
       "      <td>0.00</td>\n",
       "      <td>-1.18</td>\n",
       "      <td>90.80</td>\n",
       "      <td>994.70</td>\n",
       "      <td>37.70</td>\n",
       "      <td>7.49</td>\n",
       "      <td>215.13</td>\n",
       "    </tr>\n",
       "    <tr>\n",
       "      <th>2010-11-26 21:00:00</th>\n",
       "      <td>1.00</td>\n",
       "      <td>0.00</td>\n",
       "      <td>239.82</td>\n",
       "      <td>3.80</td>\n",
       "      <td>0.00</td>\n",
       "      <td>0.00</td>\n",
       "      <td>0.00</td>\n",
       "      <td>-1.20</td>\n",
       "      <td>91.00</td>\n",
       "      <td>994.70</td>\n",
       "      <td>38.00</td>\n",
       "      <td>7.50</td>\n",
       "      <td>215.00</td>\n",
       "    </tr>\n",
       "    <tr>\n",
       "      <th>2010-11-26 21:01:00</th>\n",
       "      <td>1.00</td>\n",
       "      <td>0.00</td>\n",
       "      <td>239.70</td>\n",
       "      <td>3.80</td>\n",
       "      <td>0.00</td>\n",
       "      <td>0.00</td>\n",
       "      <td>0.00</td>\n",
       "      <td>-1.20</td>\n",
       "      <td>91.00</td>\n",
       "      <td>994.70</td>\n",
       "      <td>38.60</td>\n",
       "      <td>7.51</td>\n",
       "      <td>214.87</td>\n",
       "    </tr>\n",
       "    <tr>\n",
       "      <th>2010-11-26 21:02:00</th>\n",
       "      <td>1.00</td>\n",
       "      <td>0.00</td>\n",
       "      <td>239.55</td>\n",
       "      <td>3.80</td>\n",
       "      <td>0.00</td>\n",
       "      <td>0.00</td>\n",
       "      <td>0.00</td>\n",
       "      <td>-1.20</td>\n",
       "      <td>91.00</td>\n",
       "      <td>994.69</td>\n",
       "      <td>39.20</td>\n",
       "      <td>7.52</td>\n",
       "      <td>214.73</td>\n",
       "    </tr>\n",
       "  </tbody>\n",
       "</table>\n",
       "<p>2049280 rows × 13 columns</p>\n",
       "</div>"
      ],
      "text/plain": [
       "                     const  Global_reactive_power  Voltage  Global_intensity  \\\n",
       "DateTime                                                                       \n",
       "2006-12-16 17:24:00   1.00                   0.42   234.84             18.40   \n",
       "2006-12-16 17:25:00   1.00                   0.44   233.63             23.00   \n",
       "2006-12-16 17:26:00   1.00                   0.50   233.29             23.00   \n",
       "2006-12-16 17:27:00   1.00                   0.50   233.74             23.00   \n",
       "2006-12-16 17:28:00   1.00                   0.53   235.68             15.80   \n",
       "...                    ...                    ...      ...               ...   \n",
       "2010-11-26 20:58:00   1.00                   0.00   240.43              4.00   \n",
       "2010-11-26 20:59:00   1.00                   0.00   240.00              4.00   \n",
       "2010-11-26 21:00:00   1.00                   0.00   239.82              3.80   \n",
       "2010-11-26 21:01:00   1.00                   0.00   239.70              3.80   \n",
       "2010-11-26 21:02:00   1.00                   0.00   239.55              3.80   \n",
       "\n",
       "                     Sub_metering_1  Sub_metering_2  Sub_metering_3  \\\n",
       "DateTime                                                              \n",
       "2006-12-16 17:24:00            0.00            1.00           17.00   \n",
       "2006-12-16 17:25:00            0.00            1.00           16.00   \n",
       "2006-12-16 17:26:00            0.00            2.00           17.00   \n",
       "2006-12-16 17:27:00            0.00            1.00           17.00   \n",
       "2006-12-16 17:28:00            0.00            1.00           17.00   \n",
       "...                             ...             ...             ...   \n",
       "2010-11-26 20:58:00            0.00            0.00            0.00   \n",
       "2010-11-26 20:59:00            0.00            0.00            0.00   \n",
       "2010-11-26 21:00:00            0.00            0.00            0.00   \n",
       "2010-11-26 21:01:00            0.00            0.00            0.00   \n",
       "2010-11-26 21:02:00            0.00            0.00            0.00   \n",
       "\n",
       "                     temperature_2m  relative_humidity_2m  surface_pressure  \\\n",
       "DateTime                                                                      \n",
       "2006-12-16 17:24:00            7.12                 94.20           1012.40   \n",
       "2006-12-16 17:25:00            7.11                 94.17           1012.42   \n",
       "2006-12-16 17:26:00            7.10                 94.13           1012.43   \n",
       "2006-12-16 17:27:00            7.08                 94.10           1012.45   \n",
       "2006-12-16 17:28:00            7.07                 94.07           1012.47   \n",
       "...                             ...                   ...               ...   \n",
       "2010-11-26 20:58:00           -1.16                 90.60            994.71   \n",
       "2010-11-26 20:59:00           -1.18                 90.80            994.70   \n",
       "2010-11-26 21:00:00           -1.20                 91.00            994.70   \n",
       "2010-11-26 21:01:00           -1.20                 91.00            994.70   \n",
       "2010-11-26 21:02:00           -1.20                 91.00            994.69   \n",
       "\n",
       "                     cloudcover  windspeed_10m  winddirection_10m  \n",
       "DateTime                                                           \n",
       "2006-12-16 17:24:00      100.00          14.28             329.40  \n",
       "2006-12-16 17:25:00      100.00          14.24             329.42  \n",
       "2006-12-16 17:26:00      100.00          14.20             329.43  \n",
       "2006-12-16 17:27:00      100.00          14.16             329.45  \n",
       "2006-12-16 17:28:00      100.00          14.13             329.47  \n",
       "...                         ...            ...                ...  \n",
       "2010-11-26 20:58:00       37.40           7.48             215.27  \n",
       "2010-11-26 20:59:00       37.70           7.49             215.13  \n",
       "2010-11-26 21:00:00       38.00           7.50             215.00  \n",
       "2010-11-26 21:01:00       38.60           7.51             214.87  \n",
       "2010-11-26 21:02:00       39.20           7.52             214.73  \n",
       "\n",
       "[2049280 rows x 13 columns]"
      ]
     },
     "execution_count": 93,
     "metadata": {},
     "output_type": "execute_result"
    }
   ],
   "source": [
    "# Adding the constant to the features \n",
    "X_with_const = sm.add_constant(X)\n",
    "X_with_const"
   ]
  },
  {
   "cell_type": "code",
   "execution_count": 98,
   "metadata": {},
   "outputs": [
    {
     "data": {
      "text/plain": [
       "Global_reactive_power   1.18\n",
       "Voltage                 1.50\n",
       "Global_intensity        4.42\n",
       "Sub_metering_1          1.65\n",
       "Sub_metering_2          1.53\n",
       "Sub_metering_3          2.14\n",
       "temperature_2m          2.02\n",
       "relative_humidity_2m    1.68\n",
       "surface_pressure        1.23\n",
       "cloudcover              1.17\n",
       "windspeed_10m           1.21\n",
       "winddirection_10m       1.06\n",
       "dtype: float64"
      ]
     },
     "execution_count": 98,
     "metadata": {},
     "output_type": "execute_result"
    }
   ],
   "source": [
    "VIF_values = pd.Series(\n",
    "    data=[variance_inflation_factor(X_with_const, i) for i in range(X_with_const.shape[1])],\n",
    "    index=X_with_const.columns\n",
    ")\n",
    "\n",
    "VIF_values[1:] # Slicing to leave out the constant"
   ]
  },
  {
   "cell_type": "markdown",
   "metadata": {},
   "source": [
    "A high VIF means that the independent variable in question has a higher level of multi-collinearity with the other independent variables.\n",
    "\n",
    "An obvious step would be to just drop the columns with the highest VIF numbers. One thing to note however is that dropping one variable will change the VIFs for *all the independent variables*.\n",
    "\n",
    "For our case, as we see above none of our remaining variables has a VIF greater then 5. This means we can now proceed onwards to modeling."
   ]
  },
  {
   "cell_type": "markdown",
   "metadata": {},
   "source": [
    "In backward selection, we fit a model with all data available to us to start, then remove variables based upon whether or not they are significant (and informed by subject matter knowledge), until we reach a model of desired simplicity with sufficient predictive power."
   ]
  },
  {
   "cell_type": "code",
   "execution_count": null,
   "metadata": {},
   "outputs": [],
   "source": [
    "# Let's try fitting a model and check the result.\n",
    "# 0. ADD THE CONSTANT!\n",
    "X_const = sm.add_constant(X)\n",
    "\n",
    "# 1. Instantiate the model\n",
    "POWER_logit = sm.liner(y, X_const)\n",
    "\n",
    "# 2. Fit the model to the data\n",
    "bank_logit_fitted = bank_logit.fit()\n",
    "\n",
    "# 3. Look at the results / summary table / assess model fit\n",
    "bank_logit_fitted.summary()"
   ]
  },
  {
   "cell_type": "code",
   "execution_count": 92,
   "metadata": {},
   "outputs": [
    {
     "data": {
      "text/html": [
       "<div>\n",
       "<style scoped>\n",
       "    .dataframe tbody tr th:only-of-type {\n",
       "        vertical-align: middle;\n",
       "    }\n",
       "\n",
       "    .dataframe tbody tr th {\n",
       "        vertical-align: top;\n",
       "    }\n",
       "\n",
       "    .dataframe thead th {\n",
       "        text-align: right;\n",
       "    }\n",
       "</style>\n",
       "<table border=\"1\" class=\"dataframe\">\n",
       "  <thead>\n",
       "    <tr style=\"text-align: right;\">\n",
       "      <th></th>\n",
       "      <th>Global_active_power</th>\n",
       "      <th>Global_reactive_power</th>\n",
       "      <th>Voltage</th>\n",
       "      <th>Global_intensity</th>\n",
       "      <th>Sub_metering_1</th>\n",
       "      <th>Sub_metering_2</th>\n",
       "      <th>Sub_metering_3</th>\n",
       "    </tr>\n",
       "  </thead>\n",
       "  <tbody>\n",
       "    <tr>\n",
       "      <th>0</th>\n",
       "      <td>2.96</td>\n",
       "      <td>2.61</td>\n",
       "      <td>-1.85</td>\n",
       "      <td>3.10</td>\n",
       "      <td>-0.18</td>\n",
       "      <td>-0.05</td>\n",
       "      <td>1.25</td>\n",
       "    </tr>\n",
       "    <tr>\n",
       "      <th>1</th>\n",
       "      <td>4.04</td>\n",
       "      <td>2.77</td>\n",
       "      <td>-2.23</td>\n",
       "      <td>4.13</td>\n",
       "      <td>-0.18</td>\n",
       "      <td>-0.05</td>\n",
       "      <td>1.13</td>\n",
       "    </tr>\n",
       "    <tr>\n",
       "      <th>2</th>\n",
       "      <td>4.05</td>\n",
       "      <td>3.32</td>\n",
       "      <td>-2.33</td>\n",
       "      <td>4.13</td>\n",
       "      <td>-0.18</td>\n",
       "      <td>0.12</td>\n",
       "      <td>1.25</td>\n",
       "    </tr>\n",
       "    <tr>\n",
       "      <th>3</th>\n",
       "      <td>4.06</td>\n",
       "      <td>3.36</td>\n",
       "      <td>-2.19</td>\n",
       "      <td>4.13</td>\n",
       "      <td>-0.18</td>\n",
       "      <td>-0.05</td>\n",
       "      <td>1.25</td>\n",
       "    </tr>\n",
       "    <tr>\n",
       "      <th>4</th>\n",
       "      <td>2.43</td>\n",
       "      <td>3.59</td>\n",
       "      <td>-1.59</td>\n",
       "      <td>2.51</td>\n",
       "      <td>-0.18</td>\n",
       "      <td>-0.05</td>\n",
       "      <td>1.25</td>\n",
       "    </tr>\n",
       "  </tbody>\n",
       "</table>\n",
       "</div>"
      ],
      "text/plain": [
       "   Global_active_power  Global_reactive_power  Voltage  Global_intensity  \\\n",
       "0                 2.96                   2.61    -1.85              3.10   \n",
       "1                 4.04                   2.77    -2.23              4.13   \n",
       "2                 4.05                   3.32    -2.33              4.13   \n",
       "3                 4.06                   3.36    -2.19              4.13   \n",
       "4                 2.43                   3.59    -1.59              2.51   \n",
       "\n",
       "   Sub_metering_1  Sub_metering_2  Sub_metering_3  \n",
       "0           -0.18           -0.05            1.25  \n",
       "1           -0.18           -0.05            1.13  \n",
       "2           -0.18            0.12            1.25  \n",
       "3           -0.18           -0.05            1.25  \n",
       "4           -0.18           -0.05            1.25  "
      ]
     },
     "execution_count": 92,
     "metadata": {},
     "output_type": "execute_result"
    }
   ],
   "source": [
    "# Scaling the data\n",
    "scaler = StandardScaler()\n",
    "scaled_data = scaler.fit_transform(power_df_house)\n",
    "power_house_scaled_df = pd.DataFrame(data=scaled_data, columns=power_df_house.columns)\n",
    "power_house_scaled_df.head()"
   ]
  },
  {
   "cell_type": "code",
   "execution_count": null,
   "metadata": {},
   "outputs": [],
   "source": [
    "# Instantiate the VarianceThresholder, we need to set a threshold variance\n",
    "my_vt = VarianceThreshold(threshold=0.0004)\n",
    "\n",
    "# Fit to the data and calculate the variances per column\n",
    "my_vt.fit(power_house_scaled_df)"
   ]
  },
  {
   "cell_type": "code",
   "execution_count": null,
   "metadata": {},
   "outputs": [
    {
     "ename": "NameError",
     "evalue": "name 'subset_retail_scaled_df' is not defined",
     "output_type": "error",
     "traceback": [
      "\u001b[1;31m---------------------------------------------------------------------------\u001b[0m",
      "\u001b[1;31mNameError\u001b[0m                                 Traceback (most recent call last)",
      "Cell \u001b[1;32mIn[8], line 4\u001b[0m\n\u001b[0;32m      1\u001b[0m \u001b[38;5;66;03m# Extract the variances per column and put in a dataframe\u001b[39;00m\n\u001b[0;32m      2\u001b[0m column_variances_df \u001b[38;5;241m=\u001b[39m pd\u001b[38;5;241m.\u001b[39mDataFrame(\n\u001b[0;32m      3\u001b[0m    data\u001b[38;5;241m=\u001b[39mmy_vt\u001b[38;5;241m.\u001b[39mvariances_,\n\u001b[1;32m----> 4\u001b[0m    index\u001b[38;5;241m=\u001b[39msubset_retail_scaled_df\u001b[38;5;241m.\u001b[39mcolumns,\n\u001b[0;32m      5\u001b[0m    columns\u001b[38;5;241m=\u001b[39m[\u001b[38;5;124m\"\u001b[39m\u001b[38;5;124mVariance\u001b[39m\u001b[38;5;124m\"\u001b[39m]\n\u001b[0;32m      6\u001b[0m )\u001b[38;5;241m.\u001b[39msort_values(\u001b[38;5;124m\"\u001b[39m\u001b[38;5;124mVariance\u001b[39m\u001b[38;5;124m\"\u001b[39m)\n\u001b[0;32m      8\u001b[0m \u001b[38;5;66;03m# Plot with the threshold\u001b[39;00m\n\u001b[0;32m      9\u001b[0m plt\u001b[38;5;241m.\u001b[39mfigure()\n",
      "\u001b[1;31mNameError\u001b[0m: name 'subset_retail_scaled_df' is not defined"
     ]
    }
   ],
   "source": [
    " # Extract the variances per column and put in a dataframe\n",
    "column_variances_df = pd.DataFrame(\n",
    "    data=my_vt.variances_,\n",
    "    index=subset_retail_scaled_df.columns,\n",
    "    columns=[\"Variance\"]\n",
    ").sort_values(\"Variance\")\n",
    "\n",
    "# Plot with the threshold\n",
    "plt.figure()\n",
    "\n",
    "# Calculate the bar height to fill the space\n",
    "bar_height = 1.0 / (len(column_variances_df.index) + 1)\n",
    "\n",
    "plt.barh(column_variances_df.index, column_variances_df[\"Variance\"], height=bar_height)\n",
    "plt.axvline(0.0004, color=brand_colors[\"Supernova\"], linestyle=\"--\", label=\"Threshold=0.0004\")\n",
    "\n",
    "plt.xlabel(\"Variance\")\n",
    "plt.ylabel(\"Feature\")\n",
    "plt.title(\"Visualizing Results of Variance Thresholding\")\n",
    "plt.legend()\n",
    "plt.show()"
   ]
  }
 ],
 "metadata": {
  "kernelspec": {
   "display_name": "ml_env",
   "language": "python",
   "name": "ml_env"
  },
  "language_info": {
   "codemirror_mode": {
    "name": "ipython",
    "version": 3
   },
   "file_extension": ".py",
   "mimetype": "text/x-python",
   "name": "python",
   "nbconvert_exporter": "python",
   "pygments_lexer": "ipython3",
   "version": "3.11.5"
  },
  "orig_nbformat": 4
 },
 "nbformat": 4,
 "nbformat_minor": 2
}
