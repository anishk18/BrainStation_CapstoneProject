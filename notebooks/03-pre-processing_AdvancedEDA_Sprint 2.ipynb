{
 "cells": [
  {
   "cell_type": "markdown",
   "metadata": {},
   "source": [
    "# Pre-processing and Advanced EDA: Sprint 2"
   ]
  },
  {
   "cell_type": "markdown",
   "metadata": {},
   "source": [
    "**Table of Contents**<a id='toc0_'></a> \n",
    "- [Libraries](#toc0_)\n",
    "- [Feature Engineering](#toc1_)    \n",
    "  - [Total Active Energy Consumption by Household](#toc1_1_)    \n",
    "  - [Total Active EnergyConsumed by HouseHold not measured in sub-meterings 1,2 and 3](#toc1_2_)    \n",
    "  - [Total Reactive Energy Consumption by HouseHold](#toc1_3_)    \n",
    "  - [Resampling data to hourly daily and  monthly frequency for better analysis](#toc1_4_)    \n",
    "- [Advanced EDA: Energy Consumed by Household](#toc2_)      \n",
    "    - [Trend-Seasonal Decomposition for Target Variable: Energy Consumed by Household](#toc2_1_)     \n",
    "- [Next Steps](#toc3_)    \n",
    "  "
   ]
  },
  {
   "cell_type": "markdown",
   "metadata": {},
   "source": [
    "# Libraries"
   ]
  },
  {
   "cell_type": "code",
   "execution_count": null,
   "metadata": {},
   "outputs": [],
   "source": [
    "\n",
    "import matplotlib.pyplot as plt\n",
    "import numpy as np\n",
    "import pandas as pd\n",
    "import seaborn as sns\n",
    "import itertools\n",
    "from warnings import filterwarnings\n",
    "from datetime import datetime\n",
    "import warnings\n",
    "warnings.filterwarnings('ignore')\n",
    "\n",
    "# Loading sklearn functionality \n",
    "from sklearn.linear_model import Lasso, Ridge, LinearRegression\n",
    "from sklearn.model_selection import train_test_split\n",
    "from sklearn.preprocessing import StandardScaler, MinMaxScaler\n",
    "from sklearn.feature_selection import SelectKBest, VarianceThreshold, f_classif, f_regression\n",
    "from sklearn.preprocessing import LabelEncoder, OneHotEncoder, OrdinalEncoder\n",
    "\n",
    "# Important functionality for this lesson ---> Statistical tools for model building etc\n",
    "import statsmodels.api as sm\n",
    "from statsmodels.stats.outliers_influence import variance_inflation_factor\n",
    "\n",
    "#plotting\n",
    "import plotly.express as px\n",
    "from plotly.subplots import make_subplots\n",
    "import plotly.graph_objs as go\n",
    "import matplotlib.pyplot as plt\n",
    "import seaborn as sns\n",
    "\n",
    "# stats\n",
    "from statsmodels.api import tsa # time series analysis\n",
    "import statsmodels.api as sm\n",
    "from sklearn.model_selection import TimeSeriesSplit\n",
    "# Standard imports\n",
    "\n",
    "\n",
    "from statsmodels.tsa.statespace.sarimax import SARIMAX\n",
    "from sklearn.metrics import mean_absolute_percentage_error, mean_absolute_error\n",
    "from ipywidgets import interactive\n",
    "import ipywidgets as widgets\n",
    "\n"
   ]
  },
  {
   "cell_type": "code",
   "execution_count": 28,
   "metadata": {},
   "outputs": [
    {
     "data": {
      "text/html": [
       "<div>\n",
       "<style scoped>\n",
       "    .dataframe tbody tr th:only-of-type {\n",
       "        vertical-align: middle;\n",
       "    }\n",
       "\n",
       "    .dataframe tbody tr th {\n",
       "        vertical-align: top;\n",
       "    }\n",
       "\n",
       "    .dataframe thead th {\n",
       "        text-align: right;\n",
       "    }\n",
       "</style>\n",
       "<table border=\"1\" class=\"dataframe\">\n",
       "  <thead>\n",
       "    <tr style=\"text-align: right;\">\n",
       "      <th></th>\n",
       "      <th>Global_active_power</th>\n",
       "      <th>Global_reactive_power</th>\n",
       "      <th>Voltage</th>\n",
       "      <th>Global_intensity</th>\n",
       "      <th>Sub_metering_1</th>\n",
       "      <th>Sub_metering_2</th>\n",
       "      <th>Sub_metering_3</th>\n",
       "      <th>temperature_2m</th>\n",
       "      <th>relative_humidity_2m</th>\n",
       "      <th>dew_point_2m</th>\n",
       "      <th>apparent_temperature</th>\n",
       "      <th>surface_pressure</th>\n",
       "      <th>cloudcover</th>\n",
       "      <th>windspeed_10m</th>\n",
       "      <th>windgusts_10m</th>\n",
       "      <th>winddirection_10m</th>\n",
       "      <th>shortwave_radiation</th>\n",
       "      <th>direct_radiation</th>\n",
       "      <th>diffuse_radiation</th>\n",
       "    </tr>\n",
       "    <tr>\n",
       "      <th>DateTime</th>\n",
       "      <th></th>\n",
       "      <th></th>\n",
       "      <th></th>\n",
       "      <th></th>\n",
       "      <th></th>\n",
       "      <th></th>\n",
       "      <th></th>\n",
       "      <th></th>\n",
       "      <th></th>\n",
       "      <th></th>\n",
       "      <th></th>\n",
       "      <th></th>\n",
       "      <th></th>\n",
       "      <th></th>\n",
       "      <th></th>\n",
       "      <th></th>\n",
       "      <th></th>\n",
       "      <th></th>\n",
       "      <th></th>\n",
       "    </tr>\n",
       "  </thead>\n",
       "  <tbody>\n",
       "    <tr>\n",
       "      <th>2006-12-16 17:24:00</th>\n",
       "      <td>4.216</td>\n",
       "      <td>0.418</td>\n",
       "      <td>234.84</td>\n",
       "      <td>18.4</td>\n",
       "      <td>0.0</td>\n",
       "      <td>1.0</td>\n",
       "      <td>17.0</td>\n",
       "      <td>7.120</td>\n",
       "      <td>94.200</td>\n",
       "      <td>6.240</td>\n",
       "      <td>4.100</td>\n",
       "      <td>1012.400</td>\n",
       "      <td>100.0</td>\n",
       "      <td>14.280</td>\n",
       "      <td>31.100</td>\n",
       "      <td>329.400</td>\n",
       "      <td>8.000</td>\n",
       "      <td>0.0</td>\n",
       "      <td>8.000</td>\n",
       "    </tr>\n",
       "    <tr>\n",
       "      <th>2006-12-16 17:25:00</th>\n",
       "      <td>5.360</td>\n",
       "      <td>0.436</td>\n",
       "      <td>233.63</td>\n",
       "      <td>23.0</td>\n",
       "      <td>0.0</td>\n",
       "      <td>1.0</td>\n",
       "      <td>16.0</td>\n",
       "      <td>7.108</td>\n",
       "      <td>94.167</td>\n",
       "      <td>6.225</td>\n",
       "      <td>4.092</td>\n",
       "      <td>1012.417</td>\n",
       "      <td>100.0</td>\n",
       "      <td>14.242</td>\n",
       "      <td>31.075</td>\n",
       "      <td>329.417</td>\n",
       "      <td>7.833</td>\n",
       "      <td>0.0</td>\n",
       "      <td>7.833</td>\n",
       "    </tr>\n",
       "    <tr>\n",
       "      <th>2006-12-16 17:26:00</th>\n",
       "      <td>5.374</td>\n",
       "      <td>0.498</td>\n",
       "      <td>233.29</td>\n",
       "      <td>23.0</td>\n",
       "      <td>0.0</td>\n",
       "      <td>2.0</td>\n",
       "      <td>17.0</td>\n",
       "      <td>7.097</td>\n",
       "      <td>94.133</td>\n",
       "      <td>6.210</td>\n",
       "      <td>4.083</td>\n",
       "      <td>1012.433</td>\n",
       "      <td>100.0</td>\n",
       "      <td>14.203</td>\n",
       "      <td>31.050</td>\n",
       "      <td>329.433</td>\n",
       "      <td>7.667</td>\n",
       "      <td>0.0</td>\n",
       "      <td>7.667</td>\n",
       "    </tr>\n",
       "    <tr>\n",
       "      <th>2006-12-16 17:27:00</th>\n",
       "      <td>5.388</td>\n",
       "      <td>0.502</td>\n",
       "      <td>233.74</td>\n",
       "      <td>23.0</td>\n",
       "      <td>0.0</td>\n",
       "      <td>1.0</td>\n",
       "      <td>17.0</td>\n",
       "      <td>7.085</td>\n",
       "      <td>94.100</td>\n",
       "      <td>6.195</td>\n",
       "      <td>4.075</td>\n",
       "      <td>1012.450</td>\n",
       "      <td>100.0</td>\n",
       "      <td>14.165</td>\n",
       "      <td>31.025</td>\n",
       "      <td>329.450</td>\n",
       "      <td>7.500</td>\n",
       "      <td>0.0</td>\n",
       "      <td>7.500</td>\n",
       "    </tr>\n",
       "    <tr>\n",
       "      <th>2006-12-16 17:28:00</th>\n",
       "      <td>3.666</td>\n",
       "      <td>0.528</td>\n",
       "      <td>235.68</td>\n",
       "      <td>15.8</td>\n",
       "      <td>0.0</td>\n",
       "      <td>1.0</td>\n",
       "      <td>17.0</td>\n",
       "      <td>7.073</td>\n",
       "      <td>94.067</td>\n",
       "      <td>6.180</td>\n",
       "      <td>4.067</td>\n",
       "      <td>1012.467</td>\n",
       "      <td>100.0</td>\n",
       "      <td>14.127</td>\n",
       "      <td>31.000</td>\n",
       "      <td>329.467</td>\n",
       "      <td>7.333</td>\n",
       "      <td>0.0</td>\n",
       "      <td>7.333</td>\n",
       "    </tr>\n",
       "  </tbody>\n",
       "</table>\n",
       "</div>"
      ],
      "text/plain": [
       "                     Global_active_power  Global_reactive_power  Voltage  \\\n",
       "DateTime                                                                   \n",
       "2006-12-16 17:24:00                4.216                  0.418   234.84   \n",
       "2006-12-16 17:25:00                5.360                  0.436   233.63   \n",
       "2006-12-16 17:26:00                5.374                  0.498   233.29   \n",
       "2006-12-16 17:27:00                5.388                  0.502   233.74   \n",
       "2006-12-16 17:28:00                3.666                  0.528   235.68   \n",
       "\n",
       "                     Global_intensity  Sub_metering_1  Sub_metering_2  \\\n",
       "DateTime                                                                \n",
       "2006-12-16 17:24:00              18.4             0.0             1.0   \n",
       "2006-12-16 17:25:00              23.0             0.0             1.0   \n",
       "2006-12-16 17:26:00              23.0             0.0             2.0   \n",
       "2006-12-16 17:27:00              23.0             0.0             1.0   \n",
       "2006-12-16 17:28:00              15.8             0.0             1.0   \n",
       "\n",
       "                     Sub_metering_3  temperature_2m  relative_humidity_2m  \\\n",
       "DateTime                                                                    \n",
       "2006-12-16 17:24:00            17.0           7.120                94.200   \n",
       "2006-12-16 17:25:00            16.0           7.108                94.167   \n",
       "2006-12-16 17:26:00            17.0           7.097                94.133   \n",
       "2006-12-16 17:27:00            17.0           7.085                94.100   \n",
       "2006-12-16 17:28:00            17.0           7.073                94.067   \n",
       "\n",
       "                     dew_point_2m  apparent_temperature  surface_pressure  \\\n",
       "DateTime                                                                    \n",
       "2006-12-16 17:24:00         6.240                 4.100          1012.400   \n",
       "2006-12-16 17:25:00         6.225                 4.092          1012.417   \n",
       "2006-12-16 17:26:00         6.210                 4.083          1012.433   \n",
       "2006-12-16 17:27:00         6.195                 4.075          1012.450   \n",
       "2006-12-16 17:28:00         6.180                 4.067          1012.467   \n",
       "\n",
       "                     cloudcover  windspeed_10m  windgusts_10m  \\\n",
       "DateTime                                                        \n",
       "2006-12-16 17:24:00       100.0         14.280         31.100   \n",
       "2006-12-16 17:25:00       100.0         14.242         31.075   \n",
       "2006-12-16 17:26:00       100.0         14.203         31.050   \n",
       "2006-12-16 17:27:00       100.0         14.165         31.025   \n",
       "2006-12-16 17:28:00       100.0         14.127         31.000   \n",
       "\n",
       "                     winddirection_10m  shortwave_radiation  direct_radiation  \\\n",
       "DateTime                                                                        \n",
       "2006-12-16 17:24:00            329.400                8.000               0.0   \n",
       "2006-12-16 17:25:00            329.417                7.833               0.0   \n",
       "2006-12-16 17:26:00            329.433                7.667               0.0   \n",
       "2006-12-16 17:27:00            329.450                7.500               0.0   \n",
       "2006-12-16 17:28:00            329.467                7.333               0.0   \n",
       "\n",
       "                     diffuse_radiation  \n",
       "DateTime                                \n",
       "2006-12-16 17:24:00              8.000  \n",
       "2006-12-16 17:25:00              7.833  \n",
       "2006-12-16 17:26:00              7.667  \n",
       "2006-12-16 17:27:00              7.500  \n",
       "2006-12-16 17:28:00              7.333  "
      ]
     },
     "execution_count": 28,
     "metadata": {},
     "output_type": "execute_result"
    }
   ],
   "source": [
    "file_path = r'C:\\Users\\karni\\OneDrive\\Desktop\\GitHub\\BrainStation_CapstoneProject\\data\\power_weather.csv'\n",
    "power_df_clean = pd.read_csv(file_path, parse_dates=['DateTime'], index_col='DateTime')\n",
    "power_df_clean.head()"
   ]
  },
  {
   "cell_type": "code",
   "execution_count": 29,
   "metadata": {},
   "outputs": [
    {
     "name": "stdout",
     "output_type": "stream",
     "text": [
      "<class 'pandas.core.frame.DataFrame'>\n",
      "DatetimeIndex: 2049280 entries, 2006-12-16 17:24:00 to 2010-11-26 21:02:00\n",
      "Data columns (total 19 columns):\n",
      " #   Column                 Dtype  \n",
      "---  ------                 -----  \n",
      " 0   Global_active_power    float64\n",
      " 1   Global_reactive_power  float64\n",
      " 2   Voltage                float64\n",
      " 3   Global_intensity       float64\n",
      " 4   Sub_metering_1         float64\n",
      " 5   Sub_metering_2         float64\n",
      " 6   Sub_metering_3         float64\n",
      " 7   temperature_2m         float64\n",
      " 8   relative_humidity_2m   float64\n",
      " 9   dew_point_2m           float64\n",
      " 10  apparent_temperature   float64\n",
      " 11  surface_pressure       float64\n",
      " 12  cloudcover             float64\n",
      " 13  windspeed_10m          float64\n",
      " 14  windgusts_10m          float64\n",
      " 15  winddirection_10m      float64\n",
      " 16  shortwave_radiation    float64\n",
      " 17  direct_radiation       float64\n",
      " 18  diffuse_radiation      float64\n",
      "dtypes: float64(19)\n",
      "memory usage: 312.7 MB\n"
     ]
    }
   ],
   "source": [
    "power_df_clean.info()"
   ]
  },
  {
   "cell_type": "markdown",
   "metadata": {},
   "source": [
    "# Feature Engineering"
   ]
  },
  {
   "cell_type": "markdown",
   "metadata": {},
   "source": [
    "In the preprocessing step, we will focus on **Feature Engineering** Create new features that may be useful for our analysis.\n",
    "First lets add the approriate units to the columns that we will be using for our analysis."
   ]
  },
  {
   "cell_type": "code",
   "execution_count": 30,
   "metadata": {},
   "outputs": [],
   "source": [
    "Units = {\n",
    "    'Global_active_power': 'kilowatts',\n",
    "    'Global_reactive_power': 'kilowatts',   \n",
    "    'Voltage': 'volts',\n",
    "    'Global_intensity': 'amperes',\n",
    "    'Sub_metering_1': 'watt-hours of active energy',\n",
    "    'Sub_metering_2': 'watt-hours of active energy',\n",
    "    'Sub_metering_3': 'watt-hours of active energy',    \n",
    "    'temperature_2m': '°C',\n",
    "    'relative_humidity_2m': '%',\n",
    "    'dew_point_2m': '°C',\n",
    "    'apparent_temperature': '°C',\n",
    "    'surface_pressure':'hPa',\n",
    "    'cloudcover': '%',\n",
    "    'windspeed_10m': 'km/h',\n",
    "    'windgusts_10m': 'km/h',\n",
    "    'winddirection_10m': 'degrees',\n",
    "    'shortwave_radiation': 'W/m²',\n",
    "    'direct_radiation': 'W/m²',\n",
    "    'diffuse_radiation': 'W/m²'\n",
    "    \n",
    "    }"
   ]
  },
  {
   "cell_type": "code",
   "execution_count": 31,
   "metadata": {},
   "outputs": [
    {
     "data": {
      "text/plain": [
       "['Global_active_power (kilowatts)',\n",
       " 'Global_reactive_power (kilowatts)',\n",
       " 'Voltage (volts)',\n",
       " 'Global_intensity (amperes)',\n",
       " 'Sub_metering_1 (watt-hours of active energy)',\n",
       " 'Sub_metering_2 (watt-hours of active energy)',\n",
       " 'Sub_metering_3 (watt-hours of active energy)',\n",
       " 'temperature_2m (°C)',\n",
       " 'relative_humidity_2m (%)',\n",
       " 'dew_point_2m (°C)',\n",
       " 'apparent_temperature (°C)',\n",
       " 'surface_pressure (hPa)',\n",
       " 'cloudcover (%)',\n",
       " 'windspeed_10m (km/h)',\n",
       " 'windgusts_10m (km/h)',\n",
       " 'winddirection_10m (degrees)',\n",
       " 'shortwave_radiation (W/m²)',\n",
       " 'direct_radiation (W/m²)',\n",
       " 'diffuse_radiation (W/m²)']"
      ]
     },
     "execution_count": 31,
     "metadata": {},
     "output_type": "execute_result"
    }
   ],
   "source": [
    "feature_names = []\n",
    "for i in Units.keys():\n",
    "    feature_names.append(f\"{i} ({Units[i]})\")\n",
    "\n",
    "feature_names"
   ]
  },
  {
   "cell_type": "code",
   "execution_count": 32,
   "metadata": {},
   "outputs": [],
   "source": [
    "#Adding the feature names to the dataframe\n",
    "power_df_clean.columns = feature_names"
   ]
  },
  {
   "cell_type": "code",
   "execution_count": 33,
   "metadata": {},
   "outputs": [
    {
     "data": {
      "text/html": [
       "<div>\n",
       "<style scoped>\n",
       "    .dataframe tbody tr th:only-of-type {\n",
       "        vertical-align: middle;\n",
       "    }\n",
       "\n",
       "    .dataframe tbody tr th {\n",
       "        vertical-align: top;\n",
       "    }\n",
       "\n",
       "    .dataframe thead th {\n",
       "        text-align: right;\n",
       "    }\n",
       "</style>\n",
       "<table border=\"1\" class=\"dataframe\">\n",
       "  <thead>\n",
       "    <tr style=\"text-align: right;\">\n",
       "      <th></th>\n",
       "      <th>Global_active_power (kilowatts)</th>\n",
       "      <th>Global_reactive_power (kilowatts)</th>\n",
       "      <th>Voltage (volts)</th>\n",
       "      <th>Global_intensity (amperes)</th>\n",
       "      <th>Sub_metering_1 (watt-hours of active energy)</th>\n",
       "      <th>Sub_metering_2 (watt-hours of active energy)</th>\n",
       "      <th>Sub_metering_3 (watt-hours of active energy)</th>\n",
       "      <th>temperature_2m (°C)</th>\n",
       "      <th>relative_humidity_2m (%)</th>\n",
       "      <th>dew_point_2m (°C)</th>\n",
       "      <th>apparent_temperature (°C)</th>\n",
       "      <th>surface_pressure (hPa)</th>\n",
       "      <th>cloudcover (%)</th>\n",
       "      <th>windspeed_10m (km/h)</th>\n",
       "      <th>windgusts_10m (km/h)</th>\n",
       "      <th>winddirection_10m (degrees)</th>\n",
       "      <th>shortwave_radiation (W/m²)</th>\n",
       "      <th>direct_radiation (W/m²)</th>\n",
       "      <th>diffuse_radiation (W/m²)</th>\n",
       "    </tr>\n",
       "    <tr>\n",
       "      <th>DateTime</th>\n",
       "      <th></th>\n",
       "      <th></th>\n",
       "      <th></th>\n",
       "      <th></th>\n",
       "      <th></th>\n",
       "      <th></th>\n",
       "      <th></th>\n",
       "      <th></th>\n",
       "      <th></th>\n",
       "      <th></th>\n",
       "      <th></th>\n",
       "      <th></th>\n",
       "      <th></th>\n",
       "      <th></th>\n",
       "      <th></th>\n",
       "      <th></th>\n",
       "      <th></th>\n",
       "      <th></th>\n",
       "      <th></th>\n",
       "    </tr>\n",
       "  </thead>\n",
       "  <tbody>\n",
       "    <tr>\n",
       "      <th>2006-12-16 17:24:00</th>\n",
       "      <td>4.216</td>\n",
       "      <td>0.418</td>\n",
       "      <td>234.84</td>\n",
       "      <td>18.4</td>\n",
       "      <td>0.0</td>\n",
       "      <td>1.0</td>\n",
       "      <td>17.0</td>\n",
       "      <td>7.120</td>\n",
       "      <td>94.200</td>\n",
       "      <td>6.240</td>\n",
       "      <td>4.100</td>\n",
       "      <td>1012.400</td>\n",
       "      <td>100.0</td>\n",
       "      <td>14.280</td>\n",
       "      <td>31.100</td>\n",
       "      <td>329.400</td>\n",
       "      <td>8.000</td>\n",
       "      <td>0.0</td>\n",
       "      <td>8.000</td>\n",
       "    </tr>\n",
       "    <tr>\n",
       "      <th>2006-12-16 17:25:00</th>\n",
       "      <td>5.360</td>\n",
       "      <td>0.436</td>\n",
       "      <td>233.63</td>\n",
       "      <td>23.0</td>\n",
       "      <td>0.0</td>\n",
       "      <td>1.0</td>\n",
       "      <td>16.0</td>\n",
       "      <td>7.108</td>\n",
       "      <td>94.167</td>\n",
       "      <td>6.225</td>\n",
       "      <td>4.092</td>\n",
       "      <td>1012.417</td>\n",
       "      <td>100.0</td>\n",
       "      <td>14.242</td>\n",
       "      <td>31.075</td>\n",
       "      <td>329.417</td>\n",
       "      <td>7.833</td>\n",
       "      <td>0.0</td>\n",
       "      <td>7.833</td>\n",
       "    </tr>\n",
       "    <tr>\n",
       "      <th>2006-12-16 17:26:00</th>\n",
       "      <td>5.374</td>\n",
       "      <td>0.498</td>\n",
       "      <td>233.29</td>\n",
       "      <td>23.0</td>\n",
       "      <td>0.0</td>\n",
       "      <td>2.0</td>\n",
       "      <td>17.0</td>\n",
       "      <td>7.097</td>\n",
       "      <td>94.133</td>\n",
       "      <td>6.210</td>\n",
       "      <td>4.083</td>\n",
       "      <td>1012.433</td>\n",
       "      <td>100.0</td>\n",
       "      <td>14.203</td>\n",
       "      <td>31.050</td>\n",
       "      <td>329.433</td>\n",
       "      <td>7.667</td>\n",
       "      <td>0.0</td>\n",
       "      <td>7.667</td>\n",
       "    </tr>\n",
       "    <tr>\n",
       "      <th>2006-12-16 17:27:00</th>\n",
       "      <td>5.388</td>\n",
       "      <td>0.502</td>\n",
       "      <td>233.74</td>\n",
       "      <td>23.0</td>\n",
       "      <td>0.0</td>\n",
       "      <td>1.0</td>\n",
       "      <td>17.0</td>\n",
       "      <td>7.085</td>\n",
       "      <td>94.100</td>\n",
       "      <td>6.195</td>\n",
       "      <td>4.075</td>\n",
       "      <td>1012.450</td>\n",
       "      <td>100.0</td>\n",
       "      <td>14.165</td>\n",
       "      <td>31.025</td>\n",
       "      <td>329.450</td>\n",
       "      <td>7.500</td>\n",
       "      <td>0.0</td>\n",
       "      <td>7.500</td>\n",
       "    </tr>\n",
       "    <tr>\n",
       "      <th>2006-12-16 17:28:00</th>\n",
       "      <td>3.666</td>\n",
       "      <td>0.528</td>\n",
       "      <td>235.68</td>\n",
       "      <td>15.8</td>\n",
       "      <td>0.0</td>\n",
       "      <td>1.0</td>\n",
       "      <td>17.0</td>\n",
       "      <td>7.073</td>\n",
       "      <td>94.067</td>\n",
       "      <td>6.180</td>\n",
       "      <td>4.067</td>\n",
       "      <td>1012.467</td>\n",
       "      <td>100.0</td>\n",
       "      <td>14.127</td>\n",
       "      <td>31.000</td>\n",
       "      <td>329.467</td>\n",
       "      <td>7.333</td>\n",
       "      <td>0.0</td>\n",
       "      <td>7.333</td>\n",
       "    </tr>\n",
       "  </tbody>\n",
       "</table>\n",
       "</div>"
      ],
      "text/plain": [
       "                     Global_active_power (kilowatts)  \\\n",
       "DateTime                                               \n",
       "2006-12-16 17:24:00                            4.216   \n",
       "2006-12-16 17:25:00                            5.360   \n",
       "2006-12-16 17:26:00                            5.374   \n",
       "2006-12-16 17:27:00                            5.388   \n",
       "2006-12-16 17:28:00                            3.666   \n",
       "\n",
       "                     Global_reactive_power (kilowatts)  Voltage (volts)  \\\n",
       "DateTime                                                                  \n",
       "2006-12-16 17:24:00                              0.418           234.84   \n",
       "2006-12-16 17:25:00                              0.436           233.63   \n",
       "2006-12-16 17:26:00                              0.498           233.29   \n",
       "2006-12-16 17:27:00                              0.502           233.74   \n",
       "2006-12-16 17:28:00                              0.528           235.68   \n",
       "\n",
       "                     Global_intensity (amperes)  \\\n",
       "DateTime                                          \n",
       "2006-12-16 17:24:00                        18.4   \n",
       "2006-12-16 17:25:00                        23.0   \n",
       "2006-12-16 17:26:00                        23.0   \n",
       "2006-12-16 17:27:00                        23.0   \n",
       "2006-12-16 17:28:00                        15.8   \n",
       "\n",
       "                     Sub_metering_1 (watt-hours of active energy)  \\\n",
       "DateTime                                                            \n",
       "2006-12-16 17:24:00                                           0.0   \n",
       "2006-12-16 17:25:00                                           0.0   \n",
       "2006-12-16 17:26:00                                           0.0   \n",
       "2006-12-16 17:27:00                                           0.0   \n",
       "2006-12-16 17:28:00                                           0.0   \n",
       "\n",
       "                     Sub_metering_2 (watt-hours of active energy)  \\\n",
       "DateTime                                                            \n",
       "2006-12-16 17:24:00                                           1.0   \n",
       "2006-12-16 17:25:00                                           1.0   \n",
       "2006-12-16 17:26:00                                           2.0   \n",
       "2006-12-16 17:27:00                                           1.0   \n",
       "2006-12-16 17:28:00                                           1.0   \n",
       "\n",
       "                     Sub_metering_3 (watt-hours of active energy)  \\\n",
       "DateTime                                                            \n",
       "2006-12-16 17:24:00                                          17.0   \n",
       "2006-12-16 17:25:00                                          16.0   \n",
       "2006-12-16 17:26:00                                          17.0   \n",
       "2006-12-16 17:27:00                                          17.0   \n",
       "2006-12-16 17:28:00                                          17.0   \n",
       "\n",
       "                     temperature_2m (°C)  relative_humidity_2m (%)  \\\n",
       "DateTime                                                             \n",
       "2006-12-16 17:24:00                7.120                    94.200   \n",
       "2006-12-16 17:25:00                7.108                    94.167   \n",
       "2006-12-16 17:26:00                7.097                    94.133   \n",
       "2006-12-16 17:27:00                7.085                    94.100   \n",
       "2006-12-16 17:28:00                7.073                    94.067   \n",
       "\n",
       "                     dew_point_2m (°C)  apparent_temperature (°C)  \\\n",
       "DateTime                                                            \n",
       "2006-12-16 17:24:00              6.240                      4.100   \n",
       "2006-12-16 17:25:00              6.225                      4.092   \n",
       "2006-12-16 17:26:00              6.210                      4.083   \n",
       "2006-12-16 17:27:00              6.195                      4.075   \n",
       "2006-12-16 17:28:00              6.180                      4.067   \n",
       "\n",
       "                     surface_pressure (hPa)  cloudcover (%)  \\\n",
       "DateTime                                                      \n",
       "2006-12-16 17:24:00                1012.400           100.0   \n",
       "2006-12-16 17:25:00                1012.417           100.0   \n",
       "2006-12-16 17:26:00                1012.433           100.0   \n",
       "2006-12-16 17:27:00                1012.450           100.0   \n",
       "2006-12-16 17:28:00                1012.467           100.0   \n",
       "\n",
       "                     windspeed_10m (km/h)  windgusts_10m (km/h)  \\\n",
       "DateTime                                                          \n",
       "2006-12-16 17:24:00                14.280                31.100   \n",
       "2006-12-16 17:25:00                14.242                31.075   \n",
       "2006-12-16 17:26:00                14.203                31.050   \n",
       "2006-12-16 17:27:00                14.165                31.025   \n",
       "2006-12-16 17:28:00                14.127                31.000   \n",
       "\n",
       "                     winddirection_10m (degrees)  shortwave_radiation (W/m²)  \\\n",
       "DateTime                                                                       \n",
       "2006-12-16 17:24:00                      329.400                       8.000   \n",
       "2006-12-16 17:25:00                      329.417                       7.833   \n",
       "2006-12-16 17:26:00                      329.433                       7.667   \n",
       "2006-12-16 17:27:00                      329.450                       7.500   \n",
       "2006-12-16 17:28:00                      329.467                       7.333   \n",
       "\n",
       "                     direct_radiation (W/m²)  diffuse_radiation (W/m²)  \n",
       "DateTime                                                                \n",
       "2006-12-16 17:24:00                      0.0                     8.000  \n",
       "2006-12-16 17:25:00                      0.0                     7.833  \n",
       "2006-12-16 17:26:00                      0.0                     7.667  \n",
       "2006-12-16 17:27:00                      0.0                     7.500  \n",
       "2006-12-16 17:28:00                      0.0                     7.333  "
      ]
     },
     "execution_count": 33,
     "metadata": {},
     "output_type": "execute_result"
    }
   ],
   "source": [
    "power_df_clean.head()"
   ]
  },
  {
   "cell_type": "markdown",
   "metadata": {},
   "source": [
    "### Total Active Energy Consumption by HouseHold"
   ]
  },
  {
   "cell_type": "code",
   "execution_count": 34,
   "metadata": {},
   "outputs": [
    {
     "data": {
      "text/html": [
       "<div>\n",
       "<style scoped>\n",
       "    .dataframe tbody tr th:only-of-type {\n",
       "        vertical-align: middle;\n",
       "    }\n",
       "\n",
       "    .dataframe tbody tr th {\n",
       "        vertical-align: top;\n",
       "    }\n",
       "\n",
       "    .dataframe thead th {\n",
       "        text-align: right;\n",
       "    }\n",
       "</style>\n",
       "<table border=\"1\" class=\"dataframe\">\n",
       "  <thead>\n",
       "    <tr style=\"text-align: right;\">\n",
       "      <th></th>\n",
       "      <th>Global_active_power (kilowatts)</th>\n",
       "      <th>Global_reactive_power (kilowatts)</th>\n",
       "      <th>Voltage (volts)</th>\n",
       "      <th>Global_intensity (amperes)</th>\n",
       "      <th>Sub_metering_1 (watt-hours of active energy)</th>\n",
       "      <th>Sub_metering_2 (watt-hours of active energy)</th>\n",
       "      <th>Sub_metering_3 (watt-hours of active energy)</th>\n",
       "      <th>temperature_2m (°C)</th>\n",
       "      <th>relative_humidity_2m (%)</th>\n",
       "      <th>dew_point_2m (°C)</th>\n",
       "      <th>apparent_temperature (°C)</th>\n",
       "      <th>surface_pressure (hPa)</th>\n",
       "      <th>cloudcover (%)</th>\n",
       "      <th>windspeed_10m (km/h)</th>\n",
       "      <th>windgusts_10m (km/h)</th>\n",
       "      <th>winddirection_10m (degrees)</th>\n",
       "      <th>shortwave_radiation (W/m²)</th>\n",
       "      <th>direct_radiation (W/m²)</th>\n",
       "      <th>diffuse_radiation (W/m²)</th>\n",
       "      <th>Energy Consumed by Household (Watt-hour)</th>\n",
       "    </tr>\n",
       "    <tr>\n",
       "      <th>DateTime</th>\n",
       "      <th></th>\n",
       "      <th></th>\n",
       "      <th></th>\n",
       "      <th></th>\n",
       "      <th></th>\n",
       "      <th></th>\n",
       "      <th></th>\n",
       "      <th></th>\n",
       "      <th></th>\n",
       "      <th></th>\n",
       "      <th></th>\n",
       "      <th></th>\n",
       "      <th></th>\n",
       "      <th></th>\n",
       "      <th></th>\n",
       "      <th></th>\n",
       "      <th></th>\n",
       "      <th></th>\n",
       "      <th></th>\n",
       "      <th></th>\n",
       "    </tr>\n",
       "  </thead>\n",
       "  <tbody>\n",
       "    <tr>\n",
       "      <th>2006-12-16 17:24:00</th>\n",
       "      <td>4.216</td>\n",
       "      <td>0.418</td>\n",
       "      <td>234.84</td>\n",
       "      <td>18.4</td>\n",
       "      <td>0.0</td>\n",
       "      <td>1.0</td>\n",
       "      <td>17.0</td>\n",
       "      <td>7.120</td>\n",
       "      <td>94.200</td>\n",
       "      <td>6.240</td>\n",
       "      <td>4.100</td>\n",
       "      <td>1012.400</td>\n",
       "      <td>100.0</td>\n",
       "      <td>14.280</td>\n",
       "      <td>31.100</td>\n",
       "      <td>329.400</td>\n",
       "      <td>8.000</td>\n",
       "      <td>0.0</td>\n",
       "      <td>8.000</td>\n",
       "      <td>70.266667</td>\n",
       "    </tr>\n",
       "    <tr>\n",
       "      <th>2006-12-16 17:25:00</th>\n",
       "      <td>5.360</td>\n",
       "      <td>0.436</td>\n",
       "      <td>233.63</td>\n",
       "      <td>23.0</td>\n",
       "      <td>0.0</td>\n",
       "      <td>1.0</td>\n",
       "      <td>16.0</td>\n",
       "      <td>7.108</td>\n",
       "      <td>94.167</td>\n",
       "      <td>6.225</td>\n",
       "      <td>4.092</td>\n",
       "      <td>1012.417</td>\n",
       "      <td>100.0</td>\n",
       "      <td>14.242</td>\n",
       "      <td>31.075</td>\n",
       "      <td>329.417</td>\n",
       "      <td>7.833</td>\n",
       "      <td>0.0</td>\n",
       "      <td>7.833</td>\n",
       "      <td>89.333333</td>\n",
       "    </tr>\n",
       "    <tr>\n",
       "      <th>2006-12-16 17:26:00</th>\n",
       "      <td>5.374</td>\n",
       "      <td>0.498</td>\n",
       "      <td>233.29</td>\n",
       "      <td>23.0</td>\n",
       "      <td>0.0</td>\n",
       "      <td>2.0</td>\n",
       "      <td>17.0</td>\n",
       "      <td>7.097</td>\n",
       "      <td>94.133</td>\n",
       "      <td>6.210</td>\n",
       "      <td>4.083</td>\n",
       "      <td>1012.433</td>\n",
       "      <td>100.0</td>\n",
       "      <td>14.203</td>\n",
       "      <td>31.050</td>\n",
       "      <td>329.433</td>\n",
       "      <td>7.667</td>\n",
       "      <td>0.0</td>\n",
       "      <td>7.667</td>\n",
       "      <td>89.566667</td>\n",
       "    </tr>\n",
       "    <tr>\n",
       "      <th>2006-12-16 17:27:00</th>\n",
       "      <td>5.388</td>\n",
       "      <td>0.502</td>\n",
       "      <td>233.74</td>\n",
       "      <td>23.0</td>\n",
       "      <td>0.0</td>\n",
       "      <td>1.0</td>\n",
       "      <td>17.0</td>\n",
       "      <td>7.085</td>\n",
       "      <td>94.100</td>\n",
       "      <td>6.195</td>\n",
       "      <td>4.075</td>\n",
       "      <td>1012.450</td>\n",
       "      <td>100.0</td>\n",
       "      <td>14.165</td>\n",
       "      <td>31.025</td>\n",
       "      <td>329.450</td>\n",
       "      <td>7.500</td>\n",
       "      <td>0.0</td>\n",
       "      <td>7.500</td>\n",
       "      <td>89.800000</td>\n",
       "    </tr>\n",
       "    <tr>\n",
       "      <th>2006-12-16 17:28:00</th>\n",
       "      <td>3.666</td>\n",
       "      <td>0.528</td>\n",
       "      <td>235.68</td>\n",
       "      <td>15.8</td>\n",
       "      <td>0.0</td>\n",
       "      <td>1.0</td>\n",
       "      <td>17.0</td>\n",
       "      <td>7.073</td>\n",
       "      <td>94.067</td>\n",
       "      <td>6.180</td>\n",
       "      <td>4.067</td>\n",
       "      <td>1012.467</td>\n",
       "      <td>100.0</td>\n",
       "      <td>14.127</td>\n",
       "      <td>31.000</td>\n",
       "      <td>329.467</td>\n",
       "      <td>7.333</td>\n",
       "      <td>0.0</td>\n",
       "      <td>7.333</td>\n",
       "      <td>61.100000</td>\n",
       "    </tr>\n",
       "  </tbody>\n",
       "</table>\n",
       "</div>"
      ],
      "text/plain": [
       "                     Global_active_power (kilowatts)  \\\n",
       "DateTime                                               \n",
       "2006-12-16 17:24:00                            4.216   \n",
       "2006-12-16 17:25:00                            5.360   \n",
       "2006-12-16 17:26:00                            5.374   \n",
       "2006-12-16 17:27:00                            5.388   \n",
       "2006-12-16 17:28:00                            3.666   \n",
       "\n",
       "                     Global_reactive_power (kilowatts)  Voltage (volts)  \\\n",
       "DateTime                                                                  \n",
       "2006-12-16 17:24:00                              0.418           234.84   \n",
       "2006-12-16 17:25:00                              0.436           233.63   \n",
       "2006-12-16 17:26:00                              0.498           233.29   \n",
       "2006-12-16 17:27:00                              0.502           233.74   \n",
       "2006-12-16 17:28:00                              0.528           235.68   \n",
       "\n",
       "                     Global_intensity (amperes)  \\\n",
       "DateTime                                          \n",
       "2006-12-16 17:24:00                        18.4   \n",
       "2006-12-16 17:25:00                        23.0   \n",
       "2006-12-16 17:26:00                        23.0   \n",
       "2006-12-16 17:27:00                        23.0   \n",
       "2006-12-16 17:28:00                        15.8   \n",
       "\n",
       "                     Sub_metering_1 (watt-hours of active energy)  \\\n",
       "DateTime                                                            \n",
       "2006-12-16 17:24:00                                           0.0   \n",
       "2006-12-16 17:25:00                                           0.0   \n",
       "2006-12-16 17:26:00                                           0.0   \n",
       "2006-12-16 17:27:00                                           0.0   \n",
       "2006-12-16 17:28:00                                           0.0   \n",
       "\n",
       "                     Sub_metering_2 (watt-hours of active energy)  \\\n",
       "DateTime                                                            \n",
       "2006-12-16 17:24:00                                           1.0   \n",
       "2006-12-16 17:25:00                                           1.0   \n",
       "2006-12-16 17:26:00                                           2.0   \n",
       "2006-12-16 17:27:00                                           1.0   \n",
       "2006-12-16 17:28:00                                           1.0   \n",
       "\n",
       "                     Sub_metering_3 (watt-hours of active energy)  \\\n",
       "DateTime                                                            \n",
       "2006-12-16 17:24:00                                          17.0   \n",
       "2006-12-16 17:25:00                                          16.0   \n",
       "2006-12-16 17:26:00                                          17.0   \n",
       "2006-12-16 17:27:00                                          17.0   \n",
       "2006-12-16 17:28:00                                          17.0   \n",
       "\n",
       "                     temperature_2m (°C)  relative_humidity_2m (%)  \\\n",
       "DateTime                                                             \n",
       "2006-12-16 17:24:00                7.120                    94.200   \n",
       "2006-12-16 17:25:00                7.108                    94.167   \n",
       "2006-12-16 17:26:00                7.097                    94.133   \n",
       "2006-12-16 17:27:00                7.085                    94.100   \n",
       "2006-12-16 17:28:00                7.073                    94.067   \n",
       "\n",
       "                     dew_point_2m (°C)  apparent_temperature (°C)  \\\n",
       "DateTime                                                            \n",
       "2006-12-16 17:24:00              6.240                      4.100   \n",
       "2006-12-16 17:25:00              6.225                      4.092   \n",
       "2006-12-16 17:26:00              6.210                      4.083   \n",
       "2006-12-16 17:27:00              6.195                      4.075   \n",
       "2006-12-16 17:28:00              6.180                      4.067   \n",
       "\n",
       "                     surface_pressure (hPa)  cloudcover (%)  \\\n",
       "DateTime                                                      \n",
       "2006-12-16 17:24:00                1012.400           100.0   \n",
       "2006-12-16 17:25:00                1012.417           100.0   \n",
       "2006-12-16 17:26:00                1012.433           100.0   \n",
       "2006-12-16 17:27:00                1012.450           100.0   \n",
       "2006-12-16 17:28:00                1012.467           100.0   \n",
       "\n",
       "                     windspeed_10m (km/h)  windgusts_10m (km/h)  \\\n",
       "DateTime                                                          \n",
       "2006-12-16 17:24:00                14.280                31.100   \n",
       "2006-12-16 17:25:00                14.242                31.075   \n",
       "2006-12-16 17:26:00                14.203                31.050   \n",
       "2006-12-16 17:27:00                14.165                31.025   \n",
       "2006-12-16 17:28:00                14.127                31.000   \n",
       "\n",
       "                     winddirection_10m (degrees)  shortwave_radiation (W/m²)  \\\n",
       "DateTime                                                                       \n",
       "2006-12-16 17:24:00                      329.400                       8.000   \n",
       "2006-12-16 17:25:00                      329.417                       7.833   \n",
       "2006-12-16 17:26:00                      329.433                       7.667   \n",
       "2006-12-16 17:27:00                      329.450                       7.500   \n",
       "2006-12-16 17:28:00                      329.467                       7.333   \n",
       "\n",
       "                     direct_radiation (W/m²)  diffuse_radiation (W/m²)  \\\n",
       "DateTime                                                                 \n",
       "2006-12-16 17:24:00                      0.0                     8.000   \n",
       "2006-12-16 17:25:00                      0.0                     7.833   \n",
       "2006-12-16 17:26:00                      0.0                     7.667   \n",
       "2006-12-16 17:27:00                      0.0                     7.500   \n",
       "2006-12-16 17:28:00                      0.0                     7.333   \n",
       "\n",
       "                     Energy Consumed by Household (Watt-hour)  \n",
       "DateTime                                                       \n",
       "2006-12-16 17:24:00                                 70.266667  \n",
       "2006-12-16 17:25:00                                 89.333333  \n",
       "2006-12-16 17:26:00                                 89.566667  \n",
       "2006-12-16 17:27:00                                 89.800000  \n",
       "2006-12-16 17:28:00                                 61.100000  "
      ]
     },
     "execution_count": 34,
     "metadata": {},
     "output_type": "execute_result"
    }
   ],
   "source": [
    "# lets look at our  target variable\n",
    "#We need to calculate the active energy consumed by the household every minute, which is expressed usually in kwh from global active power\n",
    "power_df_clean['Energy Consumed by Household (Watt-hour)'] = power_df_clean['Global_active_power (kilowatts)'] * 1000 / 60 \n",
    "power_df_clean.head()"
   ]
  },
  {
   "cell_type": "markdown",
   "metadata": {},
   "source": [
    "### Total Active Energy Consumed by HouseHold not measured in sub-meterings 1, 2 and 3."
   ]
  },
  {
   "cell_type": "code",
   "execution_count": 35,
   "metadata": {},
   "outputs": [
    {
     "data": {
      "text/html": [
       "<div>\n",
       "<style scoped>\n",
       "    .dataframe tbody tr th:only-of-type {\n",
       "        vertical-align: middle;\n",
       "    }\n",
       "\n",
       "    .dataframe tbody tr th {\n",
       "        vertical-align: top;\n",
       "    }\n",
       "\n",
       "    .dataframe thead th {\n",
       "        text-align: right;\n",
       "    }\n",
       "</style>\n",
       "<table border=\"1\" class=\"dataframe\">\n",
       "  <thead>\n",
       "    <tr style=\"text-align: right;\">\n",
       "      <th></th>\n",
       "      <th>Global_active_power (kilowatts)</th>\n",
       "      <th>Global_reactive_power (kilowatts)</th>\n",
       "      <th>Voltage (volts)</th>\n",
       "      <th>Global_intensity (amperes)</th>\n",
       "      <th>Sub_metering_1 (watt-hours of active energy)</th>\n",
       "      <th>Sub_metering_2 (watt-hours of active energy)</th>\n",
       "      <th>Sub_metering_3 (watt-hours of active energy)</th>\n",
       "      <th>temperature_2m (°C)</th>\n",
       "      <th>relative_humidity_2m (%)</th>\n",
       "      <th>dew_point_2m (°C)</th>\n",
       "      <th>...</th>\n",
       "      <th>surface_pressure (hPa)</th>\n",
       "      <th>cloudcover (%)</th>\n",
       "      <th>windspeed_10m (km/h)</th>\n",
       "      <th>windgusts_10m (km/h)</th>\n",
       "      <th>winddirection_10m (degrees)</th>\n",
       "      <th>shortwave_radiation (W/m²)</th>\n",
       "      <th>direct_radiation (W/m²)</th>\n",
       "      <th>diffuse_radiation (W/m²)</th>\n",
       "      <th>Energy Consumed by Household (Watt-hour)</th>\n",
       "      <th>Energy Consumed by Household excluding sub-meterings 1, 2 and 3 (Watt-hour)</th>\n",
       "    </tr>\n",
       "    <tr>\n",
       "      <th>DateTime</th>\n",
       "      <th></th>\n",
       "      <th></th>\n",
       "      <th></th>\n",
       "      <th></th>\n",
       "      <th></th>\n",
       "      <th></th>\n",
       "      <th></th>\n",
       "      <th></th>\n",
       "      <th></th>\n",
       "      <th></th>\n",
       "      <th></th>\n",
       "      <th></th>\n",
       "      <th></th>\n",
       "      <th></th>\n",
       "      <th></th>\n",
       "      <th></th>\n",
       "      <th></th>\n",
       "      <th></th>\n",
       "      <th></th>\n",
       "      <th></th>\n",
       "      <th></th>\n",
       "    </tr>\n",
       "  </thead>\n",
       "  <tbody>\n",
       "    <tr>\n",
       "      <th>2006-12-16 17:24:00</th>\n",
       "      <td>4.216</td>\n",
       "      <td>0.418</td>\n",
       "      <td>234.84</td>\n",
       "      <td>18.4</td>\n",
       "      <td>0.0</td>\n",
       "      <td>1.0</td>\n",
       "      <td>17.0</td>\n",
       "      <td>7.120</td>\n",
       "      <td>94.200</td>\n",
       "      <td>6.240</td>\n",
       "      <td>...</td>\n",
       "      <td>1012.400</td>\n",
       "      <td>100.0</td>\n",
       "      <td>14.280</td>\n",
       "      <td>31.100</td>\n",
       "      <td>329.400</td>\n",
       "      <td>8.000</td>\n",
       "      <td>0.0</td>\n",
       "      <td>8.000</td>\n",
       "      <td>70.266667</td>\n",
       "      <td>52.266667</td>\n",
       "    </tr>\n",
       "    <tr>\n",
       "      <th>2006-12-16 17:25:00</th>\n",
       "      <td>5.360</td>\n",
       "      <td>0.436</td>\n",
       "      <td>233.63</td>\n",
       "      <td>23.0</td>\n",
       "      <td>0.0</td>\n",
       "      <td>1.0</td>\n",
       "      <td>16.0</td>\n",
       "      <td>7.108</td>\n",
       "      <td>94.167</td>\n",
       "      <td>6.225</td>\n",
       "      <td>...</td>\n",
       "      <td>1012.417</td>\n",
       "      <td>100.0</td>\n",
       "      <td>14.242</td>\n",
       "      <td>31.075</td>\n",
       "      <td>329.417</td>\n",
       "      <td>7.833</td>\n",
       "      <td>0.0</td>\n",
       "      <td>7.833</td>\n",
       "      <td>89.333333</td>\n",
       "      <td>72.333333</td>\n",
       "    </tr>\n",
       "    <tr>\n",
       "      <th>2006-12-16 17:26:00</th>\n",
       "      <td>5.374</td>\n",
       "      <td>0.498</td>\n",
       "      <td>233.29</td>\n",
       "      <td>23.0</td>\n",
       "      <td>0.0</td>\n",
       "      <td>2.0</td>\n",
       "      <td>17.0</td>\n",
       "      <td>7.097</td>\n",
       "      <td>94.133</td>\n",
       "      <td>6.210</td>\n",
       "      <td>...</td>\n",
       "      <td>1012.433</td>\n",
       "      <td>100.0</td>\n",
       "      <td>14.203</td>\n",
       "      <td>31.050</td>\n",
       "      <td>329.433</td>\n",
       "      <td>7.667</td>\n",
       "      <td>0.0</td>\n",
       "      <td>7.667</td>\n",
       "      <td>89.566667</td>\n",
       "      <td>70.566667</td>\n",
       "    </tr>\n",
       "    <tr>\n",
       "      <th>2006-12-16 17:27:00</th>\n",
       "      <td>5.388</td>\n",
       "      <td>0.502</td>\n",
       "      <td>233.74</td>\n",
       "      <td>23.0</td>\n",
       "      <td>0.0</td>\n",
       "      <td>1.0</td>\n",
       "      <td>17.0</td>\n",
       "      <td>7.085</td>\n",
       "      <td>94.100</td>\n",
       "      <td>6.195</td>\n",
       "      <td>...</td>\n",
       "      <td>1012.450</td>\n",
       "      <td>100.0</td>\n",
       "      <td>14.165</td>\n",
       "      <td>31.025</td>\n",
       "      <td>329.450</td>\n",
       "      <td>7.500</td>\n",
       "      <td>0.0</td>\n",
       "      <td>7.500</td>\n",
       "      <td>89.800000</td>\n",
       "      <td>71.800000</td>\n",
       "    </tr>\n",
       "    <tr>\n",
       "      <th>2006-12-16 17:28:00</th>\n",
       "      <td>3.666</td>\n",
       "      <td>0.528</td>\n",
       "      <td>235.68</td>\n",
       "      <td>15.8</td>\n",
       "      <td>0.0</td>\n",
       "      <td>1.0</td>\n",
       "      <td>17.0</td>\n",
       "      <td>7.073</td>\n",
       "      <td>94.067</td>\n",
       "      <td>6.180</td>\n",
       "      <td>...</td>\n",
       "      <td>1012.467</td>\n",
       "      <td>100.0</td>\n",
       "      <td>14.127</td>\n",
       "      <td>31.000</td>\n",
       "      <td>329.467</td>\n",
       "      <td>7.333</td>\n",
       "      <td>0.0</td>\n",
       "      <td>7.333</td>\n",
       "      <td>61.100000</td>\n",
       "      <td>43.100000</td>\n",
       "    </tr>\n",
       "  </tbody>\n",
       "</table>\n",
       "<p>5 rows × 21 columns</p>\n",
       "</div>"
      ],
      "text/plain": [
       "                     Global_active_power (kilowatts)  \\\n",
       "DateTime                                               \n",
       "2006-12-16 17:24:00                            4.216   \n",
       "2006-12-16 17:25:00                            5.360   \n",
       "2006-12-16 17:26:00                            5.374   \n",
       "2006-12-16 17:27:00                            5.388   \n",
       "2006-12-16 17:28:00                            3.666   \n",
       "\n",
       "                     Global_reactive_power (kilowatts)  Voltage (volts)  \\\n",
       "DateTime                                                                  \n",
       "2006-12-16 17:24:00                              0.418           234.84   \n",
       "2006-12-16 17:25:00                              0.436           233.63   \n",
       "2006-12-16 17:26:00                              0.498           233.29   \n",
       "2006-12-16 17:27:00                              0.502           233.74   \n",
       "2006-12-16 17:28:00                              0.528           235.68   \n",
       "\n",
       "                     Global_intensity (amperes)  \\\n",
       "DateTime                                          \n",
       "2006-12-16 17:24:00                        18.4   \n",
       "2006-12-16 17:25:00                        23.0   \n",
       "2006-12-16 17:26:00                        23.0   \n",
       "2006-12-16 17:27:00                        23.0   \n",
       "2006-12-16 17:28:00                        15.8   \n",
       "\n",
       "                     Sub_metering_1 (watt-hours of active energy)  \\\n",
       "DateTime                                                            \n",
       "2006-12-16 17:24:00                                           0.0   \n",
       "2006-12-16 17:25:00                                           0.0   \n",
       "2006-12-16 17:26:00                                           0.0   \n",
       "2006-12-16 17:27:00                                           0.0   \n",
       "2006-12-16 17:28:00                                           0.0   \n",
       "\n",
       "                     Sub_metering_2 (watt-hours of active energy)  \\\n",
       "DateTime                                                            \n",
       "2006-12-16 17:24:00                                           1.0   \n",
       "2006-12-16 17:25:00                                           1.0   \n",
       "2006-12-16 17:26:00                                           2.0   \n",
       "2006-12-16 17:27:00                                           1.0   \n",
       "2006-12-16 17:28:00                                           1.0   \n",
       "\n",
       "                     Sub_metering_3 (watt-hours of active energy)  \\\n",
       "DateTime                                                            \n",
       "2006-12-16 17:24:00                                          17.0   \n",
       "2006-12-16 17:25:00                                          16.0   \n",
       "2006-12-16 17:26:00                                          17.0   \n",
       "2006-12-16 17:27:00                                          17.0   \n",
       "2006-12-16 17:28:00                                          17.0   \n",
       "\n",
       "                     temperature_2m (°C)  relative_humidity_2m (%)  \\\n",
       "DateTime                                                             \n",
       "2006-12-16 17:24:00                7.120                    94.200   \n",
       "2006-12-16 17:25:00                7.108                    94.167   \n",
       "2006-12-16 17:26:00                7.097                    94.133   \n",
       "2006-12-16 17:27:00                7.085                    94.100   \n",
       "2006-12-16 17:28:00                7.073                    94.067   \n",
       "\n",
       "                     dew_point_2m (°C)  ...  surface_pressure (hPa)  \\\n",
       "DateTime                                ...                           \n",
       "2006-12-16 17:24:00              6.240  ...                1012.400   \n",
       "2006-12-16 17:25:00              6.225  ...                1012.417   \n",
       "2006-12-16 17:26:00              6.210  ...                1012.433   \n",
       "2006-12-16 17:27:00              6.195  ...                1012.450   \n",
       "2006-12-16 17:28:00              6.180  ...                1012.467   \n",
       "\n",
       "                     cloudcover (%)  windspeed_10m (km/h)  \\\n",
       "DateTime                                                    \n",
       "2006-12-16 17:24:00           100.0                14.280   \n",
       "2006-12-16 17:25:00           100.0                14.242   \n",
       "2006-12-16 17:26:00           100.0                14.203   \n",
       "2006-12-16 17:27:00           100.0                14.165   \n",
       "2006-12-16 17:28:00           100.0                14.127   \n",
       "\n",
       "                     windgusts_10m (km/h)  winddirection_10m (degrees)  \\\n",
       "DateTime                                                                 \n",
       "2006-12-16 17:24:00                31.100                      329.400   \n",
       "2006-12-16 17:25:00                31.075                      329.417   \n",
       "2006-12-16 17:26:00                31.050                      329.433   \n",
       "2006-12-16 17:27:00                31.025                      329.450   \n",
       "2006-12-16 17:28:00                31.000                      329.467   \n",
       "\n",
       "                     shortwave_radiation (W/m²)  direct_radiation (W/m²)  \\\n",
       "DateTime                                                                   \n",
       "2006-12-16 17:24:00                       8.000                      0.0   \n",
       "2006-12-16 17:25:00                       7.833                      0.0   \n",
       "2006-12-16 17:26:00                       7.667                      0.0   \n",
       "2006-12-16 17:27:00                       7.500                      0.0   \n",
       "2006-12-16 17:28:00                       7.333                      0.0   \n",
       "\n",
       "                     diffuse_radiation (W/m²)  \\\n",
       "DateTime                                        \n",
       "2006-12-16 17:24:00                     8.000   \n",
       "2006-12-16 17:25:00                     7.833   \n",
       "2006-12-16 17:26:00                     7.667   \n",
       "2006-12-16 17:27:00                     7.500   \n",
       "2006-12-16 17:28:00                     7.333   \n",
       "\n",
       "                     Energy Consumed by Household (Watt-hour)  \\\n",
       "DateTime                                                        \n",
       "2006-12-16 17:24:00                                 70.266667   \n",
       "2006-12-16 17:25:00                                 89.333333   \n",
       "2006-12-16 17:26:00                                 89.566667   \n",
       "2006-12-16 17:27:00                                 89.800000   \n",
       "2006-12-16 17:28:00                                 61.100000   \n",
       "\n",
       "                     Energy Consumed by Household excluding sub-meterings 1, 2 and 3 (Watt-hour)  \n",
       "DateTime                                                                                          \n",
       "2006-12-16 17:24:00                                          52.266667                            \n",
       "2006-12-16 17:25:00                                          72.333333                            \n",
       "2006-12-16 17:26:00                                          70.566667                            \n",
       "2006-12-16 17:27:00                                          71.800000                            \n",
       "2006-12-16 17:28:00                                          43.100000                            \n",
       "\n",
       "[5 rows x 21 columns]"
      ]
     },
     "execution_count": 35,
     "metadata": {},
     "output_type": "execute_result"
    }
   ],
   "source": [
    "#We need to calculate the active energy consumed by the household excluding the submet, which is the difference between the total active power and the sub-metered values.\n",
    "# The formula is: Active Energy Consumed = Global_active_power * 1000 /60 - Sub_metering_1 - Sub_metering_2 - Sub_metering_3\n",
    "power_df_clean['Energy Consumed by Household excluding sub-meterings 1, 2 and 3 (Watt-hour)'] = power_df_clean['Global_active_power (kilowatts)'] * 1000 / 60 -power_df_clean['Sub_metering_1 (watt-hours of active energy)'] - power_df_clean['Sub_metering_2 (watt-hours of active energy)'] - power_df_clean['Sub_metering_3 (watt-hours of active energy)']\n",
    "power_df_clean.head()"
   ]
  },
  {
   "cell_type": "markdown",
   "metadata": {},
   "source": [
    "### Total Reactive Energy Consumption by HouseHold"
   ]
  },
  {
   "cell_type": "code",
   "execution_count": 36,
   "metadata": {},
   "outputs": [],
   "source": [
    "#lets also for consistency create a column for the total  reactive energy consumed by the household from reactive power\n",
    "power_df_clean['Reactive Energy Consumed by Household (Watt-hour)'] = power_df_clean['Global_reactive_power (kilowatts)'] * 1000 / 60"
   ]
  },
  {
   "cell_type": "code",
   "execution_count": 37,
   "metadata": {},
   "outputs": [
    {
     "data": {
      "text/html": [
       "<div>\n",
       "<style scoped>\n",
       "    .dataframe tbody tr th:only-of-type {\n",
       "        vertical-align: middle;\n",
       "    }\n",
       "\n",
       "    .dataframe tbody tr th {\n",
       "        vertical-align: top;\n",
       "    }\n",
       "\n",
       "    .dataframe thead th {\n",
       "        text-align: right;\n",
       "    }\n",
       "</style>\n",
       "<table border=\"1\" class=\"dataframe\">\n",
       "  <thead>\n",
       "    <tr style=\"text-align: right;\">\n",
       "      <th></th>\n",
       "      <th>Global_active_power (kilowatts)</th>\n",
       "      <th>Global_reactive_power (kilowatts)</th>\n",
       "      <th>Voltage (volts)</th>\n",
       "      <th>Global_intensity (amperes)</th>\n",
       "      <th>Sub_metering_1 (watt-hours of active energy)</th>\n",
       "      <th>Sub_metering_2 (watt-hours of active energy)</th>\n",
       "      <th>Sub_metering_3 (watt-hours of active energy)</th>\n",
       "      <th>temperature_2m (°C)</th>\n",
       "      <th>relative_humidity_2m (%)</th>\n",
       "      <th>dew_point_2m (°C)</th>\n",
       "      <th>...</th>\n",
       "      <th>cloudcover (%)</th>\n",
       "      <th>windspeed_10m (km/h)</th>\n",
       "      <th>windgusts_10m (km/h)</th>\n",
       "      <th>winddirection_10m (degrees)</th>\n",
       "      <th>shortwave_radiation (W/m²)</th>\n",
       "      <th>direct_radiation (W/m²)</th>\n",
       "      <th>diffuse_radiation (W/m²)</th>\n",
       "      <th>Energy Consumed by Household (Watt-hour)</th>\n",
       "      <th>Energy Consumed by Household excluding sub-meterings 1, 2 and 3 (Watt-hour)</th>\n",
       "      <th>Reactive Energy Consumed by Household (Watt-hour)</th>\n",
       "    </tr>\n",
       "    <tr>\n",
       "      <th>DateTime</th>\n",
       "      <th></th>\n",
       "      <th></th>\n",
       "      <th></th>\n",
       "      <th></th>\n",
       "      <th></th>\n",
       "      <th></th>\n",
       "      <th></th>\n",
       "      <th></th>\n",
       "      <th></th>\n",
       "      <th></th>\n",
       "      <th></th>\n",
       "      <th></th>\n",
       "      <th></th>\n",
       "      <th></th>\n",
       "      <th></th>\n",
       "      <th></th>\n",
       "      <th></th>\n",
       "      <th></th>\n",
       "      <th></th>\n",
       "      <th></th>\n",
       "      <th></th>\n",
       "    </tr>\n",
       "  </thead>\n",
       "  <tbody>\n",
       "    <tr>\n",
       "      <th>2006-12-16 17:24:00</th>\n",
       "      <td>4.216</td>\n",
       "      <td>0.418</td>\n",
       "      <td>234.84</td>\n",
       "      <td>18.4</td>\n",
       "      <td>0.0</td>\n",
       "      <td>1.0</td>\n",
       "      <td>17.0</td>\n",
       "      <td>7.120</td>\n",
       "      <td>94.200</td>\n",
       "      <td>6.240</td>\n",
       "      <td>...</td>\n",
       "      <td>100.0</td>\n",
       "      <td>14.280</td>\n",
       "      <td>31.100</td>\n",
       "      <td>329.400</td>\n",
       "      <td>8.000</td>\n",
       "      <td>0.0</td>\n",
       "      <td>8.000</td>\n",
       "      <td>70.266667</td>\n",
       "      <td>52.266667</td>\n",
       "      <td>6.966667</td>\n",
       "    </tr>\n",
       "    <tr>\n",
       "      <th>2006-12-16 17:25:00</th>\n",
       "      <td>5.360</td>\n",
       "      <td>0.436</td>\n",
       "      <td>233.63</td>\n",
       "      <td>23.0</td>\n",
       "      <td>0.0</td>\n",
       "      <td>1.0</td>\n",
       "      <td>16.0</td>\n",
       "      <td>7.108</td>\n",
       "      <td>94.167</td>\n",
       "      <td>6.225</td>\n",
       "      <td>...</td>\n",
       "      <td>100.0</td>\n",
       "      <td>14.242</td>\n",
       "      <td>31.075</td>\n",
       "      <td>329.417</td>\n",
       "      <td>7.833</td>\n",
       "      <td>0.0</td>\n",
       "      <td>7.833</td>\n",
       "      <td>89.333333</td>\n",
       "      <td>72.333333</td>\n",
       "      <td>7.266667</td>\n",
       "    </tr>\n",
       "    <tr>\n",
       "      <th>2006-12-16 17:26:00</th>\n",
       "      <td>5.374</td>\n",
       "      <td>0.498</td>\n",
       "      <td>233.29</td>\n",
       "      <td>23.0</td>\n",
       "      <td>0.0</td>\n",
       "      <td>2.0</td>\n",
       "      <td>17.0</td>\n",
       "      <td>7.097</td>\n",
       "      <td>94.133</td>\n",
       "      <td>6.210</td>\n",
       "      <td>...</td>\n",
       "      <td>100.0</td>\n",
       "      <td>14.203</td>\n",
       "      <td>31.050</td>\n",
       "      <td>329.433</td>\n",
       "      <td>7.667</td>\n",
       "      <td>0.0</td>\n",
       "      <td>7.667</td>\n",
       "      <td>89.566667</td>\n",
       "      <td>70.566667</td>\n",
       "      <td>8.300000</td>\n",
       "    </tr>\n",
       "    <tr>\n",
       "      <th>2006-12-16 17:27:00</th>\n",
       "      <td>5.388</td>\n",
       "      <td>0.502</td>\n",
       "      <td>233.74</td>\n",
       "      <td>23.0</td>\n",
       "      <td>0.0</td>\n",
       "      <td>1.0</td>\n",
       "      <td>17.0</td>\n",
       "      <td>7.085</td>\n",
       "      <td>94.100</td>\n",
       "      <td>6.195</td>\n",
       "      <td>...</td>\n",
       "      <td>100.0</td>\n",
       "      <td>14.165</td>\n",
       "      <td>31.025</td>\n",
       "      <td>329.450</td>\n",
       "      <td>7.500</td>\n",
       "      <td>0.0</td>\n",
       "      <td>7.500</td>\n",
       "      <td>89.800000</td>\n",
       "      <td>71.800000</td>\n",
       "      <td>8.366667</td>\n",
       "    </tr>\n",
       "    <tr>\n",
       "      <th>2006-12-16 17:28:00</th>\n",
       "      <td>3.666</td>\n",
       "      <td>0.528</td>\n",
       "      <td>235.68</td>\n",
       "      <td>15.8</td>\n",
       "      <td>0.0</td>\n",
       "      <td>1.0</td>\n",
       "      <td>17.0</td>\n",
       "      <td>7.073</td>\n",
       "      <td>94.067</td>\n",
       "      <td>6.180</td>\n",
       "      <td>...</td>\n",
       "      <td>100.0</td>\n",
       "      <td>14.127</td>\n",
       "      <td>31.000</td>\n",
       "      <td>329.467</td>\n",
       "      <td>7.333</td>\n",
       "      <td>0.0</td>\n",
       "      <td>7.333</td>\n",
       "      <td>61.100000</td>\n",
       "      <td>43.100000</td>\n",
       "      <td>8.800000</td>\n",
       "    </tr>\n",
       "  </tbody>\n",
       "</table>\n",
       "<p>5 rows × 22 columns</p>\n",
       "</div>"
      ],
      "text/plain": [
       "                     Global_active_power (kilowatts)  \\\n",
       "DateTime                                               \n",
       "2006-12-16 17:24:00                            4.216   \n",
       "2006-12-16 17:25:00                            5.360   \n",
       "2006-12-16 17:26:00                            5.374   \n",
       "2006-12-16 17:27:00                            5.388   \n",
       "2006-12-16 17:28:00                            3.666   \n",
       "\n",
       "                     Global_reactive_power (kilowatts)  Voltage (volts)  \\\n",
       "DateTime                                                                  \n",
       "2006-12-16 17:24:00                              0.418           234.84   \n",
       "2006-12-16 17:25:00                              0.436           233.63   \n",
       "2006-12-16 17:26:00                              0.498           233.29   \n",
       "2006-12-16 17:27:00                              0.502           233.74   \n",
       "2006-12-16 17:28:00                              0.528           235.68   \n",
       "\n",
       "                     Global_intensity (amperes)  \\\n",
       "DateTime                                          \n",
       "2006-12-16 17:24:00                        18.4   \n",
       "2006-12-16 17:25:00                        23.0   \n",
       "2006-12-16 17:26:00                        23.0   \n",
       "2006-12-16 17:27:00                        23.0   \n",
       "2006-12-16 17:28:00                        15.8   \n",
       "\n",
       "                     Sub_metering_1 (watt-hours of active energy)  \\\n",
       "DateTime                                                            \n",
       "2006-12-16 17:24:00                                           0.0   \n",
       "2006-12-16 17:25:00                                           0.0   \n",
       "2006-12-16 17:26:00                                           0.0   \n",
       "2006-12-16 17:27:00                                           0.0   \n",
       "2006-12-16 17:28:00                                           0.0   \n",
       "\n",
       "                     Sub_metering_2 (watt-hours of active energy)  \\\n",
       "DateTime                                                            \n",
       "2006-12-16 17:24:00                                           1.0   \n",
       "2006-12-16 17:25:00                                           1.0   \n",
       "2006-12-16 17:26:00                                           2.0   \n",
       "2006-12-16 17:27:00                                           1.0   \n",
       "2006-12-16 17:28:00                                           1.0   \n",
       "\n",
       "                     Sub_metering_3 (watt-hours of active energy)  \\\n",
       "DateTime                                                            \n",
       "2006-12-16 17:24:00                                          17.0   \n",
       "2006-12-16 17:25:00                                          16.0   \n",
       "2006-12-16 17:26:00                                          17.0   \n",
       "2006-12-16 17:27:00                                          17.0   \n",
       "2006-12-16 17:28:00                                          17.0   \n",
       "\n",
       "                     temperature_2m (°C)  relative_humidity_2m (%)  \\\n",
       "DateTime                                                             \n",
       "2006-12-16 17:24:00                7.120                    94.200   \n",
       "2006-12-16 17:25:00                7.108                    94.167   \n",
       "2006-12-16 17:26:00                7.097                    94.133   \n",
       "2006-12-16 17:27:00                7.085                    94.100   \n",
       "2006-12-16 17:28:00                7.073                    94.067   \n",
       "\n",
       "                     dew_point_2m (°C)  ...  cloudcover (%)  \\\n",
       "DateTime                                ...                   \n",
       "2006-12-16 17:24:00              6.240  ...           100.0   \n",
       "2006-12-16 17:25:00              6.225  ...           100.0   \n",
       "2006-12-16 17:26:00              6.210  ...           100.0   \n",
       "2006-12-16 17:27:00              6.195  ...           100.0   \n",
       "2006-12-16 17:28:00              6.180  ...           100.0   \n",
       "\n",
       "                     windspeed_10m (km/h)  windgusts_10m (km/h)  \\\n",
       "DateTime                                                          \n",
       "2006-12-16 17:24:00                14.280                31.100   \n",
       "2006-12-16 17:25:00                14.242                31.075   \n",
       "2006-12-16 17:26:00                14.203                31.050   \n",
       "2006-12-16 17:27:00                14.165                31.025   \n",
       "2006-12-16 17:28:00                14.127                31.000   \n",
       "\n",
       "                     winddirection_10m (degrees)  shortwave_radiation (W/m²)  \\\n",
       "DateTime                                                                       \n",
       "2006-12-16 17:24:00                      329.400                       8.000   \n",
       "2006-12-16 17:25:00                      329.417                       7.833   \n",
       "2006-12-16 17:26:00                      329.433                       7.667   \n",
       "2006-12-16 17:27:00                      329.450                       7.500   \n",
       "2006-12-16 17:28:00                      329.467                       7.333   \n",
       "\n",
       "                     direct_radiation (W/m²)  diffuse_radiation (W/m²)  \\\n",
       "DateTime                                                                 \n",
       "2006-12-16 17:24:00                      0.0                     8.000   \n",
       "2006-12-16 17:25:00                      0.0                     7.833   \n",
       "2006-12-16 17:26:00                      0.0                     7.667   \n",
       "2006-12-16 17:27:00                      0.0                     7.500   \n",
       "2006-12-16 17:28:00                      0.0                     7.333   \n",
       "\n",
       "                     Energy Consumed by Household (Watt-hour)  \\\n",
       "DateTime                                                        \n",
       "2006-12-16 17:24:00                                 70.266667   \n",
       "2006-12-16 17:25:00                                 89.333333   \n",
       "2006-12-16 17:26:00                                 89.566667   \n",
       "2006-12-16 17:27:00                                 89.800000   \n",
       "2006-12-16 17:28:00                                 61.100000   \n",
       "\n",
       "                     Energy Consumed by Household excluding sub-meterings 1, 2 and 3 (Watt-hour)  \\\n",
       "DateTime                                                                                           \n",
       "2006-12-16 17:24:00                                          52.266667                             \n",
       "2006-12-16 17:25:00                                          72.333333                             \n",
       "2006-12-16 17:26:00                                          70.566667                             \n",
       "2006-12-16 17:27:00                                          71.800000                             \n",
       "2006-12-16 17:28:00                                          43.100000                             \n",
       "\n",
       "                     Reactive Energy Consumed by Household (Watt-hour)  \n",
       "DateTime                                                                \n",
       "2006-12-16 17:24:00                                           6.966667  \n",
       "2006-12-16 17:25:00                                           7.266667  \n",
       "2006-12-16 17:26:00                                           8.300000  \n",
       "2006-12-16 17:27:00                                           8.366667  \n",
       "2006-12-16 17:28:00                                           8.800000  \n",
       "\n",
       "[5 rows x 22 columns]"
      ]
     },
     "execution_count": 37,
     "metadata": {},
     "output_type": "execute_result"
    }
   ],
   "source": [
    "power_df_clean.head()"
   ]
  },
  {
   "cell_type": "code",
   "execution_count": 38,
   "metadata": {},
   "outputs": [
    {
     "data": {
      "text/html": [
       "<div>\n",
       "<style scoped>\n",
       "    .dataframe tbody tr th:only-of-type {\n",
       "        vertical-align: middle;\n",
       "    }\n",
       "\n",
       "    .dataframe tbody tr th {\n",
       "        vertical-align: top;\n",
       "    }\n",
       "\n",
       "    .dataframe thead th {\n",
       "        text-align: right;\n",
       "    }\n",
       "</style>\n",
       "<table border=\"1\" class=\"dataframe\">\n",
       "  <thead>\n",
       "    <tr style=\"text-align: right;\">\n",
       "      <th></th>\n",
       "      <th>Energy Consumed by Household (Watt-hour)</th>\n",
       "      <th>Energy Consumed by Household excluding sub-meterings 1, 2 and 3 (Watt-hour)</th>\n",
       "      <th>Reactive Energy Consumed by Household (Watt-hour)</th>\n",
       "      <th>Global_active_power (kilowatts)</th>\n",
       "      <th>Global_reactive_power (kilowatts)</th>\n",
       "      <th>Voltage (volts)</th>\n",
       "      <th>Global_intensity (amperes)</th>\n",
       "      <th>Sub_metering_1 (watt-hours of active energy)</th>\n",
       "      <th>Sub_metering_2 (watt-hours of active energy)</th>\n",
       "      <th>Sub_metering_3 (watt-hours of active energy)</th>\n",
       "      <th>...</th>\n",
       "      <th>dew_point_2m (°C)</th>\n",
       "      <th>apparent_temperature (°C)</th>\n",
       "      <th>surface_pressure (hPa)</th>\n",
       "      <th>cloudcover (%)</th>\n",
       "      <th>windspeed_10m (km/h)</th>\n",
       "      <th>windgusts_10m (km/h)</th>\n",
       "      <th>winddirection_10m (degrees)</th>\n",
       "      <th>shortwave_radiation (W/m²)</th>\n",
       "      <th>direct_radiation (W/m²)</th>\n",
       "      <th>diffuse_radiation (W/m²)</th>\n",
       "    </tr>\n",
       "    <tr>\n",
       "      <th>DateTime</th>\n",
       "      <th></th>\n",
       "      <th></th>\n",
       "      <th></th>\n",
       "      <th></th>\n",
       "      <th></th>\n",
       "      <th></th>\n",
       "      <th></th>\n",
       "      <th></th>\n",
       "      <th></th>\n",
       "      <th></th>\n",
       "      <th></th>\n",
       "      <th></th>\n",
       "      <th></th>\n",
       "      <th></th>\n",
       "      <th></th>\n",
       "      <th></th>\n",
       "      <th></th>\n",
       "      <th></th>\n",
       "      <th></th>\n",
       "      <th></th>\n",
       "      <th></th>\n",
       "    </tr>\n",
       "  </thead>\n",
       "  <tbody>\n",
       "    <tr>\n",
       "      <th>2006-12-16 17:24:00</th>\n",
       "      <td>70.266667</td>\n",
       "      <td>52.266667</td>\n",
       "      <td>6.966667</td>\n",
       "      <td>4.216</td>\n",
       "      <td>0.418</td>\n",
       "      <td>234.84</td>\n",
       "      <td>18.4</td>\n",
       "      <td>0.0</td>\n",
       "      <td>1.0</td>\n",
       "      <td>17.0</td>\n",
       "      <td>...</td>\n",
       "      <td>6.240</td>\n",
       "      <td>4.100</td>\n",
       "      <td>1012.400</td>\n",
       "      <td>100.0</td>\n",
       "      <td>14.280</td>\n",
       "      <td>31.100</td>\n",
       "      <td>329.400</td>\n",
       "      <td>8.000</td>\n",
       "      <td>0.0</td>\n",
       "      <td>8.000</td>\n",
       "    </tr>\n",
       "    <tr>\n",
       "      <th>2006-12-16 17:25:00</th>\n",
       "      <td>89.333333</td>\n",
       "      <td>72.333333</td>\n",
       "      <td>7.266667</td>\n",
       "      <td>5.360</td>\n",
       "      <td>0.436</td>\n",
       "      <td>233.63</td>\n",
       "      <td>23.0</td>\n",
       "      <td>0.0</td>\n",
       "      <td>1.0</td>\n",
       "      <td>16.0</td>\n",
       "      <td>...</td>\n",
       "      <td>6.225</td>\n",
       "      <td>4.092</td>\n",
       "      <td>1012.417</td>\n",
       "      <td>100.0</td>\n",
       "      <td>14.242</td>\n",
       "      <td>31.075</td>\n",
       "      <td>329.417</td>\n",
       "      <td>7.833</td>\n",
       "      <td>0.0</td>\n",
       "      <td>7.833</td>\n",
       "    </tr>\n",
       "    <tr>\n",
       "      <th>2006-12-16 17:26:00</th>\n",
       "      <td>89.566667</td>\n",
       "      <td>70.566667</td>\n",
       "      <td>8.300000</td>\n",
       "      <td>5.374</td>\n",
       "      <td>0.498</td>\n",
       "      <td>233.29</td>\n",
       "      <td>23.0</td>\n",
       "      <td>0.0</td>\n",
       "      <td>2.0</td>\n",
       "      <td>17.0</td>\n",
       "      <td>...</td>\n",
       "      <td>6.210</td>\n",
       "      <td>4.083</td>\n",
       "      <td>1012.433</td>\n",
       "      <td>100.0</td>\n",
       "      <td>14.203</td>\n",
       "      <td>31.050</td>\n",
       "      <td>329.433</td>\n",
       "      <td>7.667</td>\n",
       "      <td>0.0</td>\n",
       "      <td>7.667</td>\n",
       "    </tr>\n",
       "    <tr>\n",
       "      <th>2006-12-16 17:27:00</th>\n",
       "      <td>89.800000</td>\n",
       "      <td>71.800000</td>\n",
       "      <td>8.366667</td>\n",
       "      <td>5.388</td>\n",
       "      <td>0.502</td>\n",
       "      <td>233.74</td>\n",
       "      <td>23.0</td>\n",
       "      <td>0.0</td>\n",
       "      <td>1.0</td>\n",
       "      <td>17.0</td>\n",
       "      <td>...</td>\n",
       "      <td>6.195</td>\n",
       "      <td>4.075</td>\n",
       "      <td>1012.450</td>\n",
       "      <td>100.0</td>\n",
       "      <td>14.165</td>\n",
       "      <td>31.025</td>\n",
       "      <td>329.450</td>\n",
       "      <td>7.500</td>\n",
       "      <td>0.0</td>\n",
       "      <td>7.500</td>\n",
       "    </tr>\n",
       "    <tr>\n",
       "      <th>2006-12-16 17:28:00</th>\n",
       "      <td>61.100000</td>\n",
       "      <td>43.100000</td>\n",
       "      <td>8.800000</td>\n",
       "      <td>3.666</td>\n",
       "      <td>0.528</td>\n",
       "      <td>235.68</td>\n",
       "      <td>15.8</td>\n",
       "      <td>0.0</td>\n",
       "      <td>1.0</td>\n",
       "      <td>17.0</td>\n",
       "      <td>...</td>\n",
       "      <td>6.180</td>\n",
       "      <td>4.067</td>\n",
       "      <td>1012.467</td>\n",
       "      <td>100.0</td>\n",
       "      <td>14.127</td>\n",
       "      <td>31.000</td>\n",
       "      <td>329.467</td>\n",
       "      <td>7.333</td>\n",
       "      <td>0.0</td>\n",
       "      <td>7.333</td>\n",
       "    </tr>\n",
       "  </tbody>\n",
       "</table>\n",
       "<p>5 rows × 22 columns</p>\n",
       "</div>"
      ],
      "text/plain": [
       "                     Energy Consumed by Household (Watt-hour)  \\\n",
       "DateTime                                                        \n",
       "2006-12-16 17:24:00                                 70.266667   \n",
       "2006-12-16 17:25:00                                 89.333333   \n",
       "2006-12-16 17:26:00                                 89.566667   \n",
       "2006-12-16 17:27:00                                 89.800000   \n",
       "2006-12-16 17:28:00                                 61.100000   \n",
       "\n",
       "                     Energy Consumed by Household excluding sub-meterings 1, 2 and 3 (Watt-hour)  \\\n",
       "DateTime                                                                                           \n",
       "2006-12-16 17:24:00                                          52.266667                             \n",
       "2006-12-16 17:25:00                                          72.333333                             \n",
       "2006-12-16 17:26:00                                          70.566667                             \n",
       "2006-12-16 17:27:00                                          71.800000                             \n",
       "2006-12-16 17:28:00                                          43.100000                             \n",
       "\n",
       "                     Reactive Energy Consumed by Household (Watt-hour)  \\\n",
       "DateTime                                                                 \n",
       "2006-12-16 17:24:00                                           6.966667   \n",
       "2006-12-16 17:25:00                                           7.266667   \n",
       "2006-12-16 17:26:00                                           8.300000   \n",
       "2006-12-16 17:27:00                                           8.366667   \n",
       "2006-12-16 17:28:00                                           8.800000   \n",
       "\n",
       "                     Global_active_power (kilowatts)  \\\n",
       "DateTime                                               \n",
       "2006-12-16 17:24:00                            4.216   \n",
       "2006-12-16 17:25:00                            5.360   \n",
       "2006-12-16 17:26:00                            5.374   \n",
       "2006-12-16 17:27:00                            5.388   \n",
       "2006-12-16 17:28:00                            3.666   \n",
       "\n",
       "                     Global_reactive_power (kilowatts)  Voltage (volts)  \\\n",
       "DateTime                                                                  \n",
       "2006-12-16 17:24:00                              0.418           234.84   \n",
       "2006-12-16 17:25:00                              0.436           233.63   \n",
       "2006-12-16 17:26:00                              0.498           233.29   \n",
       "2006-12-16 17:27:00                              0.502           233.74   \n",
       "2006-12-16 17:28:00                              0.528           235.68   \n",
       "\n",
       "                     Global_intensity (amperes)  \\\n",
       "DateTime                                          \n",
       "2006-12-16 17:24:00                        18.4   \n",
       "2006-12-16 17:25:00                        23.0   \n",
       "2006-12-16 17:26:00                        23.0   \n",
       "2006-12-16 17:27:00                        23.0   \n",
       "2006-12-16 17:28:00                        15.8   \n",
       "\n",
       "                     Sub_metering_1 (watt-hours of active energy)  \\\n",
       "DateTime                                                            \n",
       "2006-12-16 17:24:00                                           0.0   \n",
       "2006-12-16 17:25:00                                           0.0   \n",
       "2006-12-16 17:26:00                                           0.0   \n",
       "2006-12-16 17:27:00                                           0.0   \n",
       "2006-12-16 17:28:00                                           0.0   \n",
       "\n",
       "                     Sub_metering_2 (watt-hours of active energy)  \\\n",
       "DateTime                                                            \n",
       "2006-12-16 17:24:00                                           1.0   \n",
       "2006-12-16 17:25:00                                           1.0   \n",
       "2006-12-16 17:26:00                                           2.0   \n",
       "2006-12-16 17:27:00                                           1.0   \n",
       "2006-12-16 17:28:00                                           1.0   \n",
       "\n",
       "                     Sub_metering_3 (watt-hours of active energy)  ...  \\\n",
       "DateTime                                                           ...   \n",
       "2006-12-16 17:24:00                                          17.0  ...   \n",
       "2006-12-16 17:25:00                                          16.0  ...   \n",
       "2006-12-16 17:26:00                                          17.0  ...   \n",
       "2006-12-16 17:27:00                                          17.0  ...   \n",
       "2006-12-16 17:28:00                                          17.0  ...   \n",
       "\n",
       "                     dew_point_2m (°C)  apparent_temperature (°C)  \\\n",
       "DateTime                                                            \n",
       "2006-12-16 17:24:00              6.240                      4.100   \n",
       "2006-12-16 17:25:00              6.225                      4.092   \n",
       "2006-12-16 17:26:00              6.210                      4.083   \n",
       "2006-12-16 17:27:00              6.195                      4.075   \n",
       "2006-12-16 17:28:00              6.180                      4.067   \n",
       "\n",
       "                     surface_pressure (hPa)  cloudcover (%)  \\\n",
       "DateTime                                                      \n",
       "2006-12-16 17:24:00                1012.400           100.0   \n",
       "2006-12-16 17:25:00                1012.417           100.0   \n",
       "2006-12-16 17:26:00                1012.433           100.0   \n",
       "2006-12-16 17:27:00                1012.450           100.0   \n",
       "2006-12-16 17:28:00                1012.467           100.0   \n",
       "\n",
       "                     windspeed_10m (km/h)  windgusts_10m (km/h)  \\\n",
       "DateTime                                                          \n",
       "2006-12-16 17:24:00                14.280                31.100   \n",
       "2006-12-16 17:25:00                14.242                31.075   \n",
       "2006-12-16 17:26:00                14.203                31.050   \n",
       "2006-12-16 17:27:00                14.165                31.025   \n",
       "2006-12-16 17:28:00                14.127                31.000   \n",
       "\n",
       "                     winddirection_10m (degrees)  shortwave_radiation (W/m²)  \\\n",
       "DateTime                                                                       \n",
       "2006-12-16 17:24:00                      329.400                       8.000   \n",
       "2006-12-16 17:25:00                      329.417                       7.833   \n",
       "2006-12-16 17:26:00                      329.433                       7.667   \n",
       "2006-12-16 17:27:00                      329.450                       7.500   \n",
       "2006-12-16 17:28:00                      329.467                       7.333   \n",
       "\n",
       "                     direct_radiation (W/m²)  diffuse_radiation (W/m²)  \n",
       "DateTime                                                                \n",
       "2006-12-16 17:24:00                      0.0                     8.000  \n",
       "2006-12-16 17:25:00                      0.0                     7.833  \n",
       "2006-12-16 17:26:00                      0.0                     7.667  \n",
       "2006-12-16 17:27:00                      0.0                     7.500  \n",
       "2006-12-16 17:28:00                      0.0                     7.333  \n",
       "\n",
       "[5 rows x 22 columns]"
      ]
     },
     "execution_count": 38,
     "metadata": {},
     "output_type": "execute_result"
    }
   ],
   "source": [
    "# Move the last three columns to the front\n",
    "cols = list(power_df_clean.columns)\n",
    "new_order = cols[-3:] + cols[:-3]\n",
    "power_df_clean = power_df_clean[new_order]\n",
    "power_df_clean.head()"
   ]
  },
  {
   "cell_type": "code",
   "execution_count": 39,
   "metadata": {},
   "outputs": [],
   "source": [
    "#lets drop the glbobal active power column as it is not needed anymore\n",
    "power_df_clean.drop(columns=['Global_active_power (kilowatts)'], inplace=True)\n",
    "#lets also drop the global reactive power column as it is not needed anymore\n",
    "power_df_clean.drop(columns=['Global_reactive_power (kilowatts)'], inplace=True)"
   ]
  },
  {
   "cell_type": "code",
   "execution_count": 40,
   "metadata": {},
   "outputs": [
    {
     "data": {
      "text/html": [
       "<div>\n",
       "<style scoped>\n",
       "    .dataframe tbody tr th:only-of-type {\n",
       "        vertical-align: middle;\n",
       "    }\n",
       "\n",
       "    .dataframe tbody tr th {\n",
       "        vertical-align: top;\n",
       "    }\n",
       "\n",
       "    .dataframe thead th {\n",
       "        text-align: right;\n",
       "    }\n",
       "</style>\n",
       "<table border=\"1\" class=\"dataframe\">\n",
       "  <thead>\n",
       "    <tr style=\"text-align: right;\">\n",
       "      <th></th>\n",
       "      <th>Energy Consumed by Household (Watt-hour)</th>\n",
       "      <th>Energy Consumed by Household excluding sub-meterings 1, 2 and 3 (Watt-hour)</th>\n",
       "      <th>Reactive Energy Consumed by Household (Watt-hour)</th>\n",
       "      <th>Voltage (volts)</th>\n",
       "      <th>Global_intensity (amperes)</th>\n",
       "      <th>Sub_metering_1 (watt-hours of active energy)</th>\n",
       "      <th>Sub_metering_2 (watt-hours of active energy)</th>\n",
       "      <th>Sub_metering_3 (watt-hours of active energy)</th>\n",
       "      <th>temperature_2m (°C)</th>\n",
       "      <th>relative_humidity_2m (%)</th>\n",
       "      <th>dew_point_2m (°C)</th>\n",
       "      <th>apparent_temperature (°C)</th>\n",
       "      <th>surface_pressure (hPa)</th>\n",
       "      <th>cloudcover (%)</th>\n",
       "      <th>windspeed_10m (km/h)</th>\n",
       "      <th>windgusts_10m (km/h)</th>\n",
       "      <th>winddirection_10m (degrees)</th>\n",
       "      <th>shortwave_radiation (W/m²)</th>\n",
       "      <th>direct_radiation (W/m²)</th>\n",
       "      <th>diffuse_radiation (W/m²)</th>\n",
       "    </tr>\n",
       "    <tr>\n",
       "      <th>DateTime</th>\n",
       "      <th></th>\n",
       "      <th></th>\n",
       "      <th></th>\n",
       "      <th></th>\n",
       "      <th></th>\n",
       "      <th></th>\n",
       "      <th></th>\n",
       "      <th></th>\n",
       "      <th></th>\n",
       "      <th></th>\n",
       "      <th></th>\n",
       "      <th></th>\n",
       "      <th></th>\n",
       "      <th></th>\n",
       "      <th></th>\n",
       "      <th></th>\n",
       "      <th></th>\n",
       "      <th></th>\n",
       "      <th></th>\n",
       "      <th></th>\n",
       "    </tr>\n",
       "  </thead>\n",
       "  <tbody>\n",
       "    <tr>\n",
       "      <th>2006-12-16 17:24:00</th>\n",
       "      <td>70.266667</td>\n",
       "      <td>52.266667</td>\n",
       "      <td>6.966667</td>\n",
       "      <td>234.84</td>\n",
       "      <td>18.4</td>\n",
       "      <td>0.0</td>\n",
       "      <td>1.0</td>\n",
       "      <td>17.0</td>\n",
       "      <td>7.120</td>\n",
       "      <td>94.200</td>\n",
       "      <td>6.240</td>\n",
       "      <td>4.100</td>\n",
       "      <td>1012.400</td>\n",
       "      <td>100.0</td>\n",
       "      <td>14.280</td>\n",
       "      <td>31.100</td>\n",
       "      <td>329.400</td>\n",
       "      <td>8.000</td>\n",
       "      <td>0.0</td>\n",
       "      <td>8.000</td>\n",
       "    </tr>\n",
       "    <tr>\n",
       "      <th>2006-12-16 17:25:00</th>\n",
       "      <td>89.333333</td>\n",
       "      <td>72.333333</td>\n",
       "      <td>7.266667</td>\n",
       "      <td>233.63</td>\n",
       "      <td>23.0</td>\n",
       "      <td>0.0</td>\n",
       "      <td>1.0</td>\n",
       "      <td>16.0</td>\n",
       "      <td>7.108</td>\n",
       "      <td>94.167</td>\n",
       "      <td>6.225</td>\n",
       "      <td>4.092</td>\n",
       "      <td>1012.417</td>\n",
       "      <td>100.0</td>\n",
       "      <td>14.242</td>\n",
       "      <td>31.075</td>\n",
       "      <td>329.417</td>\n",
       "      <td>7.833</td>\n",
       "      <td>0.0</td>\n",
       "      <td>7.833</td>\n",
       "    </tr>\n",
       "    <tr>\n",
       "      <th>2006-12-16 17:26:00</th>\n",
       "      <td>89.566667</td>\n",
       "      <td>70.566667</td>\n",
       "      <td>8.300000</td>\n",
       "      <td>233.29</td>\n",
       "      <td>23.0</td>\n",
       "      <td>0.0</td>\n",
       "      <td>2.0</td>\n",
       "      <td>17.0</td>\n",
       "      <td>7.097</td>\n",
       "      <td>94.133</td>\n",
       "      <td>6.210</td>\n",
       "      <td>4.083</td>\n",
       "      <td>1012.433</td>\n",
       "      <td>100.0</td>\n",
       "      <td>14.203</td>\n",
       "      <td>31.050</td>\n",
       "      <td>329.433</td>\n",
       "      <td>7.667</td>\n",
       "      <td>0.0</td>\n",
       "      <td>7.667</td>\n",
       "    </tr>\n",
       "    <tr>\n",
       "      <th>2006-12-16 17:27:00</th>\n",
       "      <td>89.800000</td>\n",
       "      <td>71.800000</td>\n",
       "      <td>8.366667</td>\n",
       "      <td>233.74</td>\n",
       "      <td>23.0</td>\n",
       "      <td>0.0</td>\n",
       "      <td>1.0</td>\n",
       "      <td>17.0</td>\n",
       "      <td>7.085</td>\n",
       "      <td>94.100</td>\n",
       "      <td>6.195</td>\n",
       "      <td>4.075</td>\n",
       "      <td>1012.450</td>\n",
       "      <td>100.0</td>\n",
       "      <td>14.165</td>\n",
       "      <td>31.025</td>\n",
       "      <td>329.450</td>\n",
       "      <td>7.500</td>\n",
       "      <td>0.0</td>\n",
       "      <td>7.500</td>\n",
       "    </tr>\n",
       "    <tr>\n",
       "      <th>2006-12-16 17:28:00</th>\n",
       "      <td>61.100000</td>\n",
       "      <td>43.100000</td>\n",
       "      <td>8.800000</td>\n",
       "      <td>235.68</td>\n",
       "      <td>15.8</td>\n",
       "      <td>0.0</td>\n",
       "      <td>1.0</td>\n",
       "      <td>17.0</td>\n",
       "      <td>7.073</td>\n",
       "      <td>94.067</td>\n",
       "      <td>6.180</td>\n",
       "      <td>4.067</td>\n",
       "      <td>1012.467</td>\n",
       "      <td>100.0</td>\n",
       "      <td>14.127</td>\n",
       "      <td>31.000</td>\n",
       "      <td>329.467</td>\n",
       "      <td>7.333</td>\n",
       "      <td>0.0</td>\n",
       "      <td>7.333</td>\n",
       "    </tr>\n",
       "    <tr>\n",
       "      <th>...</th>\n",
       "      <td>...</td>\n",
       "      <td>...</td>\n",
       "      <td>...</td>\n",
       "      <td>...</td>\n",
       "      <td>...</td>\n",
       "      <td>...</td>\n",
       "      <td>...</td>\n",
       "      <td>...</td>\n",
       "      <td>...</td>\n",
       "      <td>...</td>\n",
       "      <td>...</td>\n",
       "      <td>...</td>\n",
       "      <td>...</td>\n",
       "      <td>...</td>\n",
       "      <td>...</td>\n",
       "      <td>...</td>\n",
       "      <td>...</td>\n",
       "      <td>...</td>\n",
       "      <td>...</td>\n",
       "      <td>...</td>\n",
       "    </tr>\n",
       "    <tr>\n",
       "      <th>2010-11-26 20:58:00</th>\n",
       "      <td>15.766667</td>\n",
       "      <td>15.766667</td>\n",
       "      <td>0.000000</td>\n",
       "      <td>240.43</td>\n",
       "      <td>4.0</td>\n",
       "      <td>0.0</td>\n",
       "      <td>0.0</td>\n",
       "      <td>0.0</td>\n",
       "      <td>-1.163</td>\n",
       "      <td>90.600</td>\n",
       "      <td>-2.523</td>\n",
       "      <td>-4.763</td>\n",
       "      <td>994.707</td>\n",
       "      <td>37.4</td>\n",
       "      <td>7.480</td>\n",
       "      <td>12.950</td>\n",
       "      <td>215.267</td>\n",
       "      <td>0.000</td>\n",
       "      <td>0.0</td>\n",
       "      <td>0.000</td>\n",
       "    </tr>\n",
       "    <tr>\n",
       "      <th>2010-11-26 20:59:00</th>\n",
       "      <td>15.733333</td>\n",
       "      <td>15.733333</td>\n",
       "      <td>0.000000</td>\n",
       "      <td>240.00</td>\n",
       "      <td>4.0</td>\n",
       "      <td>0.0</td>\n",
       "      <td>0.0</td>\n",
       "      <td>0.0</td>\n",
       "      <td>-1.182</td>\n",
       "      <td>90.800</td>\n",
       "      <td>-2.512</td>\n",
       "      <td>-4.782</td>\n",
       "      <td>994.703</td>\n",
       "      <td>37.7</td>\n",
       "      <td>7.490</td>\n",
       "      <td>12.975</td>\n",
       "      <td>215.133</td>\n",
       "      <td>0.000</td>\n",
       "      <td>0.0</td>\n",
       "      <td>0.000</td>\n",
       "    </tr>\n",
       "    <tr>\n",
       "      <th>2010-11-26 21:00:00</th>\n",
       "      <td>15.633333</td>\n",
       "      <td>15.633333</td>\n",
       "      <td>0.000000</td>\n",
       "      <td>239.82</td>\n",
       "      <td>3.8</td>\n",
       "      <td>0.0</td>\n",
       "      <td>0.0</td>\n",
       "      <td>0.0</td>\n",
       "      <td>-1.200</td>\n",
       "      <td>91.000</td>\n",
       "      <td>-2.500</td>\n",
       "      <td>-4.800</td>\n",
       "      <td>994.700</td>\n",
       "      <td>38.0</td>\n",
       "      <td>7.500</td>\n",
       "      <td>13.000</td>\n",
       "      <td>215.000</td>\n",
       "      <td>0.000</td>\n",
       "      <td>0.0</td>\n",
       "      <td>0.000</td>\n",
       "    </tr>\n",
       "    <tr>\n",
       "      <th>2010-11-26 21:01:00</th>\n",
       "      <td>15.566667</td>\n",
       "      <td>15.566667</td>\n",
       "      <td>0.000000</td>\n",
       "      <td>239.70</td>\n",
       "      <td>3.8</td>\n",
       "      <td>0.0</td>\n",
       "      <td>0.0</td>\n",
       "      <td>0.0</td>\n",
       "      <td>-1.202</td>\n",
       "      <td>91.000</td>\n",
       "      <td>-2.502</td>\n",
       "      <td>-4.803</td>\n",
       "      <td>994.695</td>\n",
       "      <td>38.6</td>\n",
       "      <td>7.508</td>\n",
       "      <td>13.000</td>\n",
       "      <td>214.867</td>\n",
       "      <td>0.000</td>\n",
       "      <td>0.0</td>\n",
       "      <td>0.000</td>\n",
       "    </tr>\n",
       "    <tr>\n",
       "      <th>2010-11-26 21:02:00</th>\n",
       "      <td>15.533333</td>\n",
       "      <td>15.533333</td>\n",
       "      <td>0.000000</td>\n",
       "      <td>239.55</td>\n",
       "      <td>3.8</td>\n",
       "      <td>0.0</td>\n",
       "      <td>0.0</td>\n",
       "      <td>0.0</td>\n",
       "      <td>-1.203</td>\n",
       "      <td>91.000</td>\n",
       "      <td>-2.503</td>\n",
       "      <td>-4.807</td>\n",
       "      <td>994.690</td>\n",
       "      <td>39.2</td>\n",
       "      <td>7.517</td>\n",
       "      <td>13.000</td>\n",
       "      <td>214.733</td>\n",
       "      <td>0.000</td>\n",
       "      <td>0.0</td>\n",
       "      <td>0.000</td>\n",
       "    </tr>\n",
       "  </tbody>\n",
       "</table>\n",
       "<p>2049280 rows × 20 columns</p>\n",
       "</div>"
      ],
      "text/plain": [
       "                     Energy Consumed by Household (Watt-hour)  \\\n",
       "DateTime                                                        \n",
       "2006-12-16 17:24:00                                 70.266667   \n",
       "2006-12-16 17:25:00                                 89.333333   \n",
       "2006-12-16 17:26:00                                 89.566667   \n",
       "2006-12-16 17:27:00                                 89.800000   \n",
       "2006-12-16 17:28:00                                 61.100000   \n",
       "...                                                       ...   \n",
       "2010-11-26 20:58:00                                 15.766667   \n",
       "2010-11-26 20:59:00                                 15.733333   \n",
       "2010-11-26 21:00:00                                 15.633333   \n",
       "2010-11-26 21:01:00                                 15.566667   \n",
       "2010-11-26 21:02:00                                 15.533333   \n",
       "\n",
       "                     Energy Consumed by Household excluding sub-meterings 1, 2 and 3 (Watt-hour)  \\\n",
       "DateTime                                                                                           \n",
       "2006-12-16 17:24:00                                          52.266667                             \n",
       "2006-12-16 17:25:00                                          72.333333                             \n",
       "2006-12-16 17:26:00                                          70.566667                             \n",
       "2006-12-16 17:27:00                                          71.800000                             \n",
       "2006-12-16 17:28:00                                          43.100000                             \n",
       "...                                                                ...                             \n",
       "2010-11-26 20:58:00                                          15.766667                             \n",
       "2010-11-26 20:59:00                                          15.733333                             \n",
       "2010-11-26 21:00:00                                          15.633333                             \n",
       "2010-11-26 21:01:00                                          15.566667                             \n",
       "2010-11-26 21:02:00                                          15.533333                             \n",
       "\n",
       "                     Reactive Energy Consumed by Household (Watt-hour)  \\\n",
       "DateTime                                                                 \n",
       "2006-12-16 17:24:00                                           6.966667   \n",
       "2006-12-16 17:25:00                                           7.266667   \n",
       "2006-12-16 17:26:00                                           8.300000   \n",
       "2006-12-16 17:27:00                                           8.366667   \n",
       "2006-12-16 17:28:00                                           8.800000   \n",
       "...                                                                ...   \n",
       "2010-11-26 20:58:00                                           0.000000   \n",
       "2010-11-26 20:59:00                                           0.000000   \n",
       "2010-11-26 21:00:00                                           0.000000   \n",
       "2010-11-26 21:01:00                                           0.000000   \n",
       "2010-11-26 21:02:00                                           0.000000   \n",
       "\n",
       "                     Voltage (volts)  Global_intensity (amperes)  \\\n",
       "DateTime                                                           \n",
       "2006-12-16 17:24:00           234.84                        18.4   \n",
       "2006-12-16 17:25:00           233.63                        23.0   \n",
       "2006-12-16 17:26:00           233.29                        23.0   \n",
       "2006-12-16 17:27:00           233.74                        23.0   \n",
       "2006-12-16 17:28:00           235.68                        15.8   \n",
       "...                              ...                         ...   \n",
       "2010-11-26 20:58:00           240.43                         4.0   \n",
       "2010-11-26 20:59:00           240.00                         4.0   \n",
       "2010-11-26 21:00:00           239.82                         3.8   \n",
       "2010-11-26 21:01:00           239.70                         3.8   \n",
       "2010-11-26 21:02:00           239.55                         3.8   \n",
       "\n",
       "                     Sub_metering_1 (watt-hours of active energy)  \\\n",
       "DateTime                                                            \n",
       "2006-12-16 17:24:00                                           0.0   \n",
       "2006-12-16 17:25:00                                           0.0   \n",
       "2006-12-16 17:26:00                                           0.0   \n",
       "2006-12-16 17:27:00                                           0.0   \n",
       "2006-12-16 17:28:00                                           0.0   \n",
       "...                                                           ...   \n",
       "2010-11-26 20:58:00                                           0.0   \n",
       "2010-11-26 20:59:00                                           0.0   \n",
       "2010-11-26 21:00:00                                           0.0   \n",
       "2010-11-26 21:01:00                                           0.0   \n",
       "2010-11-26 21:02:00                                           0.0   \n",
       "\n",
       "                     Sub_metering_2 (watt-hours of active energy)  \\\n",
       "DateTime                                                            \n",
       "2006-12-16 17:24:00                                           1.0   \n",
       "2006-12-16 17:25:00                                           1.0   \n",
       "2006-12-16 17:26:00                                           2.0   \n",
       "2006-12-16 17:27:00                                           1.0   \n",
       "2006-12-16 17:28:00                                           1.0   \n",
       "...                                                           ...   \n",
       "2010-11-26 20:58:00                                           0.0   \n",
       "2010-11-26 20:59:00                                           0.0   \n",
       "2010-11-26 21:00:00                                           0.0   \n",
       "2010-11-26 21:01:00                                           0.0   \n",
       "2010-11-26 21:02:00                                           0.0   \n",
       "\n",
       "                     Sub_metering_3 (watt-hours of active energy)  \\\n",
       "DateTime                                                            \n",
       "2006-12-16 17:24:00                                          17.0   \n",
       "2006-12-16 17:25:00                                          16.0   \n",
       "2006-12-16 17:26:00                                          17.0   \n",
       "2006-12-16 17:27:00                                          17.0   \n",
       "2006-12-16 17:28:00                                          17.0   \n",
       "...                                                           ...   \n",
       "2010-11-26 20:58:00                                           0.0   \n",
       "2010-11-26 20:59:00                                           0.0   \n",
       "2010-11-26 21:00:00                                           0.0   \n",
       "2010-11-26 21:01:00                                           0.0   \n",
       "2010-11-26 21:02:00                                           0.0   \n",
       "\n",
       "                     temperature_2m (°C)  relative_humidity_2m (%)  \\\n",
       "DateTime                                                             \n",
       "2006-12-16 17:24:00                7.120                    94.200   \n",
       "2006-12-16 17:25:00                7.108                    94.167   \n",
       "2006-12-16 17:26:00                7.097                    94.133   \n",
       "2006-12-16 17:27:00                7.085                    94.100   \n",
       "2006-12-16 17:28:00                7.073                    94.067   \n",
       "...                                  ...                       ...   \n",
       "2010-11-26 20:58:00               -1.163                    90.600   \n",
       "2010-11-26 20:59:00               -1.182                    90.800   \n",
       "2010-11-26 21:00:00               -1.200                    91.000   \n",
       "2010-11-26 21:01:00               -1.202                    91.000   \n",
       "2010-11-26 21:02:00               -1.203                    91.000   \n",
       "\n",
       "                     dew_point_2m (°C)  apparent_temperature (°C)  \\\n",
       "DateTime                                                            \n",
       "2006-12-16 17:24:00              6.240                      4.100   \n",
       "2006-12-16 17:25:00              6.225                      4.092   \n",
       "2006-12-16 17:26:00              6.210                      4.083   \n",
       "2006-12-16 17:27:00              6.195                      4.075   \n",
       "2006-12-16 17:28:00              6.180                      4.067   \n",
       "...                                ...                        ...   \n",
       "2010-11-26 20:58:00             -2.523                     -4.763   \n",
       "2010-11-26 20:59:00             -2.512                     -4.782   \n",
       "2010-11-26 21:00:00             -2.500                     -4.800   \n",
       "2010-11-26 21:01:00             -2.502                     -4.803   \n",
       "2010-11-26 21:02:00             -2.503                     -4.807   \n",
       "\n",
       "                     surface_pressure (hPa)  cloudcover (%)  \\\n",
       "DateTime                                                      \n",
       "2006-12-16 17:24:00                1012.400           100.0   \n",
       "2006-12-16 17:25:00                1012.417           100.0   \n",
       "2006-12-16 17:26:00                1012.433           100.0   \n",
       "2006-12-16 17:27:00                1012.450           100.0   \n",
       "2006-12-16 17:28:00                1012.467           100.0   \n",
       "...                                     ...             ...   \n",
       "2010-11-26 20:58:00                 994.707            37.4   \n",
       "2010-11-26 20:59:00                 994.703            37.7   \n",
       "2010-11-26 21:00:00                 994.700            38.0   \n",
       "2010-11-26 21:01:00                 994.695            38.6   \n",
       "2010-11-26 21:02:00                 994.690            39.2   \n",
       "\n",
       "                     windspeed_10m (km/h)  windgusts_10m (km/h)  \\\n",
       "DateTime                                                          \n",
       "2006-12-16 17:24:00                14.280                31.100   \n",
       "2006-12-16 17:25:00                14.242                31.075   \n",
       "2006-12-16 17:26:00                14.203                31.050   \n",
       "2006-12-16 17:27:00                14.165                31.025   \n",
       "2006-12-16 17:28:00                14.127                31.000   \n",
       "...                                   ...                   ...   \n",
       "2010-11-26 20:58:00                 7.480                12.950   \n",
       "2010-11-26 20:59:00                 7.490                12.975   \n",
       "2010-11-26 21:00:00                 7.500                13.000   \n",
       "2010-11-26 21:01:00                 7.508                13.000   \n",
       "2010-11-26 21:02:00                 7.517                13.000   \n",
       "\n",
       "                     winddirection_10m (degrees)  shortwave_radiation (W/m²)  \\\n",
       "DateTime                                                                       \n",
       "2006-12-16 17:24:00                      329.400                       8.000   \n",
       "2006-12-16 17:25:00                      329.417                       7.833   \n",
       "2006-12-16 17:26:00                      329.433                       7.667   \n",
       "2006-12-16 17:27:00                      329.450                       7.500   \n",
       "2006-12-16 17:28:00                      329.467                       7.333   \n",
       "...                                          ...                         ...   \n",
       "2010-11-26 20:58:00                      215.267                       0.000   \n",
       "2010-11-26 20:59:00                      215.133                       0.000   \n",
       "2010-11-26 21:00:00                      215.000                       0.000   \n",
       "2010-11-26 21:01:00                      214.867                       0.000   \n",
       "2010-11-26 21:02:00                      214.733                       0.000   \n",
       "\n",
       "                     direct_radiation (W/m²)  diffuse_radiation (W/m²)  \n",
       "DateTime                                                                \n",
       "2006-12-16 17:24:00                      0.0                     8.000  \n",
       "2006-12-16 17:25:00                      0.0                     7.833  \n",
       "2006-12-16 17:26:00                      0.0                     7.667  \n",
       "2006-12-16 17:27:00                      0.0                     7.500  \n",
       "2006-12-16 17:28:00                      0.0                     7.333  \n",
       "...                                      ...                       ...  \n",
       "2010-11-26 20:58:00                      0.0                     0.000  \n",
       "2010-11-26 20:59:00                      0.0                     0.000  \n",
       "2010-11-26 21:00:00                      0.0                     0.000  \n",
       "2010-11-26 21:01:00                      0.0                     0.000  \n",
       "2010-11-26 21:02:00                      0.0                     0.000  \n",
       "\n",
       "[2049280 rows x 20 columns]"
      ]
     },
     "execution_count": 40,
     "metadata": {},
     "output_type": "execute_result"
    }
   ],
   "source": [
    "power_df_clean"
   ]
  },
  {
   "cell_type": "markdown",
   "metadata": {},
   "source": [
    "We will save the new dataframe into a csv file, but before that we would resample the data to daily and monthly frequency for better analysis"
   ]
  },
  {
   "cell_type": "markdown",
   "metadata": {},
   "source": [
    "### Resampling data to hourly daily and  monthly frequency for better analysis"
   ]
  },
  {
   "cell_type": "code",
   "execution_count": 41,
   "metadata": {},
   "outputs": [],
   "source": [
    "\n",
    "# Resampling the data to daily frequency\n",
    "power_df_daily = power_df_clean.resample('D').mean()\n",
    "# Saving the daily data to a csv file\n",
    "power_df_daily.to_csv(r\"C:\\Users\\karni\\OneDrive\\Desktop\\GitHub\\BrainStation_CapstoneProject\\data\\power_weather_daily.csv\", index=True)"
   ]
  },
  {
   "cell_type": "code",
   "execution_count": 42,
   "metadata": {},
   "outputs": [
    {
     "data": {
      "text/html": [
       "<div>\n",
       "<style scoped>\n",
       "    .dataframe tbody tr th:only-of-type {\n",
       "        vertical-align: middle;\n",
       "    }\n",
       "\n",
       "    .dataframe tbody tr th {\n",
       "        vertical-align: top;\n",
       "    }\n",
       "\n",
       "    .dataframe thead th {\n",
       "        text-align: right;\n",
       "    }\n",
       "</style>\n",
       "<table border=\"1\" class=\"dataframe\">\n",
       "  <thead>\n",
       "    <tr style=\"text-align: right;\">\n",
       "      <th></th>\n",
       "      <th>Energy Consumed by Household (Watt-hour)</th>\n",
       "      <th>Energy Consumed by Household excluding sub-meterings 1, 2 and 3 (Watt-hour)</th>\n",
       "      <th>Reactive Energy Consumed by Household (Watt-hour)</th>\n",
       "      <th>Voltage (volts)</th>\n",
       "      <th>Global_intensity (amperes)</th>\n",
       "      <th>Sub_metering_1 (watt-hours of active energy)</th>\n",
       "      <th>Sub_metering_2 (watt-hours of active energy)</th>\n",
       "      <th>Sub_metering_3 (watt-hours of active energy)</th>\n",
       "      <th>temperature_2m (°C)</th>\n",
       "      <th>relative_humidity_2m (%)</th>\n",
       "      <th>dew_point_2m (°C)</th>\n",
       "      <th>apparent_temperature (°C)</th>\n",
       "      <th>surface_pressure (hPa)</th>\n",
       "      <th>cloudcover (%)</th>\n",
       "      <th>windspeed_10m (km/h)</th>\n",
       "      <th>windgusts_10m (km/h)</th>\n",
       "      <th>winddirection_10m (degrees)</th>\n",
       "      <th>shortwave_radiation (W/m²)</th>\n",
       "      <th>direct_radiation (W/m²)</th>\n",
       "      <th>diffuse_radiation (W/m²)</th>\n",
       "    </tr>\n",
       "    <tr>\n",
       "      <th>DateTime</th>\n",
       "      <th></th>\n",
       "      <th></th>\n",
       "      <th></th>\n",
       "      <th></th>\n",
       "      <th></th>\n",
       "      <th></th>\n",
       "      <th></th>\n",
       "      <th></th>\n",
       "      <th></th>\n",
       "      <th></th>\n",
       "      <th></th>\n",
       "      <th></th>\n",
       "      <th></th>\n",
       "      <th></th>\n",
       "      <th></th>\n",
       "      <th></th>\n",
       "      <th></th>\n",
       "      <th></th>\n",
       "      <th></th>\n",
       "      <th></th>\n",
       "    </tr>\n",
       "  </thead>\n",
       "  <tbody>\n",
       "    <tr>\n",
       "      <th>2006-12-16</th>\n",
       "      <td>50.891246</td>\n",
       "      <td>37.073064</td>\n",
       "      <td>1.469781</td>\n",
       "      <td>236.243763</td>\n",
       "      <td>13.082828</td>\n",
       "      <td>0.000000</td>\n",
       "      <td>1.378788</td>\n",
       "      <td>12.439394</td>\n",
       "      <td>5.625303</td>\n",
       "      <td>92.825000</td>\n",
       "      <td>4.569798</td>\n",
       "      <td>2.931313</td>\n",
       "      <td>1015.163889</td>\n",
       "      <td>71.457071</td>\n",
       "      <td>9.481768</td>\n",
       "      <td>21.008965</td>\n",
       "      <td>321.304040</td>\n",
       "      <td>0.616162</td>\n",
       "      <td>0.000000</td>\n",
       "      <td>0.616162</td>\n",
       "    </tr>\n",
       "    <tr>\n",
       "      <th>2006-12-17</th>\n",
       "      <td>39.241435</td>\n",
       "      <td>25.657407</td>\n",
       "      <td>2.615810</td>\n",
       "      <td>240.087028</td>\n",
       "      <td>9.999028</td>\n",
       "      <td>1.411806</td>\n",
       "      <td>2.907639</td>\n",
       "      <td>9.264583</td>\n",
       "      <td>3.027049</td>\n",
       "      <td>94.708333</td>\n",
       "      <td>2.206215</td>\n",
       "      <td>0.097951</td>\n",
       "      <td>1017.579097</td>\n",
       "      <td>72.889931</td>\n",
       "      <td>7.903472</td>\n",
       "      <td>15.710764</td>\n",
       "      <td>242.601389</td>\n",
       "      <td>40.250000</td>\n",
       "      <td>16.666667</td>\n",
       "      <td>23.583333</td>\n",
       "    </tr>\n",
       "    <tr>\n",
       "      <th>2006-12-18</th>\n",
       "      <td>25.507245</td>\n",
       "      <td>13.214190</td>\n",
       "      <td>1.872593</td>\n",
       "      <td>241.231694</td>\n",
       "      <td>6.421667</td>\n",
       "      <td>0.738194</td>\n",
       "      <td>1.820139</td>\n",
       "      <td>9.734722</td>\n",
       "      <td>3.175417</td>\n",
       "      <td>95.688542</td>\n",
       "      <td>2.548437</td>\n",
       "      <td>0.494479</td>\n",
       "      <td>1016.970139</td>\n",
       "      <td>87.028472</td>\n",
       "      <td>6.625590</td>\n",
       "      <td>13.020660</td>\n",
       "      <td>147.589236</td>\n",
       "      <td>26.791667</td>\n",
       "      <td>6.166667</td>\n",
       "      <td>20.625000</td>\n",
       "    </tr>\n",
       "    <tr>\n",
       "      <th>2006-12-19</th>\n",
       "      <td>19.284653</td>\n",
       "      <td>9.119375</td>\n",
       "      <td>1.747014</td>\n",
       "      <td>241.999313</td>\n",
       "      <td>4.926389</td>\n",
       "      <td>0.582639</td>\n",
       "      <td>5.279167</td>\n",
       "      <td>4.303472</td>\n",
       "      <td>1.833819</td>\n",
       "      <td>88.668750</td>\n",
       "      <td>0.102882</td>\n",
       "      <td>-2.676146</td>\n",
       "      <td>1021.646493</td>\n",
       "      <td>34.131597</td>\n",
       "      <td>16.303924</td>\n",
       "      <td>29.688542</td>\n",
       "      <td>31.273264</td>\n",
       "      <td>49.583333</td>\n",
       "      <td>30.333333</td>\n",
       "      <td>19.250000</td>\n",
       "    </tr>\n",
       "    <tr>\n",
       "      <th>2006-12-20</th>\n",
       "      <td>25.760972</td>\n",
       "      <td>14.156111</td>\n",
       "      <td>1.863403</td>\n",
       "      <td>242.308062</td>\n",
       "      <td>6.467361</td>\n",
       "      <td>0.000000</td>\n",
       "      <td>1.838889</td>\n",
       "      <td>9.765972</td>\n",
       "      <td>1.220972</td>\n",
       "      <td>86.185069</td>\n",
       "      <td>-0.910590</td>\n",
       "      <td>-3.250208</td>\n",
       "      <td>1025.086319</td>\n",
       "      <td>7.914583</td>\n",
       "      <td>14.989792</td>\n",
       "      <td>27.639271</td>\n",
       "      <td>33.690625</td>\n",
       "      <td>54.875000</td>\n",
       "      <td>38.583333</td>\n",
       "      <td>16.291667</td>\n",
       "    </tr>\n",
       "  </tbody>\n",
       "</table>\n",
       "</div>"
      ],
      "text/plain": [
       "            Energy Consumed by Household (Watt-hour)  \\\n",
       "DateTime                                               \n",
       "2006-12-16                                 50.891246   \n",
       "2006-12-17                                 39.241435   \n",
       "2006-12-18                                 25.507245   \n",
       "2006-12-19                                 19.284653   \n",
       "2006-12-20                                 25.760972   \n",
       "\n",
       "            Energy Consumed by Household excluding sub-meterings 1, 2 and 3 (Watt-hour)  \\\n",
       "DateTime                                                                                  \n",
       "2006-12-16                                          37.073064                             \n",
       "2006-12-17                                          25.657407                             \n",
       "2006-12-18                                          13.214190                             \n",
       "2006-12-19                                           9.119375                             \n",
       "2006-12-20                                          14.156111                             \n",
       "\n",
       "            Reactive Energy Consumed by Household (Watt-hour)  \\\n",
       "DateTime                                                        \n",
       "2006-12-16                                           1.469781   \n",
       "2006-12-17                                           2.615810   \n",
       "2006-12-18                                           1.872593   \n",
       "2006-12-19                                           1.747014   \n",
       "2006-12-20                                           1.863403   \n",
       "\n",
       "            Voltage (volts)  Global_intensity (amperes)  \\\n",
       "DateTime                                                  \n",
       "2006-12-16       236.243763                   13.082828   \n",
       "2006-12-17       240.087028                    9.999028   \n",
       "2006-12-18       241.231694                    6.421667   \n",
       "2006-12-19       241.999313                    4.926389   \n",
       "2006-12-20       242.308062                    6.467361   \n",
       "\n",
       "            Sub_metering_1 (watt-hours of active energy)  \\\n",
       "DateTime                                                   \n",
       "2006-12-16                                      0.000000   \n",
       "2006-12-17                                      1.411806   \n",
       "2006-12-18                                      0.738194   \n",
       "2006-12-19                                      0.582639   \n",
       "2006-12-20                                      0.000000   \n",
       "\n",
       "            Sub_metering_2 (watt-hours of active energy)  \\\n",
       "DateTime                                                   \n",
       "2006-12-16                                      1.378788   \n",
       "2006-12-17                                      2.907639   \n",
       "2006-12-18                                      1.820139   \n",
       "2006-12-19                                      5.279167   \n",
       "2006-12-20                                      1.838889   \n",
       "\n",
       "            Sub_metering_3 (watt-hours of active energy)  temperature_2m (°C)  \\\n",
       "DateTime                                                                        \n",
       "2006-12-16                                     12.439394             5.625303   \n",
       "2006-12-17                                      9.264583             3.027049   \n",
       "2006-12-18                                      9.734722             3.175417   \n",
       "2006-12-19                                      4.303472             1.833819   \n",
       "2006-12-20                                      9.765972             1.220972   \n",
       "\n",
       "            relative_humidity_2m (%)  dew_point_2m (°C)  \\\n",
       "DateTime                                                  \n",
       "2006-12-16                 92.825000           4.569798   \n",
       "2006-12-17                 94.708333           2.206215   \n",
       "2006-12-18                 95.688542           2.548437   \n",
       "2006-12-19                 88.668750           0.102882   \n",
       "2006-12-20                 86.185069          -0.910590   \n",
       "\n",
       "            apparent_temperature (°C)  surface_pressure (hPa)  cloudcover (%)  \\\n",
       "DateTime                                                                        \n",
       "2006-12-16                   2.931313             1015.163889       71.457071   \n",
       "2006-12-17                   0.097951             1017.579097       72.889931   \n",
       "2006-12-18                   0.494479             1016.970139       87.028472   \n",
       "2006-12-19                  -2.676146             1021.646493       34.131597   \n",
       "2006-12-20                  -3.250208             1025.086319        7.914583   \n",
       "\n",
       "            windspeed_10m (km/h)  windgusts_10m (km/h)  \\\n",
       "DateTime                                                 \n",
       "2006-12-16              9.481768             21.008965   \n",
       "2006-12-17              7.903472             15.710764   \n",
       "2006-12-18              6.625590             13.020660   \n",
       "2006-12-19             16.303924             29.688542   \n",
       "2006-12-20             14.989792             27.639271   \n",
       "\n",
       "            winddirection_10m (degrees)  shortwave_radiation (W/m²)  \\\n",
       "DateTime                                                              \n",
       "2006-12-16                   321.304040                    0.616162   \n",
       "2006-12-17                   242.601389                   40.250000   \n",
       "2006-12-18                   147.589236                   26.791667   \n",
       "2006-12-19                    31.273264                   49.583333   \n",
       "2006-12-20                    33.690625                   54.875000   \n",
       "\n",
       "            direct_radiation (W/m²)  diffuse_radiation (W/m²)  \n",
       "DateTime                                                       \n",
       "2006-12-16                 0.000000                  0.616162  \n",
       "2006-12-17                16.666667                 23.583333  \n",
       "2006-12-18                 6.166667                 20.625000  \n",
       "2006-12-19                30.333333                 19.250000  \n",
       "2006-12-20                38.583333                 16.291667  "
      ]
     },
     "execution_count": 42,
     "metadata": {},
     "output_type": "execute_result"
    }
   ],
   "source": [
    "power_df_daily.head()"
   ]
  },
  {
   "cell_type": "code",
   "execution_count": 43,
   "metadata": {},
   "outputs": [
    {
     "name": "stdout",
     "output_type": "stream",
     "text": [
      "<class 'pandas.core.frame.DataFrame'>\n",
      "DatetimeIndex: 1442 entries, 2006-12-16 to 2010-11-26\n",
      "Freq: D\n",
      "Data columns (total 20 columns):\n",
      " #   Column                                                                       Non-Null Count  Dtype  \n",
      "---  ------                                                                       --------------  -----  \n",
      " 0   Energy Consumed by Household (Watt-hour)                                     1433 non-null   float64\n",
      " 1   Energy Consumed by Household excluding sub-meterings 1, 2 and 3 (Watt-hour)  1433 non-null   float64\n",
      " 2   Reactive Energy Consumed by Household (Watt-hour)                            1433 non-null   float64\n",
      " 3   Voltage (volts)                                                              1433 non-null   float64\n",
      " 4   Global_intensity (amperes)                                                   1433 non-null   float64\n",
      " 5   Sub_metering_1 (watt-hours of active energy)                                 1433 non-null   float64\n",
      " 6   Sub_metering_2 (watt-hours of active energy)                                 1433 non-null   float64\n",
      " 7   Sub_metering_3 (watt-hours of active energy)                                 1433 non-null   float64\n",
      " 8   temperature_2m (°C)                                                          1433 non-null   float64\n",
      " 9   relative_humidity_2m (%)                                                     1433 non-null   float64\n",
      " 10  dew_point_2m (°C)                                                            1433 non-null   float64\n",
      " 11  apparent_temperature (°C)                                                    1433 non-null   float64\n",
      " 12  surface_pressure (hPa)                                                       1433 non-null   float64\n",
      " 13  cloudcover (%)                                                               1433 non-null   float64\n",
      " 14  windspeed_10m (km/h)                                                         1433 non-null   float64\n",
      " 15  windgusts_10m (km/h)                                                         1433 non-null   float64\n",
      " 16  winddirection_10m (degrees)                                                  1433 non-null   float64\n",
      " 17  shortwave_radiation (W/m²)                                                   1433 non-null   float64\n",
      " 18  direct_radiation (W/m²)                                                      1433 non-null   float64\n",
      " 19  diffuse_radiation (W/m²)                                                     1433 non-null   float64\n",
      "dtypes: float64(20)\n",
      "memory usage: 236.6 KB\n"
     ]
    }
   ],
   "source": [
    "power_df_daily.info()"
   ]
  },
  {
   "cell_type": "code",
   "execution_count": 44,
   "metadata": {},
   "outputs": [],
   "source": [
    "#lets look at monthly power usage\n",
    "# the \"M\" option specifies \tmonthly frequency \n",
    "power_df_monthly = power_df_clean.resample(\"MS\").mean()\n",
    "power_df_monthly.to_csv(r\"C:\\Users\\karni\\OneDrive\\Desktop\\GitHub\\BrainStation_CapstoneProject\\data\\power_weather_monthly.csv\", index=True)\n"
   ]
  },
  {
   "cell_type": "code",
   "execution_count": 45,
   "metadata": {},
   "outputs": [
    {
     "data": {
      "text/html": [
       "<div>\n",
       "<style scoped>\n",
       "    .dataframe tbody tr th:only-of-type {\n",
       "        vertical-align: middle;\n",
       "    }\n",
       "\n",
       "    .dataframe tbody tr th {\n",
       "        vertical-align: top;\n",
       "    }\n",
       "\n",
       "    .dataframe thead th {\n",
       "        text-align: right;\n",
       "    }\n",
       "</style>\n",
       "<table border=\"1\" class=\"dataframe\">\n",
       "  <thead>\n",
       "    <tr style=\"text-align: right;\">\n",
       "      <th></th>\n",
       "      <th>Energy Consumed by Household (Watt-hour)</th>\n",
       "      <th>Energy Consumed by Household excluding sub-meterings 1, 2 and 3 (Watt-hour)</th>\n",
       "      <th>Reactive Energy Consumed by Household (Watt-hour)</th>\n",
       "      <th>Voltage (volts)</th>\n",
       "      <th>Global_intensity (amperes)</th>\n",
       "      <th>Sub_metering_1 (watt-hours of active energy)</th>\n",
       "      <th>Sub_metering_2 (watt-hours of active energy)</th>\n",
       "      <th>Sub_metering_3 (watt-hours of active energy)</th>\n",
       "      <th>temperature_2m (°C)</th>\n",
       "      <th>relative_humidity_2m (%)</th>\n",
       "      <th>dew_point_2m (°C)</th>\n",
       "      <th>apparent_temperature (°C)</th>\n",
       "      <th>surface_pressure (hPa)</th>\n",
       "      <th>cloudcover (%)</th>\n",
       "      <th>windspeed_10m (km/h)</th>\n",
       "      <th>windgusts_10m (km/h)</th>\n",
       "      <th>winddirection_10m (degrees)</th>\n",
       "      <th>shortwave_radiation (W/m²)</th>\n",
       "      <th>direct_radiation (W/m²)</th>\n",
       "      <th>diffuse_radiation (W/m²)</th>\n",
       "    </tr>\n",
       "    <tr>\n",
       "      <th>DateTime</th>\n",
       "      <th></th>\n",
       "      <th></th>\n",
       "      <th></th>\n",
       "      <th></th>\n",
       "      <th></th>\n",
       "      <th></th>\n",
       "      <th></th>\n",
       "      <th></th>\n",
       "      <th></th>\n",
       "      <th></th>\n",
       "      <th></th>\n",
       "      <th></th>\n",
       "      <th></th>\n",
       "      <th></th>\n",
       "      <th></th>\n",
       "      <th></th>\n",
       "      <th></th>\n",
       "      <th></th>\n",
       "      <th></th>\n",
       "      <th></th>\n",
       "    </tr>\n",
       "  </thead>\n",
       "  <tbody>\n",
       "    <tr>\n",
       "      <th>2006-12-01</th>\n",
       "      <td>31.688252</td>\n",
       "      <td>20.815071</td>\n",
       "      <td>2.189763</td>\n",
       "      <td>241.441125</td>\n",
       "      <td>8.029956</td>\n",
       "      <td>1.248636</td>\n",
       "      <td>2.214987</td>\n",
       "      <td>7.409558</td>\n",
       "      <td>2.665667</td>\n",
       "      <td>89.373203</td>\n",
       "      <td>1.035962</td>\n",
       "      <td>-1.077252</td>\n",
       "      <td>1020.453060</td>\n",
       "      <td>69.210094</td>\n",
       "      <td>12.331461</td>\n",
       "      <td>23.786715</td>\n",
       "      <td>122.629084</td>\n",
       "      <td>34.024386</td>\n",
       "      <td>14.111747</td>\n",
       "      <td>19.912639</td>\n",
       "    </tr>\n",
       "    <tr>\n",
       "      <th>2007-01-01</th>\n",
       "      <td>25.767232</td>\n",
       "      <td>15.343714</td>\n",
       "      <td>2.211268</td>\n",
       "      <td>240.905101</td>\n",
       "      <td>6.546915</td>\n",
       "      <td>1.264237</td>\n",
       "      <td>1.775931</td>\n",
       "      <td>7.383351</td>\n",
       "      <td>7.207161</td>\n",
       "      <td>84.024638</td>\n",
       "      <td>4.577192</td>\n",
       "      <td>3.423857</td>\n",
       "      <td>1010.176016</td>\n",
       "      <td>82.074769</td>\n",
       "      <td>17.715948</td>\n",
       "      <td>35.031811</td>\n",
       "      <td>211.768246</td>\n",
       "      <td>38.132655</td>\n",
       "      <td>15.181784</td>\n",
       "      <td>22.950871</td>\n",
       "    </tr>\n",
       "    <tr>\n",
       "      <th>2007-02-01</th>\n",
       "      <td>23.351392</td>\n",
       "      <td>13.865257</td>\n",
       "      <td>1.893946</td>\n",
       "      <td>240.519390</td>\n",
       "      <td>5.914569</td>\n",
       "      <td>1.180217</td>\n",
       "      <td>1.602361</td>\n",
       "      <td>6.703557</td>\n",
       "      <td>7.549305</td>\n",
       "      <td>82.832249</td>\n",
       "      <td>4.651629</td>\n",
       "      <td>3.992242</td>\n",
       "      <td>999.810829</td>\n",
       "      <td>79.073664</td>\n",
       "      <td>15.637397</td>\n",
       "      <td>31.425021</td>\n",
       "      <td>194.193422</td>\n",
       "      <td>73.579543</td>\n",
       "      <td>38.948361</td>\n",
       "      <td>34.631182</td>\n",
       "    </tr>\n",
       "    <tr>\n",
       "      <th>2007-03-01</th>\n",
       "      <td>21.977117</td>\n",
       "      <td>11.764254</td>\n",
       "      <td>1.912447</td>\n",
       "      <td>240.513469</td>\n",
       "      <td>5.572979</td>\n",
       "      <td>1.361343</td>\n",
       "      <td>2.346872</td>\n",
       "      <td>6.504648</td>\n",
       "      <td>7.257748</td>\n",
       "      <td>79.442310</td>\n",
       "      <td>3.707103</td>\n",
       "      <td>3.849526</td>\n",
       "      <td>1005.630479</td>\n",
       "      <td>59.874198</td>\n",
       "      <td>13.452050</td>\n",
       "      <td>27.374541</td>\n",
       "      <td>215.718411</td>\n",
       "      <td>124.956769</td>\n",
       "      <td>71.833233</td>\n",
       "      <td>53.123536</td>\n",
       "    </tr>\n",
       "    <tr>\n",
       "      <th>2007-04-01</th>\n",
       "      <td>14.853149</td>\n",
       "      <td>8.013774</td>\n",
       "      <td>1.979631</td>\n",
       "      <td>239.400026</td>\n",
       "      <td>3.825676</td>\n",
       "      <td>1.065886</td>\n",
       "      <td>0.973149</td>\n",
       "      <td>4.800339</td>\n",
       "      <td>13.788870</td>\n",
       "      <td>68.136852</td>\n",
       "      <td>7.520775</td>\n",
       "      <td>11.847011</td>\n",
       "      <td>1008.825148</td>\n",
       "      <td>30.560534</td>\n",
       "      <td>10.867634</td>\n",
       "      <td>22.397924</td>\n",
       "      <td>100.470444</td>\n",
       "      <td>248.593624</td>\n",
       "      <td>193.129412</td>\n",
       "      <td>55.464212</td>\n",
       "    </tr>\n",
       "  </tbody>\n",
       "</table>\n",
       "</div>"
      ],
      "text/plain": [
       "            Energy Consumed by Household (Watt-hour)  \\\n",
       "DateTime                                               \n",
       "2006-12-01                                 31.688252   \n",
       "2007-01-01                                 25.767232   \n",
       "2007-02-01                                 23.351392   \n",
       "2007-03-01                                 21.977117   \n",
       "2007-04-01                                 14.853149   \n",
       "\n",
       "            Energy Consumed by Household excluding sub-meterings 1, 2 and 3 (Watt-hour)  \\\n",
       "DateTime                                                                                  \n",
       "2006-12-01                                          20.815071                             \n",
       "2007-01-01                                          15.343714                             \n",
       "2007-02-01                                          13.865257                             \n",
       "2007-03-01                                          11.764254                             \n",
       "2007-04-01                                           8.013774                             \n",
       "\n",
       "            Reactive Energy Consumed by Household (Watt-hour)  \\\n",
       "DateTime                                                        \n",
       "2006-12-01                                           2.189763   \n",
       "2007-01-01                                           2.211268   \n",
       "2007-02-01                                           1.893946   \n",
       "2007-03-01                                           1.912447   \n",
       "2007-04-01                                           1.979631   \n",
       "\n",
       "            Voltage (volts)  Global_intensity (amperes)  \\\n",
       "DateTime                                                  \n",
       "2006-12-01       241.441125                    8.029956   \n",
       "2007-01-01       240.905101                    6.546915   \n",
       "2007-02-01       240.519390                    5.914569   \n",
       "2007-03-01       240.513469                    5.572979   \n",
       "2007-04-01       239.400026                    3.825676   \n",
       "\n",
       "            Sub_metering_1 (watt-hours of active energy)  \\\n",
       "DateTime                                                   \n",
       "2006-12-01                                      1.248636   \n",
       "2007-01-01                                      1.264237   \n",
       "2007-02-01                                      1.180217   \n",
       "2007-03-01                                      1.361343   \n",
       "2007-04-01                                      1.065886   \n",
       "\n",
       "            Sub_metering_2 (watt-hours of active energy)  \\\n",
       "DateTime                                                   \n",
       "2006-12-01                                      2.214987   \n",
       "2007-01-01                                      1.775931   \n",
       "2007-02-01                                      1.602361   \n",
       "2007-03-01                                      2.346872   \n",
       "2007-04-01                                      0.973149   \n",
       "\n",
       "            Sub_metering_3 (watt-hours of active energy)  temperature_2m (°C)  \\\n",
       "DateTime                                                                        \n",
       "2006-12-01                                      7.409558             2.665667   \n",
       "2007-01-01                                      7.383351             7.207161   \n",
       "2007-02-01                                      6.703557             7.549305   \n",
       "2007-03-01                                      6.504648             7.257748   \n",
       "2007-04-01                                      4.800339            13.788870   \n",
       "\n",
       "            relative_humidity_2m (%)  dew_point_2m (°C)  \\\n",
       "DateTime                                                  \n",
       "2006-12-01                 89.373203           1.035962   \n",
       "2007-01-01                 84.024638           4.577192   \n",
       "2007-02-01                 82.832249           4.651629   \n",
       "2007-03-01                 79.442310           3.707103   \n",
       "2007-04-01                 68.136852           7.520775   \n",
       "\n",
       "            apparent_temperature (°C)  surface_pressure (hPa)  cloudcover (%)  \\\n",
       "DateTime                                                                        \n",
       "2006-12-01                  -1.077252             1020.453060       69.210094   \n",
       "2007-01-01                   3.423857             1010.176016       82.074769   \n",
       "2007-02-01                   3.992242              999.810829       79.073664   \n",
       "2007-03-01                   3.849526             1005.630479       59.874198   \n",
       "2007-04-01                  11.847011             1008.825148       30.560534   \n",
       "\n",
       "            windspeed_10m (km/h)  windgusts_10m (km/h)  \\\n",
       "DateTime                                                 \n",
       "2006-12-01             12.331461             23.786715   \n",
       "2007-01-01             17.715948             35.031811   \n",
       "2007-02-01             15.637397             31.425021   \n",
       "2007-03-01             13.452050             27.374541   \n",
       "2007-04-01             10.867634             22.397924   \n",
       "\n",
       "            winddirection_10m (degrees)  shortwave_radiation (W/m²)  \\\n",
       "DateTime                                                              \n",
       "2006-12-01                   122.629084                   34.024386   \n",
       "2007-01-01                   211.768246                   38.132655   \n",
       "2007-02-01                   194.193422                   73.579543   \n",
       "2007-03-01                   215.718411                  124.956769   \n",
       "2007-04-01                   100.470444                  248.593624   \n",
       "\n",
       "            direct_radiation (W/m²)  diffuse_radiation (W/m²)  \n",
       "DateTime                                                       \n",
       "2006-12-01                14.111747                 19.912639  \n",
       "2007-01-01                15.181784                 22.950871  \n",
       "2007-02-01                38.948361                 34.631182  \n",
       "2007-03-01                71.833233                 53.123536  \n",
       "2007-04-01               193.129412                 55.464212  "
      ]
     },
     "execution_count": 45,
     "metadata": {},
     "output_type": "execute_result"
    }
   ],
   "source": [
    "power_df_monthly.head()"
   ]
  },
  {
   "cell_type": "code",
   "execution_count": 46,
   "metadata": {},
   "outputs": [
    {
     "name": "stdout",
     "output_type": "stream",
     "text": [
      "<class 'pandas.core.frame.DataFrame'>\n",
      "DatetimeIndex: 48 entries, 2006-12-01 to 2010-11-01\n",
      "Freq: MS\n",
      "Data columns (total 20 columns):\n",
      " #   Column                                                                       Non-Null Count  Dtype  \n",
      "---  ------                                                                       --------------  -----  \n",
      " 0   Energy Consumed by Household (Watt-hour)                                     48 non-null     float64\n",
      " 1   Energy Consumed by Household excluding sub-meterings 1, 2 and 3 (Watt-hour)  48 non-null     float64\n",
      " 2   Reactive Energy Consumed by Household (Watt-hour)                            48 non-null     float64\n",
      " 3   Voltage (volts)                                                              48 non-null     float64\n",
      " 4   Global_intensity (amperes)                                                   48 non-null     float64\n",
      " 5   Sub_metering_1 (watt-hours of active energy)                                 48 non-null     float64\n",
      " 6   Sub_metering_2 (watt-hours of active energy)                                 48 non-null     float64\n",
      " 7   Sub_metering_3 (watt-hours of active energy)                                 48 non-null     float64\n",
      " 8   temperature_2m (°C)                                                          48 non-null     float64\n",
      " 9   relative_humidity_2m (%)                                                     48 non-null     float64\n",
      " 10  dew_point_2m (°C)                                                            48 non-null     float64\n",
      " 11  apparent_temperature (°C)                                                    48 non-null     float64\n",
      " 12  surface_pressure (hPa)                                                       48 non-null     float64\n",
      " 13  cloudcover (%)                                                               48 non-null     float64\n",
      " 14  windspeed_10m (km/h)                                                         48 non-null     float64\n",
      " 15  windgusts_10m (km/h)                                                         48 non-null     float64\n",
      " 16  winddirection_10m (degrees)                                                  48 non-null     float64\n",
      " 17  shortwave_radiation (W/m²)                                                   48 non-null     float64\n",
      " 18  direct_radiation (W/m²)                                                      48 non-null     float64\n",
      " 19  diffuse_radiation (W/m²)                                                     48 non-null     float64\n",
      "dtypes: float64(20)\n",
      "memory usage: 7.9 KB\n"
     ]
    }
   ],
   "source": [
    "power_df_monthly.info()"
   ]
  },
  {
   "cell_type": "markdown",
   "metadata": {},
   "source": [
    "# <a id='toc4_1_'></a>Advanced EDA: Energy Consumed by Household   [&#8593;](#toc0_)"
   ]
  },
  {
   "cell_type": "markdown",
   "metadata": {},
   "source": [
    "We will take a look at the `Energy Consumed by Household` column - this is the variable of interest (dependent variable) that we would like to predict.For now lets look at the monthly data\n",
    "\n"
   ]
  },
  {
   "cell_type": "code",
   "execution_count": 65,
   "metadata": {},
   "outputs": [
    {
     "data": {
      "application/vnd.plotly.v1+json": {
       "config": {
        "plotlyServerURL": "https://plot.ly"
       },
       "data": [
        {
         "hovertemplate": "DateTime=%{x}<br>Energy Consumed by Household (Watt-hour)=%{y}<extra></extra>",
         "legendgroup": "",
         "line": {
          "color": "#636efa",
          "dash": "solid"
         },
         "marker": {
          "symbol": "circle"
         },
         "mode": "lines",
         "name": "",
         "showlegend": false,
         "type": "scattergl",
         "x": [
          "2006-12-16T00:00:00",
          "2006-12-17T00:00:00",
          "2006-12-18T00:00:00",
          "2006-12-19T00:00:00",
          "2006-12-20T00:00:00",
          "2006-12-21T00:00:00",
          "2006-12-22T00:00:00",
          "2006-12-23T00:00:00",
          "2006-12-24T00:00:00",
          "2006-12-25T00:00:00",
          "2006-12-26T00:00:00",
          "2006-12-27T00:00:00",
          "2006-12-28T00:00:00",
          "2006-12-29T00:00:00",
          "2006-12-30T00:00:00",
          "2006-12-31T00:00:00",
          "2007-01-01T00:00:00",
          "2007-01-02T00:00:00",
          "2007-01-03T00:00:00",
          "2007-01-04T00:00:00",
          "2007-01-05T00:00:00",
          "2007-01-06T00:00:00",
          "2007-01-07T00:00:00",
          "2007-01-08T00:00:00",
          "2007-01-09T00:00:00",
          "2007-01-10T00:00:00",
          "2007-01-11T00:00:00",
          "2007-01-12T00:00:00",
          "2007-01-13T00:00:00",
          "2007-01-14T00:00:00",
          "2007-01-15T00:00:00",
          "2007-01-16T00:00:00",
          "2007-01-17T00:00:00",
          "2007-01-18T00:00:00",
          "2007-01-19T00:00:00",
          "2007-01-20T00:00:00",
          "2007-01-21T00:00:00",
          "2007-01-22T00:00:00",
          "2007-01-23T00:00:00",
          "2007-01-24T00:00:00",
          "2007-01-25T00:00:00",
          "2007-01-26T00:00:00",
          "2007-01-27T00:00:00",
          "2007-01-28T00:00:00",
          "2007-01-29T00:00:00",
          "2007-01-30T00:00:00",
          "2007-01-31T00:00:00",
          "2007-02-01T00:00:00",
          "2007-02-02T00:00:00",
          "2007-02-03T00:00:00",
          "2007-02-04T00:00:00",
          "2007-02-05T00:00:00",
          "2007-02-06T00:00:00",
          "2007-02-07T00:00:00",
          "2007-02-08T00:00:00",
          "2007-02-09T00:00:00",
          "2007-02-10T00:00:00",
          "2007-02-11T00:00:00",
          "2007-02-12T00:00:00",
          "2007-02-13T00:00:00",
          "2007-02-14T00:00:00",
          "2007-02-15T00:00:00",
          "2007-02-16T00:00:00",
          "2007-02-17T00:00:00",
          "2007-02-18T00:00:00",
          "2007-02-19T00:00:00",
          "2007-02-20T00:00:00",
          "2007-02-21T00:00:00",
          "2007-02-22T00:00:00",
          "2007-02-23T00:00:00",
          "2007-02-24T00:00:00",
          "2007-02-25T00:00:00",
          "2007-02-26T00:00:00",
          "2007-02-27T00:00:00",
          "2007-02-28T00:00:00",
          "2007-03-01T00:00:00",
          "2007-03-02T00:00:00",
          "2007-03-03T00:00:00",
          "2007-03-04T00:00:00",
          "2007-03-05T00:00:00",
          "2007-03-06T00:00:00",
          "2007-03-07T00:00:00",
          "2007-03-08T00:00:00",
          "2007-03-09T00:00:00",
          "2007-03-10T00:00:00",
          "2007-03-11T00:00:00",
          "2007-03-12T00:00:00",
          "2007-03-13T00:00:00",
          "2007-03-14T00:00:00",
          "2007-03-15T00:00:00",
          "2007-03-16T00:00:00",
          "2007-03-17T00:00:00",
          "2007-03-18T00:00:00",
          "2007-03-19T00:00:00",
          "2007-03-20T00:00:00",
          "2007-03-21T00:00:00",
          "2007-03-22T00:00:00",
          "2007-03-23T00:00:00",
          "2007-03-24T00:00:00",
          "2007-03-25T00:00:00",
          "2007-03-26T00:00:00",
          "2007-03-27T00:00:00",
          "2007-03-28T00:00:00",
          "2007-03-29T00:00:00",
          "2007-03-30T00:00:00",
          "2007-03-31T00:00:00",
          "2007-04-01T00:00:00",
          "2007-04-02T00:00:00",
          "2007-04-03T00:00:00",
          "2007-04-04T00:00:00",
          "2007-04-05T00:00:00",
          "2007-04-06T00:00:00",
          "2007-04-07T00:00:00",
          "2007-04-08T00:00:00",
          "2007-04-09T00:00:00",
          "2007-04-10T00:00:00",
          "2007-04-11T00:00:00",
          "2007-04-12T00:00:00",
          "2007-04-13T00:00:00",
          "2007-04-14T00:00:00",
          "2007-04-15T00:00:00",
          "2007-04-16T00:00:00",
          "2007-04-17T00:00:00",
          "2007-04-18T00:00:00",
          "2007-04-19T00:00:00",
          "2007-04-20T00:00:00",
          "2007-04-21T00:00:00",
          "2007-04-22T00:00:00",
          "2007-04-23T00:00:00",
          "2007-04-24T00:00:00",
          "2007-04-25T00:00:00",
          "2007-04-26T00:00:00",
          "2007-04-27T00:00:00",
          "2007-04-28T00:00:00",
          "2007-04-29T00:00:00",
          "2007-04-30T00:00:00",
          "2007-05-01T00:00:00",
          "2007-05-02T00:00:00",
          "2007-05-03T00:00:00",
          "2007-05-04T00:00:00",
          "2007-05-05T00:00:00",
          "2007-05-06T00:00:00",
          "2007-05-07T00:00:00",
          "2007-05-08T00:00:00",
          "2007-05-09T00:00:00",
          "2007-05-10T00:00:00",
          "2007-05-11T00:00:00",
          "2007-05-12T00:00:00",
          "2007-05-13T00:00:00",
          "2007-05-14T00:00:00",
          "2007-05-15T00:00:00",
          "2007-05-16T00:00:00",
          "2007-05-17T00:00:00",
          "2007-05-18T00:00:00",
          "2007-05-19T00:00:00",
          "2007-05-20T00:00:00",
          "2007-05-21T00:00:00",
          "2007-05-22T00:00:00",
          "2007-05-23T00:00:00",
          "2007-05-24T00:00:00",
          "2007-05-25T00:00:00",
          "2007-05-26T00:00:00",
          "2007-05-27T00:00:00",
          "2007-05-28T00:00:00",
          "2007-05-29T00:00:00",
          "2007-05-30T00:00:00",
          "2007-05-31T00:00:00",
          "2007-06-01T00:00:00",
          "2007-06-02T00:00:00",
          "2007-06-03T00:00:00",
          "2007-06-04T00:00:00",
          "2007-06-05T00:00:00",
          "2007-06-06T00:00:00",
          "2007-06-07T00:00:00",
          "2007-06-08T00:00:00",
          "2007-06-09T00:00:00",
          "2007-06-10T00:00:00",
          "2007-06-11T00:00:00",
          "2007-06-12T00:00:00",
          "2007-06-13T00:00:00",
          "2007-06-14T00:00:00",
          "2007-06-15T00:00:00",
          "2007-06-16T00:00:00",
          "2007-06-17T00:00:00",
          "2007-06-18T00:00:00",
          "2007-06-19T00:00:00",
          "2007-06-20T00:00:00",
          "2007-06-21T00:00:00",
          "2007-06-22T00:00:00",
          "2007-06-23T00:00:00",
          "2007-06-24T00:00:00",
          "2007-06-25T00:00:00",
          "2007-06-26T00:00:00",
          "2007-06-27T00:00:00",
          "2007-06-28T00:00:00",
          "2007-06-29T00:00:00",
          "2007-06-30T00:00:00",
          "2007-07-01T00:00:00",
          "2007-07-02T00:00:00",
          "2007-07-03T00:00:00",
          "2007-07-04T00:00:00",
          "2007-07-05T00:00:00",
          "2007-07-06T00:00:00",
          "2007-07-07T00:00:00",
          "2007-07-08T00:00:00",
          "2007-07-09T00:00:00",
          "2007-07-10T00:00:00",
          "2007-07-11T00:00:00",
          "2007-07-12T00:00:00",
          "2007-07-13T00:00:00",
          "2007-07-14T00:00:00",
          "2007-07-15T00:00:00",
          "2007-07-16T00:00:00",
          "2007-07-17T00:00:00",
          "2007-07-18T00:00:00",
          "2007-07-19T00:00:00",
          "2007-07-20T00:00:00",
          "2007-07-21T00:00:00",
          "2007-07-22T00:00:00",
          "2007-07-23T00:00:00",
          "2007-07-24T00:00:00",
          "2007-07-25T00:00:00",
          "2007-07-26T00:00:00",
          "2007-07-27T00:00:00",
          "2007-07-28T00:00:00",
          "2007-07-29T00:00:00",
          "2007-07-30T00:00:00",
          "2007-07-31T00:00:00",
          "2007-08-01T00:00:00",
          "2007-08-02T00:00:00",
          "2007-08-03T00:00:00",
          "2007-08-04T00:00:00",
          "2007-08-05T00:00:00",
          "2007-08-06T00:00:00",
          "2007-08-07T00:00:00",
          "2007-08-08T00:00:00",
          "2007-08-09T00:00:00",
          "2007-08-10T00:00:00",
          "2007-08-11T00:00:00",
          "2007-08-12T00:00:00",
          "2007-08-13T00:00:00",
          "2007-08-14T00:00:00",
          "2007-08-15T00:00:00",
          "2007-08-16T00:00:00",
          "2007-08-17T00:00:00",
          "2007-08-18T00:00:00",
          "2007-08-19T00:00:00",
          "2007-08-20T00:00:00",
          "2007-08-21T00:00:00",
          "2007-08-22T00:00:00",
          "2007-08-23T00:00:00",
          "2007-08-24T00:00:00",
          "2007-08-25T00:00:00",
          "2007-08-26T00:00:00",
          "2007-08-27T00:00:00",
          "2007-08-28T00:00:00",
          "2007-08-29T00:00:00",
          "2007-08-30T00:00:00",
          "2007-08-31T00:00:00",
          "2007-09-01T00:00:00",
          "2007-09-02T00:00:00",
          "2007-09-03T00:00:00",
          "2007-09-04T00:00:00",
          "2007-09-05T00:00:00",
          "2007-09-06T00:00:00",
          "2007-09-07T00:00:00",
          "2007-09-08T00:00:00",
          "2007-09-09T00:00:00",
          "2007-09-10T00:00:00",
          "2007-09-11T00:00:00",
          "2007-09-12T00:00:00",
          "2007-09-13T00:00:00",
          "2007-09-14T00:00:00",
          "2007-09-15T00:00:00",
          "2007-09-16T00:00:00",
          "2007-09-17T00:00:00",
          "2007-09-18T00:00:00",
          "2007-09-19T00:00:00",
          "2007-09-20T00:00:00",
          "2007-09-21T00:00:00",
          "2007-09-22T00:00:00",
          "2007-09-23T00:00:00",
          "2007-09-24T00:00:00",
          "2007-09-25T00:00:00",
          "2007-09-26T00:00:00",
          "2007-09-27T00:00:00",
          "2007-09-28T00:00:00",
          "2007-09-29T00:00:00",
          "2007-09-30T00:00:00",
          "2007-10-01T00:00:00",
          "2007-10-02T00:00:00",
          "2007-10-03T00:00:00",
          "2007-10-04T00:00:00",
          "2007-10-05T00:00:00",
          "2007-10-06T00:00:00",
          "2007-10-07T00:00:00",
          "2007-10-08T00:00:00",
          "2007-10-09T00:00:00",
          "2007-10-10T00:00:00",
          "2007-10-11T00:00:00",
          "2007-10-12T00:00:00",
          "2007-10-13T00:00:00",
          "2007-10-14T00:00:00",
          "2007-10-15T00:00:00",
          "2007-10-16T00:00:00",
          "2007-10-17T00:00:00",
          "2007-10-18T00:00:00",
          "2007-10-19T00:00:00",
          "2007-10-20T00:00:00",
          "2007-10-21T00:00:00",
          "2007-10-22T00:00:00",
          "2007-10-23T00:00:00",
          "2007-10-24T00:00:00",
          "2007-10-25T00:00:00",
          "2007-10-26T00:00:00",
          "2007-10-27T00:00:00",
          "2007-10-28T00:00:00",
          "2007-10-29T00:00:00",
          "2007-10-30T00:00:00",
          "2007-10-31T00:00:00",
          "2007-11-01T00:00:00",
          "2007-11-02T00:00:00",
          "2007-11-03T00:00:00",
          "2007-11-04T00:00:00",
          "2007-11-05T00:00:00",
          "2007-11-06T00:00:00",
          "2007-11-07T00:00:00",
          "2007-11-08T00:00:00",
          "2007-11-09T00:00:00",
          "2007-11-10T00:00:00",
          "2007-11-11T00:00:00",
          "2007-11-12T00:00:00",
          "2007-11-13T00:00:00",
          "2007-11-14T00:00:00",
          "2007-11-15T00:00:00",
          "2007-11-16T00:00:00",
          "2007-11-17T00:00:00",
          "2007-11-18T00:00:00",
          "2007-11-19T00:00:00",
          "2007-11-20T00:00:00",
          "2007-11-21T00:00:00",
          "2007-11-22T00:00:00",
          "2007-11-23T00:00:00",
          "2007-11-24T00:00:00",
          "2007-11-25T00:00:00",
          "2007-11-26T00:00:00",
          "2007-11-27T00:00:00",
          "2007-11-28T00:00:00",
          "2007-11-29T00:00:00",
          "2007-11-30T00:00:00",
          "2007-12-01T00:00:00",
          "2007-12-02T00:00:00",
          "2007-12-03T00:00:00",
          "2007-12-04T00:00:00",
          "2007-12-05T00:00:00",
          "2007-12-06T00:00:00",
          "2007-12-07T00:00:00",
          "2007-12-08T00:00:00",
          "2007-12-09T00:00:00",
          "2007-12-10T00:00:00",
          "2007-12-11T00:00:00",
          "2007-12-12T00:00:00",
          "2007-12-13T00:00:00",
          "2007-12-14T00:00:00",
          "2007-12-15T00:00:00",
          "2007-12-16T00:00:00",
          "2007-12-17T00:00:00",
          "2007-12-18T00:00:00",
          "2007-12-19T00:00:00",
          "2007-12-20T00:00:00",
          "2007-12-21T00:00:00",
          "2007-12-22T00:00:00",
          "2007-12-23T00:00:00",
          "2007-12-24T00:00:00",
          "2007-12-25T00:00:00",
          "2007-12-26T00:00:00",
          "2007-12-27T00:00:00",
          "2007-12-28T00:00:00",
          "2007-12-29T00:00:00",
          "2007-12-30T00:00:00",
          "2007-12-31T00:00:00",
          "2008-01-01T00:00:00",
          "2008-01-02T00:00:00",
          "2008-01-03T00:00:00",
          "2008-01-04T00:00:00",
          "2008-01-05T00:00:00",
          "2008-01-06T00:00:00",
          "2008-01-07T00:00:00",
          "2008-01-08T00:00:00",
          "2008-01-09T00:00:00",
          "2008-01-10T00:00:00",
          "2008-01-11T00:00:00",
          "2008-01-12T00:00:00",
          "2008-01-13T00:00:00",
          "2008-01-14T00:00:00",
          "2008-01-15T00:00:00",
          "2008-01-16T00:00:00",
          "2008-01-17T00:00:00",
          "2008-01-18T00:00:00",
          "2008-01-19T00:00:00",
          "2008-01-20T00:00:00",
          "2008-01-21T00:00:00",
          "2008-01-22T00:00:00",
          "2008-01-23T00:00:00",
          "2008-01-24T00:00:00",
          "2008-01-25T00:00:00",
          "2008-01-26T00:00:00",
          "2008-01-27T00:00:00",
          "2008-01-28T00:00:00",
          "2008-01-29T00:00:00",
          "2008-01-30T00:00:00",
          "2008-01-31T00:00:00",
          "2008-02-01T00:00:00",
          "2008-02-02T00:00:00",
          "2008-02-03T00:00:00",
          "2008-02-04T00:00:00",
          "2008-02-05T00:00:00",
          "2008-02-06T00:00:00",
          "2008-02-07T00:00:00",
          "2008-02-08T00:00:00",
          "2008-02-09T00:00:00",
          "2008-02-10T00:00:00",
          "2008-02-11T00:00:00",
          "2008-02-12T00:00:00",
          "2008-02-13T00:00:00",
          "2008-02-14T00:00:00",
          "2008-02-15T00:00:00",
          "2008-02-16T00:00:00",
          "2008-02-17T00:00:00",
          "2008-02-18T00:00:00",
          "2008-02-19T00:00:00",
          "2008-02-20T00:00:00",
          "2008-02-21T00:00:00",
          "2008-02-22T00:00:00",
          "2008-02-23T00:00:00",
          "2008-02-24T00:00:00",
          "2008-02-25T00:00:00",
          "2008-02-26T00:00:00",
          "2008-02-27T00:00:00",
          "2008-02-28T00:00:00",
          "2008-02-29T00:00:00",
          "2008-03-01T00:00:00",
          "2008-03-02T00:00:00",
          "2008-03-03T00:00:00",
          "2008-03-04T00:00:00",
          "2008-03-05T00:00:00",
          "2008-03-06T00:00:00",
          "2008-03-07T00:00:00",
          "2008-03-08T00:00:00",
          "2008-03-09T00:00:00",
          "2008-03-10T00:00:00",
          "2008-03-11T00:00:00",
          "2008-03-12T00:00:00",
          "2008-03-13T00:00:00",
          "2008-03-14T00:00:00",
          "2008-03-15T00:00:00",
          "2008-03-16T00:00:00",
          "2008-03-17T00:00:00",
          "2008-03-18T00:00:00",
          "2008-03-19T00:00:00",
          "2008-03-20T00:00:00",
          "2008-03-21T00:00:00",
          "2008-03-22T00:00:00",
          "2008-03-23T00:00:00",
          "2008-03-24T00:00:00",
          "2008-03-25T00:00:00",
          "2008-03-26T00:00:00",
          "2008-03-27T00:00:00",
          "2008-03-28T00:00:00",
          "2008-03-29T00:00:00",
          "2008-03-30T00:00:00",
          "2008-03-31T00:00:00",
          "2008-04-01T00:00:00",
          "2008-04-02T00:00:00",
          "2008-04-03T00:00:00",
          "2008-04-04T00:00:00",
          "2008-04-05T00:00:00",
          "2008-04-06T00:00:00",
          "2008-04-07T00:00:00",
          "2008-04-08T00:00:00",
          "2008-04-09T00:00:00",
          "2008-04-10T00:00:00",
          "2008-04-11T00:00:00",
          "2008-04-12T00:00:00",
          "2008-04-13T00:00:00",
          "2008-04-14T00:00:00",
          "2008-04-15T00:00:00",
          "2008-04-16T00:00:00",
          "2008-04-17T00:00:00",
          "2008-04-18T00:00:00",
          "2008-04-19T00:00:00",
          "2008-04-20T00:00:00",
          "2008-04-21T00:00:00",
          "2008-04-22T00:00:00",
          "2008-04-23T00:00:00",
          "2008-04-24T00:00:00",
          "2008-04-25T00:00:00",
          "2008-04-26T00:00:00",
          "2008-04-27T00:00:00",
          "2008-04-28T00:00:00",
          "2008-04-29T00:00:00",
          "2008-04-30T00:00:00",
          "2008-05-01T00:00:00",
          "2008-05-02T00:00:00",
          "2008-05-03T00:00:00",
          "2008-05-04T00:00:00",
          "2008-05-05T00:00:00",
          "2008-05-06T00:00:00",
          "2008-05-07T00:00:00",
          "2008-05-08T00:00:00",
          "2008-05-09T00:00:00",
          "2008-05-10T00:00:00",
          "2008-05-11T00:00:00",
          "2008-05-12T00:00:00",
          "2008-05-13T00:00:00",
          "2008-05-14T00:00:00",
          "2008-05-15T00:00:00",
          "2008-05-16T00:00:00",
          "2008-05-17T00:00:00",
          "2008-05-18T00:00:00",
          "2008-05-19T00:00:00",
          "2008-05-20T00:00:00",
          "2008-05-21T00:00:00",
          "2008-05-22T00:00:00",
          "2008-05-23T00:00:00",
          "2008-05-24T00:00:00",
          "2008-05-25T00:00:00",
          "2008-05-26T00:00:00",
          "2008-05-27T00:00:00",
          "2008-05-28T00:00:00",
          "2008-05-29T00:00:00",
          "2008-05-30T00:00:00",
          "2008-05-31T00:00:00",
          "2008-06-01T00:00:00",
          "2008-06-02T00:00:00",
          "2008-06-03T00:00:00",
          "2008-06-04T00:00:00",
          "2008-06-05T00:00:00",
          "2008-06-06T00:00:00",
          "2008-06-07T00:00:00",
          "2008-06-08T00:00:00",
          "2008-06-09T00:00:00",
          "2008-06-10T00:00:00",
          "2008-06-11T00:00:00",
          "2008-06-12T00:00:00",
          "2008-06-13T00:00:00",
          "2008-06-14T00:00:00",
          "2008-06-15T00:00:00",
          "2008-06-16T00:00:00",
          "2008-06-17T00:00:00",
          "2008-06-18T00:00:00",
          "2008-06-19T00:00:00",
          "2008-06-20T00:00:00",
          "2008-06-21T00:00:00",
          "2008-06-22T00:00:00",
          "2008-06-23T00:00:00",
          "2008-06-24T00:00:00",
          "2008-06-25T00:00:00",
          "2008-06-26T00:00:00",
          "2008-06-27T00:00:00",
          "2008-06-28T00:00:00",
          "2008-06-29T00:00:00",
          "2008-06-30T00:00:00",
          "2008-07-01T00:00:00",
          "2008-07-02T00:00:00",
          "2008-07-03T00:00:00",
          "2008-07-04T00:00:00",
          "2008-07-05T00:00:00",
          "2008-07-06T00:00:00",
          "2008-07-07T00:00:00",
          "2008-07-08T00:00:00",
          "2008-07-09T00:00:00",
          "2008-07-10T00:00:00",
          "2008-07-11T00:00:00",
          "2008-07-12T00:00:00",
          "2008-07-13T00:00:00",
          "2008-07-14T00:00:00",
          "2008-07-15T00:00:00",
          "2008-07-16T00:00:00",
          "2008-07-17T00:00:00",
          "2008-07-18T00:00:00",
          "2008-07-19T00:00:00",
          "2008-07-20T00:00:00",
          "2008-07-21T00:00:00",
          "2008-07-22T00:00:00",
          "2008-07-23T00:00:00",
          "2008-07-24T00:00:00",
          "2008-07-25T00:00:00",
          "2008-07-26T00:00:00",
          "2008-07-27T00:00:00",
          "2008-07-28T00:00:00",
          "2008-07-29T00:00:00",
          "2008-07-30T00:00:00",
          "2008-07-31T00:00:00",
          "2008-08-01T00:00:00",
          "2008-08-02T00:00:00",
          "2008-08-03T00:00:00",
          "2008-08-04T00:00:00",
          "2008-08-05T00:00:00",
          "2008-08-06T00:00:00",
          "2008-08-07T00:00:00",
          "2008-08-08T00:00:00",
          "2008-08-09T00:00:00",
          "2008-08-10T00:00:00",
          "2008-08-11T00:00:00",
          "2008-08-12T00:00:00",
          "2008-08-13T00:00:00",
          "2008-08-14T00:00:00",
          "2008-08-15T00:00:00",
          "2008-08-16T00:00:00",
          "2008-08-17T00:00:00",
          "2008-08-18T00:00:00",
          "2008-08-19T00:00:00",
          "2008-08-20T00:00:00",
          "2008-08-21T00:00:00",
          "2008-08-22T00:00:00",
          "2008-08-23T00:00:00",
          "2008-08-24T00:00:00",
          "2008-08-25T00:00:00",
          "2008-08-26T00:00:00",
          "2008-08-27T00:00:00",
          "2008-08-28T00:00:00",
          "2008-08-29T00:00:00",
          "2008-08-30T00:00:00",
          "2008-08-31T00:00:00",
          "2008-09-01T00:00:00",
          "2008-09-02T00:00:00",
          "2008-09-03T00:00:00",
          "2008-09-04T00:00:00",
          "2008-09-05T00:00:00",
          "2008-09-06T00:00:00",
          "2008-09-07T00:00:00",
          "2008-09-08T00:00:00",
          "2008-09-09T00:00:00",
          "2008-09-10T00:00:00",
          "2008-09-11T00:00:00",
          "2008-09-12T00:00:00",
          "2008-09-13T00:00:00",
          "2008-09-14T00:00:00",
          "2008-09-15T00:00:00",
          "2008-09-16T00:00:00",
          "2008-09-17T00:00:00",
          "2008-09-18T00:00:00",
          "2008-09-19T00:00:00",
          "2008-09-20T00:00:00",
          "2008-09-21T00:00:00",
          "2008-09-22T00:00:00",
          "2008-09-23T00:00:00",
          "2008-09-24T00:00:00",
          "2008-09-25T00:00:00",
          "2008-09-26T00:00:00",
          "2008-09-27T00:00:00",
          "2008-09-28T00:00:00",
          "2008-09-29T00:00:00",
          "2008-09-30T00:00:00",
          "2008-10-01T00:00:00",
          "2008-10-02T00:00:00",
          "2008-10-03T00:00:00",
          "2008-10-04T00:00:00",
          "2008-10-05T00:00:00",
          "2008-10-06T00:00:00",
          "2008-10-07T00:00:00",
          "2008-10-08T00:00:00",
          "2008-10-09T00:00:00",
          "2008-10-10T00:00:00",
          "2008-10-11T00:00:00",
          "2008-10-12T00:00:00",
          "2008-10-13T00:00:00",
          "2008-10-14T00:00:00",
          "2008-10-15T00:00:00",
          "2008-10-16T00:00:00",
          "2008-10-17T00:00:00",
          "2008-10-18T00:00:00",
          "2008-10-19T00:00:00",
          "2008-10-20T00:00:00",
          "2008-10-21T00:00:00",
          "2008-10-22T00:00:00",
          "2008-10-23T00:00:00",
          "2008-10-24T00:00:00",
          "2008-10-25T00:00:00",
          "2008-10-26T00:00:00",
          "2008-10-27T00:00:00",
          "2008-10-28T00:00:00",
          "2008-10-29T00:00:00",
          "2008-10-30T00:00:00",
          "2008-10-31T00:00:00",
          "2008-11-01T00:00:00",
          "2008-11-02T00:00:00",
          "2008-11-03T00:00:00",
          "2008-11-04T00:00:00",
          "2008-11-05T00:00:00",
          "2008-11-06T00:00:00",
          "2008-11-07T00:00:00",
          "2008-11-08T00:00:00",
          "2008-11-09T00:00:00",
          "2008-11-10T00:00:00",
          "2008-11-11T00:00:00",
          "2008-11-12T00:00:00",
          "2008-11-13T00:00:00",
          "2008-11-14T00:00:00",
          "2008-11-15T00:00:00",
          "2008-11-16T00:00:00",
          "2008-11-17T00:00:00",
          "2008-11-18T00:00:00",
          "2008-11-19T00:00:00",
          "2008-11-20T00:00:00",
          "2008-11-21T00:00:00",
          "2008-11-22T00:00:00",
          "2008-11-23T00:00:00",
          "2008-11-24T00:00:00",
          "2008-11-25T00:00:00",
          "2008-11-26T00:00:00",
          "2008-11-27T00:00:00",
          "2008-11-28T00:00:00",
          "2008-11-29T00:00:00",
          "2008-11-30T00:00:00",
          "2008-12-01T00:00:00",
          "2008-12-02T00:00:00",
          "2008-12-03T00:00:00",
          "2008-12-04T00:00:00",
          "2008-12-05T00:00:00",
          "2008-12-06T00:00:00",
          "2008-12-07T00:00:00",
          "2008-12-08T00:00:00",
          "2008-12-09T00:00:00",
          "2008-12-10T00:00:00",
          "2008-12-11T00:00:00",
          "2008-12-12T00:00:00",
          "2008-12-13T00:00:00",
          "2008-12-14T00:00:00",
          "2008-12-15T00:00:00",
          "2008-12-16T00:00:00",
          "2008-12-17T00:00:00",
          "2008-12-18T00:00:00",
          "2008-12-19T00:00:00",
          "2008-12-20T00:00:00",
          "2008-12-21T00:00:00",
          "2008-12-22T00:00:00",
          "2008-12-23T00:00:00",
          "2008-12-24T00:00:00",
          "2008-12-25T00:00:00",
          "2008-12-26T00:00:00",
          "2008-12-27T00:00:00",
          "2008-12-28T00:00:00",
          "2008-12-29T00:00:00",
          "2008-12-30T00:00:00",
          "2008-12-31T00:00:00",
          "2009-01-01T00:00:00",
          "2009-01-02T00:00:00",
          "2009-01-03T00:00:00",
          "2009-01-04T00:00:00",
          "2009-01-05T00:00:00",
          "2009-01-06T00:00:00",
          "2009-01-07T00:00:00",
          "2009-01-08T00:00:00",
          "2009-01-09T00:00:00",
          "2009-01-10T00:00:00",
          "2009-01-11T00:00:00",
          "2009-01-12T00:00:00",
          "2009-01-13T00:00:00",
          "2009-01-14T00:00:00",
          "2009-01-15T00:00:00",
          "2009-01-16T00:00:00",
          "2009-01-17T00:00:00",
          "2009-01-18T00:00:00",
          "2009-01-19T00:00:00",
          "2009-01-20T00:00:00",
          "2009-01-21T00:00:00",
          "2009-01-22T00:00:00",
          "2009-01-23T00:00:00",
          "2009-01-24T00:00:00",
          "2009-01-25T00:00:00",
          "2009-01-26T00:00:00",
          "2009-01-27T00:00:00",
          "2009-01-28T00:00:00",
          "2009-01-29T00:00:00",
          "2009-01-30T00:00:00",
          "2009-01-31T00:00:00",
          "2009-02-01T00:00:00",
          "2009-02-02T00:00:00",
          "2009-02-03T00:00:00",
          "2009-02-04T00:00:00",
          "2009-02-05T00:00:00",
          "2009-02-06T00:00:00",
          "2009-02-07T00:00:00",
          "2009-02-08T00:00:00",
          "2009-02-09T00:00:00",
          "2009-02-10T00:00:00",
          "2009-02-11T00:00:00",
          "2009-02-12T00:00:00",
          "2009-02-13T00:00:00",
          "2009-02-14T00:00:00",
          "2009-02-15T00:00:00",
          "2009-02-16T00:00:00",
          "2009-02-17T00:00:00",
          "2009-02-18T00:00:00",
          "2009-02-19T00:00:00",
          "2009-02-20T00:00:00",
          "2009-02-21T00:00:00",
          "2009-02-22T00:00:00",
          "2009-02-23T00:00:00",
          "2009-02-24T00:00:00",
          "2009-02-25T00:00:00",
          "2009-02-26T00:00:00",
          "2009-02-27T00:00:00",
          "2009-02-28T00:00:00",
          "2009-03-01T00:00:00",
          "2009-03-02T00:00:00",
          "2009-03-03T00:00:00",
          "2009-03-04T00:00:00",
          "2009-03-05T00:00:00",
          "2009-03-06T00:00:00",
          "2009-03-07T00:00:00",
          "2009-03-08T00:00:00",
          "2009-03-09T00:00:00",
          "2009-03-10T00:00:00",
          "2009-03-11T00:00:00",
          "2009-03-12T00:00:00",
          "2009-03-13T00:00:00",
          "2009-03-14T00:00:00",
          "2009-03-15T00:00:00",
          "2009-03-16T00:00:00",
          "2009-03-17T00:00:00",
          "2009-03-18T00:00:00",
          "2009-03-19T00:00:00",
          "2009-03-20T00:00:00",
          "2009-03-21T00:00:00",
          "2009-03-22T00:00:00",
          "2009-03-23T00:00:00",
          "2009-03-24T00:00:00",
          "2009-03-25T00:00:00",
          "2009-03-26T00:00:00",
          "2009-03-27T00:00:00",
          "2009-03-28T00:00:00",
          "2009-03-29T00:00:00",
          "2009-03-30T00:00:00",
          "2009-03-31T00:00:00",
          "2009-04-01T00:00:00",
          "2009-04-02T00:00:00",
          "2009-04-03T00:00:00",
          "2009-04-04T00:00:00",
          "2009-04-05T00:00:00",
          "2009-04-06T00:00:00",
          "2009-04-07T00:00:00",
          "2009-04-08T00:00:00",
          "2009-04-09T00:00:00",
          "2009-04-10T00:00:00",
          "2009-04-11T00:00:00",
          "2009-04-12T00:00:00",
          "2009-04-13T00:00:00",
          "2009-04-14T00:00:00",
          "2009-04-15T00:00:00",
          "2009-04-16T00:00:00",
          "2009-04-17T00:00:00",
          "2009-04-18T00:00:00",
          "2009-04-19T00:00:00",
          "2009-04-20T00:00:00",
          "2009-04-21T00:00:00",
          "2009-04-22T00:00:00",
          "2009-04-23T00:00:00",
          "2009-04-24T00:00:00",
          "2009-04-25T00:00:00",
          "2009-04-26T00:00:00",
          "2009-04-27T00:00:00",
          "2009-04-28T00:00:00",
          "2009-04-29T00:00:00",
          "2009-04-30T00:00:00",
          "2009-05-01T00:00:00",
          "2009-05-02T00:00:00",
          "2009-05-03T00:00:00",
          "2009-05-04T00:00:00",
          "2009-05-05T00:00:00",
          "2009-05-06T00:00:00",
          "2009-05-07T00:00:00",
          "2009-05-08T00:00:00",
          "2009-05-09T00:00:00",
          "2009-05-10T00:00:00",
          "2009-05-11T00:00:00",
          "2009-05-12T00:00:00",
          "2009-05-13T00:00:00",
          "2009-05-14T00:00:00",
          "2009-05-15T00:00:00",
          "2009-05-16T00:00:00",
          "2009-05-17T00:00:00",
          "2009-05-18T00:00:00",
          "2009-05-19T00:00:00",
          "2009-05-20T00:00:00",
          "2009-05-21T00:00:00",
          "2009-05-22T00:00:00",
          "2009-05-23T00:00:00",
          "2009-05-24T00:00:00",
          "2009-05-25T00:00:00",
          "2009-05-26T00:00:00",
          "2009-05-27T00:00:00",
          "2009-05-28T00:00:00",
          "2009-05-29T00:00:00",
          "2009-05-30T00:00:00",
          "2009-05-31T00:00:00",
          "2009-06-01T00:00:00",
          "2009-06-02T00:00:00",
          "2009-06-03T00:00:00",
          "2009-06-04T00:00:00",
          "2009-06-05T00:00:00",
          "2009-06-06T00:00:00",
          "2009-06-07T00:00:00",
          "2009-06-08T00:00:00",
          "2009-06-09T00:00:00",
          "2009-06-10T00:00:00",
          "2009-06-11T00:00:00",
          "2009-06-12T00:00:00",
          "2009-06-13T00:00:00",
          "2009-06-14T00:00:00",
          "2009-06-15T00:00:00",
          "2009-06-16T00:00:00",
          "2009-06-17T00:00:00",
          "2009-06-18T00:00:00",
          "2009-06-19T00:00:00",
          "2009-06-20T00:00:00",
          "2009-06-21T00:00:00",
          "2009-06-22T00:00:00",
          "2009-06-23T00:00:00",
          "2009-06-24T00:00:00",
          "2009-06-25T00:00:00",
          "2009-06-26T00:00:00",
          "2009-06-27T00:00:00",
          "2009-06-28T00:00:00",
          "2009-06-29T00:00:00",
          "2009-06-30T00:00:00",
          "2009-07-01T00:00:00",
          "2009-07-02T00:00:00",
          "2009-07-03T00:00:00",
          "2009-07-04T00:00:00",
          "2009-07-05T00:00:00",
          "2009-07-06T00:00:00",
          "2009-07-07T00:00:00",
          "2009-07-08T00:00:00",
          "2009-07-09T00:00:00",
          "2009-07-10T00:00:00",
          "2009-07-11T00:00:00",
          "2009-07-12T00:00:00",
          "2009-07-13T00:00:00",
          "2009-07-14T00:00:00",
          "2009-07-15T00:00:00",
          "2009-07-16T00:00:00",
          "2009-07-17T00:00:00",
          "2009-07-18T00:00:00",
          "2009-07-19T00:00:00",
          "2009-07-20T00:00:00",
          "2009-07-21T00:00:00",
          "2009-07-22T00:00:00",
          "2009-07-23T00:00:00",
          "2009-07-24T00:00:00",
          "2009-07-25T00:00:00",
          "2009-07-26T00:00:00",
          "2009-07-27T00:00:00",
          "2009-07-28T00:00:00",
          "2009-07-29T00:00:00",
          "2009-07-30T00:00:00",
          "2009-07-31T00:00:00",
          "2009-08-01T00:00:00",
          "2009-08-02T00:00:00",
          "2009-08-03T00:00:00",
          "2009-08-04T00:00:00",
          "2009-08-05T00:00:00",
          "2009-08-06T00:00:00",
          "2009-08-07T00:00:00",
          "2009-08-08T00:00:00",
          "2009-08-09T00:00:00",
          "2009-08-10T00:00:00",
          "2009-08-11T00:00:00",
          "2009-08-12T00:00:00",
          "2009-08-13T00:00:00",
          "2009-08-14T00:00:00",
          "2009-08-15T00:00:00",
          "2009-08-16T00:00:00",
          "2009-08-17T00:00:00",
          "2009-08-18T00:00:00",
          "2009-08-19T00:00:00",
          "2009-08-20T00:00:00",
          "2009-08-21T00:00:00",
          "2009-08-22T00:00:00",
          "2009-08-23T00:00:00",
          "2009-08-24T00:00:00",
          "2009-08-25T00:00:00",
          "2009-08-26T00:00:00",
          "2009-08-27T00:00:00",
          "2009-08-28T00:00:00",
          "2009-08-29T00:00:00",
          "2009-08-30T00:00:00",
          "2009-08-31T00:00:00",
          "2009-09-01T00:00:00",
          "2009-09-02T00:00:00",
          "2009-09-03T00:00:00",
          "2009-09-04T00:00:00",
          "2009-09-05T00:00:00",
          "2009-09-06T00:00:00",
          "2009-09-07T00:00:00",
          "2009-09-08T00:00:00",
          "2009-09-09T00:00:00",
          "2009-09-10T00:00:00",
          "2009-09-11T00:00:00",
          "2009-09-12T00:00:00",
          "2009-09-13T00:00:00",
          "2009-09-14T00:00:00",
          "2009-09-15T00:00:00",
          "2009-09-16T00:00:00",
          "2009-09-17T00:00:00",
          "2009-09-18T00:00:00",
          "2009-09-19T00:00:00",
          "2009-09-20T00:00:00",
          "2009-09-21T00:00:00",
          "2009-09-22T00:00:00",
          "2009-09-23T00:00:00",
          "2009-09-24T00:00:00",
          "2009-09-25T00:00:00",
          "2009-09-26T00:00:00",
          "2009-09-27T00:00:00",
          "2009-09-28T00:00:00",
          "2009-09-29T00:00:00",
          "2009-09-30T00:00:00",
          "2009-10-01T00:00:00",
          "2009-10-02T00:00:00",
          "2009-10-03T00:00:00",
          "2009-10-04T00:00:00",
          "2009-10-05T00:00:00",
          "2009-10-06T00:00:00",
          "2009-10-07T00:00:00",
          "2009-10-08T00:00:00",
          "2009-10-09T00:00:00",
          "2009-10-10T00:00:00",
          "2009-10-11T00:00:00",
          "2009-10-12T00:00:00",
          "2009-10-13T00:00:00",
          "2009-10-14T00:00:00",
          "2009-10-15T00:00:00",
          "2009-10-16T00:00:00",
          "2009-10-17T00:00:00",
          "2009-10-18T00:00:00",
          "2009-10-19T00:00:00",
          "2009-10-20T00:00:00",
          "2009-10-21T00:00:00",
          "2009-10-22T00:00:00",
          "2009-10-23T00:00:00",
          "2009-10-24T00:00:00",
          "2009-10-25T00:00:00",
          "2009-10-26T00:00:00",
          "2009-10-27T00:00:00",
          "2009-10-28T00:00:00",
          "2009-10-29T00:00:00",
          "2009-10-30T00:00:00",
          "2009-10-31T00:00:00",
          "2009-11-01T00:00:00",
          "2009-11-02T00:00:00",
          "2009-11-03T00:00:00",
          "2009-11-04T00:00:00",
          "2009-11-05T00:00:00",
          "2009-11-06T00:00:00",
          "2009-11-07T00:00:00",
          "2009-11-08T00:00:00",
          "2009-11-09T00:00:00",
          "2009-11-10T00:00:00",
          "2009-11-11T00:00:00",
          "2009-11-12T00:00:00",
          "2009-11-13T00:00:00",
          "2009-11-14T00:00:00",
          "2009-11-15T00:00:00",
          "2009-11-16T00:00:00",
          "2009-11-17T00:00:00",
          "2009-11-18T00:00:00",
          "2009-11-19T00:00:00",
          "2009-11-20T00:00:00",
          "2009-11-21T00:00:00",
          "2009-11-22T00:00:00",
          "2009-11-23T00:00:00",
          "2009-11-24T00:00:00",
          "2009-11-25T00:00:00",
          "2009-11-26T00:00:00",
          "2009-11-27T00:00:00",
          "2009-11-28T00:00:00",
          "2009-11-29T00:00:00",
          "2009-11-30T00:00:00",
          "2009-12-01T00:00:00",
          "2009-12-02T00:00:00",
          "2009-12-03T00:00:00",
          "2009-12-04T00:00:00",
          "2009-12-05T00:00:00",
          "2009-12-06T00:00:00",
          "2009-12-07T00:00:00",
          "2009-12-08T00:00:00",
          "2009-12-09T00:00:00",
          "2009-12-10T00:00:00",
          "2009-12-11T00:00:00",
          "2009-12-12T00:00:00",
          "2009-12-13T00:00:00",
          "2009-12-14T00:00:00",
          "2009-12-15T00:00:00",
          "2009-12-16T00:00:00",
          "2009-12-17T00:00:00",
          "2009-12-18T00:00:00",
          "2009-12-19T00:00:00",
          "2009-12-20T00:00:00",
          "2009-12-21T00:00:00",
          "2009-12-22T00:00:00",
          "2009-12-23T00:00:00",
          "2009-12-24T00:00:00",
          "2009-12-25T00:00:00",
          "2009-12-26T00:00:00",
          "2009-12-27T00:00:00",
          "2009-12-28T00:00:00",
          "2009-12-29T00:00:00",
          "2009-12-30T00:00:00",
          "2009-12-31T00:00:00",
          "2010-01-01T00:00:00",
          "2010-01-02T00:00:00",
          "2010-01-03T00:00:00",
          "2010-01-04T00:00:00",
          "2010-01-05T00:00:00",
          "2010-01-06T00:00:00",
          "2010-01-07T00:00:00",
          "2010-01-08T00:00:00",
          "2010-01-09T00:00:00",
          "2010-01-10T00:00:00",
          "2010-01-11T00:00:00",
          "2010-01-12T00:00:00",
          "2010-01-13T00:00:00",
          "2010-01-14T00:00:00",
          "2010-01-15T00:00:00",
          "2010-01-16T00:00:00",
          "2010-01-17T00:00:00",
          "2010-01-18T00:00:00",
          "2010-01-19T00:00:00",
          "2010-01-20T00:00:00",
          "2010-01-21T00:00:00",
          "2010-01-22T00:00:00",
          "2010-01-23T00:00:00",
          "2010-01-24T00:00:00",
          "2010-01-25T00:00:00",
          "2010-01-26T00:00:00",
          "2010-01-27T00:00:00",
          "2010-01-28T00:00:00",
          "2010-01-29T00:00:00",
          "2010-01-30T00:00:00",
          "2010-01-31T00:00:00",
          "2010-02-01T00:00:00",
          "2010-02-02T00:00:00",
          "2010-02-03T00:00:00",
          "2010-02-04T00:00:00",
          "2010-02-05T00:00:00",
          "2010-02-06T00:00:00",
          "2010-02-07T00:00:00",
          "2010-02-08T00:00:00",
          "2010-02-09T00:00:00",
          "2010-02-10T00:00:00",
          "2010-02-11T00:00:00",
          "2010-02-12T00:00:00",
          "2010-02-13T00:00:00",
          "2010-02-14T00:00:00",
          "2010-02-15T00:00:00",
          "2010-02-16T00:00:00",
          "2010-02-17T00:00:00",
          "2010-02-18T00:00:00",
          "2010-02-19T00:00:00",
          "2010-02-20T00:00:00",
          "2010-02-21T00:00:00",
          "2010-02-22T00:00:00",
          "2010-02-23T00:00:00",
          "2010-02-24T00:00:00",
          "2010-02-25T00:00:00",
          "2010-02-26T00:00:00",
          "2010-02-27T00:00:00",
          "2010-02-28T00:00:00",
          "2010-03-01T00:00:00",
          "2010-03-02T00:00:00",
          "2010-03-03T00:00:00",
          "2010-03-04T00:00:00",
          "2010-03-05T00:00:00",
          "2010-03-06T00:00:00",
          "2010-03-07T00:00:00",
          "2010-03-08T00:00:00",
          "2010-03-09T00:00:00",
          "2010-03-10T00:00:00",
          "2010-03-11T00:00:00",
          "2010-03-12T00:00:00",
          "2010-03-13T00:00:00",
          "2010-03-14T00:00:00",
          "2010-03-15T00:00:00",
          "2010-03-16T00:00:00",
          "2010-03-17T00:00:00",
          "2010-03-18T00:00:00",
          "2010-03-19T00:00:00",
          "2010-03-20T00:00:00",
          "2010-03-21T00:00:00",
          "2010-03-22T00:00:00",
          "2010-03-23T00:00:00",
          "2010-03-24T00:00:00",
          "2010-03-25T00:00:00",
          "2010-03-26T00:00:00",
          "2010-03-27T00:00:00",
          "2010-03-28T00:00:00",
          "2010-03-29T00:00:00",
          "2010-03-30T00:00:00",
          "2010-03-31T00:00:00",
          "2010-04-01T00:00:00",
          "2010-04-02T00:00:00",
          "2010-04-03T00:00:00",
          "2010-04-04T00:00:00",
          "2010-04-05T00:00:00",
          "2010-04-06T00:00:00",
          "2010-04-07T00:00:00",
          "2010-04-08T00:00:00",
          "2010-04-09T00:00:00",
          "2010-04-10T00:00:00",
          "2010-04-11T00:00:00",
          "2010-04-12T00:00:00",
          "2010-04-13T00:00:00",
          "2010-04-14T00:00:00",
          "2010-04-15T00:00:00",
          "2010-04-16T00:00:00",
          "2010-04-17T00:00:00",
          "2010-04-18T00:00:00",
          "2010-04-19T00:00:00",
          "2010-04-20T00:00:00",
          "2010-04-21T00:00:00",
          "2010-04-22T00:00:00",
          "2010-04-23T00:00:00",
          "2010-04-24T00:00:00",
          "2010-04-25T00:00:00",
          "2010-04-26T00:00:00",
          "2010-04-27T00:00:00",
          "2010-04-28T00:00:00",
          "2010-04-29T00:00:00",
          "2010-04-30T00:00:00",
          "2010-05-01T00:00:00",
          "2010-05-02T00:00:00",
          "2010-05-03T00:00:00",
          "2010-05-04T00:00:00",
          "2010-05-05T00:00:00",
          "2010-05-06T00:00:00",
          "2010-05-07T00:00:00",
          "2010-05-08T00:00:00",
          "2010-05-09T00:00:00",
          "2010-05-10T00:00:00",
          "2010-05-11T00:00:00",
          "2010-05-12T00:00:00",
          "2010-05-13T00:00:00",
          "2010-05-14T00:00:00",
          "2010-05-15T00:00:00",
          "2010-05-16T00:00:00",
          "2010-05-17T00:00:00",
          "2010-05-18T00:00:00",
          "2010-05-19T00:00:00",
          "2010-05-20T00:00:00",
          "2010-05-21T00:00:00",
          "2010-05-22T00:00:00",
          "2010-05-23T00:00:00",
          "2010-05-24T00:00:00",
          "2010-05-25T00:00:00",
          "2010-05-26T00:00:00",
          "2010-05-27T00:00:00",
          "2010-05-28T00:00:00",
          "2010-05-29T00:00:00",
          "2010-05-30T00:00:00",
          "2010-05-31T00:00:00",
          "2010-06-01T00:00:00",
          "2010-06-02T00:00:00",
          "2010-06-03T00:00:00",
          "2010-06-04T00:00:00",
          "2010-06-05T00:00:00",
          "2010-06-06T00:00:00",
          "2010-06-07T00:00:00",
          "2010-06-08T00:00:00",
          "2010-06-09T00:00:00",
          "2010-06-10T00:00:00",
          "2010-06-11T00:00:00",
          "2010-06-12T00:00:00",
          "2010-06-13T00:00:00",
          "2010-06-14T00:00:00",
          "2010-06-15T00:00:00",
          "2010-06-16T00:00:00",
          "2010-06-17T00:00:00",
          "2010-06-18T00:00:00",
          "2010-06-19T00:00:00",
          "2010-06-20T00:00:00",
          "2010-06-21T00:00:00",
          "2010-06-22T00:00:00",
          "2010-06-23T00:00:00",
          "2010-06-24T00:00:00",
          "2010-06-25T00:00:00",
          "2010-06-26T00:00:00",
          "2010-06-27T00:00:00",
          "2010-06-28T00:00:00",
          "2010-06-29T00:00:00",
          "2010-06-30T00:00:00",
          "2010-07-01T00:00:00",
          "2010-07-02T00:00:00",
          "2010-07-03T00:00:00",
          "2010-07-04T00:00:00",
          "2010-07-05T00:00:00",
          "2010-07-06T00:00:00",
          "2010-07-07T00:00:00",
          "2010-07-08T00:00:00",
          "2010-07-09T00:00:00",
          "2010-07-10T00:00:00",
          "2010-07-11T00:00:00",
          "2010-07-12T00:00:00",
          "2010-07-13T00:00:00",
          "2010-07-14T00:00:00",
          "2010-07-15T00:00:00",
          "2010-07-16T00:00:00",
          "2010-07-17T00:00:00",
          "2010-07-18T00:00:00",
          "2010-07-19T00:00:00",
          "2010-07-20T00:00:00",
          "2010-07-21T00:00:00",
          "2010-07-22T00:00:00",
          "2010-07-23T00:00:00",
          "2010-07-24T00:00:00",
          "2010-07-25T00:00:00",
          "2010-07-26T00:00:00",
          "2010-07-27T00:00:00",
          "2010-07-28T00:00:00",
          "2010-07-29T00:00:00",
          "2010-07-30T00:00:00",
          "2010-07-31T00:00:00",
          "2010-08-01T00:00:00",
          "2010-08-02T00:00:00",
          "2010-08-03T00:00:00",
          "2010-08-04T00:00:00",
          "2010-08-05T00:00:00",
          "2010-08-06T00:00:00",
          "2010-08-07T00:00:00",
          "2010-08-08T00:00:00",
          "2010-08-09T00:00:00",
          "2010-08-10T00:00:00",
          "2010-08-11T00:00:00",
          "2010-08-12T00:00:00",
          "2010-08-13T00:00:00",
          "2010-08-14T00:00:00",
          "2010-08-15T00:00:00",
          "2010-08-16T00:00:00",
          "2010-08-17T00:00:00",
          "2010-08-18T00:00:00",
          "2010-08-19T00:00:00",
          "2010-08-20T00:00:00",
          "2010-08-21T00:00:00",
          "2010-08-22T00:00:00",
          "2010-08-23T00:00:00",
          "2010-08-24T00:00:00",
          "2010-08-25T00:00:00",
          "2010-08-26T00:00:00",
          "2010-08-27T00:00:00",
          "2010-08-28T00:00:00",
          "2010-08-29T00:00:00",
          "2010-08-30T00:00:00",
          "2010-08-31T00:00:00",
          "2010-09-01T00:00:00",
          "2010-09-02T00:00:00",
          "2010-09-03T00:00:00",
          "2010-09-04T00:00:00",
          "2010-09-05T00:00:00",
          "2010-09-06T00:00:00",
          "2010-09-07T00:00:00",
          "2010-09-08T00:00:00",
          "2010-09-09T00:00:00",
          "2010-09-10T00:00:00",
          "2010-09-11T00:00:00",
          "2010-09-12T00:00:00",
          "2010-09-13T00:00:00",
          "2010-09-14T00:00:00",
          "2010-09-15T00:00:00",
          "2010-09-16T00:00:00",
          "2010-09-17T00:00:00",
          "2010-09-18T00:00:00",
          "2010-09-19T00:00:00",
          "2010-09-20T00:00:00",
          "2010-09-21T00:00:00",
          "2010-09-22T00:00:00",
          "2010-09-23T00:00:00",
          "2010-09-24T00:00:00",
          "2010-09-25T00:00:00",
          "2010-09-26T00:00:00",
          "2010-09-27T00:00:00",
          "2010-09-28T00:00:00",
          "2010-09-29T00:00:00",
          "2010-09-30T00:00:00",
          "2010-10-01T00:00:00",
          "2010-10-02T00:00:00",
          "2010-10-03T00:00:00",
          "2010-10-04T00:00:00",
          "2010-10-05T00:00:00",
          "2010-10-06T00:00:00",
          "2010-10-07T00:00:00",
          "2010-10-08T00:00:00",
          "2010-10-09T00:00:00",
          "2010-10-10T00:00:00",
          "2010-10-11T00:00:00",
          "2010-10-12T00:00:00",
          "2010-10-13T00:00:00",
          "2010-10-14T00:00:00",
          "2010-10-15T00:00:00",
          "2010-10-16T00:00:00",
          "2010-10-17T00:00:00",
          "2010-10-18T00:00:00",
          "2010-10-19T00:00:00",
          "2010-10-20T00:00:00",
          "2010-10-21T00:00:00",
          "2010-10-22T00:00:00",
          "2010-10-23T00:00:00",
          "2010-10-24T00:00:00",
          "2010-10-25T00:00:00",
          "2010-10-26T00:00:00",
          "2010-10-27T00:00:00",
          "2010-10-28T00:00:00",
          "2010-10-29T00:00:00",
          "2010-10-30T00:00:00",
          "2010-10-31T00:00:00",
          "2010-11-01T00:00:00",
          "2010-11-02T00:00:00",
          "2010-11-03T00:00:00",
          "2010-11-04T00:00:00",
          "2010-11-05T00:00:00",
          "2010-11-06T00:00:00",
          "2010-11-07T00:00:00",
          "2010-11-08T00:00:00",
          "2010-11-09T00:00:00",
          "2010-11-10T00:00:00",
          "2010-11-11T00:00:00",
          "2010-11-12T00:00:00",
          "2010-11-13T00:00:00",
          "2010-11-14T00:00:00",
          "2010-11-15T00:00:00",
          "2010-11-16T00:00:00",
          "2010-11-17T00:00:00",
          "2010-11-18T00:00:00",
          "2010-11-19T00:00:00",
          "2010-11-20T00:00:00",
          "2010-11-21T00:00:00",
          "2010-11-22T00:00:00",
          "2010-11-23T00:00:00",
          "2010-11-24T00:00:00",
          "2010-11-25T00:00:00",
          "2010-11-26T00:00:00"
         ],
         "xaxis": "x",
         "y": [
          50.891245791245794,
          39.24143518518518,
          25.50724537037037,
          19.28465277777778,
          25.760972222222225,
          19.89596662030598,
          27.098819444444448,
          55.24752314814815,
          29.514027777777777,
          31.749074074074073,
          45.533680555555556,
          17.69398148148148,
          23.988865740740742,
          36.740648148148146,
          32.3284886416319,
          40.44208333333333,
          31.817175925925923,
          14.690231481481483,
          11.736736111111112,
          37.72467592592592,
          31.404675925925922,
          17.458078703703706,
          28.328935185185184,
          25.941666666666666,
          21.632569444444446,
          24.939814814814817,
          26.101782407407406,
          16.91314814814815,
          36.884421296296296,
          34.83687746119991,
          24.868958333333335,
          19.518564814814816,
          32.95935185185185,
          21.081736111111113,
          17.134722222222223,
          36.2700462962963,
          39.43590277777778,
          25.237199074074073,
          20.574537037037036,
          34.58164351851852,
          18.476203703703703,
          18.72652777777778,
          23.65824074074074,
          35.791104933981934,
          22.9475,
          19.766180555555554,
          27.358240740740744,
          21.119907407407407,
          19.3025,
          46.64030092592593,
          41.619675925925925,
          19.04259259259259,
          14.739351851851852,
          26.94465277777778,
          20.849699074074074,
          18.752291666666665,
          32.74685185185185,
          41.33365740740741,
          21.731597222222224,
          16.372060185185184,
          28.919814814814814,
          22.978541666666665,
          19.705185185185186,
          24.03833333333333,
          44.325949074074074,
          25.308032407407406,
          36.4575,
          23.99159722222222,
          39.05282800185443,
          15.202314814814814,
          8.274560185185186,
          5.807175925925926,
          6.579675925925926,
          5.996666666666667,
          6.027476851851852,
          5.990324074074075,
          5.968611111111111,
          9.480578703703703,
          24.197916666666668,
          30.790879629629632,
          14.427083333333334,
          27.490810185185186,
          18.195972222222224,
          14.729305555555555,
          28.758240740740742,
          40.28513888888889,
          22.577175925925925,
          14.932222222222224,
          20.75652777777778,
          21.814976851851853,
          19.699699074074072,
          23.473263888888887,
          27.44266203703704,
          24.91340277777778,
          24.146157407407408,
          24.792731481481482,
          16.84002314814815,
          15.150555555555554,
          34.356828703703705,
          38.63937919851749,
          16.38983796296296,
          12.790972222222223,
          27.012708333333336,
          18.40747685185185,
          16.23141203703704,
          40.61932870370371,
          32.244814814814816,
          22.694189814814816,
          19.01412037037037,
          23.748472222222226,
          21.34349537037037,
          18.531712962962963,
          17.98523148148148,
          18.620555555555555,
          11.584722222222222,
          8.997268518518519,
          10.271782407407407,
          6.2234490740740736,
          6.377569444444445,
          6.4151388888888885,
          8.404675925925925,
          11.023032407407406,
          14.163587962962962,
          11.55377314814815,
          11.905763888888888,
          9.520601851851852,
          19.371018518518518,
          25.853171296296296,
          12.205625,
          11.945601851851853,
          14.631504629629628,
          14.762337962962963,
          12.665879629629629,
          18.046031746031744,
          null,
          12.1765625,
          19.25761574074074,
          11.614421296296296,
          12.618495370370372,
          11.552407407407408,
          18.09087962962963,
          24.329907407407408,
          19.02388888888889,
          20.709398148148146,
          19.279351851851853,
          8.193101851851852,
          11.332800925925927,
          16.684791666666666,
          18.920578703703704,
          16.98821759259259,
          10.467500000000001,
          19.59425925925926,
          14.25712962962963,
          18.883449074074075,
          16.544467592592593,
          22.781574074074076,
          12.963680555555555,
          13.111712962962962,
          16.955277777777777,
          13.360972222222221,
          18.683101851851852,
          17.50287037037037,
          24.928333333333335,
          18.95217592592593,
          12.284027777777778,
          18.632708333333333,
          10.862847222222221,
          12.102362751911048,
          17.18011574074074,
          24.398449074074076,
          10.551134259259259,
          16.885324074074074,
          19.61591382904795,
          11.400486111111112,
          24.86164351851852,
          12.598834997622443,
          15.518657407407407,
          9.197384259259259,
          10.63386574074074,
          10.732314814814815,
          14.572731481481481,
          11.453750000000001,
          23.353726851851853,
          22.535763888888887,
          7.852708333333333,
          9.76309689383403,
          12.43386574074074,
          9.339652777777777,
          6.554328703703704,
          5.527384259259259,
          8.27148148148148,
          12.40974537037037,
          10.936435185185186,
          17.139189814814817,
          14.993495370370372,
          15.105374102385918,
          15.455023148148149,
          11.882685185185185,
          11.1925,
          12.2675,
          11.613541666666666,
          12.237152777777778,
          12.37875,
          15.719976851851852,
          12.605092592592591,
          13.659236111111111,
          10.51300925925926,
          8.360555555555557,
          12.379421296296295,
          9.194236111111111,
          14.909375,
          11.666972010178117,
          9.88048611111111,
          8.329074074074073,
          8.762523148148148,
          7.845902777777778,
          12.852106481481481,
          12.271388888888888,
          15.934375723882326,
          11.470115740740741,
          9.551898148148148,
          5.469444444444444,
          10.700231481481483,
          13.917986111111112,
          18.771550925925926,
          3.7166203703703706,
          5.402962962962963,
          9.401990740740741,
          12.454052149400987,
          11.798796296296295,
          12.307453703703704,
          13.252199074074074,
          9.109930555555556,
          12.6125,
          17.171064814814812,
          13.026412037037037,
          12.403703703703703,
          11.89826388888889,
          12.634837962962964,
          14.37388888888889,
          13.345046296296296,
          10.893402777777778,
          13.794675925925926,
          11.093703703703703,
          11.688564814814814,
          4.027314814814814,
          16.46173611111111,
          15.49585648148148,
          7.4369907407407405,
          14.002407407407407,
          12.873981481481481,
          19.182464674542505,
          13.32037037037037,
          15.218819444444444,
          14.024652777777778,
          11.539398148148148,
          8.657314814814814,
          13.917337962962963,
          14.812754629629628,
          19.693125,
          19.241527777777776,
          12.024560185185184,
          18.34425925925926,
          14.312175925925926,
          10.433726851851853,
          15.468703703703705,
          17.01101851851852,
          19.438680555555557,
          12.932592592592593,
          11.383935185185184,
          14.904675925925925,
          13.268310185185184,
          13.142013888888888,
          12.677222222222223,
          19.122962962962962,
          16.911875,
          13.512962962962964,
          15.031064814814815,
          14.53162037037037,
          14.33773148148148,
          13.61310185185185,
          16.411689814814814,
          15.677430555555556,
          20.420625,
          21.120352341214648,
          16.118055555555557,
          19.450208333333332,
          26.58011574074074,
          17.549652777777776,
          19.918078703703703,
          25.44981481481481,
          14.820069444444446,
          17.574745370370373,
          16.135324074074074,
          20.326851851851853,
          24.376319444444444,
          12.676412037037037,
          19.535393518518518,
          13.50662037037037,
          20.051458333333333,
          22.158611111111114,
          22.300092592592595,
          23.857083333333332,
          14.656597222222222,
          22.736597222222223,
          18.25150462962963,
          17.5755787037037,
          24.139444444444447,
          19.215810185185184,
          22.47615740740741,
          19.13074074074074,
          22.654705609643024,
          21.59300925925926,
          21.45738425925926,
          16.63851851851852,
          20.667685185185185,
          5.92775462962963,
          6.312824074074074,
          9.386666666666667,
          14.851967592592592,
          5.743240740740741,
          16.70835648148148,
          5.700810185185185,
          17.195439814814815,
          17.367962962962963,
          24.101597222222225,
          21.35136574074074,
          17.373379629629632,
          25.129930555555553,
          30.22685185185185,
          21.841712962962962,
          24.95539351851852,
          25.62960648148148,
          23.703634259259257,
          17.26837962962963,
          26.73326388888889,
          30.209421296296295,
          25.27613425925926,
          19.949699074074072,
          24.257592592592594,
          20.28996988649525,
          22.36548611111111,
          29.196967592592593,
          21.979791666666667,
          16.15275462962963,
          18.16800925925926,
          32.41912037037037,
          19.03865740740741,
          19.91232337271253,
          26.98759259259259,
          36.284050925925925,
          34.09939814814815,
          20.394212962962964,
          23.93097222222222,
          24.92037037037037,
          28.795532407407407,
          20.474722222222223,
          25.61810185185185,
          26.3262037037037,
          20.355949074074072,
          26.679444444444446,
          18.380347222222223,
          21.385949074074073,
          22.856574074074075,
          31.676805555555553,
          31.97011574074074,
          20.813829047949966,
          30.36104166666667,
          25.41726851851852,
          22.566643518518518,
          22.94648148148148,
          30.222962962962963,
          27.8825,
          26.1325,
          31.191759259259257,
          29.86435185185185,
          29.307847222222225,
          36.03069444444444,
          38.18236111111111,
          29.617083333333333,
          25.6544212962963,
          31.941412037037036,
          19.02900462962963,
          17.478101851851854,
          26.526064814814813,
          25.269074074074073,
          21.124814814814815,
          19.627476851851853,
          23.652199074074073,
          20.699537037037036,
          21.922175925925927,
          19.743263888888887,
          33.23388888888889,
          33.375677553856846,
          23.436712962962964,
          31.09851851851852,
          24.72050925925926,
          18.197708333333335,
          25.312361111111112,
          22.92020833333333,
          20.14314814814815,
          21.516180555555554,
          26.909930555555558,
          21.78597222222222,
          19.03960648148148,
          25.92425925925926,
          32.812361111111116,
          27.56673611111111,
          26.71523148148148,
          30.9725,
          18.988958333333333,
          22.614837962962962,
          17.762175925925927,
          34.00548992355803,
          24.126944444444447,
          18.844189814814815,
          28.61638888888889,
          19.32337962962963,
          17.573032407407407,
          22.575972222222223,
          24.33189814814815,
          25.28604166666667,
          19.583518518518517,
          23.006921296296298,
          21.99650462962963,
          18.57201388888889,
          23.208425925925926,
          27.16375,
          22.376944444444444,
          17.527824074074072,
          24.617083333333333,
          26.085532407407406,
          18.910300925925924,
          20.052824074074074,
          21.256026889197962,
          14.61814814814815,
          5.838981481481482,
          5.8694444444444445,
          6.559259259259259,
          5.893333333333333,
          15.43226851851852,
          13.216157407407406,
          13.451689814814815,
          12.043402777777779,
          19.317013888888887,
          23.578796296296296,
          28.972314814814812,
          21.56199074074074,
          26.026157407407407,
          18.060856481481483,
          18.734791666666666,
          25.463449074074074,
          20.53509259259259,
          19.392523148148147,
          25.58125,
          18.244212962962965,
          20.856018518518518,
          19.75599537037037,
          22.194050925925925,
          15.144074074074075,
          14.505486111111113,
          23.917152777777776,
          23.7675462962963,
          26.921180555555555,
          22.870836228862636,
          23.331666666666667,
          18.905925925925924,
          15.86599537037037,
          21.82203703703704,
          28.60127314814815,
          24.842499999999998,
          15.944097222222222,
          24.641805555555553,
          19.579537037037035,
          13.064305555555555,
          18.887939814814814,
          22.80974537037037,
          19.633310185185184,
          17.810624999999998,
          30.75828703703704,
          14.107083333333334,
          17.103541666666665,
          21.732222222222223,
          32.40756944444445,
          25.844745370370372,
          18.397939814814816,
          19.333402777777778,
          17.234537037037036,
          16.155810185185185,
          21.555439814814815,
          26.084606481481483,
          20.73400462962963,
          13.474027777777776,
          18.83884259259259,
          15.709814814814816,
          12.080694444444445,
          14.672847222222224,
          10.453310185185185,
          11.669444444444444,
          7.627916666666668,
          22.831203703703704,
          12.751458333333332,
          6.666828703703704,
          17.335277777777776,
          14.925925925925926,
          17.02511574074074,
          15.820972222222222,
          20.71736111111111,
          13.614166666666668,
          24.498819444444447,
          20.223055555555558,
          22.09638888888889,
          18.64490740740741,
          17.64125,
          17.093680555555558,
          18.33636574074074,
          13.457962962962963,
          19.100950394065833,
          19.18349537037037,
          20.879143518518518,
          11.924328703703704,
          18.30247685185185,
          15.32537037037037,
          11.306342592592593,
          17.186527777777776,
          18.289074074074072,
          23.709537037037034,
          14.927199074074075,
          19.77662037037037,
          12.897824074074073,
          13.137453703703704,
          16.171805555555558,
          18.99849537037037,
          21.39902777777778,
          12.430694444444445,
          18.49324074074074,
          18.390185185185185,
          12.963865740740742,
          14.093912037037038,
          21.78800925925926,
          17.850949074074073,
          15.343726851851851,
          12.350578703703702,
          13.000069444444444,
          14.57560185185185,
          21.70813064628214,
          16.029166666666665,
          26.49423611111111,
          15.08152777777778,
          13.253287037037037,
          21.916759259259262,
          18.380578703703705,
          19.39935185185185,
          20.07238425925926,
          18.129814814814814,
          14.48837962962963,
          20.306157407407404,
          14.603819444444444,
          12.222453703703703,
          20.31425925925926,
          13.990740740740742,
          8.673055555555557,
          9.307824074074073,
          14.065277777777778,
          13.277800925925925,
          12.7125,
          10.90300925925926,
          17.003333333333334,
          20.891944444444444,
          11.381828703703702,
          13.03488425925926,
          10.64025462962963,
          14.48236111111111,
          14.516388888888887,
          15.38023148148148,
          14.531223922114048,
          13.170439814814815,
          13.378009259259258,
          12.46599537037037,
          15.26761574074074,
          14.601666666666668,
          15.555717592592593,
          10.89738425925926,
          13.385162037037038,
          8.567615740740742,
          10.910069444444444,
          12.655671296296298,
          10.01775462962963,
          9.440787037037037,
          13.280046296296296,
          9.557916666666667,
          13.501828703703705,
          15.045231481481483,
          16.118495370370372,
          8.559907407407406,
          5.853888888888889,
          5.8423842592592585,
          13.04053741023859,
          9.573125,
          3.7744444444444443,
          3.875972222222222,
          3.4976851851851856,
          4.154212962962963,
          4.0744444444444445,
          4.304583333333333,
          3.344722222222222,
          3.2706481481481484,
          3.1279861111111114,
          3.1672916666666664,
          3.180717592592593,
          3.180509259259259,
          3.1684953703703704,
          3.1793055555555556,
          3.1073148148148153,
          3.0242824074074073,
          3.091712962962963,
          2.9472453703703705,
          2.9481018518518516,
          2.8969675925925924,
          2.981064814814815,
          2.987430555555555,
          3.104699074074074,
          3.0970833333333334,
          3.1299074074074076,
          17.380287236506835,
          14.438773148148147,
          16.020300925925927,
          16.070439814814815,
          14.180787037037037,
          10.115277777777777,
          21.62701388888889,
          15.88722222222222,
          15.154212962962962,
          13.421921296296295,
          15.055138888888889,
          11.906412037037038,
          16.119930555555555,
          18.88236111111111,
          18.24451388888889,
          19.649398148148148,
          14.141921296296296,
          17.583449074074075,
          17.422337962962963,
          17.57923611111111,
          15.099537037037036,
          17.74386574074074,
          15.72412037037037,
          14.26837962962963,
          19.888310185185187,
          13.092824074074075,
          16.567708333333332,
          24.623217592592592,
          20.035925925925927,
          17.381226851851853,
          15.914421296296297,
          21.670879629629628,
          15.571087962962961,
          18.66412037037037,
          24.311296296296298,
          17.93923611111111,
          16.478958333333335,
          19.98342592592593,
          21.534444444444443,
          22.959282407407407,
          17.573356481481483,
          19.32159722222222,
          22.082638888888887,
          16.92101851851852,
          18.62333333333333,
          24.964074074074077,
          18.32962962962963,
          21.607476851851853,
          25.91655092592593,
          22.823310185185186,
          19.30039351851852,
          23.885601851851852,
          19.051041666666666,
          21.18627314814815,
          24.690115740740744,
          18.171748985922214,
          6.058935185185185,
          6.063564814814814,
          15.362152777777778,
          18.664074074074072,
          12.715277777777779,
          14.882314814814814,
          9.61224537037037,
          10.539513888888889,
          9.810185185185185,
          18.08236111111111,
          36.28391203703704,
          18.384699074074074,
          18.740555555555556,
          20.059467592592593,
          29.844189814814815,
          24.31287773128777,
          28.42534722222222,
          25.341840519239685,
          14.334027777777777,
          18.770115740740742,
          35.088287037037034,
          27.377685185185186,
          17.634675925925926,
          20.24363425925926,
          21.299050925925926,
          19.58722222222222,
          19.374189814814812,
          19.8075,
          39.440861709520505,
          37.187476851851855,
          31.28298611111111,
          17.54576388888889,
          27.34048611111111,
          21.828287037037036,
          28.17902777777778,
          27.79384259259259,
          18.709930555555555,
          20.757453703703703,
          20.314398148148147,
          20.123124999999998,
          23.826597222222226,
          29.211064814814815,
          28.550231481481482,
          21.627731481481483,
          23.184537037037035,
          25.681508515815082,
          16.58011574074074,
          21.013125000000002,
          21.129328703703703,
          23.172685185185184,
          20.780671296296298,
          20.799652777777776,
          24.29150462962963,
          20.103472222222223,
          21.783703703703704,
          25.972921009960622,
          30.59733796296296,
          23.331111111111113,
          20.811203703703704,
          14.694884259259261,
          12.281458333333333,
          14.163564814814814,
          34.400046296296296,
          18.178726851851852,
          6.426828703703704,
          13.833773148148149,
          22.733657407407406,
          16.281157407407406,
          26.93877314814815,
          22.146944444444443,
          22.45363425925926,
          18.564814814814813,
          19.55858796296296,
          24.077222222222222,
          18.903587962962963,
          20.702569444444446,
          24.339675925925924,
          22.87023148148148,
          18.394421296296297,
          25.261574074074073,
          20.573106323835997,
          18.102638888888887,
          32.02030092592592,
          38.40069444444445,
          36.506875,
          19.674374999999998,
          20.116064814814816,
          20.13233796296296,
          14.32125,
          22.112685185185185,
          25.471875,
          32.91277777777778,
          19.380462962962962,
          16.493402777777778,
          31.501550925925923,
          18.21409722222222,
          23.831458333333334,
          38.34319444444444,
          21.486685687113646,
          18.556712962962965,
          21.624884259259257,
          28.482916666666668,
          19.086666666666666,
          23.70828703703704,
          36.244629629629635,
          25.264652777777776,
          19.75275462962963,
          22.497939814814814,
          30.54849537037037,
          22.785416666666666,
          19.560439814814814,
          27.03516458043579,
          18.35685185185185,
          15.266134259259259,
          9.200776836158191,
          9.565393518518517,
          8.533194444444444,
          21.767777777777777,
          15.233611111111113,
          25.908310185185186,
          31.639537037037037,
          20.63824074074074,
          13.539861111111112,
          13.38949074074074,
          23.482847222222226,
          18.874421296296298,
          28.58033356497568,
          17.100023148148146,
          21.399907407407404,
          21.320949074074075,
          16.68763888888889,
          20.642060185185183,
          19.63502314814815,
          27.282013888888887,
          19.50875,
          21.252430555555556,
          27.846111111111114,
          21.843287037037037,
          16.730555555555554,
          24.87300925925926,
          22.477569444444445,
          15.459022469307389,
          22.360069444444445,
          16.790277777777778,
          13.790879629629629,
          16.943356481481484,
          22.338217592592592,
          19.550578703703703,
          15.005208333333334,
          19.232777777777777,
          21.28210648148148,
          14.016250000000001,
          19.83710648148148,
          26.168703703703706,
          25.655671296296294,
          17.10013888888889,
          21.10511574074074,
          18.994675925925925,
          19.031643518518518,
          15.778472222222222,
          25.36148148148148,
          15.922638888888887,
          16.812893518518518,
          16.667731481481482,
          17.761574074074076,
          21.880462962962962,
          21.32076388888889,
          28.50053240740741,
          24.780231481481483,
          18.528326379230414,
          17.37891203703704,
          14.074791666666668,
          18.107916666666668,
          23.64363425925926,
          17.503078703703704,
          14.889675925925927,
          17.204976851851853,
          21.928217592592596,
          17.31710648148148,
          13.211342592592592,
          13.82,
          23.406064814814812,
          20.620671296296297,
          15.643842592592593,
          19.749837962962964,
          19.26712962962963,
          21.235671296296296,
          17.509282407407404,
          16.13321759259259,
          18.62127314814815,
          19.304189814814816,
          20.040208333333336,
          15.62386574074074,
          11.720462962962964,
          21.49486111111111,
          14.59898148148148,
          22.77683576557795,
          17.559907407407408,
          18.818935185185186,
          14.425902777777777,
          18.59935185185185,
          16.460949074074072,
          23.233541666666667,
          17.86763888888889,
          14.003541666666665,
          18.71925925925926,
          15.129189814814815,
          18.23090277777778,
          12.43988425925926,
          17.71525462962963,
          14.904930555555554,
          15.672407407407407,
          15.514660171653908,
          17.87375,
          13.654351851851851,
          14.384791666666665,
          19.20261574074074,
          11.07511574074074,
          16.704398148148147,
          12.623125,
          15.70113425925926,
          11.986805555555556,
          14.240277777777777,
          17.07696759259259,
          13.974444444444446,
          13.64324074074074,
          15.42650462962963,
          18.553194444444443,
          15.053819444444445,
          12.751527777777778,
          7.898888888888889,
          null,
          13.061049069373942,
          17.46287037037037,
          11.435370370370372,
          13.491898148148147,
          12.579467592592593,
          12.813657407407408,
          9.897476851851852,
          12.663171296296296,
          12.027939814814815,
          17.76474537037037,
          8.927800925925926,
          14.783819444444445,
          19.780694444444446,
          12.261504629629629,
          11.69136574074074,
          13.801458333333333,
          14.101180555555556,
          14.381689814814816,
          10.001712962962964,
          14.335277777777778,
          16.327962962962964,
          11.044675925925926,
          12.848796296296296,
          14.287037037037036,
          9.794583333333334,
          13.778064066852368,
          11.50425925925926,
          5.943032407407408,
          5.749375000000001,
          10.548958333333333,
          8.311041666666666,
          6.939282407407408,
          8.469999999999999,
          11.185300925925926,
          13.931064814814816,
          7.6676620370370365,
          9.418541666666668,
          8.559398148148148,
          11.921296296296298,
          6.501597222222221,
          6.211666666666666,
          6.284907407407407,
          7.969513888888889,
          10.449652777777779,
          10.439814814814815,
          9.170439814814815,
          11.294328703703703,
          8.182476851851852,
          5.668101851851852,
          5.790486111111111,
          5.8899537037037035,
          6.002916666666668,
          6.1651851851851855,
          6.241851851851852,
          6.093425925925926,
          11.55363425925926,
          12.376828703703705,
          11.006412037037038,
          9.542083333333334,
          18.422647237401335,
          8.66523148148148,
          17.52386574074074,
          14.09388888888889,
          9.096157407407407,
          12.506921296296296,
          10.193773148148148,
          8.97826388888889,
          13.44613425925926,
          17.925208333333334,
          12.346157407407407,
          14.493680555555557,
          10.921412037037037,
          13.154467592592594,
          8.674375,
          12.949560185185184,
          16.069606481481483,
          19.30951388888889,
          14.64724537037037,
          11.348796296296296,
          14.152939814814815,
          14.481342592592593,
          11.856342592592593,
          17.521597222222223,
          14.22025462962963,
          14.13724537037037,
          12.572384259259259,
          17.60814814814815,
          12.874467592592593,
          14.052615740740741,
          23.893032407407407,
          18.187421820708828,
          18.227523148148148,
          16.861180555555556,
          20.175486111111113,
          14.160023148148149,
          15.903148148148148,
          24.71886574074074,
          23.557037037037034,
          16.41050925925926,
          14.427499999999998,
          18.94224537037037,
          16.50761574074074,
          13.437685185185185,
          18.012199074074072,
          16.324907407407405,
          15.04,
          13.268495370370372,
          20.546314325452016,
          14.89875,
          13.341064814814816,
          19.869675925925925,
          18.762800925925927,
          14.762986111111111,
          16.532962962962962,
          21.086041666666667,
          18.25423611111111,
          15.646550925925926,
          23.295787037037037,
          22.44943247625666,
          15.643564814814814,
          16.77199074074074,
          19.805833333333336,
          17.24509259259259,
          17.55625,
          31.737037037037037,
          18.011157407407406,
          15.846157407407407,
          19.939907407407407,
          22.79520833333333,
          16.200347222222224,
          20.34085648148148,
          30.259351851851854,
          27.853425925925926,
          12.874351851851852,
          12.925416666666665,
          14.68412037037037,
          22.933333333333334,
          17.28423611111111,
          21.712291666666665,
          21.332962962962963,
          17.41002314814815,
          26.234814814814815,
          20.854166666666668,
          18.060949074074074,
          16.093171296296298,
          18.02287037037037,
          29.027800925925927,
          16.27000231642344,
          18.590092592592594,
          23.616666666666667,
          16.93363425925926,
          17.742199074074072,
          29.63490740740741,
          22.769768518518518,
          17.528564814814818,
          19.771921296296295,
          30.545995370370367,
          17.07,
          22.696944444444444,
          28.8987962962963,
          28.36777777777778,
          17.026875,
          24.639537037037037,
          22.918171296296293,
          18.514189814814817,
          15.972523148148149,
          21.515625,
          19.108356481481483,
          20.198958333333334,
          20.328449074074076,
          27.148935185185184,
          17.126018518518517,
          19.806643518518516,
          27.219467592592594,
          27.52648148148148,
          20.169421296296296,
          23.227824074074075,
          20.86060185185185,
          23.80952712100139,
          20.65349537037037,
          21.022916666666667,
          24.75479166666667,
          20.77386574074074,
          22.455046296296295,
          16.144375,
          19.874791666666667,
          20.193356481481484,
          25.513125000000002,
          13.242662037037038,
          23.552847222222223,
          21.85210648148148,
          16.84259259259259,
          33.633032407407406,
          24.625555555555557,
          25.27335648148148,
          25.410324074074076,
          24.23724537037037,
          23.703333333333337,
          28.369328703703705,
          25.600601851851852,
          14.169583333333334,
          15.159091962010656,
          24.114050925925923,
          18.56634259259259,
          25.691898148148148,
          20.569212962962965,
          20.47965277777778,
          20.801018518518518,
          27.047453703703706,
          29.0331712962963,
          17.577361111111113,
          23.93687943262411,
          null,
          34.5910514541387,
          25.42546296296296,
          24.885555555555552,
          22.06662037037037,
          21.771967592592592,
          28.165601851851854,
          27.219074074074076,
          24.743703703703705,
          20.72483796296296,
          30.212068566133887,
          26.266435185185184,
          22.343865740740743,
          23.93013888888889,
          31.95488425925926,
          24.42400462962963,
          24.224421296296295,
          32.901944444444446,
          20.824027777777776,
          19.603912037037038,
          24.970277777777774,
          33.599699074074074,
          26.808680555555554,
          24.292731481481482,
          31.400300925925926,
          18.816064814814816,
          29.88701388888889,
          28.020046296296297,
          22.52191336576326,
          15.853796296296297,
          21.909699074074073,
          27.21708333333333,
          19.53553393560343,
          24.27236111111111,
          20.80736111111111,
          23.77962962962963,
          20.38375,
          22.610787037037035,
          22.959814814814813,
          31.716597222222223,
          17.060601851851853,
          16.912962962962965,
          22.15599537037037,
          21.76162037037037,
          24.538842592592594,
          20.42888888888889,
          8.236875,
          15.031574074074074,
          8.876226851851852,
          10.831412037037037,
          7.903703703703704,
          13.121828703703704,
          9.198055555555555,
          15.885092592592592,
          29.596041666666668,
          20.371666666666666,
          21.095277777777778,
          22.582060185185185,
          19.04425925925926,
          27.58113425925926,
          18.13326388888889,
          20.73900462962963,
          17.85474537037037,
          23.253819444444446,
          18.086597222222224,
          19.25212962962963,
          9.463505747126437,
          24.618411164787975,
          18.733680555555555,
          21.08983796296296,
          23.087407407407408,
          19.44310185185185,
          19.112083333333334,
          21.388541666666665,
          20.812662037037036,
          18.781689814814815,
          22.065439814814816,
          22.26622685185185,
          19.530555555555555,
          19.08127314814815,
          20.894421296296297,
          19.564675925925926,
          12.949305555555556,
          21.132546296296294,
          18.48358796296296,
          19.088194444444444,
          14.274884259259258,
          13.775555555555554,
          18.563933287004865,
          16.66002314814815,
          17.50814814814815,
          19.217175925925925,
          21.66872685185185,
          18.079421296296296,
          18.029074074074074,
          17.084560185185186,
          19.775393518518516,
          21.222546296296297,
          18.28604166666667,
          16.908611111111114,
          13.663611111111111,
          17.57428240740741,
          17.855810185185184,
          12.531435185185185,
          14.478472222222223,
          10.044652777777777,
          12.774583333333334,
          12.947083333333333,
          15.279606481481483,
          25.323032407407407,
          16.33451388888889,
          17.557407407407407,
          20.894768518518518,
          15.037615740740742,
          19.027824074074072,
          17.747939814814814,
          18.130902777777777,
          16.989490740740738,
          18.18712962962963,
          23.558078703703703,
          17.981190641649295,
          19.93224537037037,
          22.508935185185187,
          24.31048611111111,
          18.84469907407407,
          16.44888888888889,
          16.513333333333335,
          13.355300925925928,
          14.981435185185186,
          24.25662037037037,
          17.21708333333333,
          15.524675925925926,
          13.87298611111111,
          16.063472222222224,
          15.316458333333333,
          16.182453703703704,
          23.72462962962963,
          19.278935185185187,
          15.514606481481481,
          14.687083333333334,
          11.352986111111111,
          16.136412037037037,
          16.441597222222224,
          23.259768518518516,
          20.2175,
          11.713912037037037,
          15.764282407407407,
          17.762523148148148,
          14.064699074074074,
          17.02166666666667,
          22.852768126013434,
          19.37912037037037,
          14.097037037037037,
          14.166273148148148,
          20.46402777777778,
          11.898356481481482,
          15.420324074074074,
          16.391435185185188,
          19.35821759259259,
          19.223263888888887,
          17.59939814814815,
          16.690555555555555,
          12.682638888888889,
          12.724976851851853,
          11.361342592592592,
          13.194027777777778,
          17.029398148148147,
          15.836182534167246,
          16.020092592592594,
          15.613449074074072,
          13.205185185185185,
          12.963819444444445,
          17.801944444444445,
          12.893402777777778,
          11.642754629629628,
          9.661898148148149,
          14.035324074074072,
          12.54025462962963,
          13.362314814814814,
          13.81449074074074,
          12.842291666666668,
          15.996689814814815,
          16.313333333333333,
          18.91547370859393,
          9.491388888888888,
          9.332777777777778,
          9.398587962962964,
          9.272662037037037,
          9.90537037037037,
          12.31673611111111,
          13.47738425925926,
          13.612939814814816,
          10.667453703703703,
          13.083449074074075,
          10.233217592592593,
          11.022685185185185,
          9.984421296296297,
          6.355370370370371,
          6.380324074074074,
          6.419166666666667,
          6.4312962962962965,
          6.35974537037037,
          7.120509259259259,
          6.288842592592592,
          6.17449074074074,
          6.073449074074074,
          6.105046296296296,
          6.116435185185185,
          6.192870370370371,
          6.3050694444444435,
          6.273171296296296,
          6.130763888888889,
          6.183958333333333,
          6.415162037037037,
          12.222060185185185,
          13.075578703703703,
          12.918674062334919,
          null,
          null,
          null,
          null,
          10.234429824561404,
          8.861782407407407,
          8.367453703703704,
          11.347314814814816,
          8.76449074074074,
          23.502893518518515,
          16.69972222222222,
          19.31111111111111,
          17.300949074074072,
          15.799837962962963,
          18.441180555555555,
          16.116805555555555,
          15.58349537037037,
          20.183333333333334,
          15.312708333333333,
          16.46847222222222,
          16.80386574074074,
          15.090416666666668,
          14.336967592592593,
          15.37162037037037,
          16.936458333333334,
          18.658472222222223,
          12.457407407407409,
          16.55877314814815,
          11.413125,
          15.506226851851853,
          17.333425925925926,
          14.443819444444443,
          10.643518518518517,
          19.477222222222224,
          12.863148148148149,
          17.48141203703704,
          16.780810185185185,
          15.370277777777778,
          7.486299435028249,
          null,
          null,
          27.318583042973287,
          19.495671296296297,
          14.447662037037038,
          17.416898148148146,
          22.25988425925926,
          21.188472222222224,
          20.55509259259259,
          21.465555555555557,
          15.225185185185184,
          20.948541666666667,
          17.48212962962963,
          18.65486111111111,
          23.13546296296296,
          18.779976851851853,
          18.283472222222223,
          24.00331018518519,
          24.712060185185187,
          18.47597222222222,
          11.574236111111112,
          12.12247685185185,
          31.410694444444445,
          22.291412037037038,
          19.999583333333334,
          15.685162037037038,
          19.315879629629627,
          26.54208333333333,
          27.6876071345842,
          13.464027777777778,
          10.947962962962963,
          14.586550925925927,
          16.93664351851852,
          13.940069444444445,
          24.91550925925926,
          17.088310185185186,
          16.009027777777778,
          13.785671296296295,
          14.968726851851851,
          29.573449074074077,
          20.09361111111111,
          20.895925925925926,
          19.37287037037037,
          21.128935185185185,
          23.403912037037035,
          22.529328703703705,
          20.527685185185184,
          21.25951388888889,
          23.41636574074074,
          23.592499999999998,
          20.224328703703705,
          17.473935185185187,
          18.310555555555556,
          19.12212962962963,
          18.175925925925924,
          25.428310185185186,
          10.427199074074073,
          23.628888888888888,
          18.258518518518517,
          20.78990740740741,
          16.564398148148147,
          19.637160200580627
         ],
         "yaxis": "y"
        }
       ],
       "layout": {
        "legend": {
         "title": {
          "text": "Energy Consumed by Household (Watt-hour) per Month over Time"
         },
         "tracegroupgap": 0
        },
        "margin": {
         "t": 60
        },
        "template": {
         "data": {
          "bar": [
           {
            "error_x": {
             "color": "#2a3f5f"
            },
            "error_y": {
             "color": "#2a3f5f"
            },
            "marker": {
             "line": {
              "color": "#E5ECF6",
              "width": 0.5
             },
             "pattern": {
              "fillmode": "overlay",
              "size": 10,
              "solidity": 0.2
             }
            },
            "type": "bar"
           }
          ],
          "barpolar": [
           {
            "marker": {
             "line": {
              "color": "#E5ECF6",
              "width": 0.5
             },
             "pattern": {
              "fillmode": "overlay",
              "size": 10,
              "solidity": 0.2
             }
            },
            "type": "barpolar"
           }
          ],
          "carpet": [
           {
            "aaxis": {
             "endlinecolor": "#2a3f5f",
             "gridcolor": "white",
             "linecolor": "white",
             "minorgridcolor": "white",
             "startlinecolor": "#2a3f5f"
            },
            "baxis": {
             "endlinecolor": "#2a3f5f",
             "gridcolor": "white",
             "linecolor": "white",
             "minorgridcolor": "white",
             "startlinecolor": "#2a3f5f"
            },
            "type": "carpet"
           }
          ],
          "choropleth": [
           {
            "colorbar": {
             "outlinewidth": 0,
             "ticks": ""
            },
            "type": "choropleth"
           }
          ],
          "contour": [
           {
            "colorbar": {
             "outlinewidth": 0,
             "ticks": ""
            },
            "colorscale": [
             [
              0,
              "#0d0887"
             ],
             [
              0.1111111111111111,
              "#46039f"
             ],
             [
              0.2222222222222222,
              "#7201a8"
             ],
             [
              0.3333333333333333,
              "#9c179e"
             ],
             [
              0.4444444444444444,
              "#bd3786"
             ],
             [
              0.5555555555555556,
              "#d8576b"
             ],
             [
              0.6666666666666666,
              "#ed7953"
             ],
             [
              0.7777777777777778,
              "#fb9f3a"
             ],
             [
              0.8888888888888888,
              "#fdca26"
             ],
             [
              1,
              "#f0f921"
             ]
            ],
            "type": "contour"
           }
          ],
          "contourcarpet": [
           {
            "colorbar": {
             "outlinewidth": 0,
             "ticks": ""
            },
            "type": "contourcarpet"
           }
          ],
          "heatmap": [
           {
            "colorbar": {
             "outlinewidth": 0,
             "ticks": ""
            },
            "colorscale": [
             [
              0,
              "#0d0887"
             ],
             [
              0.1111111111111111,
              "#46039f"
             ],
             [
              0.2222222222222222,
              "#7201a8"
             ],
             [
              0.3333333333333333,
              "#9c179e"
             ],
             [
              0.4444444444444444,
              "#bd3786"
             ],
             [
              0.5555555555555556,
              "#d8576b"
             ],
             [
              0.6666666666666666,
              "#ed7953"
             ],
             [
              0.7777777777777778,
              "#fb9f3a"
             ],
             [
              0.8888888888888888,
              "#fdca26"
             ],
             [
              1,
              "#f0f921"
             ]
            ],
            "type": "heatmap"
           }
          ],
          "heatmapgl": [
           {
            "colorbar": {
             "outlinewidth": 0,
             "ticks": ""
            },
            "colorscale": [
             [
              0,
              "#0d0887"
             ],
             [
              0.1111111111111111,
              "#46039f"
             ],
             [
              0.2222222222222222,
              "#7201a8"
             ],
             [
              0.3333333333333333,
              "#9c179e"
             ],
             [
              0.4444444444444444,
              "#bd3786"
             ],
             [
              0.5555555555555556,
              "#d8576b"
             ],
             [
              0.6666666666666666,
              "#ed7953"
             ],
             [
              0.7777777777777778,
              "#fb9f3a"
             ],
             [
              0.8888888888888888,
              "#fdca26"
             ],
             [
              1,
              "#f0f921"
             ]
            ],
            "type": "heatmapgl"
           }
          ],
          "histogram": [
           {
            "marker": {
             "pattern": {
              "fillmode": "overlay",
              "size": 10,
              "solidity": 0.2
             }
            },
            "type": "histogram"
           }
          ],
          "histogram2d": [
           {
            "colorbar": {
             "outlinewidth": 0,
             "ticks": ""
            },
            "colorscale": [
             [
              0,
              "#0d0887"
             ],
             [
              0.1111111111111111,
              "#46039f"
             ],
             [
              0.2222222222222222,
              "#7201a8"
             ],
             [
              0.3333333333333333,
              "#9c179e"
             ],
             [
              0.4444444444444444,
              "#bd3786"
             ],
             [
              0.5555555555555556,
              "#d8576b"
             ],
             [
              0.6666666666666666,
              "#ed7953"
             ],
             [
              0.7777777777777778,
              "#fb9f3a"
             ],
             [
              0.8888888888888888,
              "#fdca26"
             ],
             [
              1,
              "#f0f921"
             ]
            ],
            "type": "histogram2d"
           }
          ],
          "histogram2dcontour": [
           {
            "colorbar": {
             "outlinewidth": 0,
             "ticks": ""
            },
            "colorscale": [
             [
              0,
              "#0d0887"
             ],
             [
              0.1111111111111111,
              "#46039f"
             ],
             [
              0.2222222222222222,
              "#7201a8"
             ],
             [
              0.3333333333333333,
              "#9c179e"
             ],
             [
              0.4444444444444444,
              "#bd3786"
             ],
             [
              0.5555555555555556,
              "#d8576b"
             ],
             [
              0.6666666666666666,
              "#ed7953"
             ],
             [
              0.7777777777777778,
              "#fb9f3a"
             ],
             [
              0.8888888888888888,
              "#fdca26"
             ],
             [
              1,
              "#f0f921"
             ]
            ],
            "type": "histogram2dcontour"
           }
          ],
          "mesh3d": [
           {
            "colorbar": {
             "outlinewidth": 0,
             "ticks": ""
            },
            "type": "mesh3d"
           }
          ],
          "parcoords": [
           {
            "line": {
             "colorbar": {
              "outlinewidth": 0,
              "ticks": ""
             }
            },
            "type": "parcoords"
           }
          ],
          "pie": [
           {
            "automargin": true,
            "type": "pie"
           }
          ],
          "scatter": [
           {
            "fillpattern": {
             "fillmode": "overlay",
             "size": 10,
             "solidity": 0.2
            },
            "type": "scatter"
           }
          ],
          "scatter3d": [
           {
            "line": {
             "colorbar": {
              "outlinewidth": 0,
              "ticks": ""
             }
            },
            "marker": {
             "colorbar": {
              "outlinewidth": 0,
              "ticks": ""
             }
            },
            "type": "scatter3d"
           }
          ],
          "scattercarpet": [
           {
            "marker": {
             "colorbar": {
              "outlinewidth": 0,
              "ticks": ""
             }
            },
            "type": "scattercarpet"
           }
          ],
          "scattergeo": [
           {
            "marker": {
             "colorbar": {
              "outlinewidth": 0,
              "ticks": ""
             }
            },
            "type": "scattergeo"
           }
          ],
          "scattergl": [
           {
            "marker": {
             "colorbar": {
              "outlinewidth": 0,
              "ticks": ""
             }
            },
            "type": "scattergl"
           }
          ],
          "scattermapbox": [
           {
            "marker": {
             "colorbar": {
              "outlinewidth": 0,
              "ticks": ""
             }
            },
            "type": "scattermapbox"
           }
          ],
          "scatterpolar": [
           {
            "marker": {
             "colorbar": {
              "outlinewidth": 0,
              "ticks": ""
             }
            },
            "type": "scatterpolar"
           }
          ],
          "scatterpolargl": [
           {
            "marker": {
             "colorbar": {
              "outlinewidth": 0,
              "ticks": ""
             }
            },
            "type": "scatterpolargl"
           }
          ],
          "scatterternary": [
           {
            "marker": {
             "colorbar": {
              "outlinewidth": 0,
              "ticks": ""
             }
            },
            "type": "scatterternary"
           }
          ],
          "surface": [
           {
            "colorbar": {
             "outlinewidth": 0,
             "ticks": ""
            },
            "colorscale": [
             [
              0,
              "#0d0887"
             ],
             [
              0.1111111111111111,
              "#46039f"
             ],
             [
              0.2222222222222222,
              "#7201a8"
             ],
             [
              0.3333333333333333,
              "#9c179e"
             ],
             [
              0.4444444444444444,
              "#bd3786"
             ],
             [
              0.5555555555555556,
              "#d8576b"
             ],
             [
              0.6666666666666666,
              "#ed7953"
             ],
             [
              0.7777777777777778,
              "#fb9f3a"
             ],
             [
              0.8888888888888888,
              "#fdca26"
             ],
             [
              1,
              "#f0f921"
             ]
            ],
            "type": "surface"
           }
          ],
          "table": [
           {
            "cells": {
             "fill": {
              "color": "#EBF0F8"
             },
             "line": {
              "color": "white"
             }
            },
            "header": {
             "fill": {
              "color": "#C8D4E3"
             },
             "line": {
              "color": "white"
             }
            },
            "type": "table"
           }
          ]
         },
         "layout": {
          "annotationdefaults": {
           "arrowcolor": "#2a3f5f",
           "arrowhead": 0,
           "arrowwidth": 1
          },
          "autotypenumbers": "strict",
          "coloraxis": {
           "colorbar": {
            "outlinewidth": 0,
            "ticks": ""
           }
          },
          "colorscale": {
           "diverging": [
            [
             0,
             "#8e0152"
            ],
            [
             0.1,
             "#c51b7d"
            ],
            [
             0.2,
             "#de77ae"
            ],
            [
             0.3,
             "#f1b6da"
            ],
            [
             0.4,
             "#fde0ef"
            ],
            [
             0.5,
             "#f7f7f7"
            ],
            [
             0.6,
             "#e6f5d0"
            ],
            [
             0.7,
             "#b8e186"
            ],
            [
             0.8,
             "#7fbc41"
            ],
            [
             0.9,
             "#4d9221"
            ],
            [
             1,
             "#276419"
            ]
           ],
           "sequential": [
            [
             0,
             "#0d0887"
            ],
            [
             0.1111111111111111,
             "#46039f"
            ],
            [
             0.2222222222222222,
             "#7201a8"
            ],
            [
             0.3333333333333333,
             "#9c179e"
            ],
            [
             0.4444444444444444,
             "#bd3786"
            ],
            [
             0.5555555555555556,
             "#d8576b"
            ],
            [
             0.6666666666666666,
             "#ed7953"
            ],
            [
             0.7777777777777778,
             "#fb9f3a"
            ],
            [
             0.8888888888888888,
             "#fdca26"
            ],
            [
             1,
             "#f0f921"
            ]
           ],
           "sequentialminus": [
            [
             0,
             "#0d0887"
            ],
            [
             0.1111111111111111,
             "#46039f"
            ],
            [
             0.2222222222222222,
             "#7201a8"
            ],
            [
             0.3333333333333333,
             "#9c179e"
            ],
            [
             0.4444444444444444,
             "#bd3786"
            ],
            [
             0.5555555555555556,
             "#d8576b"
            ],
            [
             0.6666666666666666,
             "#ed7953"
            ],
            [
             0.7777777777777778,
             "#fb9f3a"
            ],
            [
             0.8888888888888888,
             "#fdca26"
            ],
            [
             1,
             "#f0f921"
            ]
           ]
          },
          "colorway": [
           "#636efa",
           "#EF553B",
           "#00cc96",
           "#ab63fa",
           "#FFA15A",
           "#19d3f3",
           "#FF6692",
           "#B6E880",
           "#FF97FF",
           "#FECB52"
          ],
          "font": {
           "color": "#2a3f5f"
          },
          "geo": {
           "bgcolor": "white",
           "lakecolor": "white",
           "landcolor": "#E5ECF6",
           "showlakes": true,
           "showland": true,
           "subunitcolor": "white"
          },
          "hoverlabel": {
           "align": "left"
          },
          "hovermode": "closest",
          "mapbox": {
           "style": "light"
          },
          "paper_bgcolor": "white",
          "plot_bgcolor": "#E5ECF6",
          "polar": {
           "angularaxis": {
            "gridcolor": "white",
            "linecolor": "white",
            "ticks": ""
           },
           "bgcolor": "#E5ECF6",
           "radialaxis": {
            "gridcolor": "white",
            "linecolor": "white",
            "ticks": ""
           }
          },
          "scene": {
           "xaxis": {
            "backgroundcolor": "#E5ECF6",
            "gridcolor": "white",
            "gridwidth": 2,
            "linecolor": "white",
            "showbackground": true,
            "ticks": "",
            "zerolinecolor": "white"
           },
           "yaxis": {
            "backgroundcolor": "#E5ECF6",
            "gridcolor": "white",
            "gridwidth": 2,
            "linecolor": "white",
            "showbackground": true,
            "ticks": "",
            "zerolinecolor": "white"
           },
           "zaxis": {
            "backgroundcolor": "#E5ECF6",
            "gridcolor": "white",
            "gridwidth": 2,
            "linecolor": "white",
            "showbackground": true,
            "ticks": "",
            "zerolinecolor": "white"
           }
          },
          "shapedefaults": {
           "line": {
            "color": "#2a3f5f"
           }
          },
          "ternary": {
           "aaxis": {
            "gridcolor": "white",
            "linecolor": "white",
            "ticks": ""
           },
           "baxis": {
            "gridcolor": "white",
            "linecolor": "white",
            "ticks": ""
           },
           "bgcolor": "#E5ECF6",
           "caxis": {
            "gridcolor": "white",
            "linecolor": "white",
            "ticks": ""
           }
          },
          "title": {
           "x": 0.05
          },
          "xaxis": {
           "automargin": true,
           "gridcolor": "white",
           "linecolor": "white",
           "ticks": "",
           "title": {
            "standoff": 15
           },
           "zerolinecolor": "white",
           "zerolinewidth": 2
          },
          "yaxis": {
           "automargin": true,
           "gridcolor": "white",
           "linecolor": "white",
           "ticks": "",
           "title": {
            "standoff": 15
           },
           "zerolinecolor": "white",
           "zerolinewidth": 2
          }
         }
        },
        "title": {
         "text": "Energy Consumed by Household (Watt-hour) over Time From 2007 to 2010 "
        },
        "xaxis": {
         "anchor": "y",
         "domain": [
          0,
          1
         ],
         "title": {
          "text": "Period"
         }
        },
        "yaxis": {
         "anchor": "x",
         "domain": [
          0,
          1
         ],
         "title": {
          "text": "Total Energy Consumed (Watt-hour)"
         }
        }
       }
      }
     },
     "metadata": {},
     "output_type": "display_data"
    }
   ],
   "source": [
    "fig = px.line(power_df_daily, x=power_df_daily.index, y='Energy Consumed by Household (Watt-hour)',)\n",
    "fig.update_layout(\n",
    "    yaxis_title=\"Total Energy Consumed (Watt-hour)\", \n",
    "    xaxis_title=\"Period\",\n",
    "    legend_title=\"Energy Consumed by Household (Watt-hour) per Month over Time\", \n",
    "    title=\"Energy Consumed by Household (Watt-hour) over Time From 2007 to 2010 \"\n",
    ")\n",
    "fig.show()"
   ]
  },
  {
   "cell_type": "code",
   "execution_count": 49,
   "metadata": {},
   "outputs": [
    {
     "data": {
      "application/vnd.plotly.v1+json": {
       "config": {
        "plotlyServerURL": "https://plot.ly"
       },
       "data": [
        {
         "hovertemplate": "DateTime=%{x}<br>Energy Consumed by Household (Watt-hour)=%{y}<extra></extra>",
         "legendgroup": "",
         "line": {
          "color": "#636efa",
          "dash": "solid"
         },
         "marker": {
          "symbol": "circle"
         },
         "mode": "lines",
         "name": "",
         "orientation": "v",
         "showlegend": false,
         "type": "scatter",
         "x": [
          "2006-12-01T00:00:00",
          "2007-01-01T00:00:00",
          "2007-02-01T00:00:00",
          "2007-03-01T00:00:00",
          "2007-04-01T00:00:00",
          "2007-05-01T00:00:00",
          "2007-06-01T00:00:00",
          "2007-07-01T00:00:00",
          "2007-08-01T00:00:00",
          "2007-09-01T00:00:00",
          "2007-10-01T00:00:00",
          "2007-11-01T00:00:00",
          "2007-12-01T00:00:00",
          "2008-01-01T00:00:00",
          "2008-02-01T00:00:00",
          "2008-03-01T00:00:00",
          "2008-04-01T00:00:00",
          "2008-05-01T00:00:00",
          "2008-06-01T00:00:00",
          "2008-07-01T00:00:00",
          "2008-08-01T00:00:00",
          "2008-09-01T00:00:00",
          "2008-10-01T00:00:00",
          "2008-11-01T00:00:00",
          "2008-12-01T00:00:00",
          "2009-01-01T00:00:00",
          "2009-02-01T00:00:00",
          "2009-03-01T00:00:00",
          "2009-04-01T00:00:00",
          "2009-05-01T00:00:00",
          "2009-06-01T00:00:00",
          "2009-07-01T00:00:00",
          "2009-08-01T00:00:00",
          "2009-09-01T00:00:00",
          "2009-10-01T00:00:00",
          "2009-11-01T00:00:00",
          "2009-12-01T00:00:00",
          "2010-01-01T00:00:00",
          "2010-02-01T00:00:00",
          "2010-03-01T00:00:00",
          "2010-04-01T00:00:00",
          "2010-05-01T00:00:00",
          "2010-06-01T00:00:00",
          "2010-07-01T00:00:00",
          "2010-08-01T00:00:00",
          "2010-09-01T00:00:00",
          "2010-10-01T00:00:00",
          "2010-11-01T00:00:00"
         ],
         "xaxis": "x",
         "y": [
          31.68825178852916,
          25.767231954836685,
          23.35139226482795,
          21.97711716959012,
          14.853149091031911,
          16.43103046594982,
          13.780239590332972,
          11.122780411452364,
          12.736436714629374,
          16.15530271463185,
          18.39851322490554,
          21.574549747673505,
          27.1078989224669,
          24.33200489855657,
          19.689741440556872,
          20.7556150451399,
          18.599533950617285,
          17.07135176307182,
          16.56827395695888,
          13.246343922218738,
          4.6081365652583,
          16.46133950617284,
          18.946139874879478,
          23.117763731641624,
          21.25315503301996,
          23.503367010909745,
          20.792796932962375,
          20.44557925235599,
          19.01149898915073,
          16.880929444095944,
          14.012608096252663,
          10.302014816142426,
          11.076978521413823,
          16.447347423818012,
          19.07477019347805,
          21.245724052254296,
          22.740343055991158,
          23.842081636914084,
          22.930910098053808,
          18.83458803651468,
          17.121586147827497,
          18.25473987619197,
          16.16024815963702,
          12.017799084507567,
          9.846302631813403,
          15.940707179797872,
          19.389978120776302,
          19.947574448290975
         ],
         "yaxis": "y"
        }
       ],
       "layout": {
        "legend": {
         "title": {
          "text": "Energy Consumed by Household (Watt-hour) per Month over Time"
         },
         "tracegroupgap": 0
        },
        "margin": {
         "t": 60
        },
        "template": {
         "data": {
          "bar": [
           {
            "error_x": {
             "color": "#2a3f5f"
            },
            "error_y": {
             "color": "#2a3f5f"
            },
            "marker": {
             "line": {
              "color": "#E5ECF6",
              "width": 0.5
             },
             "pattern": {
              "fillmode": "overlay",
              "size": 10,
              "solidity": 0.2
             }
            },
            "type": "bar"
           }
          ],
          "barpolar": [
           {
            "marker": {
             "line": {
              "color": "#E5ECF6",
              "width": 0.5
             },
             "pattern": {
              "fillmode": "overlay",
              "size": 10,
              "solidity": 0.2
             }
            },
            "type": "barpolar"
           }
          ],
          "carpet": [
           {
            "aaxis": {
             "endlinecolor": "#2a3f5f",
             "gridcolor": "white",
             "linecolor": "white",
             "minorgridcolor": "white",
             "startlinecolor": "#2a3f5f"
            },
            "baxis": {
             "endlinecolor": "#2a3f5f",
             "gridcolor": "white",
             "linecolor": "white",
             "minorgridcolor": "white",
             "startlinecolor": "#2a3f5f"
            },
            "type": "carpet"
           }
          ],
          "choropleth": [
           {
            "colorbar": {
             "outlinewidth": 0,
             "ticks": ""
            },
            "type": "choropleth"
           }
          ],
          "contour": [
           {
            "colorbar": {
             "outlinewidth": 0,
             "ticks": ""
            },
            "colorscale": [
             [
              0,
              "#0d0887"
             ],
             [
              0.1111111111111111,
              "#46039f"
             ],
             [
              0.2222222222222222,
              "#7201a8"
             ],
             [
              0.3333333333333333,
              "#9c179e"
             ],
             [
              0.4444444444444444,
              "#bd3786"
             ],
             [
              0.5555555555555556,
              "#d8576b"
             ],
             [
              0.6666666666666666,
              "#ed7953"
             ],
             [
              0.7777777777777778,
              "#fb9f3a"
             ],
             [
              0.8888888888888888,
              "#fdca26"
             ],
             [
              1,
              "#f0f921"
             ]
            ],
            "type": "contour"
           }
          ],
          "contourcarpet": [
           {
            "colorbar": {
             "outlinewidth": 0,
             "ticks": ""
            },
            "type": "contourcarpet"
           }
          ],
          "heatmap": [
           {
            "colorbar": {
             "outlinewidth": 0,
             "ticks": ""
            },
            "colorscale": [
             [
              0,
              "#0d0887"
             ],
             [
              0.1111111111111111,
              "#46039f"
             ],
             [
              0.2222222222222222,
              "#7201a8"
             ],
             [
              0.3333333333333333,
              "#9c179e"
             ],
             [
              0.4444444444444444,
              "#bd3786"
             ],
             [
              0.5555555555555556,
              "#d8576b"
             ],
             [
              0.6666666666666666,
              "#ed7953"
             ],
             [
              0.7777777777777778,
              "#fb9f3a"
             ],
             [
              0.8888888888888888,
              "#fdca26"
             ],
             [
              1,
              "#f0f921"
             ]
            ],
            "type": "heatmap"
           }
          ],
          "heatmapgl": [
           {
            "colorbar": {
             "outlinewidth": 0,
             "ticks": ""
            },
            "colorscale": [
             [
              0,
              "#0d0887"
             ],
             [
              0.1111111111111111,
              "#46039f"
             ],
             [
              0.2222222222222222,
              "#7201a8"
             ],
             [
              0.3333333333333333,
              "#9c179e"
             ],
             [
              0.4444444444444444,
              "#bd3786"
             ],
             [
              0.5555555555555556,
              "#d8576b"
             ],
             [
              0.6666666666666666,
              "#ed7953"
             ],
             [
              0.7777777777777778,
              "#fb9f3a"
             ],
             [
              0.8888888888888888,
              "#fdca26"
             ],
             [
              1,
              "#f0f921"
             ]
            ],
            "type": "heatmapgl"
           }
          ],
          "histogram": [
           {
            "marker": {
             "pattern": {
              "fillmode": "overlay",
              "size": 10,
              "solidity": 0.2
             }
            },
            "type": "histogram"
           }
          ],
          "histogram2d": [
           {
            "colorbar": {
             "outlinewidth": 0,
             "ticks": ""
            },
            "colorscale": [
             [
              0,
              "#0d0887"
             ],
             [
              0.1111111111111111,
              "#46039f"
             ],
             [
              0.2222222222222222,
              "#7201a8"
             ],
             [
              0.3333333333333333,
              "#9c179e"
             ],
             [
              0.4444444444444444,
              "#bd3786"
             ],
             [
              0.5555555555555556,
              "#d8576b"
             ],
             [
              0.6666666666666666,
              "#ed7953"
             ],
             [
              0.7777777777777778,
              "#fb9f3a"
             ],
             [
              0.8888888888888888,
              "#fdca26"
             ],
             [
              1,
              "#f0f921"
             ]
            ],
            "type": "histogram2d"
           }
          ],
          "histogram2dcontour": [
           {
            "colorbar": {
             "outlinewidth": 0,
             "ticks": ""
            },
            "colorscale": [
             [
              0,
              "#0d0887"
             ],
             [
              0.1111111111111111,
              "#46039f"
             ],
             [
              0.2222222222222222,
              "#7201a8"
             ],
             [
              0.3333333333333333,
              "#9c179e"
             ],
             [
              0.4444444444444444,
              "#bd3786"
             ],
             [
              0.5555555555555556,
              "#d8576b"
             ],
             [
              0.6666666666666666,
              "#ed7953"
             ],
             [
              0.7777777777777778,
              "#fb9f3a"
             ],
             [
              0.8888888888888888,
              "#fdca26"
             ],
             [
              1,
              "#f0f921"
             ]
            ],
            "type": "histogram2dcontour"
           }
          ],
          "mesh3d": [
           {
            "colorbar": {
             "outlinewidth": 0,
             "ticks": ""
            },
            "type": "mesh3d"
           }
          ],
          "parcoords": [
           {
            "line": {
             "colorbar": {
              "outlinewidth": 0,
              "ticks": ""
             }
            },
            "type": "parcoords"
           }
          ],
          "pie": [
           {
            "automargin": true,
            "type": "pie"
           }
          ],
          "scatter": [
           {
            "fillpattern": {
             "fillmode": "overlay",
             "size": 10,
             "solidity": 0.2
            },
            "type": "scatter"
           }
          ],
          "scatter3d": [
           {
            "line": {
             "colorbar": {
              "outlinewidth": 0,
              "ticks": ""
             }
            },
            "marker": {
             "colorbar": {
              "outlinewidth": 0,
              "ticks": ""
             }
            },
            "type": "scatter3d"
           }
          ],
          "scattercarpet": [
           {
            "marker": {
             "colorbar": {
              "outlinewidth": 0,
              "ticks": ""
             }
            },
            "type": "scattercarpet"
           }
          ],
          "scattergeo": [
           {
            "marker": {
             "colorbar": {
              "outlinewidth": 0,
              "ticks": ""
             }
            },
            "type": "scattergeo"
           }
          ],
          "scattergl": [
           {
            "marker": {
             "colorbar": {
              "outlinewidth": 0,
              "ticks": ""
             }
            },
            "type": "scattergl"
           }
          ],
          "scattermapbox": [
           {
            "marker": {
             "colorbar": {
              "outlinewidth": 0,
              "ticks": ""
             }
            },
            "type": "scattermapbox"
           }
          ],
          "scatterpolar": [
           {
            "marker": {
             "colorbar": {
              "outlinewidth": 0,
              "ticks": ""
             }
            },
            "type": "scatterpolar"
           }
          ],
          "scatterpolargl": [
           {
            "marker": {
             "colorbar": {
              "outlinewidth": 0,
              "ticks": ""
             }
            },
            "type": "scatterpolargl"
           }
          ],
          "scatterternary": [
           {
            "marker": {
             "colorbar": {
              "outlinewidth": 0,
              "ticks": ""
             }
            },
            "type": "scatterternary"
           }
          ],
          "surface": [
           {
            "colorbar": {
             "outlinewidth": 0,
             "ticks": ""
            },
            "colorscale": [
             [
              0,
              "#0d0887"
             ],
             [
              0.1111111111111111,
              "#46039f"
             ],
             [
              0.2222222222222222,
              "#7201a8"
             ],
             [
              0.3333333333333333,
              "#9c179e"
             ],
             [
              0.4444444444444444,
              "#bd3786"
             ],
             [
              0.5555555555555556,
              "#d8576b"
             ],
             [
              0.6666666666666666,
              "#ed7953"
             ],
             [
              0.7777777777777778,
              "#fb9f3a"
             ],
             [
              0.8888888888888888,
              "#fdca26"
             ],
             [
              1,
              "#f0f921"
             ]
            ],
            "type": "surface"
           }
          ],
          "table": [
           {
            "cells": {
             "fill": {
              "color": "#EBF0F8"
             },
             "line": {
              "color": "white"
             }
            },
            "header": {
             "fill": {
              "color": "#C8D4E3"
             },
             "line": {
              "color": "white"
             }
            },
            "type": "table"
           }
          ]
         },
         "layout": {
          "annotationdefaults": {
           "arrowcolor": "#2a3f5f",
           "arrowhead": 0,
           "arrowwidth": 1
          },
          "autotypenumbers": "strict",
          "coloraxis": {
           "colorbar": {
            "outlinewidth": 0,
            "ticks": ""
           }
          },
          "colorscale": {
           "diverging": [
            [
             0,
             "#8e0152"
            ],
            [
             0.1,
             "#c51b7d"
            ],
            [
             0.2,
             "#de77ae"
            ],
            [
             0.3,
             "#f1b6da"
            ],
            [
             0.4,
             "#fde0ef"
            ],
            [
             0.5,
             "#f7f7f7"
            ],
            [
             0.6,
             "#e6f5d0"
            ],
            [
             0.7,
             "#b8e186"
            ],
            [
             0.8,
             "#7fbc41"
            ],
            [
             0.9,
             "#4d9221"
            ],
            [
             1,
             "#276419"
            ]
           ],
           "sequential": [
            [
             0,
             "#0d0887"
            ],
            [
             0.1111111111111111,
             "#46039f"
            ],
            [
             0.2222222222222222,
             "#7201a8"
            ],
            [
             0.3333333333333333,
             "#9c179e"
            ],
            [
             0.4444444444444444,
             "#bd3786"
            ],
            [
             0.5555555555555556,
             "#d8576b"
            ],
            [
             0.6666666666666666,
             "#ed7953"
            ],
            [
             0.7777777777777778,
             "#fb9f3a"
            ],
            [
             0.8888888888888888,
             "#fdca26"
            ],
            [
             1,
             "#f0f921"
            ]
           ],
           "sequentialminus": [
            [
             0,
             "#0d0887"
            ],
            [
             0.1111111111111111,
             "#46039f"
            ],
            [
             0.2222222222222222,
             "#7201a8"
            ],
            [
             0.3333333333333333,
             "#9c179e"
            ],
            [
             0.4444444444444444,
             "#bd3786"
            ],
            [
             0.5555555555555556,
             "#d8576b"
            ],
            [
             0.6666666666666666,
             "#ed7953"
            ],
            [
             0.7777777777777778,
             "#fb9f3a"
            ],
            [
             0.8888888888888888,
             "#fdca26"
            ],
            [
             1,
             "#f0f921"
            ]
           ]
          },
          "colorway": [
           "#636efa",
           "#EF553B",
           "#00cc96",
           "#ab63fa",
           "#FFA15A",
           "#19d3f3",
           "#FF6692",
           "#B6E880",
           "#FF97FF",
           "#FECB52"
          ],
          "font": {
           "color": "#2a3f5f"
          },
          "geo": {
           "bgcolor": "white",
           "lakecolor": "white",
           "landcolor": "#E5ECF6",
           "showlakes": true,
           "showland": true,
           "subunitcolor": "white"
          },
          "hoverlabel": {
           "align": "left"
          },
          "hovermode": "closest",
          "mapbox": {
           "style": "light"
          },
          "paper_bgcolor": "white",
          "plot_bgcolor": "#E5ECF6",
          "polar": {
           "angularaxis": {
            "gridcolor": "white",
            "linecolor": "white",
            "ticks": ""
           },
           "bgcolor": "#E5ECF6",
           "radialaxis": {
            "gridcolor": "white",
            "linecolor": "white",
            "ticks": ""
           }
          },
          "scene": {
           "xaxis": {
            "backgroundcolor": "#E5ECF6",
            "gridcolor": "white",
            "gridwidth": 2,
            "linecolor": "white",
            "showbackground": true,
            "ticks": "",
            "zerolinecolor": "white"
           },
           "yaxis": {
            "backgroundcolor": "#E5ECF6",
            "gridcolor": "white",
            "gridwidth": 2,
            "linecolor": "white",
            "showbackground": true,
            "ticks": "",
            "zerolinecolor": "white"
           },
           "zaxis": {
            "backgroundcolor": "#E5ECF6",
            "gridcolor": "white",
            "gridwidth": 2,
            "linecolor": "white",
            "showbackground": true,
            "ticks": "",
            "zerolinecolor": "white"
           }
          },
          "shapedefaults": {
           "line": {
            "color": "#2a3f5f"
           }
          },
          "ternary": {
           "aaxis": {
            "gridcolor": "white",
            "linecolor": "white",
            "ticks": ""
           },
           "baxis": {
            "gridcolor": "white",
            "linecolor": "white",
            "ticks": ""
           },
           "bgcolor": "#E5ECF6",
           "caxis": {
            "gridcolor": "white",
            "linecolor": "white",
            "ticks": ""
           }
          },
          "title": {
           "x": 0.05
          },
          "xaxis": {
           "automargin": true,
           "gridcolor": "white",
           "linecolor": "white",
           "ticks": "",
           "title": {
            "standoff": 15
           },
           "zerolinecolor": "white",
           "zerolinewidth": 2
          },
          "yaxis": {
           "automargin": true,
           "gridcolor": "white",
           "linecolor": "white",
           "ticks": "",
           "title": {
            "standoff": 15
           },
           "zerolinecolor": "white",
           "zerolinewidth": 2
          }
         }
        },
        "title": {
         "text": "Energy Consumed by Household (Watt-hour) per Month over Time From 2007 to 2010 "
        },
        "xaxis": {
         "anchor": "y",
         "domain": [
          0,
          1
         ],
         "title": {
          "text": "Month-Year"
         }
        },
        "yaxis": {
         "anchor": "x",
         "domain": [
          0,
          1
         ],
         "title": {
          "text": "Total Energy Consumed (Watt-hour)"
         }
        }
       }
      }
     },
     "metadata": {},
     "output_type": "display_data"
    }
   ],
   "source": [
    "fig = px.line(power_df_monthly, x=power_df_monthly.index, y='Energy Consumed by Household (Watt-hour)',)\n",
    "fig.update_layout(\n",
    "    yaxis_title=\"Total Energy Consumed (Watt-hour)\", \n",
    "    xaxis_title=\"Month-Year\",\n",
    "    legend_title=\"Energy Consumed by Household (Watt-hour) per Month over Time\", \n",
    "    title=\"Energy Consumed by Household (Watt-hour) per Month over Time From 2007 to 2010 \"\n",
    ")\n",
    "fig.show()"
   ]
  },
  {
   "cell_type": "code",
   "execution_count": 50,
   "metadata": {},
   "outputs": [
    {
     "data": {
      "text/plain": [
       "count   2049280.00\n",
       "mean         18.19\n",
       "std          17.62\n",
       "min           1.27\n",
       "25%           5.13\n",
       "50%          10.03\n",
       "75%          25.47\n",
       "max         185.37\n",
       "Name: Energy Consumed by Household (Watt-hour), dtype: float64"
      ]
     },
     "execution_count": 50,
     "metadata": {},
     "output_type": "execute_result"
    }
   ],
   "source": [
    "pd.options.display.float_format = '{:.2f}'.format #Changing format to display numeric values instead of scientific notation\n",
    "\n",
    "# Displaying the descriptive statistics of the \"Global_active_power\" column\n",
    "power_df_clean.describe()['Energy Consumed by Household (Watt-hour)'].round(2) # rounding to 2 decimal places\n"
   ]
  },
  {
   "cell_type": "markdown",
   "metadata": {},
   "source": [
    "\n",
    "We can see that the average energy consumption is around 18.2 Watt-hour with a maximum of 185 Watt-hour  and a minimum of 1.27 Watt-hour .\n"
   ]
  },
  {
   "cell_type": "code",
   "execution_count": 53,
   "metadata": {},
   "outputs": [
    {
     "data": {
      "image/png": "[encoded data removed]",
      "text/plain": [
       "<Figure size 1500x500 with 1 Axes>"
      ]
     },
     "metadata": {},
     "output_type": "display_data"
    }
   ],
   "source": [
    "# Lets explore some seasonal patterns in the data.\n",
    "from statsmodels.graphics.tsaplots import month_plot\n",
    "\n",
    "plt.figure(figsize=(15, 5))\n",
    "\n",
    "# create the seasonal plot\n",
    "month_plot(power_df_monthly['Energy Consumed by Household (Watt-hour)'], ax=plt.gca())\n",
    "plt.xlabel(\"Month\")\n",
    "plt.ylabel(\"Energy Consumed by Household (Watt-hour)\")\n",
    "plt.title(\"Energy Usage per Month\")\n",
    "sns.despine()\n",
    "plt.show()"
   ]
  },
  {
   "cell_type": "markdown",
   "metadata": {},
   "source": [
    "The red bars show the average for the given month across all years, while each black line represent an individual month and the progression of values across the years. \n",
    "\n",
    "Through the year, we can see that energy consumption is highest in the winter months (December, January, February) and lowest in the summer months (June, July, August).The  usage shows a clear seasonal pattern, with peaks in the winter months and troughs in the summer months. A U shaped is observed in the data, with the lowest values in the summer months and the highest values in the winter months."
   ]
  },
  {
   "cell_type": "markdown",
   "metadata": {},
   "source": [
    "Next we can look at the energy consumption for each month and see how much it differs from the overall average."
   ]
  },
  {
   "cell_type": "code",
   "execution_count": 55,
   "metadata": {},
   "outputs": [
    {
     "data": {
      "text/plain": [
       "January      0.25\n",
       "February     0.16\n",
       "March        0.11\n",
       "April       -0.05\n",
       "May         -0.07\n",
       "June        -0.21\n",
       "July        -0.57\n",
       "August      -0.92\n",
       "September   -0.13\n",
       "October      0.03\n",
       "November     0.15\n",
       "December     0.29\n",
       "Name: Energy Consumed by Household (Watt-hour), dtype: float64"
      ]
     },
     "execution_count": 55,
     "metadata": {},
     "output_type": "execute_result"
    }
   ],
   "source": [
    "# monthly average\n",
    "monthly_mean = power_df_monthly.groupby(power_df_monthly.index.month_name()).mean()\n",
    "\n",
    "# relative deviation from the overall mean\n",
    "monthly_mean_diff = (monthly_mean - monthly_mean.mean())/monthly_mean\n",
    "\n",
    "# month names in right order\n",
    "month_names = pd.date_range(start='2006-01' ,freq='M', periods=12).month_name()\n",
    "\n",
    "# reorder columns to follow the month order\n",
    "monthly_mean_diff = monthly_mean_diff.loc[month_names, ]\n",
    "\n",
    "monthly_mean_diff['Energy Consumed by Household (Watt-hour)'].T"
   ]
  },
  {
   "cell_type": "markdown",
   "metadata": {},
   "source": [
    " Lets visualize this data"
   ]
  },
  {
   "cell_type": "code",
   "execution_count": 56,
   "metadata": {},
   "outputs": [
    {
     "data": {
      "application/vnd.plotly.v1+json": {
       "config": {
        "plotlyServerURL": "https://plot.ly"
       },
       "data": [
        {
         "alignmentgroup": "True",
         "hovertemplate": "variable=Energy Consumed by Household (Watt-hour)<br>index=%{x}<br>value=%{y}<extra></extra>",
         "legendgroup": "Energy Consumed by Household (Watt-hour)",
         "marker": {
          "color": "#636efa",
          "pattern": {
           "shape": ""
          }
         },
         "name": "Energy Consumed by Household (Watt-hour)",
         "offsetgroup": "Energy Consumed by Household (Watt-hour)",
         "orientation": "v",
         "showlegend": true,
         "textposition": "auto",
         "type": "bar",
         "x": [
          "January",
          "February",
          "March",
          "April",
          "May",
          "June",
          "July",
          "August",
          "September",
          "October",
          "November",
          "December"
         ],
         "xaxis": "x",
         "y": [
          0.24793763556324058,
          0.1553666213427828,
          0.10642739101518724,
          -0.05315328835229172,
          -0.06769465224685439,
          -0.2108860195690622,
          -0.5696326228719035,
          -0.9150402254176384,
          -0.12737208478619733,
          0.03330617030475651,
          0.1467199349173125,
          0.28704415828457813
         ],
         "yaxis": "y"
        }
       ],
       "layout": {
        "barmode": "relative",
        "legend": {
         "title": {
          "text": "variable"
         },
         "tracegroupgap": 0
        },
        "margin": {
         "t": 60
        },
        "showlegend": false,
        "template": {
         "data": {
          "bar": [
           {
            "error_x": {
             "color": "#2a3f5f"
            },
            "error_y": {
             "color": "#2a3f5f"
            },
            "marker": {
             "line": {
              "color": "#E5ECF6",
              "width": 0.5
             },
             "pattern": {
              "fillmode": "overlay",
              "size": 10,
              "solidity": 0.2
             }
            },
            "type": "bar"
           }
          ],
          "barpolar": [
           {
            "marker": {
             "line": {
              "color": "#E5ECF6",
              "width": 0.5
             },
             "pattern": {
              "fillmode": "overlay",
              "size": 10,
              "solidity": 0.2
             }
            },
            "type": "barpolar"
           }
          ],
          "carpet": [
           {
            "aaxis": {
             "endlinecolor": "#2a3f5f",
             "gridcolor": "white",
             "linecolor": "white",
             "minorgridcolor": "white",
             "startlinecolor": "#2a3f5f"
            },
            "baxis": {
             "endlinecolor": "#2a3f5f",
             "gridcolor": "white",
             "linecolor": "white",
             "minorgridcolor": "white",
             "startlinecolor": "#2a3f5f"
            },
            "type": "carpet"
           }
          ],
          "choropleth": [
           {
            "colorbar": {
             "outlinewidth": 0,
             "ticks": ""
            },
            "type": "choropleth"
           }
          ],
          "contour": [
           {
            "colorbar": {
             "outlinewidth": 0,
             "ticks": ""
            },
            "colorscale": [
             [
              0,
              "#0d0887"
             ],
             [
              0.1111111111111111,
              "#46039f"
             ],
             [
              0.2222222222222222,
              "#7201a8"
             ],
             [
              0.3333333333333333,
              "#9c179e"
             ],
             [
              0.4444444444444444,
              "#bd3786"
             ],
             [
              0.5555555555555556,
              "#d8576b"
             ],
             [
              0.6666666666666666,
              "#ed7953"
             ],
             [
              0.7777777777777778,
              "#fb9f3a"
             ],
             [
              0.8888888888888888,
              "#fdca26"
             ],
             [
              1,
              "#f0f921"
             ]
            ],
            "type": "contour"
           }
          ],
          "contourcarpet": [
           {
            "colorbar": {
             "outlinewidth": 0,
             "ticks": ""
            },
            "type": "contourcarpet"
           }
          ],
          "heatmap": [
           {
            "colorbar": {
             "outlinewidth": 0,
             "ticks": ""
            },
            "colorscale": [
             [
              0,
              "#0d0887"
             ],
             [
              0.1111111111111111,
              "#46039f"
             ],
             [
              0.2222222222222222,
              "#7201a8"
             ],
             [
              0.3333333333333333,
              "#9c179e"
             ],
             [
              0.4444444444444444,
              "#bd3786"
             ],
             [
              0.5555555555555556,
              "#d8576b"
             ],
             [
              0.6666666666666666,
              "#ed7953"
             ],
             [
              0.7777777777777778,
              "#fb9f3a"
             ],
             [
              0.8888888888888888,
              "#fdca26"
             ],
             [
              1,
              "#f0f921"
             ]
            ],
            "type": "heatmap"
           }
          ],
          "heatmapgl": [
           {
            "colorbar": {
             "outlinewidth": 0,
             "ticks": ""
            },
            "colorscale": [
             [
              0,
              "#0d0887"
             ],
             [
              0.1111111111111111,
              "#46039f"
             ],
             [
              0.2222222222222222,
              "#7201a8"
             ],
             [
              0.3333333333333333,
              "#9c179e"
             ],
             [
              0.4444444444444444,
              "#bd3786"
             ],
             [
              0.5555555555555556,
              "#d8576b"
             ],
             [
              0.6666666666666666,
              "#ed7953"
             ],
             [
              0.7777777777777778,
              "#fb9f3a"
             ],
             [
              0.8888888888888888,
              "#fdca26"
             ],
             [
              1,
              "#f0f921"
             ]
            ],
            "type": "heatmapgl"
           }
          ],
          "histogram": [
           {
            "marker": {
             "pattern": {
              "fillmode": "overlay",
              "size": 10,
              "solidity": 0.2
             }
            },
            "type": "histogram"
           }
          ],
          "histogram2d": [
           {
            "colorbar": {
             "outlinewidth": 0,
             "ticks": ""
            },
            "colorscale": [
             [
              0,
              "#0d0887"
             ],
             [
              0.1111111111111111,
              "#46039f"
             ],
             [
              0.2222222222222222,
              "#7201a8"
             ],
             [
              0.3333333333333333,
              "#9c179e"
             ],
             [
              0.4444444444444444,
              "#bd3786"
             ],
             [
              0.5555555555555556,
              "#d8576b"
             ],
             [
              0.6666666666666666,
              "#ed7953"
             ],
             [
              0.7777777777777778,
              "#fb9f3a"
             ],
             [
              0.8888888888888888,
              "#fdca26"
             ],
             [
              1,
              "#f0f921"
             ]
            ],
            "type": "histogram2d"
           }
          ],
          "histogram2dcontour": [
           {
            "colorbar": {
             "outlinewidth": 0,
             "ticks": ""
            },
            "colorscale": [
             [
              0,
              "#0d0887"
             ],
             [
              0.1111111111111111,
              "#46039f"
             ],
             [
              0.2222222222222222,
              "#7201a8"
             ],
             [
              0.3333333333333333,
              "#9c179e"
             ],
             [
              0.4444444444444444,
              "#bd3786"
             ],
             [
              0.5555555555555556,
              "#d8576b"
             ],
             [
              0.6666666666666666,
              "#ed7953"
             ],
             [
              0.7777777777777778,
              "#fb9f3a"
             ],
             [
              0.8888888888888888,
              "#fdca26"
             ],
             [
              1,
              "#f0f921"
             ]
            ],
            "type": "histogram2dcontour"
           }
          ],
          "mesh3d": [
           {
            "colorbar": {
             "outlinewidth": 0,
             "ticks": ""
            },
            "type": "mesh3d"
           }
          ],
          "parcoords": [
           {
            "line": {
             "colorbar": {
              "outlinewidth": 0,
              "ticks": ""
             }
            },
            "type": "parcoords"
           }
          ],
          "pie": [
           {
            "automargin": true,
            "type": "pie"
           }
          ],
          "scatter": [
           {
            "fillpattern": {
             "fillmode": "overlay",
             "size": 10,
             "solidity": 0.2
            },
            "type": "scatter"
           }
          ],
          "scatter3d": [
           {
            "line": {
             "colorbar": {
              "outlinewidth": 0,
              "ticks": ""
             }
            },
            "marker": {
             "colorbar": {
              "outlinewidth": 0,
              "ticks": ""
             }
            },
            "type": "scatter3d"
           }
          ],
          "scattercarpet": [
           {
            "marker": {
             "colorbar": {
              "outlinewidth": 0,
              "ticks": ""
             }
            },
            "type": "scattercarpet"
           }
          ],
          "scattergeo": [
           {
            "marker": {
             "colorbar": {
              "outlinewidth": 0,
              "ticks": ""
             }
            },
            "type": "scattergeo"
           }
          ],
          "scattergl": [
           {
            "marker": {
             "colorbar": {
              "outlinewidth": 0,
              "ticks": ""
             }
            },
            "type": "scattergl"
           }
          ],
          "scattermapbox": [
           {
            "marker": {
             "colorbar": {
              "outlinewidth": 0,
              "ticks": ""
             }
            },
            "type": "scattermapbox"
           }
          ],
          "scatterpolar": [
           {
            "marker": {
             "colorbar": {
              "outlinewidth": 0,
              "ticks": ""
             }
            },
            "type": "scatterpolar"
           }
          ],
          "scatterpolargl": [
           {
            "marker": {
             "colorbar": {
              "outlinewidth": 0,
              "ticks": ""
             }
            },
            "type": "scatterpolargl"
           }
          ],
          "scatterternary": [
           {
            "marker": {
             "colorbar": {
              "outlinewidth": 0,
              "ticks": ""
             }
            },
            "type": "scatterternary"
           }
          ],
          "surface": [
           {
            "colorbar": {
             "outlinewidth": 0,
             "ticks": ""
            },
            "colorscale": [
             [
              0,
              "#0d0887"
             ],
             [
              0.1111111111111111,
              "#46039f"
             ],
             [
              0.2222222222222222,
              "#7201a8"
             ],
             [
              0.3333333333333333,
              "#9c179e"
             ],
             [
              0.4444444444444444,
              "#bd3786"
             ],
             [
              0.5555555555555556,
              "#d8576b"
             ],
             [
              0.6666666666666666,
              "#ed7953"
             ],
             [
              0.7777777777777778,
              "#fb9f3a"
             ],
             [
              0.8888888888888888,
              "#fdca26"
             ],
             [
              1,
              "#f0f921"
             ]
            ],
            "type": "surface"
           }
          ],
          "table": [
           {
            "cells": {
             "fill": {
              "color": "#EBF0F8"
             },
             "line": {
              "color": "white"
             }
            },
            "header": {
             "fill": {
              "color": "#C8D4E3"
             },
             "line": {
              "color": "white"
             }
            },
            "type": "table"
           }
          ]
         },
         "layout": {
          "annotationdefaults": {
           "arrowcolor": "#2a3f5f",
           "arrowhead": 0,
           "arrowwidth": 1
          },
          "autotypenumbers": "strict",
          "coloraxis": {
           "colorbar": {
            "outlinewidth": 0,
            "ticks": ""
           }
          },
          "colorscale": {
           "diverging": [
            [
             0,
             "#8e0152"
            ],
            [
             0.1,
             "#c51b7d"
            ],
            [
             0.2,
             "#de77ae"
            ],
            [
             0.3,
             "#f1b6da"
            ],
            [
             0.4,
             "#fde0ef"
            ],
            [
             0.5,
             "#f7f7f7"
            ],
            [
             0.6,
             "#e6f5d0"
            ],
            [
             0.7,
             "#b8e186"
            ],
            [
             0.8,
             "#7fbc41"
            ],
            [
             0.9,
             "#4d9221"
            ],
            [
             1,
             "#276419"
            ]
           ],
           "sequential": [
            [
             0,
             "#0d0887"
            ],
            [
             0.1111111111111111,
             "#46039f"
            ],
            [
             0.2222222222222222,
             "#7201a8"
            ],
            [
             0.3333333333333333,
             "#9c179e"
            ],
            [
             0.4444444444444444,
             "#bd3786"
            ],
            [
             0.5555555555555556,
             "#d8576b"
            ],
            [
             0.6666666666666666,
             "#ed7953"
            ],
            [
             0.7777777777777778,
             "#fb9f3a"
            ],
            [
             0.8888888888888888,
             "#fdca26"
            ],
            [
             1,
             "#f0f921"
            ]
           ],
           "sequentialminus": [
            [
             0,
             "#0d0887"
            ],
            [
             0.1111111111111111,
             "#46039f"
            ],
            [
             0.2222222222222222,
             "#7201a8"
            ],
            [
             0.3333333333333333,
             "#9c179e"
            ],
            [
             0.4444444444444444,
             "#bd3786"
            ],
            [
             0.5555555555555556,
             "#d8576b"
            ],
            [
             0.6666666666666666,
             "#ed7953"
            ],
            [
             0.7777777777777778,
             "#fb9f3a"
            ],
            [
             0.8888888888888888,
             "#fdca26"
            ],
            [
             1,
             "#f0f921"
            ]
           ]
          },
          "colorway": [
           "#636efa",
           "#EF553B",
           "#00cc96",
           "#ab63fa",
           "#FFA15A",
           "#19d3f3",
           "#FF6692",
           "#B6E880",
           "#FF97FF",
           "#FECB52"
          ],
          "font": {
           "color": "#2a3f5f"
          },
          "geo": {
           "bgcolor": "white",
           "lakecolor": "white",
           "landcolor": "#E5ECF6",
           "showlakes": true,
           "showland": true,
           "subunitcolor": "white"
          },
          "hoverlabel": {
           "align": "left"
          },
          "hovermode": "closest",
          "mapbox": {
           "style": "light"
          },
          "paper_bgcolor": "white",
          "plot_bgcolor": "#E5ECF6",
          "polar": {
           "angularaxis": {
            "gridcolor": "white",
            "linecolor": "white",
            "ticks": ""
           },
           "bgcolor": "#E5ECF6",
           "radialaxis": {
            "gridcolor": "white",
            "linecolor": "white",
            "ticks": ""
           }
          },
          "scene": {
           "xaxis": {
            "backgroundcolor": "#E5ECF6",
            "gridcolor": "white",
            "gridwidth": 2,
            "linecolor": "white",
            "showbackground": true,
            "ticks": "",
            "zerolinecolor": "white"
           },
           "yaxis": {
            "backgroundcolor": "#E5ECF6",
            "gridcolor": "white",
            "gridwidth": 2,
            "linecolor": "white",
            "showbackground": true,
            "ticks": "",
            "zerolinecolor": "white"
           },
           "zaxis": {
            "backgroundcolor": "#E5ECF6",
            "gridcolor": "white",
            "gridwidth": 2,
            "linecolor": "white",
            "showbackground": true,
            "ticks": "",
            "zerolinecolor": "white"
           }
          },
          "shapedefaults": {
           "line": {
            "color": "#2a3f5f"
           }
          },
          "ternary": {
           "aaxis": {
            "gridcolor": "white",
            "linecolor": "white",
            "ticks": ""
           },
           "baxis": {
            "gridcolor": "white",
            "linecolor": "white",
            "ticks": ""
           },
           "bgcolor": "#E5ECF6",
           "caxis": {
            "gridcolor": "white",
            "linecolor": "white",
            "ticks": ""
           }
          },
          "title": {
           "x": 0.05
          },
          "xaxis": {
           "automargin": true,
           "gridcolor": "white",
           "linecolor": "white",
           "ticks": "",
           "title": {
            "standoff": 15
           },
           "zerolinecolor": "white",
           "zerolinewidth": 2
          },
          "yaxis": {
           "automargin": true,
           "gridcolor": "white",
           "linecolor": "white",
           "ticks": "",
           "title": {
            "standoff": 15
           },
           "zerolinecolor": "white",
           "zerolinewidth": 2
          }
         }
        },
        "title": {
         "text": "Monthly deviation from mean Energy Conumed (%)"
        },
        "xaxis": {
         "anchor": "y",
         "domain": [
          0,
          1
         ],
         "title": {
          "text": ""
         }
        },
        "yaxis": {
         "anchor": "x",
         "domain": [
          0,
          1
         ],
         "tickformat": ".1%",
         "title": {
          "text": ""
         }
        }
       }
      }
     },
     "metadata": {},
     "output_type": "display_data"
    }
   ],
   "source": [
    "fig = px.bar(monthly_mean_diff['Energy Consumed by Household (Watt-hour)'].T)\n",
    "\n",
    "fig.update_layout(\n",
    "    yaxis_title=\"\", \n",
    "    yaxis_tickformat = '.1%',\n",
    "    xaxis_title=\"\",\n",
    "    title=\"Monthly deviation from mean Energy Conumed (%)\",\n",
    "    showlegend=False,\n",
    ")\n",
    "fig.show()"
   ]
  },
  {
   "cell_type": "markdown",
   "metadata": {},
   "source": [
    "We can see that the positive highest deviation from the mean occurs in December at 28%,  and the highest negative deviation occurs in August at 91%, which is summer. This suggests that households use more energy during the winter months, likely for heating purposes, and less during the summer months."
   ]
  },
  {
   "cell_type": "markdown",
   "metadata": {},
   "source": [
    "### Trend-Seasonal Decomposition for Target Variable: Energy Consumed by Household"
   ]
  },
  {
   "cell_type": "markdown",
   "metadata": {},
   "source": [
    "A fundamental step in time series EDA is the trend-seasonal decomposition. Here, we extract three series from our original Global Active Power variable: \n",
    "- a trend component $T_t$ calculated using a moving average,\n",
    "- a seasonal component $S_t$ which is the monthly average of the de-trended series, and\n",
    "- the residual $R_t$ that remains after subtracting the trend and seasonal component from the original series.\n",
    "\n",
    "Adding up these three components will give back the original series:\n",
    "\n",
    "$$y_t = T_t + S_t + R_t$$\n",
    "\n",
    "\n"
   ]
  },
  {
   "cell_type": "code",
   "execution_count": 58,
   "metadata": {},
   "outputs": [
    {
     "data": {
      "text/html": [
       "<div>\n",
       "<style scoped>\n",
       "    .dataframe tbody tr th:only-of-type {\n",
       "        vertical-align: middle;\n",
       "    }\n",
       "\n",
       "    .dataframe tbody tr th {\n",
       "        vertical-align: top;\n",
       "    }\n",
       "\n",
       "    .dataframe thead th {\n",
       "        text-align: right;\n",
       "    }\n",
       "</style>\n",
       "<table border=\"1\" class=\"dataframe\">\n",
       "  <thead>\n",
       "    <tr style=\"text-align: right;\">\n",
       "      <th></th>\n",
       "      <th>Energy Consumed by Household (Watt-hour)</th>\n",
       "    </tr>\n",
       "    <tr>\n",
       "      <th>DateTime</th>\n",
       "      <th></th>\n",
       "    </tr>\n",
       "  </thead>\n",
       "  <tbody>\n",
       "    <tr>\n",
       "      <th>2006-12-01</th>\n",
       "      <td>31.69</td>\n",
       "    </tr>\n",
       "    <tr>\n",
       "      <th>2007-01-01</th>\n",
       "      <td>25.77</td>\n",
       "    </tr>\n",
       "    <tr>\n",
       "      <th>2007-02-01</th>\n",
       "      <td>23.35</td>\n",
       "    </tr>\n",
       "    <tr>\n",
       "      <th>2007-03-01</th>\n",
       "      <td>21.98</td>\n",
       "    </tr>\n",
       "    <tr>\n",
       "      <th>2007-04-01</th>\n",
       "      <td>14.85</td>\n",
       "    </tr>\n",
       "  </tbody>\n",
       "</table>\n",
       "</div>"
      ],
      "text/plain": [
       "            Energy Consumed by Household (Watt-hour)\n",
       "DateTime                                            \n",
       "2006-12-01                                     31.69\n",
       "2007-01-01                                     25.77\n",
       "2007-02-01                                     23.35\n",
       "2007-03-01                                     21.98\n",
       "2007-04-01                                     14.85"
      ]
     },
     "execution_count": 58,
     "metadata": {},
     "output_type": "execute_result"
    }
   ],
   "source": [
    "Energy_df=power_df_monthly[['Energy Consumed by Household (Watt-hour)']]\n",
    "Energy_df.head()"
   ]
  },
  {
   "cell_type": "code",
   "execution_count": 59,
   "metadata": {},
   "outputs": [],
   "source": [
    "# decompose the time series\n",
    "decomposition = tsa.seasonal_decompose(Energy_df, model='additive')"
   ]
  },
  {
   "cell_type": "code",
   "execution_count": 60,
   "metadata": {},
   "outputs": [
    {
     "data": {
      "text/plain": [
       "statsmodels.tsa.seasonal.DecomposeResult"
      ]
     },
     "execution_count": 60,
     "metadata": {},
     "output_type": "execute_result"
    }
   ],
   "source": [
    "type(decomposition)"
   ]
  },
  {
   "cell_type": "code",
   "execution_count": 61,
   "metadata": {},
   "outputs": [
    {
     "data": {
      "text/html": [
       "<div>\n",
       "<style scoped>\n",
       "    .dataframe tbody tr th:only-of-type {\n",
       "        vertical-align: middle;\n",
       "    }\n",
       "\n",
       "    .dataframe tbody tr th {\n",
       "        vertical-align: top;\n",
       "    }\n",
       "\n",
       "    .dataframe thead th {\n",
       "        text-align: right;\n",
       "    }\n",
       "</style>\n",
       "<table border=\"1\" class=\"dataframe\">\n",
       "  <thead>\n",
       "    <tr style=\"text-align: right;\">\n",
       "      <th></th>\n",
       "      <th>Energy Consumed by Household (Watt-hour)</th>\n",
       "      <th>Trend</th>\n",
       "      <th>Seasonal</th>\n",
       "      <th>Residual</th>\n",
       "    </tr>\n",
       "    <tr>\n",
       "      <th>DateTime</th>\n",
       "      <th></th>\n",
       "      <th></th>\n",
       "      <th></th>\n",
       "      <th></th>\n",
       "    </tr>\n",
       "  </thead>\n",
       "  <tbody>\n",
       "    <tr>\n",
       "      <th>2006-12-01</th>\n",
       "      <td>31.69</td>\n",
       "      <td>NaN</td>\n",
       "      <td>5.57</td>\n",
       "      <td>NaN</td>\n",
       "    </tr>\n",
       "    <tr>\n",
       "      <th>2007-01-01</th>\n",
       "      <td>25.77</td>\n",
       "      <td>NaN</td>\n",
       "      <td>5.72</td>\n",
       "      <td>NaN</td>\n",
       "    </tr>\n",
       "    <tr>\n",
       "      <th>2007-02-01</th>\n",
       "      <td>23.35</td>\n",
       "      <td>NaN</td>\n",
       "      <td>2.99</td>\n",
       "      <td>NaN</td>\n",
       "    </tr>\n",
       "    <tr>\n",
       "      <th>2007-03-01</th>\n",
       "      <td>21.98</td>\n",
       "      <td>NaN</td>\n",
       "      <td>1.91</td>\n",
       "      <td>NaN</td>\n",
       "    </tr>\n",
       "    <tr>\n",
       "      <th>2007-04-01</th>\n",
       "      <td>14.85</td>\n",
       "      <td>NaN</td>\n",
       "      <td>0.13</td>\n",
       "      <td>NaN</td>\n",
       "    </tr>\n",
       "    <tr>\n",
       "      <th>2007-05-01</th>\n",
       "      <td>16.43</td>\n",
       "      <td>NaN</td>\n",
       "      <td>-0.71</td>\n",
       "      <td>NaN</td>\n",
       "    </tr>\n",
       "    <tr>\n",
       "      <th>2007-06-01</th>\n",
       "      <td>13.78</td>\n",
       "      <td>18.80</td>\n",
       "      <td>-3.47</td>\n",
       "      <td>-1.54</td>\n",
       "    </tr>\n",
       "    <tr>\n",
       "      <th>2007-07-01</th>\n",
       "      <td>11.12</td>\n",
       "      <td>18.54</td>\n",
       "      <td>-6.55</td>\n",
       "      <td>-0.87</td>\n",
       "    </tr>\n",
       "    <tr>\n",
       "      <th>2007-08-01</th>\n",
       "      <td>12.74</td>\n",
       "      <td>18.33</td>\n",
       "      <td>-8.60</td>\n",
       "      <td>3.01</td>\n",
       "    </tr>\n",
       "    <tr>\n",
       "      <th>2007-09-01</th>\n",
       "      <td>16.16</td>\n",
       "      <td>18.13</td>\n",
       "      <td>-1.67</td>\n",
       "      <td>-0.30</td>\n",
       "    </tr>\n",
       "  </tbody>\n",
       "</table>\n",
       "</div>"
      ],
      "text/plain": [
       "            Energy Consumed by Household (Watt-hour)  Trend  Seasonal  \\\n",
       "DateTime                                                                \n",
       "2006-12-01                                     31.69    NaN      5.57   \n",
       "2007-01-01                                     25.77    NaN      5.72   \n",
       "2007-02-01                                     23.35    NaN      2.99   \n",
       "2007-03-01                                     21.98    NaN      1.91   \n",
       "2007-04-01                                     14.85    NaN      0.13   \n",
       "2007-05-01                                     16.43    NaN     -0.71   \n",
       "2007-06-01                                     13.78  18.80     -3.47   \n",
       "2007-07-01                                     11.12  18.54     -6.55   \n",
       "2007-08-01                                     12.74  18.33     -8.60   \n",
       "2007-09-01                                     16.16  18.13     -1.67   \n",
       "\n",
       "            Residual  \n",
       "DateTime              \n",
       "2006-12-01       NaN  \n",
       "2007-01-01       NaN  \n",
       "2007-02-01       NaN  \n",
       "2007-03-01       NaN  \n",
       "2007-04-01       NaN  \n",
       "2007-05-01       NaN  \n",
       "2007-06-01     -1.54  \n",
       "2007-07-01     -0.87  \n",
       "2007-08-01      3.01  \n",
       "2007-09-01     -0.30  "
      ]
     },
     "execution_count": 61,
     "metadata": {},
     "output_type": "execute_result"
    }
   ],
   "source": [
    "# visulalize the decomposition\n",
    "Energy_df[\"Trend\"] = decomposition.trend\n",
    "Energy_df[\"Seasonal\"] = decomposition.seasonal\n",
    "Energy_df[\"Residual\"] = decomposition.resid\n",
    "\n",
    "Energy_df.head(10)"
   ]
  },
  {
   "cell_type": "code",
   "execution_count": 62,
   "metadata": {},
   "outputs": [
    {
     "data": {
      "text/html": [
       "<div>\n",
       "<style scoped>\n",
       "    .dataframe tbody tr th:only-of-type {\n",
       "        vertical-align: middle;\n",
       "    }\n",
       "\n",
       "    .dataframe tbody tr th {\n",
       "        vertical-align: top;\n",
       "    }\n",
       "\n",
       "    .dataframe thead th {\n",
       "        text-align: right;\n",
       "    }\n",
       "</style>\n",
       "<table border=\"1\" class=\"dataframe\">\n",
       "  <thead>\n",
       "    <tr style=\"text-align: right;\">\n",
       "      <th></th>\n",
       "      <th>Energy Consumed by Household (Watt-hour)</th>\n",
       "      <th>Trend</th>\n",
       "      <th>Seasonal</th>\n",
       "      <th>Residual</th>\n",
       "    </tr>\n",
       "    <tr>\n",
       "      <th>DateTime</th>\n",
       "      <th></th>\n",
       "      <th></th>\n",
       "      <th></th>\n",
       "      <th></th>\n",
       "    </tr>\n",
       "  </thead>\n",
       "  <tbody>\n",
       "    <tr>\n",
       "      <th>2010-02-01</th>\n",
       "      <td>22.93</td>\n",
       "      <td>18.26</td>\n",
       "      <td>2.99</td>\n",
       "      <td>1.68</td>\n",
       "    </tr>\n",
       "    <tr>\n",
       "      <th>2010-03-01</th>\n",
       "      <td>18.83</td>\n",
       "      <td>18.19</td>\n",
       "      <td>1.91</td>\n",
       "      <td>-1.26</td>\n",
       "    </tr>\n",
       "    <tr>\n",
       "      <th>2010-04-01</th>\n",
       "      <td>17.12</td>\n",
       "      <td>18.18</td>\n",
       "      <td>0.13</td>\n",
       "      <td>-1.19</td>\n",
       "    </tr>\n",
       "    <tr>\n",
       "      <th>2010-05-01</th>\n",
       "      <td>18.25</td>\n",
       "      <td>18.14</td>\n",
       "      <td>-0.71</td>\n",
       "      <td>0.82</td>\n",
       "    </tr>\n",
       "    <tr>\n",
       "      <th>2010-06-01</th>\n",
       "      <td>16.16</td>\n",
       "      <td>NaN</td>\n",
       "      <td>-3.47</td>\n",
       "      <td>NaN</td>\n",
       "    </tr>\n",
       "    <tr>\n",
       "      <th>2010-07-01</th>\n",
       "      <td>12.02</td>\n",
       "      <td>NaN</td>\n",
       "      <td>-6.55</td>\n",
       "      <td>NaN</td>\n",
       "    </tr>\n",
       "    <tr>\n",
       "      <th>2010-08-01</th>\n",
       "      <td>9.85</td>\n",
       "      <td>NaN</td>\n",
       "      <td>-8.60</td>\n",
       "      <td>NaN</td>\n",
       "    </tr>\n",
       "    <tr>\n",
       "      <th>2010-09-01</th>\n",
       "      <td>15.94</td>\n",
       "      <td>NaN</td>\n",
       "      <td>-1.67</td>\n",
       "      <td>NaN</td>\n",
       "    </tr>\n",
       "    <tr>\n",
       "      <th>2010-10-01</th>\n",
       "      <td>19.39</td>\n",
       "      <td>NaN</td>\n",
       "      <td>0.79</td>\n",
       "      <td>NaN</td>\n",
       "    </tr>\n",
       "    <tr>\n",
       "      <th>2010-11-01</th>\n",
       "      <td>19.95</td>\n",
       "      <td>NaN</td>\n",
       "      <td>3.91</td>\n",
       "      <td>NaN</td>\n",
       "    </tr>\n",
       "  </tbody>\n",
       "</table>\n",
       "</div>"
      ],
      "text/plain": [
       "            Energy Consumed by Household (Watt-hour)  Trend  Seasonal  \\\n",
       "DateTime                                                                \n",
       "2010-02-01                                     22.93  18.26      2.99   \n",
       "2010-03-01                                     18.83  18.19      1.91   \n",
       "2010-04-01                                     17.12  18.18      0.13   \n",
       "2010-05-01                                     18.25  18.14     -0.71   \n",
       "2010-06-01                                     16.16    NaN     -3.47   \n",
       "2010-07-01                                     12.02    NaN     -6.55   \n",
       "2010-08-01                                      9.85    NaN     -8.60   \n",
       "2010-09-01                                     15.94    NaN     -1.67   \n",
       "2010-10-01                                     19.39    NaN      0.79   \n",
       "2010-11-01                                     19.95    NaN      3.91   \n",
       "\n",
       "            Residual  \n",
       "DateTime              \n",
       "2010-02-01      1.68  \n",
       "2010-03-01     -1.26  \n",
       "2010-04-01     -1.19  \n",
       "2010-05-01      0.82  \n",
       "2010-06-01       NaN  \n",
       "2010-07-01       NaN  \n",
       "2010-08-01       NaN  \n",
       "2010-09-01       NaN  \n",
       "2010-10-01       NaN  \n",
       "2010-11-01       NaN  "
      ]
     },
     "execution_count": 62,
     "metadata": {},
     "output_type": "execute_result"
    }
   ],
   "source": [
    "Energy_df.tail(10)"
   ]
  },
  {
   "cell_type": "markdown",
   "metadata": {},
   "source": [
    "The null values are due the fact that the trend component is calculated with a rolling average that is not defined at the beginning and end of the series."
   ]
  },
  {
   "cell_type": "code",
   "execution_count": 63,
   "metadata": {},
   "outputs": [
    {
     "data": {
      "application/vnd.plotly.v1+json": {
       "config": {
        "plotlyServerURL": "https://plot.ly"
       },
       "data": [
        {
         "type": "scatter",
         "x": [
          "2006-12-01T00:00:00",
          "2007-01-01T00:00:00",
          "2007-02-01T00:00:00",
          "2007-03-01T00:00:00",
          "2007-04-01T00:00:00",
          "2007-05-01T00:00:00",
          "2007-06-01T00:00:00",
          "2007-07-01T00:00:00",
          "2007-08-01T00:00:00",
          "2007-09-01T00:00:00",
          "2007-10-01T00:00:00",
          "2007-11-01T00:00:00",
          "2007-12-01T00:00:00",
          "2008-01-01T00:00:00",
          "2008-02-01T00:00:00",
          "2008-03-01T00:00:00",
          "2008-04-01T00:00:00",
          "2008-05-01T00:00:00",
          "2008-06-01T00:00:00",
          "2008-07-01T00:00:00",
          "2008-08-01T00:00:00",
          "2008-09-01T00:00:00",
          "2008-10-01T00:00:00",
          "2008-11-01T00:00:00",
          "2008-12-01T00:00:00",
          "2009-01-01T00:00:00",
          "2009-02-01T00:00:00",
          "2009-03-01T00:00:00",
          "2009-04-01T00:00:00",
          "2009-05-01T00:00:00",
          "2009-06-01T00:00:00",
          "2009-07-01T00:00:00",
          "2009-08-01T00:00:00",
          "2009-09-01T00:00:00",
          "2009-10-01T00:00:00",
          "2009-11-01T00:00:00",
          "2009-12-01T00:00:00",
          "2010-01-01T00:00:00",
          "2010-02-01T00:00:00",
          "2010-03-01T00:00:00",
          "2010-04-01T00:00:00",
          "2010-05-01T00:00:00",
          "2010-06-01T00:00:00",
          "2010-07-01T00:00:00",
          "2010-08-01T00:00:00",
          "2010-09-01T00:00:00",
          "2010-10-01T00:00:00",
          "2010-11-01T00:00:00"
         ],
         "xaxis": "x",
         "y": [
          null,
          null,
          null,
          null,
          null,
          null,
          18.795484892113343,
          18.54483572868241,
          18.332465816992773,
          18.129001110796054,
          18.234204558093353,
          18.416983981289494,
          18.55983213394566,
          18.764482045503673,
          18.514284685561808,
          18.18835704565222,
          18.223926355715342,
          18.311044715462927,
          18.131397636067977,
          17.852923395355734,
          17.86435746222068,
          17.897399949704916,
          17.901647001611146,
          17.91087794825938,
          17.79645760743929,
          17.567291150490018,
          17.714145852576653,
          17.98309793065168,
          17.987874523828502,
          17.91523246712897,
          17.899196981444963,
          17.975276258485614,
          18.07847741644794,
          18.100440831000025,
          17.954569828618173,
          17.93306556156704,
          18.079792665545384,
          18.24076867936828,
          18.260981528483477,
          18.18859335624929,
          18.18061700971921,
          18.13966110652483,
          null,
          null,
          null,
          null,
          null,
          null
         ],
         "yaxis": "y"
        },
        {
         "type": "scatter",
         "x": [
          "2006-12-01T00:00:00",
          "2007-01-01T00:00:00",
          "2007-02-01T00:00:00",
          "2007-03-01T00:00:00",
          "2007-04-01T00:00:00",
          "2007-05-01T00:00:00",
          "2007-06-01T00:00:00",
          "2007-07-01T00:00:00",
          "2007-08-01T00:00:00",
          "2007-09-01T00:00:00",
          "2007-10-01T00:00:00",
          "2007-11-01T00:00:00",
          "2007-12-01T00:00:00",
          "2008-01-01T00:00:00",
          "2008-02-01T00:00:00",
          "2008-03-01T00:00:00",
          "2008-04-01T00:00:00",
          "2008-05-01T00:00:00",
          "2008-06-01T00:00:00",
          "2008-07-01T00:00:00",
          "2008-08-01T00:00:00",
          "2008-09-01T00:00:00",
          "2008-10-01T00:00:00",
          "2008-11-01T00:00:00",
          "2008-12-01T00:00:00",
          "2009-01-01T00:00:00",
          "2009-02-01T00:00:00",
          "2009-03-01T00:00:00",
          "2009-04-01T00:00:00",
          "2009-05-01T00:00:00",
          "2009-06-01T00:00:00",
          "2009-07-01T00:00:00",
          "2009-08-01T00:00:00",
          "2009-09-01T00:00:00",
          "2009-10-01T00:00:00",
          "2009-11-01T00:00:00",
          "2009-12-01T00:00:00",
          "2010-01-01T00:00:00",
          "2010-02-01T00:00:00",
          "2010-03-01T00:00:00",
          "2010-04-01T00:00:00",
          "2010-05-01T00:00:00",
          "2010-06-01T00:00:00",
          "2010-07-01T00:00:00",
          "2010-08-01T00:00:00",
          "2010-09-01T00:00:00",
          "2010-10-01T00:00:00",
          "2010-11-01T00:00:00"
         ],
         "xaxis": "x2",
         "y": [
          5.569717718740513,
          5.716250074230759,
          2.989291652208322,
          1.9065241843770773,
          0.1280132500021027,
          -0.7050262180277143,
          -3.473706438135973,
          -6.552685893678794,
          -8.603303447562016,
          -1.6730045650681467,
          0.7909468188714147,
          3.9069828640424533,
          5.569717718740513,
          5.716250074230759,
          2.989291652208322,
          1.9065241843770773,
          0.1280132500021027,
          -0.7050262180277143,
          -3.473706438135973,
          -6.552685893678794,
          -8.603303447562016,
          -1.6730045650681467,
          0.7909468188714147,
          3.9069828640424533,
          5.569717718740513,
          5.716250074230759,
          2.989291652208322,
          1.9065241843770773,
          0.1280132500021027,
          -0.7050262180277143,
          -3.473706438135973,
          -6.552685893678794,
          -8.603303447562016,
          -1.6730045650681467,
          0.7909468188714147,
          3.9069828640424533,
          5.569717718740513,
          5.716250074230759,
          2.989291652208322,
          1.9065241843770773,
          0.1280132500021027,
          -0.7050262180277143,
          -3.473706438135973,
          -6.552685893678794,
          -8.603303447562016,
          -1.6730045650681467,
          0.7909468188714147,
          3.9069828640424533
         ],
         "yaxis": "y2"
        },
        {
         "type": "scatter",
         "x": [
          "2006-12-01T00:00:00",
          "2007-01-01T00:00:00",
          "2007-02-01T00:00:00",
          "2007-03-01T00:00:00",
          "2007-04-01T00:00:00",
          "2007-05-01T00:00:00",
          "2007-06-01T00:00:00",
          "2007-07-01T00:00:00",
          "2007-08-01T00:00:00",
          "2007-09-01T00:00:00",
          "2007-10-01T00:00:00",
          "2007-11-01T00:00:00",
          "2007-12-01T00:00:00",
          "2008-01-01T00:00:00",
          "2008-02-01T00:00:00",
          "2008-03-01T00:00:00",
          "2008-04-01T00:00:00",
          "2008-05-01T00:00:00",
          "2008-06-01T00:00:00",
          "2008-07-01T00:00:00",
          "2008-08-01T00:00:00",
          "2008-09-01T00:00:00",
          "2008-10-01T00:00:00",
          "2008-11-01T00:00:00",
          "2008-12-01T00:00:00",
          "2009-01-01T00:00:00",
          "2009-02-01T00:00:00",
          "2009-03-01T00:00:00",
          "2009-04-01T00:00:00",
          "2009-05-01T00:00:00",
          "2009-06-01T00:00:00",
          "2009-07-01T00:00:00",
          "2009-08-01T00:00:00",
          "2009-09-01T00:00:00",
          "2009-10-01T00:00:00",
          "2009-11-01T00:00:00",
          "2009-12-01T00:00:00",
          "2010-01-01T00:00:00",
          "2010-02-01T00:00:00",
          "2010-03-01T00:00:00",
          "2010-04-01T00:00:00",
          "2010-05-01T00:00:00",
          "2010-06-01T00:00:00",
          "2010-07-01T00:00:00",
          "2010-08-01T00:00:00",
          "2010-09-01T00:00:00",
          "2010-10-01T00:00:00",
          "2010-11-01T00:00:00"
         ],
         "xaxis": "x3",
         "y": [
          null,
          null,
          null,
          null,
          null,
          null,
          -1.5415388636443987,
          -0.8693694235512526,
          3.007274345198617,
          -0.30069383109605585,
          -0.6266381520592287,
          -0.7494170976584429,
          2.97834906978073,
          -0.14872722117786275,
          -1.8138348972132579,
          0.6607338151106026,
          0.24759434489984058,
          -0.534666734363392,
          1.9105827590268758,
          1.9461064205417982,
          -4.652917449400366,
          0.23694412153607214,
          0.2535460543969176,
          1.2999029193397909,
          -2.113020293159842,
          0.2198257861889683,
          0.08935942817739972,
          0.5559571373272325,
          0.8956112153201259,
          -0.3292768050053114,
          -0.4128824470563268,
          -1.1205755486643936,
          1.6018045525279003,
          0.019911157886133957,
          0.32925354598846146,
          -0.5943243733551982,
          -0.909167328294739,
          -0.11493711668495443,
          1.6806369173620088,
          -1.2605295041116849,
          -1.1870441118938162,
          0.8201049876948536,
          null,
          null,
          null,
          null,
          null,
          null
         ],
         "yaxis": "y3"
        }
       ],
       "layout": {
        "annotations": [
         {
          "font": {
           "size": 16
          },
          "showarrow": false,
          "text": "Trend",
          "x": 0.5,
          "xanchor": "center",
          "xref": "paper",
          "y": 1,
          "yanchor": "bottom",
          "yref": "paper"
         },
         {
          "font": {
           "size": 16
          },
          "showarrow": false,
          "text": "Seasonal",
          "x": 0.5,
          "xanchor": "center",
          "xref": "paper",
          "y": 0.6111111111111112,
          "yanchor": "bottom",
          "yref": "paper"
         },
         {
          "font": {
           "size": 16
          },
          "showarrow": false,
          "text": "Residual",
          "x": 0.5,
          "xanchor": "center",
          "xref": "paper",
          "y": 0.22222222222222224,
          "yanchor": "bottom",
          "yref": "paper"
         }
        ],
        "showlegend": false,
        "template": {
         "data": {
          "bar": [
           {
            "error_x": {
             "color": "#2a3f5f"
            },
            "error_y": {
             "color": "#2a3f5f"
            },
            "marker": {
             "line": {
              "color": "#E5ECF6",
              "width": 0.5
             },
             "pattern": {
              "fillmode": "overlay",
              "size": 10,
              "solidity": 0.2
             }
            },
            "type": "bar"
           }
          ],
          "barpolar": [
           {
            "marker": {
             "line": {
              "color": "#E5ECF6",
              "width": 0.5
             },
             "pattern": {
              "fillmode": "overlay",
              "size": 10,
              "solidity": 0.2
             }
            },
            "type": "barpolar"
           }
          ],
          "carpet": [
           {
            "aaxis": {
             "endlinecolor": "#2a3f5f",
             "gridcolor": "white",
             "linecolor": "white",
             "minorgridcolor": "white",
             "startlinecolor": "#2a3f5f"
            },
            "baxis": {
             "endlinecolor": "#2a3f5f",
             "gridcolor": "white",
             "linecolor": "white",
             "minorgridcolor": "white",
             "startlinecolor": "#2a3f5f"
            },
            "type": "carpet"
           }
          ],
          "choropleth": [
           {
            "colorbar": {
             "outlinewidth": 0,
             "ticks": ""
            },
            "type": "choropleth"
           }
          ],
          "contour": [
           {
            "colorbar": {
             "outlinewidth": 0,
             "ticks": ""
            },
            "colorscale": [
             [
              0,
              "#0d0887"
             ],
             [
              0.1111111111111111,
              "#46039f"
             ],
             [
              0.2222222222222222,
              "#7201a8"
             ],
             [
              0.3333333333333333,
              "#9c179e"
             ],
             [
              0.4444444444444444,
              "#bd3786"
             ],
             [
              0.5555555555555556,
              "#d8576b"
             ],
             [
              0.6666666666666666,
              "#ed7953"
             ],
             [
              0.7777777777777778,
              "#fb9f3a"
             ],
             [
              0.8888888888888888,
              "#fdca26"
             ],
             [
              1,
              "#f0f921"
             ]
            ],
            "type": "contour"
           }
          ],
          "contourcarpet": [
           {
            "colorbar": {
             "outlinewidth": 0,
             "ticks": ""
            },
            "type": "contourcarpet"
           }
          ],
          "heatmap": [
           {
            "colorbar": {
             "outlinewidth": 0,
             "ticks": ""
            },
            "colorscale": [
             [
              0,
              "#0d0887"
             ],
             [
              0.1111111111111111,
              "#46039f"
             ],
             [
              0.2222222222222222,
              "#7201a8"
             ],
             [
              0.3333333333333333,
              "#9c179e"
             ],
             [
              0.4444444444444444,
              "#bd3786"
             ],
             [
              0.5555555555555556,
              "#d8576b"
             ],
             [
              0.6666666666666666,
              "#ed7953"
             ],
             [
              0.7777777777777778,
              "#fb9f3a"
             ],
             [
              0.8888888888888888,
              "#fdca26"
             ],
             [
              1,
              "#f0f921"
             ]
            ],
            "type": "heatmap"
           }
          ],
          "heatmapgl": [
           {
            "colorbar": {
             "outlinewidth": 0,
             "ticks": ""
            },
            "colorscale": [
             [
              0,
              "#0d0887"
             ],
             [
              0.1111111111111111,
              "#46039f"
             ],
             [
              0.2222222222222222,
              "#7201a8"
             ],
             [
              0.3333333333333333,
              "#9c179e"
             ],
             [
              0.4444444444444444,
              "#bd3786"
             ],
             [
              0.5555555555555556,
              "#d8576b"
             ],
             [
              0.6666666666666666,
              "#ed7953"
             ],
             [
              0.7777777777777778,
              "#fb9f3a"
             ],
             [
              0.8888888888888888,
              "#fdca26"
             ],
             [
              1,
              "#f0f921"
             ]
            ],
            "type": "heatmapgl"
           }
          ],
          "histogram": [
           {
            "marker": {
             "pattern": {
              "fillmode": "overlay",
              "size": 10,
              "solidity": 0.2
             }
            },
            "type": "histogram"
           }
          ],
          "histogram2d": [
           {
            "colorbar": {
             "outlinewidth": 0,
             "ticks": ""
            },
            "colorscale": [
             [
              0,
              "#0d0887"
             ],
             [
              0.1111111111111111,
              "#46039f"
             ],
             [
              0.2222222222222222,
              "#7201a8"
             ],
             [
              0.3333333333333333,
              "#9c179e"
             ],
             [
              0.4444444444444444,
              "#bd3786"
             ],
             [
              0.5555555555555556,
              "#d8576b"
             ],
             [
              0.6666666666666666,
              "#ed7953"
             ],
             [
              0.7777777777777778,
              "#fb9f3a"
             ],
             [
              0.8888888888888888,
              "#fdca26"
             ],
             [
              1,
              "#f0f921"
             ]
            ],
            "type": "histogram2d"
           }
          ],
          "histogram2dcontour": [
           {
            "colorbar": {
             "outlinewidth": 0,
             "ticks": ""
            },
            "colorscale": [
             [
              0,
              "#0d0887"
             ],
             [
              0.1111111111111111,
              "#46039f"
             ],
             [
              0.2222222222222222,
              "#7201a8"
             ],
             [
              0.3333333333333333,
              "#9c179e"
             ],
             [
              0.4444444444444444,
              "#bd3786"
             ],
             [
              0.5555555555555556,
              "#d8576b"
             ],
             [
              0.6666666666666666,
              "#ed7953"
             ],
             [
              0.7777777777777778,
              "#fb9f3a"
             ],
             [
              0.8888888888888888,
              "#fdca26"
             ],
             [
              1,
              "#f0f921"
             ]
            ],
            "type": "histogram2dcontour"
           }
          ],
          "mesh3d": [
           {
            "colorbar": {
             "outlinewidth": 0,
             "ticks": ""
            },
            "type": "mesh3d"
           }
          ],
          "parcoords": [
           {
            "line": {
             "colorbar": {
              "outlinewidth": 0,
              "ticks": ""
             }
            },
            "type": "parcoords"
           }
          ],
          "pie": [
           {
            "automargin": true,
            "type": "pie"
           }
          ],
          "scatter": [
           {
            "fillpattern": {
             "fillmode": "overlay",
             "size": 10,
             "solidity": 0.2
            },
            "type": "scatter"
           }
          ],
          "scatter3d": [
           {
            "line": {
             "colorbar": {
              "outlinewidth": 0,
              "ticks": ""
             }
            },
            "marker": {
             "colorbar": {
              "outlinewidth": 0,
              "ticks": ""
             }
            },
            "type": "scatter3d"
           }
          ],
          "scattercarpet": [
           {
            "marker": {
             "colorbar": {
              "outlinewidth": 0,
              "ticks": ""
             }
            },
            "type": "scattercarpet"
           }
          ],
          "scattergeo": [
           {
            "marker": {
             "colorbar": {
              "outlinewidth": 0,
              "ticks": ""
             }
            },
            "type": "scattergeo"
           }
          ],
          "scattergl": [
           {
            "marker": {
             "colorbar": {
              "outlinewidth": 0,
              "ticks": ""
             }
            },
            "type": "scattergl"
           }
          ],
          "scattermapbox": [
           {
            "marker": {
             "colorbar": {
              "outlinewidth": 0,
              "ticks": ""
             }
            },
            "type": "scattermapbox"
           }
          ],
          "scatterpolar": [
           {
            "marker": {
             "colorbar": {
              "outlinewidth": 0,
              "ticks": ""
             }
            },
            "type": "scatterpolar"
           }
          ],
          "scatterpolargl": [
           {
            "marker": {
             "colorbar": {
              "outlinewidth": 0,
              "ticks": ""
             }
            },
            "type": "scatterpolargl"
           }
          ],
          "scatterternary": [
           {
            "marker": {
             "colorbar": {
              "outlinewidth": 0,
              "ticks": ""
             }
            },
            "type": "scatterternary"
           }
          ],
          "surface": [
           {
            "colorbar": {
             "outlinewidth": 0,
             "ticks": ""
            },
            "colorscale": [
             [
              0,
              "#0d0887"
             ],
             [
              0.1111111111111111,
              "#46039f"
             ],
             [
              0.2222222222222222,
              "#7201a8"
             ],
             [
              0.3333333333333333,
              "#9c179e"
             ],
             [
              0.4444444444444444,
              "#bd3786"
             ],
             [
              0.5555555555555556,
              "#d8576b"
             ],
             [
              0.6666666666666666,
              "#ed7953"
             ],
             [
              0.7777777777777778,
              "#fb9f3a"
             ],
             [
              0.8888888888888888,
              "#fdca26"
             ],
             [
              1,
              "#f0f921"
             ]
            ],
            "type": "surface"
           }
          ],
          "table": [
           {
            "cells": {
             "fill": {
              "color": "#EBF0F8"
             },
             "line": {
              "color": "white"
             }
            },
            "header": {
             "fill": {
              "color": "#C8D4E3"
             },
             "line": {
              "color": "white"
             }
            },
            "type": "table"
           }
          ]
         },
         "layout": {
          "annotationdefaults": {
           "arrowcolor": "#2a3f5f",
           "arrowhead": 0,
           "arrowwidth": 1
          },
          "autotypenumbers": "strict",
          "coloraxis": {
           "colorbar": {
            "outlinewidth": 0,
            "ticks": ""
           }
          },
          "colorscale": {
           "diverging": [
            [
             0,
             "#8e0152"
            ],
            [
             0.1,
             "#c51b7d"
            ],
            [
             0.2,
             "#de77ae"
            ],
            [
             0.3,
             "#f1b6da"
            ],
            [
             0.4,
             "#fde0ef"
            ],
            [
             0.5,
             "#f7f7f7"
            ],
            [
             0.6,
             "#e6f5d0"
            ],
            [
             0.7,
             "#b8e186"
            ],
            [
             0.8,
             "#7fbc41"
            ],
            [
             0.9,
             "#4d9221"
            ],
            [
             1,
             "#276419"
            ]
           ],
           "sequential": [
            [
             0,
             "#0d0887"
            ],
            [
             0.1111111111111111,
             "#46039f"
            ],
            [
             0.2222222222222222,
             "#7201a8"
            ],
            [
             0.3333333333333333,
             "#9c179e"
            ],
            [
             0.4444444444444444,
             "#bd3786"
            ],
            [
             0.5555555555555556,
             "#d8576b"
            ],
            [
             0.6666666666666666,
             "#ed7953"
            ],
            [
             0.7777777777777778,
             "#fb9f3a"
            ],
            [
             0.8888888888888888,
             "#fdca26"
            ],
            [
             1,
             "#f0f921"
            ]
           ],
           "sequentialminus": [
            [
             0,
             "#0d0887"
            ],
            [
             0.1111111111111111,
             "#46039f"
            ],
            [
             0.2222222222222222,
             "#7201a8"
            ],
            [
             0.3333333333333333,
             "#9c179e"
            ],
            [
             0.4444444444444444,
             "#bd3786"
            ],
            [
             0.5555555555555556,
             "#d8576b"
            ],
            [
             0.6666666666666666,
             "#ed7953"
            ],
            [
             0.7777777777777778,
             "#fb9f3a"
            ],
            [
             0.8888888888888888,
             "#fdca26"
            ],
            [
             1,
             "#f0f921"
            ]
           ]
          },
          "colorway": [
           "#636efa",
           "#EF553B",
           "#00cc96",
           "#ab63fa",
           "#FFA15A",
           "#19d3f3",
           "#FF6692",
           "#B6E880",
           "#FF97FF",
           "#FECB52"
          ],
          "font": {
           "color": "#2a3f5f"
          },
          "geo": {
           "bgcolor": "white",
           "lakecolor": "white",
           "landcolor": "#E5ECF6",
           "showlakes": true,
           "showland": true,
           "subunitcolor": "white"
          },
          "hoverlabel": {
           "align": "left"
          },
          "hovermode": "closest",
          "mapbox": {
           "style": "light"
          },
          "paper_bgcolor": "white",
          "plot_bgcolor": "#E5ECF6",
          "polar": {
           "angularaxis": {
            "gridcolor": "white",
            "linecolor": "white",
            "ticks": ""
           },
           "bgcolor": "#E5ECF6",
           "radialaxis": {
            "gridcolor": "white",
            "linecolor": "white",
            "ticks": ""
           }
          },
          "scene": {
           "xaxis": {
            "backgroundcolor": "#E5ECF6",
            "gridcolor": "white",
            "gridwidth": 2,
            "linecolor": "white",
            "showbackground": true,
            "ticks": "",
            "zerolinecolor": "white"
           },
           "yaxis": {
            "backgroundcolor": "#E5ECF6",
            "gridcolor": "white",
            "gridwidth": 2,
            "linecolor": "white",
            "showbackground": true,
            "ticks": "",
            "zerolinecolor": "white"
           },
           "zaxis": {
            "backgroundcolor": "#E5ECF6",
            "gridcolor": "white",
            "gridwidth": 2,
            "linecolor": "white",
            "showbackground": true,
            "ticks": "",
            "zerolinecolor": "white"
           }
          },
          "shapedefaults": {
           "line": {
            "color": "#2a3f5f"
           }
          },
          "ternary": {
           "aaxis": {
            "gridcolor": "white",
            "linecolor": "white",
            "ticks": ""
           },
           "baxis": {
            "gridcolor": "white",
            "linecolor": "white",
            "ticks": ""
           },
           "bgcolor": "#E5ECF6",
           "caxis": {
            "gridcolor": "white",
            "linecolor": "white",
            "ticks": ""
           }
          },
          "title": {
           "x": 0.05
          },
          "xaxis": {
           "automargin": true,
           "gridcolor": "white",
           "linecolor": "white",
           "ticks": "",
           "title": {
            "standoff": 15
           },
           "zerolinecolor": "white",
           "zerolinewidth": 2
          },
          "yaxis": {
           "automargin": true,
           "gridcolor": "white",
           "linecolor": "white",
           "ticks": "",
           "title": {
            "standoff": 15
           },
           "zerolinecolor": "white",
           "zerolinewidth": 2
          }
         }
        },
        "xaxis": {
         "anchor": "y",
         "domain": [
          0,
          1
         ]
        },
        "xaxis2": {
         "anchor": "y2",
         "domain": [
          0,
          1
         ]
        },
        "xaxis3": {
         "anchor": "y3",
         "domain": [
          0,
          1
         ]
        },
        "yaxis": {
         "anchor": "x",
         "domain": [
          0.7777777777777778,
          1
         ]
        },
        "yaxis2": {
         "anchor": "x2",
         "domain": [
          0.3888888888888889,
          0.6111111111111112
         ]
        },
        "yaxis3": {
         "anchor": "x3",
         "domain": [
          0,
          0.22222222222222224
         ]
        }
       }
      }
     },
     "metadata": {},
     "output_type": "display_data"
    }
   ],
   "source": [
    "cols = [\"Trend\", \"Seasonal\", \"Residual\"]\n",
    "\n",
    "fig = make_subplots(rows=3, cols=1, subplot_titles=cols)\n",
    "\n",
    "for i, col in enumerate(cols):\n",
    "    fig.add_trace(\n",
    "        go.Scatter(x=Energy_df.index, y=Energy_df[col]),\n",
    "        row=i+1,\n",
    "        col=1\n",
    "    )\n",
    "\n",
    "fig.update_layout(showlegend=False)\n",
    "fig.show()"
   ]
  },
  {
   "cell_type": "markdown",
   "metadata": {},
   "source": [
    "From the decomposition, we can see that the trend is generally decreasing over time, indicating a long-term decrease in energy consumption by the household. The seasonal component shows a clear pattern of higher usage in winter months and lower usage in summer months, which is consistent with the expectation that households use more energy for heating in winter. The residuals show some random fluctuations around zero, indicating that there are no significant outliers or patterns left after accounting for trend and seasonality."
   ]
  },
  {
   "cell_type": "markdown",
   "metadata": {},
   "source": [
    "**I will continue with baseline modelling for the target variable: Energy Consumed by Household (Watt-hour)** in the next notebook."
   ]
  }
 ],
 "metadata": {
  "kernelspec": {
   "display_name": "ml_env",
   "language": "python",
   "name": "ml_env"
  },
  "language_info": {
   "codemirror_mode": {
    "name": "ipython",
    "version": 3
   },
   "file_extension": ".py",
   "mimetype": "text/x-python",
   "name": "python",
   "nbconvert_exporter": "python",
   "pygments_lexer": "ipython3",
   "version": "3.11.5"
  },
  "orig_nbformat": 4
 },
 "nbformat": 4,
 "nbformat_minor": 2
}
